{
  "nbformat": 4,
  "nbformat_minor": 0,
  "metadata": {
    "colab": {
      "provenance": [],
      "mount_file_id": "1FF9gMoSFH5it2GwEsxI58uwYjvWfpysT",
      "authorship_tag": "ABX9TyNoUVJ6UzlE4XK/sturPRTp",
      "include_colab_link": true
    },
    "kernelspec": {
      "name": "python3",
      "display_name": "Python 3"
    },
    "language_info": {
      "name": "python"
    }
  },
  "cells": [
    {
      "cell_type": "markdown",
      "metadata": {
        "id": "view-in-github",
        "colab_type": "text"
      },
      "source": [
        "<a href=\"https://colab.research.google.com/github/ElaYJ/Study_Deep_Learning/blob/main/DL_Project/label_json_to_text_workbook.ipynb\" target=\"_parent\"><img src=\"https://colab.research.google.com/assets/colab-badge.svg\" alt=\"Open In Colab\"/></a>"
      ]
    },
    {
      "cell_type": "markdown",
      "source": [
        "### - YOLOv8 Object Detection bbox 좌표 수치\n",
        "\n",
        "- __class x_center y_center width height__ 형식\n",
        "\n",
        "- YOLOv8는 객체 감지를 위한 딥러닝 모델로, 바운딩 박스 좌표를 정의하는 방식은 다른 YOLO 버전과 비슷합니다. 바운딩 박스 좌표는 일반적으로 이미지 내에서 객체의 위치와 크기를 나타냅니다.\n",
        "\n",
        "    YOLO 알고리즘은 이미지를 그리드로 나누고, 각 그리드 셀마다 여러 개의 바운딩 박스를 예측합니다. 각 바운딩 박스에 대해 다음과 같은 정보를 예측합니다:\n",
        "\n",
        "    1. 바운딩 박스의 중심 좌표 (x, y): 해당 그리드 셀의 왼쪽 상단 모서리를 기준으로 상대적인 위치를 나타냅니다. 예를 들어, (0.5, 0.5)는 해당 그리드 셀의 중심을 나타냅니다.\n",
        "\n",
        "    2. 바운딩 박스의 너비와 높이 (w, h): 너비와 높이는 전체 이미지의 너비와 높이에 대한 상대적인 비율로 표현됩니다. 보통은 (0, 1) 범위 내에 있습니다.\n",
        "\n",
        "    따라서 각 바운딩 박스의 좌표는 중심 좌표 (x, y)와 너비와 높이 (w, h)로 표현됩니다. 이러한 값을 계산할 때 주의해야 할 점은 모델의 출력이 상대적인 값이므로, 모델이 학습한 이미지 크기와 같은 크기의 입력 이미지를 사용해야 합니다.\n",
        "\n",
        "    YOLOv8에서는 주로 Darknet이나 PyTorch와 같은 프레임워크를 사용하여 학습하고 추론을 수행하므로, 각 프레임워크에 따라 바운딩 박스 좌표를 표현하는 방식이 조금씩 다를 수 있습니다. 따라서 사용하는 프레임워크에 맞추어 API 문서나 예제 코드를 참조하는 것이 좋습니다.<br></br>\n",
        "\n",
        "- <참고> https://docs.ultralytics.com/ko/datasets/detect/#ultralytics-yolo-format"
      ],
      "metadata": {
        "id": "hiY0HmS6ciIR"
      }
    },
    {
      "cell_type": "code",
      "source": [
        "import os\n",
        "\n",
        "os.mkdir(\"/content/drive/MyDrive/딥러닝프로젝트/extracted\")"
      ],
      "metadata": {
        "id": "DAYdPWb6Ix_u"
      },
      "execution_count": null,
      "outputs": []
    },
    {
      "cell_type": "code",
      "source": [
        "# !tar -xvf \"/content/drive/MyDrive/딥러닝프로젝트/[DS] Deep Learning Project/strawberry/1.Training/라벨링데이터/TL_1.금실1.tar\" \\\n",
        "#     -C \"/content/drive/MyDrive/딥러닝프로젝트/extracted/\""
      ],
      "metadata": {
        "colab": {
          "base_uri": "https://localhost:8080/"
        },
        "collapsed": true,
        "id": "t_VTj_jMH0qs",
        "outputId": "cc355dce-63f8-42bc-91f9-836e5d821b07"
      },
      "execution_count": null,
      "outputs": [
        {
          "output_type": "stream",
          "name": "stdout",
          "text": [
            "C22_B02_003_415754.json\n",
            "C22_B02_001_34579.json\n",
            "C22_B02_001_414383.json\n",
            "C22_B02_001_414405.json\n",
            "C22_B02_001_414449.json\n",
            "C22_B02_001_414486.json\n",
            "C22_B02_001_414493.json\n",
            "C22_B02_001_414506.json\n",
            "C22_B02_001_414519.json\n",
            "C22_B02_001_414580.json\n",
            "C22_B02_001_414594.json\n",
            "C22_B02_001_414601.json\n",
            "C22_B02_001_414608.json\n",
            "C22_B02_001_414629.json\n",
            "C22_B02_001_414636.json\n",
            "C22_B02_001_414643.json\n",
            "C22_B02_001_414668.json\n",
            "C22_B02_001_414675.json\n",
            "C22_B02_001_414682.json\n",
            "C22_B02_001_414689.json\n",
            "C22_B02_001_414696.json\n",
            "C22_B02_001_414703.json\n",
            "C22_B02_001_414716.json\n",
            "C22_B02_001_414723.json\n",
            "C22_B02_001_414754.json\n",
            "C22_B02_001_414764.json\n",
            "C22_B02_001_414771.json\n",
            "C22_B02_001_414778.json\n",
            "C22_B02_001_414792.json\n",
            "C22_B02_001_414811.json\n",
            "C22_B02_001_414850.json\n",
            "C22_B02_001_414878.json\n",
            "C22_B02_001_414885.json\n",
            "C22_B02_001_414892.json\n",
            "C22_B02_001_414899.json\n",
            "C22_B02_001_414906.json\n",
            "C22_B02_001_414913.json\n",
            "C22_B02_001_414920.json\n",
            "C22_B02_001_414927.json\n",
            "C22_B02_001_414934.json\n",
            "C22_B02_001_414941.json\n",
            "C22_B02_001_414979.json\n",
            "C22_B02_001_415001.json\n",
            "C22_B02_001_415023.json\n",
            "C22_B02_001_415067.json\n",
            "C22_B02_001_415081.json\n",
            "C22_B02_001_415097.json\n",
            "C22_B02_001_415119.json\n",
            "C22_B02_001_415126.json\n",
            "C22_B02_001_415133.json\n",
            "C22_B02_001_415147.json\n",
            "C22_B02_001_415191.json\n",
            "C22_B02_001_415198.json\n",
            "C22_B02_001_415235.json\n",
            "C22_B02_001_415242.json\n",
            "C22_B02_001_415249.json\n",
            "C22_B02_001_415256.json\n",
            "C22_B02_001_415263.json\n",
            "C22_B02_001_415295.json\n",
            "C22_B02_001_415302.json\n",
            "C22_B02_001_415309.json\n",
            "C22_B02_001_415316.json\n",
            "C22_B02_001_415359.json\n",
            "C22_B02_001_415366.json\n",
            "C22_B02_001_415373.json\n",
            "C22_B02_001_415380.json\n",
            "C22_B02_001_415431.json\n",
            "C22_B02_001_415438.json\n",
            "C22_B02_001_415445.json\n",
            "C22_B02_001_415452.json\n",
            "C22_B02_001_415459.json\n",
            "C22_B02_001_415473.json\n",
            "C22_B02_001_415480.json\n",
            "C22_B02_001_415494.json\n",
            "C22_B02_001_415501.json\n",
            "C22_B02_001_415508.json\n",
            "C22_B02_001_415515.json\n",
            "C22_B02_001_415522.json\n",
            "C22_B02_001_415536.json\n",
            "C22_B02_001_415543.json\n",
            "C22_B02_001_415557.json\n",
            "C22_B02_001_415564.json\n",
            "C22_B02_001_415578.json\n",
            "C22_B02_001_415592.json\n",
            "C22_B02_001_415606.json\n",
            "C22_B02_001_415613.json\n",
            "C22_B02_001_415627.json\n",
            "C22_B02_001_415634.json\n",
            "C22_B02_001_415641.json\n",
            "C22_B02_001_415648.json\n",
            "C22_B02_001_415655.json\n",
            "C22_B02_001_415662.json\n",
            "C22_B02_001_415676.json\n",
            "C22_B02_001_415683.json\n",
            "C22_B02_001_415690.json\n",
            "C22_B02_001_415697.json\n",
            "C22_B02_001_415704.json\n",
            "C22_B02_001_415711.json\n",
            "C22_B02_001_415718.json\n",
            "C22_B02_001_415725.json\n",
            "C22_B02_001_415732.json\n",
            "C22_B02_001_415753.json\n",
            "C22_B02_001_415760.json\n",
            "C22_B02_001_415774.json\n",
            "C22_B02_001_415781.json\n",
            "C22_B02_001_415788.json\n",
            "C22_B02_001_415795.json\n",
            "C22_B02_001_415802.json\n",
            "C22_B02_001_415816.json\n",
            "C22_B02_001_415837.json\n",
            "C22_B02_001_415844.json\n",
            "C22_B02_001_415851.json\n",
            "C22_B02_001_415865.json\n",
            "C22_B02_001_415872.json\n",
            "C22_B02_001_415886.json\n",
            "C22_B02_001_415907.json\n",
            "C22_B02_001_417584.json\n",
            "C22_B02_001_417607.json\n",
            "C22_B02_001_417614.json\n",
            "C22_B02_001_417621.json\n",
            "C22_B02_001_417628.json\n",
            "C22_B02_001_417642.json\n",
            "C22_B02_001_417656.json\n",
            "C22_B02_001_417680.json\n",
            "C22_B02_001_417702.json\n",
            "C22_B02_001_417709.json\n",
            "C22_B02_001_417732.json\n",
            "C22_B02_001_417739.json\n",
            "C22_B02_001_417746.json\n",
            "C22_B02_001_417765.json\n",
            "C22_B02_001_417772.json\n",
            "C22_B02_001_417779.json\n",
            "C22_B02_001_417786.json\n",
            "C22_B02_001_417801.json\n",
            "C22_B02_001_417826.json\n",
            "C22_B02_001_417839.json\n",
            "C22_B02_001_417848.json\n",
            "C22_B02_001_417855.json\n",
            "C22_B02_001_417862.json\n",
            "C22_B02_001_417869.json\n",
            "C22_B02_001_417876.json\n",
            "C22_B02_001_417883.json\n",
            "C22_B02_001_417890.json\n",
            "C22_B02_001_417904.json\n",
            "C22_B02_001_417911.json\n",
            "C22_B02_001_417918.json\n",
            "C22_B02_001_417925.json\n",
            "C22_B02_001_417932.json\n",
            "C22_B02_001_417939.json\n",
            "C22_B02_001_417965.json\n",
            "C22_B02_001_417989.json\n",
            "C22_B02_001_417999.json\n",
            "C22_B02_001_418006.json\n",
            "C22_B02_001_418013.json\n",
            "C22_B02_001_418020.json\n",
            "C22_B02_001_418027.json\n",
            "C22_B02_001_418034.json\n",
            "C22_B02_001_418041.json\n",
            "C22_B02_001_418048.json\n",
            "C22_B02_001_418055.json\n",
            "C22_B02_001_418078.json\n",
            "C22_B02_001_418108.json\n",
            "C22_B02_001_418131.json\n",
            "C22_B02_001_418135.json\n",
            "C22_B02_001_418139.json\n",
            "C22_B02_001_418143.json\n",
            "C22_B02_001_418147.json\n",
            "C22_B02_001_418164.json\n",
            "C22_B02_001_420067.json\n",
            "C22_B02_001_420081.json\n",
            "C22_B02_001_420088.json\n",
            "C22_B02_001_420095.json\n",
            "C22_B02_001_420102.json\n",
            "C22_B02_001_420116.json\n",
            "C22_B02_001_420123.json\n",
            "C22_B02_001_420371.json\n",
            "C22_B02_001_420399.json\n",
            "C22_B02_002_241627.json\n",
            "C22_B02_002_414382.json\n",
            "C22_B02_002_414404.json\n",
            "C22_B02_002_414485.json\n",
            "C22_B02_002_414492.json\n",
            "C22_B02_002_414505.json\n",
            "C22_B02_002_414518.json\n",
            "C22_B02_002_414539.json\n",
            "C22_B02_002_414579.json\n",
            "C22_B02_002_414586.json\n",
            "C22_B02_002_414600.json\n",
            "C22_B02_002_414607.json\n",
            "C22_B02_002_414614.json\n",
            "C22_B02_002_414621.json\n",
            "C22_B02_002_414635.json\n",
            "C22_B02_002_414667.json\n",
            "C22_B02_002_414674.json\n",
            "C22_B02_002_414681.json\n",
            "C22_B02_002_414688.json\n",
            "C22_B02_002_414695.json\n",
            "C22_B02_002_414702.json\n",
            "C22_B02_002_414715.json\n",
            "C22_B02_002_414722.json\n",
            "C22_B02_002_414763.json\n",
            "C22_B02_002_414770.json\n",
            "C22_B02_002_414784.json\n",
            "C22_B02_002_414791.json\n",
            "C22_B02_002_414810.json\n",
            "C22_B02_002_414835.json\n",
            "C22_B02_002_414842.json\n",
            "C22_B02_002_414849.json\n",
            "C22_B02_002_414856.json\n",
            "C22_B02_002_414870.json\n",
            "C22_B02_002_414884.json\n",
            "C22_B02_002_414891.json\n",
            "C22_B02_002_414898.json\n",
            "C22_B02_002_414905.json\n",
            "C22_B02_002_414912.json\n",
            "C22_B02_002_414940.json\n",
            "C22_B02_002_414971.json\n",
            "C22_B02_002_414978.json\n",
            "C22_B02_002_415000.json\n",
            "C22_B02_002_415022.json\n",
            "C22_B02_002_415047.json\n",
            "C22_B02_002_415073.json\n",
            "C22_B02_002_415080.json\n",
            "C22_B02_002_415096.json\n",
            "C22_B02_002_415118.json\n",
            "C22_B02_002_415125.json\n",
            "C22_B02_002_415139.json\n",
            "C22_B02_002_415146.json\n",
            "C22_B02_002_415153.json\n",
            "C22_B02_002_415190.json\n",
            "C22_B02_002_415234.json\n",
            "C22_B02_002_415241.json\n",
            "C22_B02_002_415248.json\n",
            "C22_B02_002_415255.json\n",
            "C22_B02_002_415262.json\n",
            "C22_B02_002_415294.json\n",
            "C22_B02_002_415308.json\n",
            "C22_B02_002_415315.json\n",
            "C22_B02_002_415358.json\n",
            "C22_B02_002_415422.json\n",
            "C22_B02_002_415423.json\n",
            "C22_B02_002_415430.json\n",
            "C22_B02_002_415437.json\n",
            "C22_B02_002_415451.json\n",
            "C22_B02_002_415458.json\n",
            "C22_B02_002_415465.json\n",
            "C22_B02_002_415472.json\n",
            "C22_B02_002_415479.json\n",
            "C22_B02_002_415486.json\n",
            "C22_B02_002_415493.json\n",
            "C22_B02_002_415500.json\n",
            "C22_B02_002_415514.json\n",
            "C22_B02_002_415521.json\n",
            "C22_B02_002_415535.json\n",
            "C22_B02_002_415542.json\n",
            "C22_B02_002_415549.json\n",
            "C22_B02_002_415556.json\n",
            "C22_B02_002_415563.json\n",
            "C22_B02_002_415577.json\n",
            "C22_B02_002_415584.json\n",
            "C22_B02_002_415591.json\n",
            "C22_B02_002_415605.json\n",
            "C22_B02_002_415612.json\n",
            "C22_B02_002_415619.json\n",
            "C22_B02_002_415626.json\n",
            "C22_B02_002_415647.json\n",
            "C22_B02_002_415654.json\n",
            "C22_B02_002_415668.json\n",
            "C22_B02_002_415675.json\n",
            "C22_B02_002_415682.json\n",
            "C22_B02_002_415689.json\n",
            "C22_B02_002_415696.json\n",
            "C22_B02_002_415703.json\n",
            "C22_B02_002_415710.json\n",
            "C22_B02_002_415717.json\n",
            "C22_B02_002_415724.json\n",
            "C22_B02_002_415731.json\n",
            "C22_B02_002_415738.json\n",
            "C22_B02_002_415745.json\n",
            "C22_B02_002_415752.json\n",
            "C22_B02_002_415759.json\n",
            "C22_B02_002_415766.json\n",
            "C22_B02_002_415773.json\n",
            "C22_B02_002_415787.json\n",
            "C22_B02_002_415794.json\n",
            "C22_B02_002_415801.json\n",
            "C22_B02_002_415808.json\n",
            "C22_B02_002_415822.json\n",
            "C22_B02_002_415829.json\n",
            "C22_B02_002_415836.json\n",
            "C22_B02_002_415857.json\n",
            "C22_B02_002_415871.json\n",
            "C22_B02_002_415878.json\n",
            "C22_B02_002_415885.json\n",
            "C22_B02_002_415892.json\n",
            "C22_B02_002_415899.json\n",
            "C22_B02_002_415906.json\n",
            "C22_B02_002_417593.json\n",
            "C22_B02_002_417613.json\n",
            "C22_B02_002_417620.json\n",
            "C22_B02_002_417627.json\n",
            "C22_B02_002_417634.json\n",
            "C22_B02_002_417641.json\n",
            "C22_B02_002_417657.json\n",
            "C22_B02_002_417679.json\n",
            "C22_B02_002_417701.json\n",
            "C22_B02_002_417708.json\n",
            "C22_B02_002_417738.json\n",
            "C22_B02_002_417764.json\n",
            "C22_B02_002_417771.json\n",
            "C22_B02_002_417778.json\n",
            "C22_B02_002_417785.json\n",
            "C22_B02_002_417814.json\n",
            "C22_B02_002_417827.json\n",
            "C22_B02_002_417840.json\n",
            "C22_B02_002_417861.json\n",
            "C22_B02_002_417868.json\n",
            "C22_B02_002_417875.json\n",
            "C22_B02_002_417882.json\n",
            "C22_B02_002_417889.json\n",
            "C22_B02_002_417896.json\n",
            "C22_B02_002_417903.json\n",
            "C22_B02_002_417910.json\n",
            "C22_B02_002_417917.json\n",
            "C22_B02_002_417924.json\n",
            "C22_B02_002_417931.json\n",
            "C22_B02_002_417938.json\n",
            "C22_B02_002_417957.json\n",
            "C22_B02_002_417964.json\n",
            "C22_B02_002_417988.json\n",
            "C22_B02_002_417998.json\n",
            "C22_B02_002_418012.json\n",
            "C22_B02_002_418019.json\n",
            "C22_B02_002_418026.json\n",
            "C22_B02_002_418033.json\n",
            "C22_B02_002_418040.json\n",
            "C22_B02_002_418047.json\n",
            "C22_B02_002_418054.json\n",
            "C22_B02_002_418077.json\n",
            "C22_B02_002_418100.json\n",
            "C22_B02_002_418107.json\n",
            "C22_B02_002_418130.json\n",
            "C22_B02_002_418134.json\n",
            "C22_B02_002_418138.json\n",
            "C22_B02_002_418142.json\n",
            "C22_B02_002_418146.json\n",
            "C22_B02_002_418154.json\n",
            "C22_B02_002_418161.json\n",
            "C22_B02_002_418165.json\n",
            "C22_B02_002_420066.json\n",
            "C22_B02_002_420080.json\n",
            "C22_B02_002_420108.json\n",
            "C22_B02_002_420115.json\n",
            "C22_B02_002_420122.json\n",
            "C22_B02_002_420372.json\n",
            "C22_B02_002_420400.json\n",
            "C22_B02_003_34580.json\n",
            "C22_B02_003_412581.json\n",
            "C22_B02_003_412588.json\n",
            "C22_B02_003_412595.json\n",
            "C22_B02_003_412602.json\n",
            "C22_B02_003_412616.json\n",
            "C22_B02_003_412635.json\n",
            "C22_B02_003_412651.json\n",
            "C22_B02_003_412658.json\n",
            "C22_B02_003_412665.json\n",
            "C22_B02_003_412687.json\n",
            "C22_B02_003_412694.json\n",
            "C22_B02_003_412701.json\n",
            "C22_B02_003_412737.json\n",
            "C22_B02_003_412756.json\n",
            "C22_B02_003_412763.json\n",
            "C22_B02_003_412770.json\n",
            "C22_B02_003_412777.json\n",
            "C22_B02_003_412784.json\n",
            "C22_B02_003_412791.json\n",
            "C22_B02_003_412840.json\n",
            "C22_B02_003_412847.json\n",
            "C22_B02_003_412861.json\n",
            "C22_B02_003_412869.json\n",
            "C22_B02_003_413997.json\n",
            "C22_B02_003_414020.json\n",
            "C22_B02_003_414037.json\n",
            "C22_B02_003_414053.json\n",
            "C22_B02_003_414067.json\n",
            "C22_B02_003_414081.json\n",
            "C22_B02_003_414106.json\n",
            "C22_B02_003_414113.json\n",
            "C22_B02_003_414157.json\n",
            "C22_B02_003_414176.json\n",
            "C22_B02_003_414208.json\n",
            "C22_B02_003_414215.json\n",
            "C22_B02_003_414234.json\n",
            "C22_B02_003_414248.json\n",
            "C22_B02_003_414263.json\n",
            "C22_B02_003_414282.json\n",
            "C22_B02_003_414297.json\n",
            "C22_B02_003_414316.json\n",
            "C22_B02_003_414349.json\n",
            "C22_B02_003_414356.json\n",
            "C22_B02_003_414363.json\n",
            "C22_B02_003_414370.json\n",
            "C22_B02_003_414384.json\n",
            "C22_B02_003_414487.json\n",
            "C22_B02_003_414494.json\n",
            "C22_B02_003_414507.json\n",
            "C22_B02_003_414520.json\n",
            "C22_B02_003_414541.json\n",
            "C22_B02_003_414564.json\n",
            "C22_B02_003_414588.json\n",
            "C22_B02_003_414595.json\n",
            "C22_B02_003_414609.json\n",
            "C22_B02_003_414623.json\n",
            "C22_B02_003_414630.json\n",
            "C22_B02_003_414637.json\n",
            "C22_B02_003_414644.json\n",
            "C22_B02_003_414669.json\n",
            "C22_B02_003_414676.json\n",
            "C22_B02_003_414683.json\n",
            "C22_B02_003_414690.json\n",
            "C22_B02_003_414704.json\n",
            "C22_B02_003_414717.json\n",
            "C22_B02_003_414755.json\n",
            "C22_B02_003_414765.json\n",
            "C22_B02_003_414772.json\n",
            "C22_B02_003_414779.json\n",
            "C22_B02_003_414786.json\n",
            "C22_B02_003_414793.json\n",
            "C22_B02_003_414812.json\n",
            "C22_B02_003_414837.json\n",
            "C22_B02_003_414844.json\n",
            "C22_B02_003_414851.json\n",
            "C22_B02_003_414858.json\n",
            "C22_B02_003_414872.json\n",
            "C22_B02_003_414879.json\n",
            "C22_B02_003_414886.json\n",
            "C22_B02_003_414907.json\n",
            "C22_B02_003_414914.json\n",
            "C22_B02_003_414921.json\n",
            "C22_B02_003_414928.json\n",
            "C22_B02_003_414942.json\n",
            "C22_B02_003_414973.json\n",
            "C22_B02_003_414980.json\n",
            "C22_B02_003_415002.json\n",
            "C22_B02_003_415024.json\n",
            "C22_B02_003_415075.json\n",
            "C22_B02_003_415082.json\n",
            "C22_B02_003_415098.json\n",
            "C22_B02_003_415120.json\n",
            "C22_B02_003_415127.json\n",
            "C22_B02_003_415141.json\n",
            "C22_B02_003_415148.json\n",
            "C22_B02_003_415155.json\n",
            "C22_B02_003_415236.json\n",
            "C22_B02_003_415243.json\n",
            "C22_B02_003_415250.json\n",
            "C22_B02_003_415257.json\n",
            "C22_B02_003_415296.json\n",
            "C22_B02_003_415310.json\n",
            "C22_B02_003_415317.json\n",
            "C22_B02_003_415360.json\n",
            "C22_B02_003_415367.json\n",
            "C22_B02_003_415374.json\n",
            "C22_B02_003_415381.json\n",
            "C22_B02_003_415420.json\n",
            "C22_B02_003_415425.json\n",
            "C22_B02_003_415432.json\n",
            "C22_B02_003_415453.json\n",
            "C22_B02_003_415460.json\n",
            "C22_B02_003_415467.json\n",
            "C22_B02_003_415474.json\n",
            "C22_B02_003_415481.json\n",
            "C22_B02_003_415488.json\n",
            "C22_B02_003_415495.json\n",
            "C22_B02_003_415502.json\n",
            "C22_B02_003_415509.json\n",
            "C22_B02_003_415516.json\n",
            "C22_B02_003_415523.json\n",
            "C22_B02_003_415530.json\n",
            "C22_B02_003_415544.json\n",
            "C22_B02_003_415551.json\n",
            "C22_B02_003_415558.json\n",
            "C22_B02_003_415565.json\n",
            "C22_B02_003_415579.json\n",
            "C22_B02_003_415586.json\n",
            "C22_B02_003_415593.json\n",
            "C22_B02_003_415607.json\n",
            "C22_B02_003_415614.json\n",
            "C22_B02_003_415621.json\n",
            "C22_B02_003_415628.json\n",
            "C22_B02_003_415635.json\n",
            "C22_B02_003_415649.json\n",
            "C22_B02_003_415663.json\n",
            "C22_B02_003_415677.json\n",
            "C22_B02_003_415691.json\n",
            "C22_B02_003_415705.json\n",
            "C22_B02_003_415719.json\n",
            "C22_B02_003_415733.json\n",
            "C22_B02_003_415740.json\n",
            "C22_B02_003_415747.json\n"
          ]
        }
      ]
    },
    {
      "cell_type": "code",
      "source": [
        "# import os\n",
        "\n",
        "# 압축 파일들이 있는 디렉토리 경로\n",
        "directory = '/content/drive/MyDrive/딥러닝프로젝트/[DS] Deep Learning Project/strawberry/1.Training/라벨링데이터/'\n",
        "\n",
        "# 압축을 풀 파일들의 확장자\n",
        "extension = '.tar'\n",
        "\n",
        "# 디렉토리 내의 모든 파일 목록 가져오기\n",
        "files = os.listdir(directory)\n",
        "files, len(files)"
      ],
      "metadata": {
        "colab": {
          "base_uri": "https://localhost:8080/"
        },
        "id": "6wa6LyyeJnPC",
        "outputId": "5df0dfa0-e14c-48a6-f62a-1a5833b19a87"
      },
      "execution_count": null,
      "outputs": [
        {
          "output_type": "execute_result",
          "data": {
            "text/plain": [
              "(['TL_1.금실28.tar',\n",
              "  'TL_1.금실24.tar',\n",
              "  'TL_1.금실26.tar',\n",
              "  'TL_1.금실49.tar',\n",
              "  'TL_1.금실2.tar',\n",
              "  'TL_1.금실13.tar',\n",
              "  'TL_1.금실5.tar',\n",
              "  'TL_1.금실22.tar',\n",
              "  'TL_1.금실41.tar',\n",
              "  'TL_1.금실17.tar',\n",
              "  'TL_1.금실35.tar',\n",
              "  'TL_1.금실15.tar',\n",
              "  'TL_1.금실19.tar',\n",
              "  'TL_1.금실20.tar',\n",
              "  'TL_1.금실31.tar',\n",
              "  'TL_1.금실29.tar',\n",
              "  'TL_1.금실11.tar',\n",
              "  'TL_1.금실30.tar',\n",
              "  'TL_1.금실25.tar',\n",
              "  'TL_1.금실33.tar',\n",
              "  'TL_1.금실27.tar',\n",
              "  'TL_1.금실4.tar',\n",
              "  'TL_1.금실8.tar',\n",
              "  'TL_1.금실1.tar',\n",
              "  'TL_1.금실47.tar',\n",
              "  'TL_1.금실48.tar',\n",
              "  'TL_1.금실9.tar',\n",
              "  'TL_1.금실12.tar',\n",
              "  'TL_1.금실34.tar',\n",
              "  'TL_1.금실37.tar',\n",
              "  'TL_1.금실39.tar',\n",
              "  'TL_1.금실21.tar',\n",
              "  'TL_1.금실40.tar',\n",
              "  'TL_1.금실3.tar',\n",
              "  'TL_1.금실10.tar',\n",
              "  'TL_1.금실46.tar',\n",
              "  'TL_1.금실23.tar',\n",
              "  'TL_1.금실36.tar',\n",
              "  'TL_1.금실18.tar',\n",
              "  'TL_1.금실38.tar',\n",
              "  'TL_1.금실44.tar',\n",
              "  'TL_1.금실6.tar',\n",
              "  'TL_1.금실43.tar',\n",
              "  'TL_1.금실7.tar',\n",
              "  'TL_1.금실16.tar',\n",
              "  'TL_1.금실14.tar',\n",
              "  'TL_1.금실42.tar',\n",
              "  'TL_1.금실45.tar',\n",
              "  'TL_1.금실32.tar'],\n",
              " 49)"
            ]
          },
          "metadata": {},
          "execution_count": 6
        }
      ]
    },
    {
      "cell_type": "code",
      "source": [
        "os.path.join(directory, files[0])\n",
        "# \"/content/drive/MyDrive/딥러닝프로젝트/[DS] Deep Learning Project/strawberry/1.Training/라벨링데이터/TL_1.금실1.tar\""
      ],
      "metadata": {
        "colab": {
          "base_uri": "https://localhost:8080/",
          "height": 35
        },
        "id": "Kh0v9hWrL4qk",
        "outputId": "092504b4-a8ee-481d-9912-ebe5f66d3f46"
      },
      "execution_count": null,
      "outputs": [
        {
          "output_type": "execute_result",
          "data": {
            "text/plain": [
              "'/content/drive/MyDrive/딥러닝프로젝트/[DS] Deep Learning Project/strawberry/1.Training/라벨링데이터/TL_1.금실28.tar'"
            ],
            "application/vnd.google.colaboratory.intrinsic+json": {
              "type": "string"
            }
          },
          "metadata": {},
          "execution_count": 9
        }
      ]
    },
    {
      "cell_type": "code",
      "source": [
        "!tar -xvf {os.path.join(directory, files[0])} -C \"/content/drive/MyDrive/딥러닝프로젝트/extracted/\""
      ],
      "metadata": {
        "colab": {
          "base_uri": "https://localhost:8080/"
        },
        "id": "4FUzqbMxMJ4B",
        "outputId": "338e87fc-e5b7-4947-935d-eda6803b302a"
      },
      "execution_count": null,
      "outputs": [
        {
          "output_type": "stream",
          "name": "stdout",
          "text": [
            "tar: /content/drive/MyDrive/딥러닝프로젝트/[DS]: Cannot open: No such file or directory\n",
            "tar: Error is not recoverable: exiting now\n"
          ]
        }
      ]
    },
    {
      "cell_type": "code",
      "source": [
        "# 디렉토리 내의 각 파일에 대해 처리\n",
        "for file in files:\n",
        "    # 확장자가 .tar.gz 인 파일인 경우에만 처리\n",
        "    if file.endswith(extension):\n",
        "        # tar 압축 파일을 푸는 명령어 실행\n",
        "        !tar -xvf {os.path.join(directory, file)} -C \"/content/drive/MyDrive/딥러닝프로젝트/extracted/\"\n"
      ],
      "metadata": {
        "id": "KGhhRLn-J3Fb"
      },
      "execution_count": null,
      "outputs": []
    },
    {
      "cell_type": "code",
      "execution_count": null,
      "metadata": {
        "id": "CYOUD9Paezj8"
      },
      "outputs": [],
      "source": [
        "import tarfile\n",
        "\n",
        "# 압축 해제할 디렉토리 경로\n",
        "extract_path = '/content/drive/MyDrive/딥러닝프로젝트/[DS] Deep Learning Project/strawberry/1.Training/extracted/'\n",
        "\n",
        "# tar 파일 열기\n",
        "for n in range(1, 50):\n",
        "    # 압축 파일 경로\n",
        "    file_path = f'/content/drive/MyDrive/딥러닝프로젝트/[DS] Deep Learning Project/strawberry/1.Training/라벨링데이터/TL_1.금실{n}.tar'\n",
        "    with tarfile.open(file_path, 'r') as tar:\n",
        "        # 압축 해제\n",
        "        tar.extractall(extract_path)\n"
      ]
    },
    {
      "cell_type": "code",
      "source": [
        "label_list = os.listdir(extract_path)\n",
        "label_list[:10], len(label_list)"
      ],
      "metadata": {
        "colab": {
          "base_uri": "https://localhost:8080/"
        },
        "id": "mZhpKpFQOtyn",
        "outputId": "73a01977-32e5-407a-915c-26aed8e6ea59"
      },
      "execution_count": null,
      "outputs": [
        {
          "output_type": "execute_result",
          "data": {
            "text/plain": [
              "(['C22_B02_003_415754.json',\n",
              "  'C22_B02_001_34579.json',\n",
              "  'C22_B02_001_414383.json',\n",
              "  'C22_B02_001_414405.json',\n",
              "  'C22_B02_001_414449.json',\n",
              "  'C22_B02_001_414486.json',\n",
              "  'C22_B02_001_414493.json',\n",
              "  'C22_B02_001_414506.json',\n",
              "  'C22_B02_001_414519.json',\n",
              "  'C22_B02_001_414580.json'],\n",
              " 24347)"
            ]
          },
          "metadata": {},
          "execution_count": 19
        }
      ]
    },
    {
      "cell_type": "code",
      "source": [
        "os.rmdir(\"/content/drive/MyDrive/딥러닝프로젝트/[DS] Deep Learning Project/strawberry/train/\" + \"labels\")\n",
        "os.mkdir(\"/content/drive/MyDrive/딥러닝프로젝트/[DS] Deep Learning Project/strawberry/train/\" + \"labels\")"
      ],
      "metadata": {
        "id": "mf1a7PIsO9M9"
      },
      "execution_count": null,
      "outputs": []
    },
    {
      "cell_type": "code",
      "source": [
        "import json\n",
        "\n",
        "# json 파일 읽기\n",
        "with open(os.path.join(extract_path, label_list[0]), 'r') as f:\n",
        "    data = json.load(f)\n",
        "\n",
        "data"
      ],
      "metadata": {
        "colab": {
          "base_uri": "https://localhost:8080/"
        },
        "id": "QqPctntCPYQu",
        "outputId": "543640c3-e6ec-448e-ae0a-ea4c0d640f10"
      },
      "execution_count": null,
      "outputs": [
        {
          "output_type": "execute_result",
          "data": {
            "text/plain": [
              "{'images': {'image_id': 415754,\n",
              "  'farm_id': 'AIF005',\n",
              "  'crops_id': 'C22_B02',\n",
              "  'crops': '딸기',\n",
              "  'kind_type': '금실',\n",
              "  'file_path': '/cropsImages/B/B02/AIF005/C22',\n",
              "  'fname': 'C22_B02_003_210909084651.jpg',\n",
              "  'fext': 'jpg',\n",
              "  'width': '1480',\n",
              "  'height': '1870',\n",
              "  'create_date': '2021-11-01',\n",
              "  'date_captured': '2021-09-09 08:46:51',\n",
              "  'growth_stage': '정식기',\n",
              "  'leaf': '1',\n",
              "  'plant_body': '0'},\n",
              " 'envrionments': [{'farm_id': 'AIF005',\n",
              "   'receive_date': '2021-09-09 08:46:31',\n",
              "   'id': 0,\n",
              "   'ti_value': '26.0',\n",
              "   'hi_value': '67.0',\n",
              "   'ci_value': '459',\n",
              "   'ir_value': None,\n",
              "   'tl_value': None,\n",
              "   'ei_value': None,\n",
              "   'pl_value': None},\n",
              "  {'farm_id': 'AIF005',\n",
              "   'receive_date': '2021-09-09 08:42:32',\n",
              "   'id': 1,\n",
              "   'ti_value': '26.0',\n",
              "   'hi_value': '68.0',\n",
              "   'ci_value': '464',\n",
              "   'ir_value': None,\n",
              "   'tl_value': None,\n",
              "   'ei_value': None,\n",
              "   'pl_value': None}],\n",
              " 'growth_index': {'corps_id': 'C22_B02',\n",
              "  'measured_date': None,\n",
              "  'stem_length': None,\n",
              "  'leaf_cnt': None,\n",
              "  'leaf_width': None,\n",
              "  'leaf_length': None,\n",
              "  'stem_thick': None,\n",
              "  'fr_weight': None},\n",
              " 'etc_infor': {'corps_id': 'C22_B02', 'create_date': '', 'inform': ''},\n",
              " 'annotations': [{'segmentation': [445.74,\n",
              "    117.02,\n",
              "    727.36,\n",
              "    117.02,\n",
              "    727.36,\n",
              "    326.89,\n",
              "    445.74,\n",
              "    326.89],\n",
              "   'area': 59103.58,\n",
              "   'bbox': [445.74, 117.02, 281.62, 209.87],\n",
              "   'isCrowd': 0,\n",
              "   'id': 0,\n",
              "   'image_id': 415754,\n",
              "   'category_id': 0},\n",
              "  {'segmentation': [783.41,\n",
              "    438.58,\n",
              "    1069.7,\n",
              "    438.58,\n",
              "    1069.7,\n",
              "    565.17,\n",
              "    783.41,\n",
              "    565.17],\n",
              "   'area': 36244.31,\n",
              "   'bbox': [783.41, 438.58, 286.29, 126.6],\n",
              "   'isCrowd': 0,\n",
              "   'id': 1,\n",
              "   'image_id': 415754,\n",
              "   'category_id': 1},\n",
              "  {'segmentation': [1048.76,\n",
              "    547.76,\n",
              "    1444.37,\n",
              "    547.76,\n",
              "    1444.37,\n",
              "    805.22,\n",
              "    1048.76,\n",
              "    805.22],\n",
              "   'area': 101853.75,\n",
              "   'bbox': [1048.76, 547.76, 395.61, 257.46],\n",
              "   'isCrowd': 0,\n",
              "   'id': 2,\n",
              "   'image_id': 415754,\n",
              "   'category_id': 2},\n",
              "  {'segmentation': [225.76,\n",
              "    1344.16,\n",
              "    468.82,\n",
              "    1344.16,\n",
              "    468.82,\n",
              "    1539.25,\n",
              "    225.76,\n",
              "    1539.25],\n",
              "   'area': 47418.57,\n",
              "   'bbox': [225.76, 1344.16, 243.06, 195.09],\n",
              "   'isCrowd': 0,\n",
              "   'id': 3,\n",
              "   'image_id': 415754,\n",
              "   'category_id': 3},\n",
              "  {'segmentation': [410.17,\n",
              "    1413.7,\n",
              "    599.39,\n",
              "    1413.7,\n",
              "    599.39,\n",
              "    1672.88,\n",
              "    410.17,\n",
              "    1672.88],\n",
              "   'area': 49042.03,\n",
              "   'bbox': [410.17, 1413.7, 189.22, 259.18],\n",
              "   'isCrowd': 0,\n",
              "   'id': 4,\n",
              "   'image_id': 415754,\n",
              "   'category_id': 4},\n",
              "  {'segmentation': [464.75,\n",
              "    1132.73,\n",
              "    497.59,\n",
              "    1132.73,\n",
              "    497.59,\n",
              "    1420.64,\n",
              "    464.75,\n",
              "    1420.64],\n",
              "   'area': 9454.96,\n",
              "   'bbox': [464.75, 1132.73, 32.84, 287.91],\n",
              "   'isCrowd': 0,\n",
              "   'id': 5,\n",
              "   'image_id': 415754,\n",
              "   'category_id': 5},\n",
              "  {'segmentation': [615.23,\n",
              "    908.63,\n",
              "    636.27,\n",
              "    908.63,\n",
              "    636.27,\n",
              "    1120.66,\n",
              "    615.23,\n",
              "    1120.66],\n",
              "   'area': 4461.11,\n",
              "   'bbox': [615.23, 908.63, 21.04, 212.03],\n",
              "   'isCrowd': 0,\n",
              "   'id': 6,\n",
              "   'image_id': 415754,\n",
              "   'category_id': 6},\n",
              "  {'segmentation': [687.23,\n",
              "    683.79,\n",
              "    770.96,\n",
              "    683.79,\n",
              "    770.96,\n",
              "    725.65,\n",
              "    687.23,\n",
              "    725.65],\n",
              "   'area': 3504.93,\n",
              "   'bbox': [687.23, 683.79, 83.73, 41.86],\n",
              "   'isCrowd': 0,\n",
              "   'id': 7,\n",
              "   'image_id': 415754,\n",
              "   'category_id': 7}],\n",
              " 'licenses': [{'id': 1, 'name': 'CCMediaService', 'url': ''}],\n",
              " 'categories': [{'id': 0, 'name': '잎', 'supercategory': 'none'},\n",
              "  {'id': 1, 'name': '잎', 'supercategory': 'none'},\n",
              "  {'id': 2, 'name': '잎', 'supercategory': 'none'},\n",
              "  {'id': 3, 'name': '잎', 'supercategory': 'none'},\n",
              "  {'id': 4, 'name': '잎', 'supercategory': 'none'},\n",
              "  {'id': 5, 'name': '줄기', 'supercategory': 'none'},\n",
              "  {'id': 6, 'name': '줄기', 'supercategory': 'none'},\n",
              "  {'id': 7, 'name': '줄기', 'supercategory': 'none'}]}"
            ]
          },
          "metadata": {},
          "execution_count": 20
        }
      ]
    },
    {
      "cell_type": "code",
      "source": [
        "width = data['images'].get('width')\n",
        "height = data['images'].get('height')\n",
        "width, height"
      ],
      "metadata": {
        "colab": {
          "base_uri": "https://localhost:8080/"
        },
        "id": "yLcmvj3URXn4",
        "outputId": "78b24c9c-e873-45bf-8ca9-294702258714"
      },
      "execution_count": null,
      "outputs": [
        {
          "output_type": "execute_result",
          "data": {
            "text/plain": [
              "('1480', '1870')"
            ]
          },
          "metadata": {},
          "execution_count": 22
        }
      ]
    },
    {
      "cell_type": "code",
      "source": [
        "annotations = data['annotations']\n",
        "categories = data['categories']\n",
        "annotations, categories"
      ],
      "metadata": {
        "colab": {
          "base_uri": "https://localhost:8080/"
        },
        "id": "UbL9MX0gQ7Zz",
        "outputId": "f0a17d97-9006-488a-a490-21e2aa377396"
      },
      "execution_count": null,
      "outputs": [
        {
          "output_type": "execute_result",
          "data": {
            "text/plain": [
              "([{'segmentation': [445.74,\n",
              "    117.02,\n",
              "    727.36,\n",
              "    117.02,\n",
              "    727.36,\n",
              "    326.89,\n",
              "    445.74,\n",
              "    326.89],\n",
              "   'area': 59103.58,\n",
              "   'bbox': [445.74, 117.02, 281.62, 209.87],\n",
              "   'isCrowd': 0,\n",
              "   'id': 0,\n",
              "   'image_id': 415754,\n",
              "   'category_id': 0},\n",
              "  {'segmentation': [783.41,\n",
              "    438.58,\n",
              "    1069.7,\n",
              "    438.58,\n",
              "    1069.7,\n",
              "    565.17,\n",
              "    783.41,\n",
              "    565.17],\n",
              "   'area': 36244.31,\n",
              "   'bbox': [783.41, 438.58, 286.29, 126.6],\n",
              "   'isCrowd': 0,\n",
              "   'id': 1,\n",
              "   'image_id': 415754,\n",
              "   'category_id': 1},\n",
              "  {'segmentation': [1048.76,\n",
              "    547.76,\n",
              "    1444.37,\n",
              "    547.76,\n",
              "    1444.37,\n",
              "    805.22,\n",
              "    1048.76,\n",
              "    805.22],\n",
              "   'area': 101853.75,\n",
              "   'bbox': [1048.76, 547.76, 395.61, 257.46],\n",
              "   'isCrowd': 0,\n",
              "   'id': 2,\n",
              "   'image_id': 415754,\n",
              "   'category_id': 2},\n",
              "  {'segmentation': [225.76,\n",
              "    1344.16,\n",
              "    468.82,\n",
              "    1344.16,\n",
              "    468.82,\n",
              "    1539.25,\n",
              "    225.76,\n",
              "    1539.25],\n",
              "   'area': 47418.57,\n",
              "   'bbox': [225.76, 1344.16, 243.06, 195.09],\n",
              "   'isCrowd': 0,\n",
              "   'id': 3,\n",
              "   'image_id': 415754,\n",
              "   'category_id': 3},\n",
              "  {'segmentation': [410.17,\n",
              "    1413.7,\n",
              "    599.39,\n",
              "    1413.7,\n",
              "    599.39,\n",
              "    1672.88,\n",
              "    410.17,\n",
              "    1672.88],\n",
              "   'area': 49042.03,\n",
              "   'bbox': [410.17, 1413.7, 189.22, 259.18],\n",
              "   'isCrowd': 0,\n",
              "   'id': 4,\n",
              "   'image_id': 415754,\n",
              "   'category_id': 4},\n",
              "  {'segmentation': [464.75,\n",
              "    1132.73,\n",
              "    497.59,\n",
              "    1132.73,\n",
              "    497.59,\n",
              "    1420.64,\n",
              "    464.75,\n",
              "    1420.64],\n",
              "   'area': 9454.96,\n",
              "   'bbox': [464.75, 1132.73, 32.84, 287.91],\n",
              "   'isCrowd': 0,\n",
              "   'id': 5,\n",
              "   'image_id': 415754,\n",
              "   'category_id': 5},\n",
              "  {'segmentation': [615.23,\n",
              "    908.63,\n",
              "    636.27,\n",
              "    908.63,\n",
              "    636.27,\n",
              "    1120.66,\n",
              "    615.23,\n",
              "    1120.66],\n",
              "   'area': 4461.11,\n",
              "   'bbox': [615.23, 908.63, 21.04, 212.03],\n",
              "   'isCrowd': 0,\n",
              "   'id': 6,\n",
              "   'image_id': 415754,\n",
              "   'category_id': 6},\n",
              "  {'segmentation': [687.23,\n",
              "    683.79,\n",
              "    770.96,\n",
              "    683.79,\n",
              "    770.96,\n",
              "    725.65,\n",
              "    687.23,\n",
              "    725.65],\n",
              "   'area': 3504.93,\n",
              "   'bbox': [687.23, 683.79, 83.73, 41.86],\n",
              "   'isCrowd': 0,\n",
              "   'id': 7,\n",
              "   'image_id': 415754,\n",
              "   'category_id': 7}],\n",
              " [{'id': 0, 'name': '잎', 'supercategory': 'none'},\n",
              "  {'id': 1, 'name': '잎', 'supercategory': 'none'},\n",
              "  {'id': 2, 'name': '잎', 'supercategory': 'none'},\n",
              "  {'id': 3, 'name': '잎', 'supercategory': 'none'},\n",
              "  {'id': 4, 'name': '잎', 'supercategory': 'none'},\n",
              "  {'id': 5, 'name': '줄기', 'supercategory': 'none'},\n",
              "  {'id': 6, 'name': '줄기', 'supercategory': 'none'},\n",
              "  {'id': 7, 'name': '줄기', 'supercategory': 'none'}])"
            ]
          },
          "metadata": {},
          "execution_count": 21
        }
      ]
    },
    {
      "cell_type": "code",
      "source": [
        "annotations[0]"
      ],
      "metadata": {
        "colab": {
          "base_uri": "https://localhost:8080/"
        },
        "id": "U4jb6bYoRDsu",
        "outputId": "9ad70905-159f-4e17-d41d-d07d5d3a2115"
      },
      "execution_count": null,
      "outputs": [
        {
          "output_type": "execute_result",
          "data": {
            "text/plain": [
              "{'segmentation': [445.74,\n",
              "  117.02,\n",
              "  727.36,\n",
              "  117.02,\n",
              "  727.36,\n",
              "  326.89,\n",
              "  445.74,\n",
              "  326.89],\n",
              " 'area': 59103.58,\n",
              " 'bbox': [445.74, 117.02, 281.62, 209.87],\n",
              " 'isCrowd': 0,\n",
              " 'id': 0,\n",
              " 'image_id': 415754,\n",
              " 'category_id': 0}"
            ]
          },
          "metadata": {},
          "execution_count": 23
        }
      ]
    },
    {
      "cell_type": "code",
      "source": [
        "segmentation = annotations[0]['segmentation']\n",
        "segmentation"
      ],
      "metadata": {
        "colab": {
          "base_uri": "https://localhost:8080/"
        },
        "id": "pytO_AOlSLTp",
        "outputId": "e274e79f-6084-4308-d810-3f406b2dd320"
      },
      "execution_count": null,
      "outputs": [
        {
          "output_type": "execute_result",
          "data": {
            "text/plain": [
              "[445.74, 117.02, 727.36, 117.02, 727.36, 326.89, 445.74, 326.89]"
            ]
          },
          "metadata": {},
          "execution_count": 25
        }
      ]
    },
    {
      "cell_type": "code",
      "source": [
        "left_top = (segmentation[0],segmentation[1])\n",
        "right_bottom = (segmentation[4],segmentation[5])\n",
        "left_top, right_bottom"
      ],
      "metadata": {
        "colab": {
          "base_uri": "https://localhost:8080/"
        },
        "id": "yFuByZMeSSAb",
        "outputId": "01511e33-c766-4202-b64e-082a9e85d30e"
      },
      "execution_count": null,
      "outputs": [
        {
          "output_type": "execute_result",
          "data": {
            "text/plain": [
              "((445.74, 117.02), (727.36, 326.89))"
            ]
          },
          "metadata": {},
          "execution_count": 29
        }
      ]
    },
    {
      "cell_type": "code",
      "source": [
        "lr_width = right_bottom[0] - left_top[0]\n",
        "tb_height = right_bottom[1] - left_top[1]\n",
        "lr_width, tb_height\n",
        "# 281.62, 209.87"
      ],
      "metadata": {
        "colab": {
          "base_uri": "https://localhost:8080/"
        },
        "id": "VDIMKzy9S3D3",
        "outputId": "ff81b849-235a-43e2-8f6a-fd0dfcd8e331"
      },
      "execution_count": null,
      "outputs": [
        {
          "output_type": "execute_result",
          "data": {
            "text/plain": [
              "(281.62, 209.87)"
            ]
          },
          "metadata": {},
          "execution_count": 31
        }
      ]
    },
    {
      "cell_type": "code",
      "source": [
        "x_center = left_top[0] + lr_width/2\n",
        "y_center = left_top[1] + tb_height/2\n",
        "x_center, y_center"
      ],
      "metadata": {
        "colab": {
          "base_uri": "https://localhost:8080/"
        },
        "id": "TTRoSGnNU5T1",
        "outputId": "10fe5cd3-852d-4564-ea11-189ecd3489eb"
      },
      "execution_count": null,
      "outputs": [
        {
          "output_type": "execute_result",
          "data": {
            "text/plain": [
              "(586.55, 221.95499999999998)"
            ]
          },
          "metadata": {},
          "execution_count": 32
        }
      ]
    },
    {
      "cell_type": "code",
      "source": [
        "x_center = right_bottom[0] - lr_width/2\n",
        "y_center = right_bottom[1] - tb_height/2\n",
        "x_center, y_center"
      ],
      "metadata": {
        "colab": {
          "base_uri": "https://localhost:8080/"
        },
        "id": "OXgEVKHuVMEn",
        "outputId": "5686028f-7c72-4dcf-a30f-803a4008c193"
      },
      "execution_count": null,
      "outputs": [
        {
          "output_type": "execute_result",
          "data": {
            "text/plain": [
              "(586.55, 221.95499999999998)"
            ]
          },
          "metadata": {},
          "execution_count": 33
        }
      ]
    },
    {
      "cell_type": "code",
      "source": [
        "x_center, y_center, lr_width, tb_height"
      ],
      "metadata": {
        "colab": {
          "base_uri": "https://localhost:8080/"
        },
        "id": "uXe7m-PjVXDf",
        "outputId": "8b659325-f06b-471a-c868-2d6a5bbe2572"
      },
      "execution_count": null,
      "outputs": [
        {
          "output_type": "execute_result",
          "data": {
            "text/plain": [
              "(586.55, 221.95499999999998, 281.62, 209.87)"
            ]
          },
          "metadata": {},
          "execution_count": 34
        }
      ]
    },
    {
      "cell_type": "code",
      "source": [
        "bbox = annotations[0]['bbox']\n",
        "bbox"
      ],
      "metadata": {
        "colab": {
          "base_uri": "https://localhost:8080/"
        },
        "id": "d_spYs6lV61W",
        "outputId": "eb7e21f0-f59e-42f1-890c-612288a323ac"
      },
      "execution_count": null,
      "outputs": [
        {
          "output_type": "execute_result",
          "data": {
            "text/plain": [
              "[445.74, 117.02, 281.62, 209.87]"
            ]
          },
          "metadata": {},
          "execution_count": 36
        }
      ]
    },
    {
      "cell_type": "code",
      "source": [
        "[bbox[0]+bbox[2]/2, bbox[1]+bbox[3]/2, bbox[2], bbox[3]]"
      ],
      "metadata": {
        "colab": {
          "base_uri": "https://localhost:8080/"
        },
        "id": "jQuULBOIV-Ri",
        "outputId": "4dbb0f84-1a1c-4102-bd44-b9417fb0051f"
      },
      "execution_count": null,
      "outputs": [
        {
          "output_type": "execute_result",
          "data": {
            "text/plain": [
              "[586.55, 221.95499999999998, 281.62, 209.87]"
            ]
          },
          "metadata": {},
          "execution_count": 37
        }
      ]
    },
    {
      "cell_type": "code",
      "source": [
        "category = ['잎', '줄기', '화방', '과실']\n",
        "img_width = float(data['images'].get('width'))\n",
        "img_height = float(data['images'].get('height'))\n",
        "print(img_width, img_height)\n",
        "\n",
        "# 라벨 정보 추출 : class x_center y_center width height 형식\n",
        "labels = []\n",
        "for anno, cate in zip(annotations, categories):\n",
        "    class_ = category.index(cate['name'])\n",
        "    x_center = round((anno['bbox'][0] + anno['bbox'][2]/2) / img_width, 10)\n",
        "    y_center = round((anno['bbox'][1] + anno['bbox'][3]/2) / img_height, 10)\n",
        "    width = round(anno['bbox'][2] / img_width, 10)\n",
        "    height = round(anno['bbox'][3] / img_height, 10)\n",
        "    label_info = f\"{class_} {x_center} {y_center} {width} {height}\"\n",
        "    labels.append(label_info)\n",
        "    print(label_info)"
      ],
      "metadata": {
        "colab": {
          "base_uri": "https://localhost:8080/"
        },
        "id": "S0CWZVNCWdjY",
        "outputId": "d38e3be4-b3ea-453b-a5ec-f60cb5d02c76"
      },
      "execution_count": null,
      "outputs": [
        {
          "output_type": "stream",
          "name": "stdout",
          "text": [
            "1480.0 1870.0\n",
            "0 0.3963175676 0.1186925134 0.1902837838 0.1122299465\n",
            "0 0.6260506757 0.2683850267 0.1934391892 0.0677005348\n",
            "0 0.8422736486 0.3617593583 0.2673040541 0.1376791444\n",
            "0 0.2346554054 0.7709652406 0.1642297297 0.1043262032\n",
            "0 0.3410675676 0.8252887701 0.1278513514 0.1385989305\n",
            "1 0.3251148649 0.6827192513 0.0221891892 0.1539625668\n",
            "1 0.4228040541 0.5425909091 0.0142162162 0.1133850267\n",
            "1 0.4926317568 0.376855615 0.0565743243 0.0223850267\n"
          ]
        }
      ]
    },
    {
      "cell_type": "code",
      "source": [
        "label_list[0]"
      ],
      "metadata": {
        "colab": {
          "base_uri": "https://localhost:8080/",
          "height": 35
        },
        "id": "Z0XwVEZOZWGq",
        "outputId": "e360093a-76be-4070-b951-66e669cd88fb"
      },
      "execution_count": null,
      "outputs": [
        {
          "output_type": "execute_result",
          "data": {
            "text/plain": [
              "'C22_B02_003_415754.json'"
            ],
            "application/vnd.google.colaboratory.intrinsic+json": {
              "type": "string"
            }
          },
          "metadata": {},
          "execution_count": 41
        }
      ]
    },
    {
      "cell_type": "code",
      "source": [
        "label_list[0].split('.')[0]"
      ],
      "metadata": {
        "colab": {
          "base_uri": "https://localhost:8080/",
          "height": 35
        },
        "id": "6YwfqA43ZZ-t",
        "outputId": "dde0168f-c353-47a9-ab4e-8d0af3b1b623"
      },
      "execution_count": null,
      "outputs": [
        {
          "output_type": "execute_result",
          "data": {
            "text/plain": [
              "'C22_B02_003_415754'"
            ],
            "application/vnd.google.colaboratory.intrinsic+json": {
              "type": "string"
            }
          },
          "metadata": {},
          "execution_count": 42
        }
      ]
    },
    {
      "cell_type": "code",
      "source": [
        "label_list[0].split('.')[0] + \".txt\""
      ],
      "metadata": {
        "colab": {
          "base_uri": "https://localhost:8080/",
          "height": 35
        },
        "id": "eCJ9t9KwaHTe",
        "outputId": "56da9d10-e2c5-4ea9-d9a7-ac6a8e3a544b"
      },
      "execution_count": null,
      "outputs": [
        {
          "output_type": "execute_result",
          "data": {
            "text/plain": [
              "'C22_B02_003_415754.txt'"
            ],
            "application/vnd.google.colaboratory.intrinsic+json": {
              "type": "string"
            }
          },
          "metadata": {},
          "execution_count": 44
        }
      ]
    },
    {
      "cell_type": "code",
      "source": [
        "len(labels)"
      ],
      "metadata": {
        "colab": {
          "base_uri": "https://localhost:8080/"
        },
        "id": "TGXfR8bZbrhO",
        "outputId": "c39953f6-f5da-4faf-f6fc-4afb4215ffdc"
      },
      "execution_count": null,
      "outputs": [
        {
          "output_type": "execute_result",
          "data": {
            "text/plain": [
              "8"
            ]
          },
          "metadata": {},
          "execution_count": 48
        }
      ]
    },
    {
      "cell_type": "code",
      "source": [
        "os.mkdir(\"/content/drive/MyDrive/딥러닝프로젝트/text_label\")"
      ],
      "metadata": {
        "id": "77M8eNJBZtpK"
      },
      "execution_count": null,
      "outputs": []
    },
    {
      "cell_type": "code",
      "source": [
        "# 텍스트 파일에 라벨 정보 저장\n",
        "\n",
        "save_dir = \"/content/drive/MyDrive/딥러닝프로젝트/text_label/\"\n",
        "file_path = label_list[0].split('.')[0] + \".txt\"\n",
        "\n",
        "with open(os.path.join(save_dir, file_path), 'w') as f:\n",
        "    for i, label in enumerate(labels):\n",
        "        if i+1 == len(labels):\n",
        "            f.write(label)\n",
        "        else:\n",
        "            f.write(label + '\\n')"
      ],
      "metadata": {
        "id": "e27XFmeyY_E3"
      },
      "execution_count": null,
      "outputs": []
    },
    {
      "cell_type": "code",
      "source": [],
      "metadata": {
        "id": "bmV_IpZ5aQhK"
      },
      "execution_count": null,
      "outputs": []
    }
  ]
}
