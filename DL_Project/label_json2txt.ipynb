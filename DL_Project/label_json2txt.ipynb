{
  "cells": [
    {
      "cell_type": "markdown",
      "metadata": {
        "id": "view-in-github",
        "colab_type": "text"
      },
      "source": [
        "<a href=\"https://colab.research.google.com/github/ElaYJ/Study_Deep_Learning/blob/main/DL_Project/label_json2txt.ipynb\" target=\"_parent\"><img src=\"https://colab.research.google.com/assets/colab-badge.svg\" alt=\"Open In Colab\"/></a>"
      ]
    },
    {
      "cell_type": "code",
      "execution_count": null,
      "metadata": {
        "colab": {
          "base_uri": "https://localhost:8080/"
        },
        "id": "k6waLbQ4cPRs",
        "outputId": "6decdcff-c369-4324-a539-8bab6826068f"
      },
      "outputs": [
        {
          "name": "stdout",
          "output_type": "stream",
          "text": [
            "Mounted at /content/drive\n"
          ]
        }
      ],
      "source": [
        "from google.colab import drive\n",
        "drive.mount('/content/drive')"
      ]
    },
    {
      "cell_type": "markdown",
      "source": [
        "<br></br>\n",
        "\n",
        "## Train"
      ],
      "metadata": {
        "id": "xERvn8VLmFNs"
      }
    },
    {
      "cell_type": "code",
      "execution_count": null,
      "metadata": {
        "id": "ET1xmONHcOmP"
      },
      "outputs": [],
      "source": [
        "import os\n",
        "\n",
        "os.mkdir(\"/content/drive/MyDrive/딥러닝프로젝트/[DS] Deep Learning Project/strawberry/train/\" + \"labels\")"
      ]
    },
    {
      "cell_type": "code",
      "execution_count": null,
      "metadata": {
        "colab": {
          "base_uri": "https://localhost:8080/"
        },
        "id": "H41motWtc7YM",
        "outputId": "19a94bac-b644-4126-c27e-c7e19392b507"
      },
      "outputs": [
        {
          "output_type": "execute_result",
          "data": {
            "text/plain": [
              "(['C24_B02_003_753155.json',\n",
              "  'C24_B02_002_753133.json',\n",
              "  'C24_B02_003_753134.json',\n",
              "  'C24_B02_003_753162.json',\n",
              "  'C24_B02_005_753144.json',\n",
              "  'C24_B02_004_753149.json',\n",
              "  'C24_B02_005_753137.json',\n",
              "  'C24_B02_006_753138.json',\n",
              "  'C24_B02_004_753142.json',\n",
              "  'C24_B02_001_753129.json'],\n",
              " 24347)"
            ]
          },
          "metadata": {},
          "execution_count": 5
        }
      ],
      "source": [
        "extract_path = \"/content/drive/MyDrive/딥러닝프로젝트/[DS] Deep Learning Project/strawberry/1.Training/extracted\"\n",
        "json_label_list = os.listdir(extract_path)\n",
        "json_label_list[:10], len(json_label_list)"
      ]
    },
    {
      "cell_type": "code",
      "execution_count": null,
      "metadata": {
        "id": "XI8QY1UqdTA4"
      },
      "outputs": [],
      "source": [
        "import json\n",
        "from tqdm.notebook import tqdm\n",
        "\n",
        "category = ['잎', '줄기', '화방', '과실', '주']\n",
        "\n",
        "def json_to_text(json_list, extract_dir, save_dir):\n",
        "    for json_file in tqdm(json_list, desc='Processing'):\n",
        "        # json 파일 읽기\n",
        "        with open(os.path.join(extract_dir, json_file), 'r') as f:\n",
        "            data = json.load(f)\n",
        "\n",
        "        img_width = float(data['images'].get('width'))\n",
        "        img_height = float(data['images'].get('height'))\n",
        "        annotations = data['annotations']\n",
        "        categories = data['categories']\n",
        "        # print(len(annotations))\n",
        "\n",
        "        # 라벨 정보 추출 : bbox - class x_center y_center width height 형식\n",
        "        labels = []\n",
        "        for anno, cate in zip(annotations, categories):\n",
        "            class_ = category.index(cate['name'])\n",
        "            x_center = round((anno['bbox'][0] + anno['bbox'][2]/2) / img_width, 10)\n",
        "            y_center = round((anno['bbox'][1] + anno['bbox'][3]/2) / img_height, 10)\n",
        "            width = round(anno['bbox'][2] / img_width, 10)\n",
        "            height = round(anno['bbox'][3] / img_height, 10)\n",
        "            label_info = f\"{class_} {x_center} {y_center} {width} {height}\"\n",
        "            labels.append(label_info)\n",
        "            # print(label_info)\n",
        "\n",
        "        # 텍스트 파일에 라벨 정보 저장\n",
        "        text_file = json_file.split('.')[0] + \".txt\"\n",
        "        with open(os.path.join(save_dir, text_file), 'w') as f:\n",
        "            for i, label in enumerate(labels):\n",
        "                if i+1 == len(labels):\n",
        "                    f.write(label)\n",
        "                else:\n",
        "                    f.write(label + '\\n')\n",
        "        # print()"
      ]
    },
    {
      "cell_type": "code",
      "source": [
        "# 6835/24347 [35:54<1:14:19,  3.93it/s]\n",
        "json_label_list[6835]"
      ],
      "metadata": {
        "colab": {
          "base_uri": "https://localhost:8080/",
          "height": 35
        },
        "id": "GKIS7NBht6nC",
        "outputId": "34b1d64d-1b18-4c45-9328-4c638abe15d4"
      },
      "execution_count": null,
      "outputs": [
        {
          "output_type": "execute_result",
          "data": {
            "text/plain": [
              "'C24_B02_002_573855.json'"
            ],
            "application/vnd.google.colaboratory.intrinsic+json": {
              "type": "string"
            }
          },
          "metadata": {},
          "execution_count": 7
        }
      ]
    },
    {
      "cell_type": "code",
      "source": [
        "with open(os.path.join(extract_path, json_label_list[6835]), 'r') as f:\n",
        "    data = json.load(f)\n",
        "data"
      ],
      "metadata": {
        "colab": {
          "base_uri": "https://localhost:8080/"
        },
        "collapsed": true,
        "id": "qI8YZsPyuESD",
        "outputId": "d0b7bffc-ead1-4dcf-ba54-0aff78a8ff59"
      },
      "execution_count": null,
      "outputs": [
        {
          "output_type": "execute_result",
          "data": {
            "text/plain": [
              "{'images': {'image_id': 573855,\n",
              "  'farm_id': 'AIF005',\n",
              "  'crops_id': 'C24_B02',\n",
              "  'crops': '딸기',\n",
              "  'kind_type': '금실',\n",
              "  'file_path': '/cropsImages/B/B02/AIF005/C24',\n",
              "  'fname': 'C24_B02_002_211202082321.jpg',\n",
              "  'fext': 'jpg',\n",
              "  'width': '1515',\n",
              "  'height': '2220',\n",
              "  'create_date': '2021-12-02',\n",
              "  'date_captured': '2021-12-02 08:23:21',\n",
              "  'growth_stage': '수확기',\n",
              "  'leaf': '0',\n",
              "  'plant_body': '1'},\n",
              " 'envrionments': [{'farm_id': 'AIF005',\n",
              "   'receive_date': '2021-12-02 08:22:31',\n",
              "   'id': 0,\n",
              "   'ti_value': '12.0',\n",
              "   'hi_value': '55.0',\n",
              "   'ci_value': '517',\n",
              "   'ir_value': None,\n",
              "   'tl_value': None,\n",
              "   'ei_value': None,\n",
              "   'pl_value': None},\n",
              "  {'farm_id': 'AIF005',\n",
              "   'receive_date': '2021-12-02 08:18:32',\n",
              "   'id': 1,\n",
              "   'ti_value': '11.0',\n",
              "   'hi_value': '56.0',\n",
              "   'ci_value': '517',\n",
              "   'ir_value': None,\n",
              "   'tl_value': None,\n",
              "   'ei_value': None,\n",
              "   'pl_value': None}],\n",
              " 'growth_index': {'corps_id': 'C24_B02',\n",
              "  'measured_date': None,\n",
              "  'stem_length': None,\n",
              "  'leaf_cnt': None,\n",
              "  'leaf_width': None,\n",
              "  'leaf_length': None,\n",
              "  'stem_thick': None,\n",
              "  'fr_weight': None},\n",
              " 'etc_infor': {'corps_id': 'C24_B02', 'create_date': '', 'inform': ''},\n",
              " 'annotations': [{'segmentation': [820.73,\n",
              "    792.81,\n",
              "    888.77,\n",
              "    792.81,\n",
              "    888.77,\n",
              "    939.82,\n",
              "    820.73,\n",
              "    939.82],\n",
              "   'area': 10002.56,\n",
              "   'bbox': [820.73, 792.81, 68.04, 147.01],\n",
              "   'isCrowd': 0,\n",
              "   'id': 0,\n",
              "   'image_id': 573855,\n",
              "   'category_id': 0},\n",
              "  {'segmentation': [756.06, 776.63, 825, 776.63, 825, 890.38, 756.06, 890.38],\n",
              "   'area': 7841.92,\n",
              "   'bbox': [756.06, 776.63, 68.94, 113.75],\n",
              "   'isCrowd': 0,\n",
              "   'id': 1,\n",
              "   'image_id': 573855,\n",
              "   'category_id': 1},\n",
              "  {'segmentation': [756.06,\n",
              "    880.01,\n",
              "    849.24,\n",
              "    880.01,\n",
              "    849.24,\n",
              "    946.12,\n",
              "    756.06,\n",
              "    946.12],\n",
              "   'area': 6160.12,\n",
              "   'bbox': [756.06, 880.01, 93.18, 66.11],\n",
              "   'isCrowd': 0,\n",
              "   'id': 2,\n",
              "   'image_id': 573855,\n",
              "   'category_id': 2},\n",
              "  {'segmentation': [912.35,\n",
              "    1089.46,\n",
              "    1014.52,\n",
              "    1089.46,\n",
              "    1014.52,\n",
              "    1187.03,\n",
              "    912.35,\n",
              "    1187.03],\n",
              "   'area': 9968.72,\n",
              "   'bbox': [912.35, 1089.46, 102.17, 97.57],\n",
              "   'isCrowd': 0,\n",
              "   'id': 3,\n",
              "   'image_id': 573855,\n",
              "   'category_id': 3},\n",
              "  {'segmentation': [871.04,\n",
              "    1197.33,\n",
              "    984.89,\n",
              "    1197.33,\n",
              "    984.89,\n",
              "    1322.77,\n",
              "    871.04,\n",
              "    1322.77],\n",
              "   'area': 14281.34,\n",
              "   'bbox': [871.04, 1197.33, 113.85, 125.44],\n",
              "   'isCrowd': 0,\n",
              "   'id': 4,\n",
              "   'image_id': 573855,\n",
              "   'category_id': 4},\n",
              "  {'segmentation': [807.26,\n",
              "    1203.61,\n",
              "    897.75,\n",
              "    1203.61,\n",
              "    897.75,\n",
              "    1331.75,\n",
              "    807.26,\n",
              "    1331.75],\n",
              "   'area': 11595.38,\n",
              "   'bbox': [807.26, 1203.61, 90.49, 128.14],\n",
              "   'isCrowd': 0,\n",
              "   'id': 5,\n",
              "   'image_id': 573855,\n",
              "   'category_id': 5},\n",
              "  {'segmentation': [707.56,\n",
              "    1225.2,\n",
              "    799.83,\n",
              "    1225.2,\n",
              "    799.83,\n",
              "    1285.02,\n",
              "    707.56,\n",
              "    1285.02],\n",
              "   'area': 5520.18,\n",
              "   'bbox': [707.56, 1225.2, 92.28, 59.82],\n",
              "   'isCrowd': 0,\n",
              "   'id': 6,\n",
              "   'image_id': 573855,\n",
              "   'category_id': 6},\n",
              "  {'segmentation': [785.7,\n",
              "    1178.45,\n",
              "    842.95,\n",
              "    1178.45,\n",
              "    842.95,\n",
              "    1258.94,\n",
              "    785.7,\n",
              "    1258.94],\n",
              "   'area': 4608.05,\n",
              "   'bbox': [785.7, 1178.45, 57.25, 80.49],\n",
              "   'isCrowd': 0,\n",
              "   'id': 7,\n",
              "   'image_id': 573855,\n",
              "   'category_id': 7},\n",
              "  {'segmentation': [551.27,\n",
              "    770.34,\n",
              "    620.21,\n",
              "    770.34,\n",
              "    620.21,\n",
              "    884.09,\n",
              "    551.27,\n",
              "    884.09],\n",
              "   'area': 7841.92,\n",
              "   'bbox': [551.27, 770.34, 68.94, 113.75],\n",
              "   'isCrowd': 0,\n",
              "   'id': 8,\n",
              "   'image_id': 573855,\n",
              "   'category_id': 8},\n",
              "  {'segmentation': [878.22,\n",
              "    510.54,\n",
              "    967.81,\n",
              "    510.54,\n",
              "    967.81,\n",
              "    602.72,\n",
              "    878.22,\n",
              "    602.72],\n",
              "   'area': 8258.4,\n",
              "   'bbox': [878.22, 510.54, 89.59, 92.18],\n",
              "   'isCrowd': 0,\n",
              "   'id': 9,\n",
              "   'image_id': 573855,\n",
              "   'category_id': 9}],\n",
              " 'licenses': [{'id': 1, 'name': 'CCMediaService', 'url': ''}],\n",
              " 'categories': [{'id': 0, 'name': '줄기', 'supercategory': 'none'},\n",
              "  {'id': 1, 'name': '줄기', 'supercategory': 'none'},\n",
              "  {'id': 2, 'name': '과실', 'supercategory': 'none'},\n",
              "  {'id': 3, 'name': '과실', 'supercategory': 'none'},\n",
              "  {'id': 4, 'name': '과실', 'supercategory': 'none'},\n",
              "  {'id': 5, 'name': '과실', 'supercategory': 'none'},\n",
              "  {'id': 6, 'name': '주', 'supercategory': 'none'},\n",
              "  {'id': 7, 'name': '주', 'supercategory': 'none'},\n",
              "  {'id': 8, 'name': '줄기', 'supercategory': 'none'},\n",
              "  {'id': 9, 'name': '줄기', 'supercategory': 'none'}]}"
            ]
          },
          "metadata": {},
          "execution_count": 8
        }
      ]
    },
    {
      "cell_type": "code",
      "source": [
        "save_path = \"/content/drive/MyDrive/딥러닝프로젝트/[DS] Deep Learning Project/strawberry/train/labels\"\n",
        "\n",
        "json_to_text(json_list=json_label_list[6835:], extract_dir=extract_path, save_dir=save_path)"
      ],
      "metadata": {
        "colab": {
          "base_uri": "https://localhost:8080/",
          "height": 49,
          "referenced_widgets": [
            "99642599e48c4d81bc1f2131ef22c7d9",
            "2acf27f529f8477f80b927c6f319fa7b",
            "cde9e4299f0b473e9fc5d9d697d7ff63",
            "e5d327629e24471c9b9fc728d9b6e49d",
            "6433b5335afa4de88edd10e8019f3d39",
            "85bc4995957747e2a24a8570847967e8",
            "1e587e88a62048a9b1ebcccd354dd23b",
            "2cf25f9802164cccbbaf1ff442ff358f",
            "e98aae2312ab4c4fb57d7250649c9258",
            "2b01474a99564796b2d338c23cd356d1",
            "a541a8dea4ed43b7b6488dcc62327e1a"
          ]
        },
        "id": "VWdNaZOO2oh-",
        "outputId": "5cf39004-7ecc-4119-b2dc-a403c4ad1521"
      },
      "execution_count": null,
      "outputs": [
        {
          "output_type": "display_data",
          "data": {
            "text/plain": [
              "Processing:   0%|          | 0/17512 [00:00<?, ?it/s]"
            ],
            "application/vnd.jupyter.widget-view+json": {
              "version_major": 2,
              "version_minor": 0,
              "model_id": "99642599e48c4d81bc1f2131ef22c7d9"
            }
          },
          "metadata": {}
        }
      ]
    },
    {
      "cell_type": "code",
      "source": [
        "label_list = os.listdir(\"/content/drive/MyDrive/딥러닝프로젝트/[DS] Deep Learning Project/strawberry/train/labels\")\n",
        "image_list = os.listdir(\"/content/drive/MyDrive/딥러닝프로젝트/[DS] Deep Learning Project/strawberry/train/images\")\n",
        "len(label_list), len(image_list)"
      ],
      "metadata": {
        "colab": {
          "base_uri": "https://localhost:8080/"
        },
        "id": "kbTSWhT7oYTd",
        "outputId": "0e1e41dd-7421-4464-8de1-bb1f57918eb3"
      },
      "execution_count": null,
      "outputs": [
        {
          "output_type": "execute_result",
          "data": {
            "text/plain": [
              "(24347, 24346)"
            ]
          },
          "metadata": {},
          "execution_count": 12
        }
      ]
    },
    {
      "cell_type": "code",
      "source": [
        "filename_list = [x.split('.')[0] for x in image_list]\n",
        "filename_list[:10], len(filename_list)"
      ],
      "metadata": {
        "colab": {
          "base_uri": "https://localhost:8080/"
        },
        "id": "mNhs88w3uYVe",
        "outputId": "bd702fd2-53f6-40cf-adeb-464eaef0d1e1"
      },
      "execution_count": null,
      "outputs": [
        {
          "output_type": "execute_result",
          "data": {
            "text/plain": [
              "(['C24_B02_003_752945',\n",
              "  'C24_B02_006_752949',\n",
              "  'C24_B02_001_752983',\n",
              "  'C24_B02_006_752997',\n",
              "  'C24_B02_005_752948',\n",
              "  'C24_B02_002_752963',\n",
              "  'C24_B02_005_752982',\n",
              "  'C24_B02_006_752965',\n",
              "  'C24_B02_002_752951',\n",
              "  'C24_B02_004_752954'],\n",
              " 24346)"
            ]
          },
          "metadata": {},
          "execution_count": 15
        }
      ]
    },
    {
      "cell_type": "code",
      "source": [
        "for lb in label_list:\n",
        "    if lb.split('.')[0] not in filename_list:\n",
        "        print(lb)"
      ],
      "metadata": {
        "colab": {
          "base_uri": "https://localhost:8080/"
        },
        "id": "PCx2rJGYK9ad",
        "outputId": "4bc720d8-2aaf-4451-86dd-bdf80b3b5b92"
      },
      "execution_count": null,
      "outputs": [
        {
          "output_type": "stream",
          "name": "stdout",
          "text": [
            "C24_B02_005_459161.txt\n"
          ]
        }
      ]
    },
    {
      "cell_type": "code",
      "source": [
        "filename = \"C24_B02_005_459161.txt\"\n",
        "rm_path = os.path.join(save_path, filename)\n",
        "\n",
        "if os.path.exists(rm_path):\n",
        "    os.remove(rm_path)\n",
        "    print(f\"{filename} 삭제\")\n",
        "else:\n",
        "    print(\"존재하지 않는 파일\")"
      ],
      "metadata": {
        "colab": {
          "base_uri": "https://localhost:8080/"
        },
        "id": "q242fOGtLRyC",
        "outputId": "313d13ae-1aaa-417e-9b35-aa2bcb87c365"
      },
      "execution_count": null,
      "outputs": [
        {
          "output_type": "stream",
          "name": "stdout",
          "text": [
            "C24_B02_005_459161.txt 삭제\n"
          ]
        }
      ]
    },
    {
      "cell_type": "code",
      "source": [
        "label_list = os.listdir(\"/content/drive/MyDrive/딥러닝프로젝트/[DS] Deep Learning Project/strawberry/train/labels\")\n",
        "image_list = os.listdir(\"/content/drive/MyDrive/딥러닝프로젝트/[DS] Deep Learning Project/strawberry/train/images\")\n",
        "len(label_list), len(image_list)"
      ],
      "metadata": {
        "colab": {
          "base_uri": "https://localhost:8080/"
        },
        "id": "U3clDVceNsyf",
        "outputId": "76585e83-8740-4002-ced3-4586e7bbbca3"
      },
      "execution_count": null,
      "outputs": [
        {
          "output_type": "execute_result",
          "data": {
            "text/plain": [
              "(24346, 24346)"
            ]
          },
          "metadata": {},
          "execution_count": 18
        }
      ]
    },
    {
      "cell_type": "markdown",
      "source": [
        "<br></br>\n",
        "\n",
        "## Valid"
      ],
      "metadata": {
        "id": "YUUpxTn8l8Fe"
      }
    },
    {
      "cell_type": "code",
      "source": [
        "file_dir = \"/content/drive/MyDrive/딥러닝프로젝트/[DS] Deep Learning Project/strawberry/2.Validation/라벨링데이터/\"\n",
        "\n",
        "tar_list = os.listdir(file_dir)\n",
        "tar_list"
      ],
      "metadata": {
        "colab": {
          "base_uri": "https://localhost:8080/"
        },
        "id": "uPPyKgwbmTQV",
        "outputId": "0da6310e-ecae-42d8-a12c-f8fa097289e0"
      },
      "execution_count": null,
      "outputs": [
        {
          "output_type": "execute_result",
          "data": {
            "text/plain": [
              "['VL_1.금실7.tar',\n",
              " 'VL_1.금실3.tar',\n",
              " 'VL_1.금실4.tar',\n",
              " 'VL_1.금실1.tar',\n",
              " 'VL_1.금실2.tar',\n",
              " 'VL_1.금실5.tar',\n",
              " 'VL_1.금실6.tar']"
            ]
          },
          "metadata": {},
          "execution_count": 19
        }
      ]
    },
    {
      "cell_type": "code",
      "source": [
        "os.path.join(file_dir, tar_list[0])"
      ],
      "metadata": {
        "colab": {
          "base_uri": "https://localhost:8080/",
          "height": 35
        },
        "id": "G8rRC01ePmcr",
        "outputId": "f709dd79-0526-424c-b4e5-bdc48ec70e02"
      },
      "execution_count": null,
      "outputs": [
        {
          "output_type": "execute_result",
          "data": {
            "text/plain": [
              "'/content/drive/MyDrive/딥러닝프로젝트/[DS] Deep Learning Project/strawberry/2.Validation/라벨링데이터/VL_1.금실7.tar'"
            ],
            "application/vnd.google.colaboratory.intrinsic+json": {
              "type": "string"
            }
          },
          "metadata": {},
          "execution_count": 24
        }
      ]
    },
    {
      "cell_type": "code",
      "source": [
        "import tarfile\n",
        "\n",
        "extract_path = '/content/drive/MyDrive/딥러닝프로젝트/[DS] Deep Learning Project/strawberry/2.Validation/extracted/'\n",
        "\n",
        "# tar 파일 압축 해제\n",
        "for tar_file in tar_list:\n",
        "    with tarfile.open(os.path.join(file_dir, tar_file), 'r') as tar:\n",
        "        tar.extractall(extract_path)"
      ],
      "metadata": {
        "id": "EAMDGpPrlrPm"
      },
      "execution_count": null,
      "outputs": []
    },
    {
      "cell_type": "code",
      "source": [
        "json_folder_list = os.listdir(extract_path)\n",
        "json_folder_list"
      ],
      "metadata": {
        "colab": {
          "base_uri": "https://localhost:8080/"
        },
        "id": "0f2Xb-7snhql",
        "outputId": "b737e81c-c6df-46d4-c868-a87cc4327d50"
      },
      "execution_count": null,
      "outputs": [
        {
          "output_type": "execute_result",
          "data": {
            "text/plain": [
              "['VL_1.금실7',\n",
              " 'VL_1.금실3',\n",
              " 'VL_1.금실4',\n",
              " 'VL_1.금실1',\n",
              " 'VL_1.금실2',\n",
              " 'VL_1.금실5',\n",
              " 'VL_1.금실6']"
            ]
          },
          "metadata": {},
          "execution_count": 25
        }
      ]
    },
    {
      "cell_type": "code",
      "source": [
        "import shutil\n",
        "\n",
        "for folder in json_folder_list[1:]:\n",
        "    path_dir = os.path.join(extract_path, folder)\n",
        "    fnames = os.listdir(path_dir)\n",
        "    print(len(fnames))\n",
        "    for fname in fnames:\n",
        "        src = os.path.join(path_dir, fname)\n",
        "        dst = os.path.join(extract_path, fname)\n",
        "        shutil.copyfile(src, dst)\n",
        "        os.remove(src)\n",
        "    os.rmdir(path_dir)"
      ],
      "metadata": {
        "colab": {
          "base_uri": "https://localhost:8080/"
        },
        "id": "AXsno9qUQRwi",
        "outputId": "6f130e41-7b5e-4aad-809f-0b757bc83a1a"
      },
      "execution_count": null,
      "outputs": [
        {
          "output_type": "stream",
          "name": "stdout",
          "text": [
            "500\n",
            "500\n",
            "500\n",
            "500\n",
            "500\n",
            "500\n"
          ]
        }
      ]
    },
    {
      "cell_type": "code",
      "source": [
        "json_label_list = os.listdir(extract_path)\n",
        "json_label_list[:10], len(json_label_list)"
      ],
      "metadata": {
        "colab": {
          "base_uri": "https://localhost:8080/"
        },
        "id": "2W5g7uQVU206",
        "outputId": "fb9be401-edd9-4188-f147-52c6cd939e64"
      },
      "execution_count": null,
      "outputs": [
        {
          "output_type": "execute_result",
          "data": {
            "text/plain": [
              "(['C25_B02_007_752768.json',\n",
              "  'C25_B02_007_604801.json',\n",
              "  'C25_B02_007_622053.json',\n",
              "  'C25_B02_007_622062.json',\n",
              "  'C25_B02_007_622102.json',\n",
              "  'C25_B02_007_622110.json',\n",
              "  'C25_B02_007_622134.json',\n",
              "  'C25_B02_007_622142.json',\n",
              "  'C25_B02_007_622213.json',\n",
              "  'C25_B02_007_636502.json'],\n",
              " 3025)"
            ]
          },
          "metadata": {},
          "execution_count": 37
        }
      ]
    },
    {
      "cell_type": "code",
      "source": [
        "os.mkdir(\"/content/drive/MyDrive/딥러닝프로젝트/[DS] Deep Learning Project/strawberry/valid/\" + \"labels\")"
      ],
      "metadata": {
        "id": "k_nzdpPwn1FZ"
      },
      "execution_count": null,
      "outputs": []
    },
    {
      "cell_type": "code",
      "source": [
        "save_path = \"/content/drive/MyDrive/딥러닝프로젝트/[DS] Deep Learning Project/strawberry/valid/labels\"\n",
        "\n",
        "json_to_text(json_list=json_label_list, extract_dir=extract_path, save_dir=save_path)"
      ],
      "metadata": {
        "colab": {
          "base_uri": "https://localhost:8080/",
          "height": 49,
          "referenced_widgets": [
            "bf51d8fed8ae47499899a18c8342d0c6",
            "48666408261f40e08ccdef093c54ce3d",
            "e42c412ddb86422aacf9c50d18fb0416",
            "1bc34e17211a4e56a69d3a829721d784",
            "06a89e24aad4444ebd0ec726add3fd99",
            "dd86239b1e9748baaf34c9deb8c381cb",
            "9fc2b60a190846fb96e3bdf229c0b634",
            "1b3f3af606a543d886b9358a636a74d6",
            "ebdd0452f310401e8f597b5b81872398",
            "56ba6f23d9d74dc0bf0f1a4d18a82f27",
            "e74f863650bd4471bad4011179d419c1"
          ]
        },
        "id": "HPksTyUc5A6X",
        "outputId": "3dbee264-082d-4afc-c41e-5832e5bbcb12"
      },
      "execution_count": null,
      "outputs": [
        {
          "output_type": "display_data",
          "data": {
            "text/plain": [
              "Processing:   0%|          | 0/3025 [00:00<?, ?it/s]"
            ],
            "application/vnd.jupyter.widget-view+json": {
              "version_major": 2,
              "version_minor": 0,
              "model_id": "bf51d8fed8ae47499899a18c8342d0c6"
            }
          },
          "metadata": {}
        }
      ]
    },
    {
      "cell_type": "code",
      "source": [
        "label_list = os.listdir(save_path)\n",
        "image_list = os.listdir(\"/content/drive/MyDrive/딥러닝프로젝트/[DS] Deep Learning Project/strawberry/valid/images\")\n",
        "len(label_list), len(image_list)"
      ],
      "metadata": {
        "colab": {
          "base_uri": "https://localhost:8080/"
        },
        "id": "aJkBDCun5M4H",
        "outputId": "c31341ec-a3e8-4d85-b297-16a1a526a4fe"
      },
      "execution_count": null,
      "outputs": [
        {
          "output_type": "execute_result",
          "data": {
            "text/plain": [
              "(3025, 2893)"
            ]
          },
          "metadata": {},
          "execution_count": 39
        }
      ]
    },
    {
      "cell_type": "code",
      "source": [
        "filename_list = [x.split('.')[0] for x in image_list]\n",
        "filename_list[:10], len(filename_list)"
      ],
      "metadata": {
        "colab": {
          "base_uri": "https://localhost:8080/"
        },
        "id": "k7_wYaKcoqKd",
        "outputId": "c4d892ed-25a2-4060-d6c0-263aa52888b3"
      },
      "execution_count": null,
      "outputs": [
        {
          "output_type": "execute_result",
          "data": {
            "text/plain": [
              "(['C22_B02_004_527770',\n",
              "  'C22_B02_006_527775',\n",
              "  'C22_B02_007_527806',\n",
              "  'C22_B02_004_527825',\n",
              "  'C22_B02_003_527985',\n",
              "  'C24_B02_004_528213',\n",
              "  'C24_B02_006_528217',\n",
              "  'C24_B02_005_528270',\n",
              "  'C24_B02_004_528276',\n",
              "  'C24_B02_005_528298'],\n",
              " 2893)"
            ]
          },
          "metadata": {},
          "execution_count": 40
        }
      ]
    },
    {
      "cell_type": "code",
      "source": [
        "tmp_list = []\n",
        "for lb in label_list:\n",
        "    if lb.split('.')[0] not in filename_list:\n",
        "        tmp_list.append(lb)\n",
        "\n",
        "len(tmp_list), tmp_list"
      ],
      "metadata": {
        "colab": {
          "base_uri": "https://localhost:8080/"
        },
        "id": "PtJpUuX9n_7V",
        "outputId": "c653a937-31ee-456d-d926-5cbeb891407a"
      },
      "execution_count": null,
      "outputs": [
        {
          "output_type": "execute_result",
          "data": {
            "text/plain": [
              "(132,\n",
              " ['C23_B02_004_440429.txt',\n",
              "  'C23_B02_004_440608.txt',\n",
              "  'C23_B02_004_441142.txt',\n",
              "  'C23_B02_004_441818.txt',\n",
              "  'C23_B02_004_443214.txt',\n",
              "  'C23_B02_004_443237.txt',\n",
              "  'C23_B02_004_443317.txt',\n",
              "  'C23_B02_004_443359.txt',\n",
              "  'C23_B02_004_443436.txt',\n",
              "  'C23_B02_004_443443.txt',\n",
              "  'C23_B02_004_443450.txt',\n",
              "  'C23_B02_005_420461.txt',\n",
              "  'C23_B02_005_420475.txt',\n",
              "  'C23_B02_005_420482.txt',\n",
              "  'C23_B02_005_420489.txt',\n",
              "  'C23_B02_005_420496.txt',\n",
              "  'C23_B02_005_420557.txt',\n",
              "  'C23_B02_005_420654.txt',\n",
              "  'C23_B02_005_420668.txt',\n",
              "  'C23_B02_005_420719.txt',\n",
              "  'C23_B02_005_420775.txt',\n",
              "  'C23_B02_005_420810.txt',\n",
              "  'C23_B02_005_420831.txt',\n",
              "  'C23_B02_005_420838.txt',\n",
              "  'C23_B02_005_428873.txt',\n",
              "  'C23_B02_005_429192.txt',\n",
              "  'C23_B02_005_429204.txt',\n",
              "  'C23_B02_005_429210.txt',\n",
              "  'C23_B02_005_429574.txt',\n",
              "  'C23_B02_005_430703.txt',\n",
              "  'C23_B02_005_430724.txt',\n",
              "  'C23_B02_005_430759.txt',\n",
              "  'C23_B02_005_431098.txt',\n",
              "  'C23_B02_005_432060.txt',\n",
              "  'C23_B02_005_432203.txt',\n",
              "  'C23_B02_005_432217.txt',\n",
              "  'C23_B02_005_432237.txt',\n",
              "  'C23_B02_005_432244.txt',\n",
              "  'C23_B02_005_432727.txt',\n",
              "  'C23_B02_005_432741.txt',\n",
              "  'C23_B02_005_432891.txt',\n",
              "  'C23_B02_005_432944.txt',\n",
              "  'C23_B02_005_432997.txt',\n",
              "  'C23_B02_005_433058.txt',\n",
              "  'C23_B02_005_433337.txt',\n",
              "  'C23_B02_005_433447.txt',\n",
              "  'C23_B02_005_433536.txt',\n",
              "  'C23_B02_005_433677.txt',\n",
              "  'C23_B02_005_433705.txt',\n",
              "  'C23_B02_005_433740.txt',\n",
              "  'C23_B02_005_436738.txt',\n",
              "  'C23_B02_005_441059.txt',\n",
              "  'C23_B02_005_441136.txt',\n",
              "  'C23_B02_005_442433.txt',\n",
              "  'C23_B02_005_442654.txt',\n",
              "  'C23_B02_005_716362.txt',\n",
              "  'C23_B02_005_716369.txt',\n",
              "  'C23_B02_005_717605.txt',\n",
              "  'C23_B02_005_731146.txt',\n",
              "  'C23_B02_005_734558.txt',\n",
              "  'C23_B02_005_739145.txt',\n",
              "  'C23_B02_005_739157.txt',\n",
              "  'C23_B02_005_753273.txt',\n",
              "  'C23_B02_005_753408.txt',\n",
              "  'C23_B02_005_753432.txt',\n",
              "  'C23_B02_005_774711.txt',\n",
              "  'C23_B02_005_799767.txt',\n",
              "  'C23_B02_005_799774.txt',\n",
              "  'C23_B02_005_811983.txt',\n",
              "  'C23_B02_005_823577.txt',\n",
              "  'C23_B02_006_420701.txt',\n",
              "  'C23_B02_006_428865.txt',\n",
              "  'C23_B02_006_442249.txt',\n",
              "  'C23_B02_006_521158.txt',\n",
              "  'C23_B02_006_560816.txt',\n",
              "  'C23_B02_006_560823.txt',\n",
              "  'C23_B02_006_601505.txt',\n",
              "  'C23_B02_006_605226.txt',\n",
              "  'C23_B02_006_605261.txt',\n",
              "  'C23_B02_006_635656.txt',\n",
              "  'C23_B02_006_636803.txt',\n",
              "  'C23_B02_006_703902.txt',\n",
              "  'C23_B02_006_716179.txt',\n",
              "  'C23_B02_006_716249.txt',\n",
              "  'C23_B02_006_716368.txt',\n",
              "  'C23_B02_006_717582.txt',\n",
              "  'C23_B02_006_739144.txt',\n",
              "  'C23_B02_006_739156.txt',\n",
              "  'C24_B02_001_425548.txt',\n",
              "  'C24_B02_001_425590.txt',\n",
              "  'C24_B02_001_425674.txt',\n",
              "  'C24_B02_001_425743.txt',\n",
              "  'C24_B02_001_425786.txt',\n",
              "  'C24_B02_001_426350.txt',\n",
              "  'C24_B02_001_426539.txt',\n",
              "  'C24_B02_001_427374.txt',\n",
              "  'C24_B02_001_456260.txt',\n",
              "  'C24_B02_001_456666.txt',\n",
              "  'C24_B02_001_456701.txt',\n",
              "  'C24_B02_001_456757.txt',\n",
              "  'C24_B02_001_456978.txt',\n",
              "  'C24_B02_001_457111.txt',\n",
              "  'C24_B02_001_457161.txt',\n",
              "  'C24_B02_001_457229.txt',\n",
              "  'C24_B02_001_457300.txt',\n",
              "  'C24_B02_001_457398.txt',\n",
              "  'C24_B02_001_457706.txt',\n",
              "  'C24_B02_001_457734.txt',\n",
              "  'C24_B02_001_457791.txt',\n",
              "  'C24_B02_001_457840.txt',\n",
              "  'C24_B02_001_458079.txt',\n",
              "  'C24_B02_001_458107.txt',\n",
              "  'C24_B02_001_458135.txt',\n",
              "  'C24_B02_001_458183.txt',\n",
              "  'C24_B02_001_458396.txt',\n",
              "  'C24_B02_001_458417.txt',\n",
              "  'C24_B02_001_458536.txt',\n",
              "  'C24_B02_001_458559.txt',\n",
              "  'C24_B02_001_458974.txt',\n",
              "  'C24_B02_001_459195.txt',\n",
              "  'C24_B02_001_459202.txt',\n",
              "  'C24_B02_001_459308.txt',\n",
              "  'C24_B02_001_459368.txt',\n",
              "  'C24_B02_001_459789.txt',\n",
              "  'C24_B02_001_459817.txt',\n",
              "  'C24_B02_001_459855.txt',\n",
              "  'C24_B02_001_459890.txt',\n",
              "  'C24_B02_001_521114.txt',\n",
              "  'C24_B02_001_573242.txt',\n",
              "  'C24_B02_001_573375.txt',\n",
              "  'C24_B02_001_576607.txt',\n",
              "  'C24_B02_001_586120.txt'])"
            ]
          },
          "metadata": {},
          "execution_count": 42
        }
      ]
    }
  ],
  "metadata": {
    "colab": {
      "provenance": [],
      "toc_visible": true,
      "include_colab_link": true
    },
    "kernelspec": {
      "display_name": "Python 3",
      "name": "python3"
    },
    "language_info": {
      "name": "python"
    },
    "widgets": {
      "application/vnd.jupyter.widget-state+json": {
        "99642599e48c4d81bc1f2131ef22c7d9": {
          "model_module": "@jupyter-widgets/controls",
          "model_name": "HBoxModel",
          "model_module_version": "1.5.0",
          "state": {
            "_dom_classes": [],
            "_model_module": "@jupyter-widgets/controls",
            "_model_module_version": "1.5.0",
            "_model_name": "HBoxModel",
            "_view_count": null,
            "_view_module": "@jupyter-widgets/controls",
            "_view_module_version": "1.5.0",
            "_view_name": "HBoxView",
            "box_style": "",
            "children": [
              "IPY_MODEL_2acf27f529f8477f80b927c6f319fa7b",
              "IPY_MODEL_cde9e4299f0b473e9fc5d9d697d7ff63",
              "IPY_MODEL_e5d327629e24471c9b9fc728d9b6e49d"
            ],
            "layout": "IPY_MODEL_6433b5335afa4de88edd10e8019f3d39"
          }
        },
        "2acf27f529f8477f80b927c6f319fa7b": {
          "model_module": "@jupyter-widgets/controls",
          "model_name": "HTMLModel",
          "model_module_version": "1.5.0",
          "state": {
            "_dom_classes": [],
            "_model_module": "@jupyter-widgets/controls",
            "_model_module_version": "1.5.0",
            "_model_name": "HTMLModel",
            "_view_count": null,
            "_view_module": "@jupyter-widgets/controls",
            "_view_module_version": "1.5.0",
            "_view_name": "HTMLView",
            "description": "",
            "description_tooltip": null,
            "layout": "IPY_MODEL_85bc4995957747e2a24a8570847967e8",
            "placeholder": "​",
            "style": "IPY_MODEL_1e587e88a62048a9b1ebcccd354dd23b",
            "value": "Processing: 100%"
          }
        },
        "cde9e4299f0b473e9fc5d9d697d7ff63": {
          "model_module": "@jupyter-widgets/controls",
          "model_name": "FloatProgressModel",
          "model_module_version": "1.5.0",
          "state": {
            "_dom_classes": [],
            "_model_module": "@jupyter-widgets/controls",
            "_model_module_version": "1.5.0",
            "_model_name": "FloatProgressModel",
            "_view_count": null,
            "_view_module": "@jupyter-widgets/controls",
            "_view_module_version": "1.5.0",
            "_view_name": "ProgressView",
            "bar_style": "success",
            "description": "",
            "description_tooltip": null,
            "layout": "IPY_MODEL_2cf25f9802164cccbbaf1ff442ff358f",
            "max": 17512,
            "min": 0,
            "orientation": "horizontal",
            "style": "IPY_MODEL_e98aae2312ab4c4fb57d7250649c9258",
            "value": 17512
          }
        },
        "e5d327629e24471c9b9fc728d9b6e49d": {
          "model_module": "@jupyter-widgets/controls",
          "model_name": "HTMLModel",
          "model_module_version": "1.5.0",
          "state": {
            "_dom_classes": [],
            "_model_module": "@jupyter-widgets/controls",
            "_model_module_version": "1.5.0",
            "_model_name": "HTMLModel",
            "_view_count": null,
            "_view_module": "@jupyter-widgets/controls",
            "_view_module_version": "1.5.0",
            "_view_name": "HTMLView",
            "description": "",
            "description_tooltip": null,
            "layout": "IPY_MODEL_2b01474a99564796b2d338c23cd356d1",
            "placeholder": "​",
            "style": "IPY_MODEL_a541a8dea4ed43b7b6488dcc62327e1a",
            "value": " 17512/17512 [1:22:08&lt;00:00,  3.34it/s]"
          }
        },
        "6433b5335afa4de88edd10e8019f3d39": {
          "model_module": "@jupyter-widgets/base",
          "model_name": "LayoutModel",
          "model_module_version": "1.2.0",
          "state": {
            "_model_module": "@jupyter-widgets/base",
            "_model_module_version": "1.2.0",
            "_model_name": "LayoutModel",
            "_view_count": null,
            "_view_module": "@jupyter-widgets/base",
            "_view_module_version": "1.2.0",
            "_view_name": "LayoutView",
            "align_content": null,
            "align_items": null,
            "align_self": null,
            "border": null,
            "bottom": null,
            "display": null,
            "flex": null,
            "flex_flow": null,
            "grid_area": null,
            "grid_auto_columns": null,
            "grid_auto_flow": null,
            "grid_auto_rows": null,
            "grid_column": null,
            "grid_gap": null,
            "grid_row": null,
            "grid_template_areas": null,
            "grid_template_columns": null,
            "grid_template_rows": null,
            "height": null,
            "justify_content": null,
            "justify_items": null,
            "left": null,
            "margin": null,
            "max_height": null,
            "max_width": null,
            "min_height": null,
            "min_width": null,
            "object_fit": null,
            "object_position": null,
            "order": null,
            "overflow": null,
            "overflow_x": null,
            "overflow_y": null,
            "padding": null,
            "right": null,
            "top": null,
            "visibility": null,
            "width": null
          }
        },
        "85bc4995957747e2a24a8570847967e8": {
          "model_module": "@jupyter-widgets/base",
          "model_name": "LayoutModel",
          "model_module_version": "1.2.0",
          "state": {
            "_model_module": "@jupyter-widgets/base",
            "_model_module_version": "1.2.0",
            "_model_name": "LayoutModel",
            "_view_count": null,
            "_view_module": "@jupyter-widgets/base",
            "_view_module_version": "1.2.0",
            "_view_name": "LayoutView",
            "align_content": null,
            "align_items": null,
            "align_self": null,
            "border": null,
            "bottom": null,
            "display": null,
            "flex": null,
            "flex_flow": null,
            "grid_area": null,
            "grid_auto_columns": null,
            "grid_auto_flow": null,
            "grid_auto_rows": null,
            "grid_column": null,
            "grid_gap": null,
            "grid_row": null,
            "grid_template_areas": null,
            "grid_template_columns": null,
            "grid_template_rows": null,
            "height": null,
            "justify_content": null,
            "justify_items": null,
            "left": null,
            "margin": null,
            "max_height": null,
            "max_width": null,
            "min_height": null,
            "min_width": null,
            "object_fit": null,
            "object_position": null,
            "order": null,
            "overflow": null,
            "overflow_x": null,
            "overflow_y": null,
            "padding": null,
            "right": null,
            "top": null,
            "visibility": null,
            "width": null
          }
        },
        "1e587e88a62048a9b1ebcccd354dd23b": {
          "model_module": "@jupyter-widgets/controls",
          "model_name": "DescriptionStyleModel",
          "model_module_version": "1.5.0",
          "state": {
            "_model_module": "@jupyter-widgets/controls",
            "_model_module_version": "1.5.0",
            "_model_name": "DescriptionStyleModel",
            "_view_count": null,
            "_view_module": "@jupyter-widgets/base",
            "_view_module_version": "1.2.0",
            "_view_name": "StyleView",
            "description_width": ""
          }
        },
        "2cf25f9802164cccbbaf1ff442ff358f": {
          "model_module": "@jupyter-widgets/base",
          "model_name": "LayoutModel",
          "model_module_version": "1.2.0",
          "state": {
            "_model_module": "@jupyter-widgets/base",
            "_model_module_version": "1.2.0",
            "_model_name": "LayoutModel",
            "_view_count": null,
            "_view_module": "@jupyter-widgets/base",
            "_view_module_version": "1.2.0",
            "_view_name": "LayoutView",
            "align_content": null,
            "align_items": null,
            "align_self": null,
            "border": null,
            "bottom": null,
            "display": null,
            "flex": null,
            "flex_flow": null,
            "grid_area": null,
            "grid_auto_columns": null,
            "grid_auto_flow": null,
            "grid_auto_rows": null,
            "grid_column": null,
            "grid_gap": null,
            "grid_row": null,
            "grid_template_areas": null,
            "grid_template_columns": null,
            "grid_template_rows": null,
            "height": null,
            "justify_content": null,
            "justify_items": null,
            "left": null,
            "margin": null,
            "max_height": null,
            "max_width": null,
            "min_height": null,
            "min_width": null,
            "object_fit": null,
            "object_position": null,
            "order": null,
            "overflow": null,
            "overflow_x": null,
            "overflow_y": null,
            "padding": null,
            "right": null,
            "top": null,
            "visibility": null,
            "width": null
          }
        },
        "e98aae2312ab4c4fb57d7250649c9258": {
          "model_module": "@jupyter-widgets/controls",
          "model_name": "ProgressStyleModel",
          "model_module_version": "1.5.0",
          "state": {
            "_model_module": "@jupyter-widgets/controls",
            "_model_module_version": "1.5.0",
            "_model_name": "ProgressStyleModel",
            "_view_count": null,
            "_view_module": "@jupyter-widgets/base",
            "_view_module_version": "1.2.0",
            "_view_name": "StyleView",
            "bar_color": null,
            "description_width": ""
          }
        },
        "2b01474a99564796b2d338c23cd356d1": {
          "model_module": "@jupyter-widgets/base",
          "model_name": "LayoutModel",
          "model_module_version": "1.2.0",
          "state": {
            "_model_module": "@jupyter-widgets/base",
            "_model_module_version": "1.2.0",
            "_model_name": "LayoutModel",
            "_view_count": null,
            "_view_module": "@jupyter-widgets/base",
            "_view_module_version": "1.2.0",
            "_view_name": "LayoutView",
            "align_content": null,
            "align_items": null,
            "align_self": null,
            "border": null,
            "bottom": null,
            "display": null,
            "flex": null,
            "flex_flow": null,
            "grid_area": null,
            "grid_auto_columns": null,
            "grid_auto_flow": null,
            "grid_auto_rows": null,
            "grid_column": null,
            "grid_gap": null,
            "grid_row": null,
            "grid_template_areas": null,
            "grid_template_columns": null,
            "grid_template_rows": null,
            "height": null,
            "justify_content": null,
            "justify_items": null,
            "left": null,
            "margin": null,
            "max_height": null,
            "max_width": null,
            "min_height": null,
            "min_width": null,
            "object_fit": null,
            "object_position": null,
            "order": null,
            "overflow": null,
            "overflow_x": null,
            "overflow_y": null,
            "padding": null,
            "right": null,
            "top": null,
            "visibility": null,
            "width": null
          }
        },
        "a541a8dea4ed43b7b6488dcc62327e1a": {
          "model_module": "@jupyter-widgets/controls",
          "model_name": "DescriptionStyleModel",
          "model_module_version": "1.5.0",
          "state": {
            "_model_module": "@jupyter-widgets/controls",
            "_model_module_version": "1.5.0",
            "_model_name": "DescriptionStyleModel",
            "_view_count": null,
            "_view_module": "@jupyter-widgets/base",
            "_view_module_version": "1.2.0",
            "_view_name": "StyleView",
            "description_width": ""
          }
        },
        "bf51d8fed8ae47499899a18c8342d0c6": {
          "model_module": "@jupyter-widgets/controls",
          "model_name": "HBoxModel",
          "model_module_version": "1.5.0",
          "state": {
            "_dom_classes": [],
            "_model_module": "@jupyter-widgets/controls",
            "_model_module_version": "1.5.0",
            "_model_name": "HBoxModel",
            "_view_count": null,
            "_view_module": "@jupyter-widgets/controls",
            "_view_module_version": "1.5.0",
            "_view_name": "HBoxView",
            "box_style": "",
            "children": [
              "IPY_MODEL_48666408261f40e08ccdef093c54ce3d",
              "IPY_MODEL_e42c412ddb86422aacf9c50d18fb0416",
              "IPY_MODEL_1bc34e17211a4e56a69d3a829721d784"
            ],
            "layout": "IPY_MODEL_06a89e24aad4444ebd0ec726add3fd99"
          }
        },
        "48666408261f40e08ccdef093c54ce3d": {
          "model_module": "@jupyter-widgets/controls",
          "model_name": "HTMLModel",
          "model_module_version": "1.5.0",
          "state": {
            "_dom_classes": [],
            "_model_module": "@jupyter-widgets/controls",
            "_model_module_version": "1.5.0",
            "_model_name": "HTMLModel",
            "_view_count": null,
            "_view_module": "@jupyter-widgets/controls",
            "_view_module_version": "1.5.0",
            "_view_name": "HTMLView",
            "description": "",
            "description_tooltip": null,
            "layout": "IPY_MODEL_dd86239b1e9748baaf34c9deb8c381cb",
            "placeholder": "​",
            "style": "IPY_MODEL_9fc2b60a190846fb96e3bdf229c0b634",
            "value": "Processing: 100%"
          }
        },
        "e42c412ddb86422aacf9c50d18fb0416": {
          "model_module": "@jupyter-widgets/controls",
          "model_name": "FloatProgressModel",
          "model_module_version": "1.5.0",
          "state": {
            "_dom_classes": [],
            "_model_module": "@jupyter-widgets/controls",
            "_model_module_version": "1.5.0",
            "_model_name": "FloatProgressModel",
            "_view_count": null,
            "_view_module": "@jupyter-widgets/controls",
            "_view_module_version": "1.5.0",
            "_view_name": "ProgressView",
            "bar_style": "success",
            "description": "",
            "description_tooltip": null,
            "layout": "IPY_MODEL_1b3f3af606a543d886b9358a636a74d6",
            "max": 3025,
            "min": 0,
            "orientation": "horizontal",
            "style": "IPY_MODEL_ebdd0452f310401e8f597b5b81872398",
            "value": 3025
          }
        },
        "1bc34e17211a4e56a69d3a829721d784": {
          "model_module": "@jupyter-widgets/controls",
          "model_name": "HTMLModel",
          "model_module_version": "1.5.0",
          "state": {
            "_dom_classes": [],
            "_model_module": "@jupyter-widgets/controls",
            "_model_module_version": "1.5.0",
            "_model_name": "HTMLModel",
            "_view_count": null,
            "_view_module": "@jupyter-widgets/controls",
            "_view_module_version": "1.5.0",
            "_view_name": "HTMLView",
            "description": "",
            "description_tooltip": null,
            "layout": "IPY_MODEL_56ba6f23d9d74dc0bf0f1a4d18a82f27",
            "placeholder": "​",
            "style": "IPY_MODEL_e74f863650bd4471bad4011179d419c1",
            "value": " 3025/3025 [01:47&lt;00:00, 59.12it/s]"
          }
        },
        "06a89e24aad4444ebd0ec726add3fd99": {
          "model_module": "@jupyter-widgets/base",
          "model_name": "LayoutModel",
          "model_module_version": "1.2.0",
          "state": {
            "_model_module": "@jupyter-widgets/base",
            "_model_module_version": "1.2.0",
            "_model_name": "LayoutModel",
            "_view_count": null,
            "_view_module": "@jupyter-widgets/base",
            "_view_module_version": "1.2.0",
            "_view_name": "LayoutView",
            "align_content": null,
            "align_items": null,
            "align_self": null,
            "border": null,
            "bottom": null,
            "display": null,
            "flex": null,
            "flex_flow": null,
            "grid_area": null,
            "grid_auto_columns": null,
            "grid_auto_flow": null,
            "grid_auto_rows": null,
            "grid_column": null,
            "grid_gap": null,
            "grid_row": null,
            "grid_template_areas": null,
            "grid_template_columns": null,
            "grid_template_rows": null,
            "height": null,
            "justify_content": null,
            "justify_items": null,
            "left": null,
            "margin": null,
            "max_height": null,
            "max_width": null,
            "min_height": null,
            "min_width": null,
            "object_fit": null,
            "object_position": null,
            "order": null,
            "overflow": null,
            "overflow_x": null,
            "overflow_y": null,
            "padding": null,
            "right": null,
            "top": null,
            "visibility": null,
            "width": null
          }
        },
        "dd86239b1e9748baaf34c9deb8c381cb": {
          "model_module": "@jupyter-widgets/base",
          "model_name": "LayoutModel",
          "model_module_version": "1.2.0",
          "state": {
            "_model_module": "@jupyter-widgets/base",
            "_model_module_version": "1.2.0",
            "_model_name": "LayoutModel",
            "_view_count": null,
            "_view_module": "@jupyter-widgets/base",
            "_view_module_version": "1.2.0",
            "_view_name": "LayoutView",
            "align_content": null,
            "align_items": null,
            "align_self": null,
            "border": null,
            "bottom": null,
            "display": null,
            "flex": null,
            "flex_flow": null,
            "grid_area": null,
            "grid_auto_columns": null,
            "grid_auto_flow": null,
            "grid_auto_rows": null,
            "grid_column": null,
            "grid_gap": null,
            "grid_row": null,
            "grid_template_areas": null,
            "grid_template_columns": null,
            "grid_template_rows": null,
            "height": null,
            "justify_content": null,
            "justify_items": null,
            "left": null,
            "margin": null,
            "max_height": null,
            "max_width": null,
            "min_height": null,
            "min_width": null,
            "object_fit": null,
            "object_position": null,
            "order": null,
            "overflow": null,
            "overflow_x": null,
            "overflow_y": null,
            "padding": null,
            "right": null,
            "top": null,
            "visibility": null,
            "width": null
          }
        },
        "9fc2b60a190846fb96e3bdf229c0b634": {
          "model_module": "@jupyter-widgets/controls",
          "model_name": "DescriptionStyleModel",
          "model_module_version": "1.5.0",
          "state": {
            "_model_module": "@jupyter-widgets/controls",
            "_model_module_version": "1.5.0",
            "_model_name": "DescriptionStyleModel",
            "_view_count": null,
            "_view_module": "@jupyter-widgets/base",
            "_view_module_version": "1.2.0",
            "_view_name": "StyleView",
            "description_width": ""
          }
        },
        "1b3f3af606a543d886b9358a636a74d6": {
          "model_module": "@jupyter-widgets/base",
          "model_name": "LayoutModel",
          "model_module_version": "1.2.0",
          "state": {
            "_model_module": "@jupyter-widgets/base",
            "_model_module_version": "1.2.0",
            "_model_name": "LayoutModel",
            "_view_count": null,
            "_view_module": "@jupyter-widgets/base",
            "_view_module_version": "1.2.0",
            "_view_name": "LayoutView",
            "align_content": null,
            "align_items": null,
            "align_self": null,
            "border": null,
            "bottom": null,
            "display": null,
            "flex": null,
            "flex_flow": null,
            "grid_area": null,
            "grid_auto_columns": null,
            "grid_auto_flow": null,
            "grid_auto_rows": null,
            "grid_column": null,
            "grid_gap": null,
            "grid_row": null,
            "grid_template_areas": null,
            "grid_template_columns": null,
            "grid_template_rows": null,
            "height": null,
            "justify_content": null,
            "justify_items": null,
            "left": null,
            "margin": null,
            "max_height": null,
            "max_width": null,
            "min_height": null,
            "min_width": null,
            "object_fit": null,
            "object_position": null,
            "order": null,
            "overflow": null,
            "overflow_x": null,
            "overflow_y": null,
            "padding": null,
            "right": null,
            "top": null,
            "visibility": null,
            "width": null
          }
        },
        "ebdd0452f310401e8f597b5b81872398": {
          "model_module": "@jupyter-widgets/controls",
          "model_name": "ProgressStyleModel",
          "model_module_version": "1.5.0",
          "state": {
            "_model_module": "@jupyter-widgets/controls",
            "_model_module_version": "1.5.0",
            "_model_name": "ProgressStyleModel",
            "_view_count": null,
            "_view_module": "@jupyter-widgets/base",
            "_view_module_version": "1.2.0",
            "_view_name": "StyleView",
            "bar_color": null,
            "description_width": ""
          }
        },
        "56ba6f23d9d74dc0bf0f1a4d18a82f27": {
          "model_module": "@jupyter-widgets/base",
          "model_name": "LayoutModel",
          "model_module_version": "1.2.0",
          "state": {
            "_model_module": "@jupyter-widgets/base",
            "_model_module_version": "1.2.0",
            "_model_name": "LayoutModel",
            "_view_count": null,
            "_view_module": "@jupyter-widgets/base",
            "_view_module_version": "1.2.0",
            "_view_name": "LayoutView",
            "align_content": null,
            "align_items": null,
            "align_self": null,
            "border": null,
            "bottom": null,
            "display": null,
            "flex": null,
            "flex_flow": null,
            "grid_area": null,
            "grid_auto_columns": null,
            "grid_auto_flow": null,
            "grid_auto_rows": null,
            "grid_column": null,
            "grid_gap": null,
            "grid_row": null,
            "grid_template_areas": null,
            "grid_template_columns": null,
            "grid_template_rows": null,
            "height": null,
            "justify_content": null,
            "justify_items": null,
            "left": null,
            "margin": null,
            "max_height": null,
            "max_width": null,
            "min_height": null,
            "min_width": null,
            "object_fit": null,
            "object_position": null,
            "order": null,
            "overflow": null,
            "overflow_x": null,
            "overflow_y": null,
            "padding": null,
            "right": null,
            "top": null,
            "visibility": null,
            "width": null
          }
        },
        "e74f863650bd4471bad4011179d419c1": {
          "model_module": "@jupyter-widgets/controls",
          "model_name": "DescriptionStyleModel",
          "model_module_version": "1.5.0",
          "state": {
            "_model_module": "@jupyter-widgets/controls",
            "_model_module_version": "1.5.0",
            "_model_name": "DescriptionStyleModel",
            "_view_count": null,
            "_view_module": "@jupyter-widgets/base",
            "_view_module_version": "1.2.0",
            "_view_name": "StyleView",
            "description_width": ""
          }
        }
      }
    }
  },
  "nbformat": 4,
  "nbformat_minor": 0
}