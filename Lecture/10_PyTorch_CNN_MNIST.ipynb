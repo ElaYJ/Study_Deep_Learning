{
  "cells": [
    {
      "cell_type": "markdown",
      "metadata": {
        "colab_type": "text",
        "id": "view-in-github"
      },
      "source": [
        "<a href=\"https://colab.research.google.com/github/ElaYJ/Study_Deep_Learning/blob/main/10_PyTorch_MNIST.ipynb\" target=\"_parent\"><img src=\"https://colab.research.google.com/assets/colab-badge.svg\" alt=\"Open In Colab\"/></a>"
      ]
    },
    {
      "cell_type": "markdown",
      "metadata": {
        "id": "C9f4P3wBfr0F"
      },
      "source": [
        "# PyTorch를 이용한 MNIST Data 분류(Classification)"
      ]
    },
    {
      "cell_type": "code",
      "execution_count": 1,
      "metadata": {
        "id": "zDtfMb3DVkKs"
      },
      "outputs": [],
      "source": [
        "import torch\n",
        "import torch.nn as nn\n",
        "import torch.nn.functional as F # DL에서 자주 사요되는 수학적 함수들\n",
        "import torch.optim as optim\n",
        "from torchvision import datasets, transforms\n",
        "\n",
        "import matplotlib.pyplot as plt\n",
        "# from matplotlib import pyplot as plt\n",
        "# %matplotlib inline"
      ]
    },
    {
      "cell_type": "code",
      "execution_count": 2,
      "metadata": {
        "colab": {
          "base_uri": "https://localhost:8080/"
        },
        "id": "DZQ8YNV_Ycc3",
        "outputId": "7713d8b9-1ce6-47b7-e1f4-41bafcafd0bc"
      },
      "outputs": [
        {
          "data": {
            "text/plain": [
              "True"
            ]
          },
          "execution_count": 2,
          "metadata": {},
          "output_type": "execute_result"
        }
      ],
      "source": [
        "is_cuda = torch.cuda.is_available()\n",
        "is_cuda #--> True이면 GPU 사용 가능"
      ]
    },
    {
      "cell_type": "code",
      "execution_count": 3,
      "metadata": {
        "colab": {
          "base_uri": "https://localhost:8080/"
        },
        "id": "9sUzvgf4YvGn",
        "outputId": "f5b0e90f-1cc4-48cc-fe83-2bc11079c52f"
      },
      "outputs": [
        {
          "name": "stdout",
          "output_type": "stream",
          "text": [
            "Current cuda device is cuda\n"
          ]
        }
      ],
      "source": [
        "device = torch.device('cuda' if is_cuda else \"cpu\")\n",
        "print('Current device is', device)"
      ]
    },
    {
      "cell_type": "markdown",
      "metadata": {
        "id": "YJya7ouzgPpY"
      },
      "source": [
        "## - Data setting"
      ]
    },
    {
      "cell_type": "code",
      "execution_count": 4,
      "metadata": {
        "id": "kAQSOO3IZNKL"
      },
      "outputs": [],
      "source": [
        "# hyperparameter 설정\n",
        "\n",
        "epochs = 15\n",
        "batch_size = 50 #--> 몇 개의 데이터를 한번에 모아서 가중치를 업데이트하는 계산에 사용할 것인가\n",
        "learning_rate = 0.0001"
      ]
    },
    {
      "cell_type": "code",
      "execution_count": 5,
      "metadata": {
        "colab": {
          "base_uri": "https://localhost:8080/"
        },
        "id": "lNl2E7M4Z28P",
        "outputId": "a994efc7-f186-4539-9f11-13674b1cdf52"
      },
      "outputs": [
        {
          "name": "stdout",
          "output_type": "stream",
          "text": [
            "Downloading http://yann.lecun.com/exdb/mnist/train-images-idx3-ubyte.gz\n",
            "Downloading http://yann.lecun.com/exdb/mnist/train-images-idx3-ubyte.gz to ./data/MNIST/raw/train-images-idx3-ubyte.gz\n"
          ]
        },
        {
          "name": "stderr",
          "output_type": "stream",
          "text": [
            "100%|██████████| 9912422/9912422 [00:00<00:00, 105048325.81it/s]\n"
          ]
        },
        {
          "name": "stdout",
          "output_type": "stream",
          "text": [
            "Extracting ./data/MNIST/raw/train-images-idx3-ubyte.gz to ./data/MNIST/raw\n",
            "\n",
            "Downloading http://yann.lecun.com/exdb/mnist/train-labels-idx1-ubyte.gz\n",
            "Downloading http://yann.lecun.com/exdb/mnist/train-labels-idx1-ubyte.gz to ./data/MNIST/raw/train-labels-idx1-ubyte.gz\n"
          ]
        },
        {
          "name": "stderr",
          "output_type": "stream",
          "text": [
            "100%|██████████| 28881/28881 [00:00<00:00, 22141417.26it/s]"
          ]
        },
        {
          "name": "stdout",
          "output_type": "stream",
          "text": [
            "Extracting ./data/MNIST/raw/train-labels-idx1-ubyte.gz to ./data/MNIST/raw\n",
            "\n",
            "Downloading http://yann.lecun.com/exdb/mnist/t10k-images-idx3-ubyte.gz\n"
          ]
        },
        {
          "name": "stderr",
          "output_type": "stream",
          "text": [
            "\n"
          ]
        },
        {
          "name": "stdout",
          "output_type": "stream",
          "text": [
            "Downloading http://yann.lecun.com/exdb/mnist/t10k-images-idx3-ubyte.gz to ./data/MNIST/raw/t10k-images-idx3-ubyte.gz\n"
          ]
        },
        {
          "name": "stderr",
          "output_type": "stream",
          "text": [
            "100%|██████████| 1648877/1648877 [00:00<00:00, 31424728.49it/s]\n"
          ]
        },
        {
          "name": "stdout",
          "output_type": "stream",
          "text": [
            "Extracting ./data/MNIST/raw/t10k-images-idx3-ubyte.gz to ./data/MNIST/raw\n",
            "\n",
            "Downloading http://yann.lecun.com/exdb/mnist/t10k-labels-idx1-ubyte.gz\n",
            "Downloading http://yann.lecun.com/exdb/mnist/t10k-labels-idx1-ubyte.gz to ./data/MNIST/raw/t10k-labels-idx1-ubyte.gz\n"
          ]
        },
        {
          "name": "stderr",
          "output_type": "stream",
          "text": [
            "100%|██████████| 4542/4542 [00:00<00:00, 5427501.07it/s]\n"
          ]
        },
        {
          "name": "stdout",
          "output_type": "stream",
          "text": [
            "Extracting ./data/MNIST/raw/t10k-labels-idx1-ubyte.gz to ./data/MNIST/raw\n",
            "\n",
            "number of training data: 60000\n",
            "number of test data: 10000\n"
          ]
        }
      ],
      "source": [
        "# MNIST Data 불러오기\n",
        "\n",
        "# data 전처리 설정으로 바로 tensor로 변형\n",
        "train_data = datasets.MNIST(root='./data', train=True, download=True, transform=transforms.ToTensor())\n",
        "test_data = datasets.MNIST(root='./data', train=False, transform=transforms.ToTensor())\n",
        "\n",
        "print('number of train data:', len(train_data))\n",
        "print('number of test data:', len(test_data))"
      ]
    },
    {
      "cell_type": "code",
      "execution_count": 10,
      "metadata": {
        "colab": {
          "base_uri": "https://localhost:8080/"
        },
        "id": "2kZGqvS8bRO1",
        "outputId": "a5579c53-b4ab-4438-f0c6-3c9bb63a946a"
      },
      "outputs": [
        {
          "data": {
            "text/plain": [
              "(torch.Size([1, 28, 28]), 5)"
            ]
          },
          "execution_count": 10,
          "metadata": {},
          "output_type": "execute_result"
        }
      ],
      "source": [
        "train_data[0][0].shape, train_data[0][1]\n",
        "#--> [image data], label"
      ]
    },
    {
      "cell_type": "code",
      "execution_count": 12,
      "metadata": {
        "colab": {
          "base_uri": "https://localhost:8080/"
        },
        "id": "ik2De86scdox",
        "outputId": "d6cedc42-90e2-4deb-b2c2-bfb9b3599340"
      },
      "outputs": [
        {
          "data": {
            "text/plain": [
              "torch.Size([28, 28])"
            ]
          },
          "execution_count": 12,
          "metadata": {},
          "output_type": "execute_result"
        }
      ],
      "source": [
        "# keras는 채널의 차원이 shape의 맨 마지막에 온다. [28, 28, 1]\n",
        "# torch는 채널의 차원이 shape 첫번째에 존재한다. [1, 28, 28]\n",
        "# squeeze()는 차원(dimension)이 1인 것을 없애는 함수이다.\n",
        "\n",
        "train_data[0][0].squeeze().shape"
      ]
    },
    {
      "cell_type": "code",
      "execution_count": 13,
      "metadata": {
        "colab": {
          "base_uri": "https://localhost:8080/",
          "height": 452
        },
        "id": "EasEP_mebEc5",
        "outputId": "b1431ded-5456-43c5-a7e2-aba56d1bc0de"
      },
      "outputs": [
        {
          "data": {
            "image/png": "[encoded data removed]",
            "text/plain": [
              "<Figure size 640x480 with 1 Axes>"
            ]
          },
          "metadata": {},
          "output_type": "display_data"
        }
      ],
      "source": [
        "image, label = train_data[0]\n",
        "\n",
        "plt.imshow(image.squeeze().numpy(), cmap='gray')\n",
        "plt.title('label : %s' % label)\n",
        "plt.show()"
      ]
    },
    {
      "cell_type": "code",
      "execution_count": 14,
      "metadata": {
        "colab": {
          "base_uri": "https://localhost:8080/"
        },
        "id": "PehY3o-MdnfB",
        "outputId": "44787245-5efa-44e5-8184-99ab91c8f502"
      },
      "outputs": [
        {
          "name": "stdout",
          "output_type": "stream",
          "text": [
            "name            | type                      | size\n",
            "Num of Batch    |                           | 1200\n",
            "first_batch     | <class 'list'>            | 2\n",
            "first_batch[0]  | <class 'torch.Tensor'>    | torch.Size([50, 1, 28, 28])\n",
            "first_batch[1]  | <class 'torch.Tensor'>    | torch.Size([50])\n"
          ]
        }
      ],
      "source": [
        "# mini batch 구성 설정\n",
        "\n",
        "# shuffle의 의미는 데이터의 순서를 학습하지 못하게 하는 것이다.\n",
        "train_loader = torch.utils.data.DataLoader(dataset=train_data, batch_size=batch_size, shuffle=True)\n",
        "test_loader = torch.utils.data.DataLoader(dataset=test_data, batch_size=batch_size, shuffle=True)\n",
        "\n",
        "# 첫번째 묶음(batch)를 가져와 확인\n",
        "first_batch = train_loader.__iter__().__next__()\n",
        "\n",
        "print('{:15s} | {:<25s} | {}'.format('name', 'type', 'size'))\n",
        "print('{:15s} | {:<25s} | {}'.format('Num of Batch', '', len(train_loader)))\n",
        "print('{:15s} | {:<25s} | {}'.format('first_batch', str(type(first_batch)), len(first_batch)))\n",
        "print('{:15s} | {:<25s} | {}'.format('first_batch[0]', str(type(first_batch[0])), first_batch[0].shape)) #--> pixel data\n",
        "print('{:15s} | {:<25s} | {}'.format('first_batch[1]', str(type(first_batch[1])), first_batch[1].shape)) #--> label"
      ]
    },
    {
      "cell_type": "markdown",
      "metadata": {
        "id": "8cBLxUj8gp2u"
      },
      "source": [
        "## - class model"
      ]
    },
    {
      "cell_type": "code",
      "execution_count": 25,
      "metadata": {
        "id": "KA8_wT4dgehG"
      },
      "outputs": [],
      "source": [
        "class CNN(nn.Module):\n",
        "    def __init__(self):\n",
        "        super(CNN, self).__init__()\n",
        "\n",
        "        # in_channels: int, out_channels: int, kernel_size: _size_2_t(3x3), stride: _size_2_t = 1\n",
        "        # padding='same' --> convolutional filter에 의해 이미지 사이즈가 줄어드는 것을 방지, how? 테두리에 0을 채워서\n",
        "        self.conv1 = nn.Conv2d(in_channels=1, out_channels=32, kernel_size=3, stride=1, padding='same')\n",
        "        self.conv2 = nn.Conv2d(32, 64, 3, 1, padding='same')\n",
        "        self.dropout = nn.Dropout2d(0.25)\n",
        "        self.fc1 = nn.Linear(3136, 1000) #--> 7 x 7 x 64 = 3136\n",
        "        self.fc2 = nn.Linear(1000, 10) # in_features: int, out_features: int\n",
        "\n",
        "    def forward(self, x): #--> 28 x 28\n",
        "        x = self.conv1(x)\n",
        "        x = F.relu(x)\n",
        "        x = F.max_pool2d(x, 2) #--> 14 x 14\n",
        "\n",
        "        x = self.conv2(x)\n",
        "        x = F.relu(x)\n",
        "        x = F.max_pool2d(x, 2) #--> 7 x 7\n",
        "\n",
        "        x = self.dropout(x)\n",
        "        x = torch.flatten(input=x, start_dim=1) #--> 7 x 7 x 64, 차원 변환만 시도\n",
        "        x = self.fc1(x) #<-- 7 x 7 x 64\n",
        "        x = F.relu(x)\n",
        "        x = self.fc2(x)\n",
        "\n",
        "        output = F.log_softmax(input=x, dim=1)\n",
        "\n",
        "        return output"
      ]
    },
    {
      "cell_type": "code",
      "execution_count": 26,
      "metadata": {
        "id": "WGgxno9GxMLa"
      },
      "outputs": [],
      "source": [
        "model = CNN().to(device)\n",
        "optimizer = optim.Adam(model.parameters(), lr=learning_rate)\n",
        "criterion = nn.CrossEntropyLoss()"
      ]
    },
    {
      "cell_type": "code",
      "execution_count": 27,
      "metadata": {
        "colab": {
          "base_uri": "https://localhost:8080/"
        },
        "id": "mcZfXrqkyEss",
        "outputId": "e4d996ba-006a-4c78-8569-962f22b8cc18"
      },
      "outputs": [
        {
          "name": "stdout",
          "output_type": "stream",
          "text": [
            "Train Step: 1000\tLoss: 0.206\n",
            "Train Step: 2000\tLoss: 0.023\n",
            "Train Step: 3000\tLoss: 0.113\n",
            "Train Step: 4000\tLoss: 0.098\n",
            "Train Step: 5000\tLoss: 0.065\n",
            "Train Step: 6000\tLoss: 0.133\n",
            "Train Step: 7000\tLoss: 0.001\n",
            "Train Step: 8000\tLoss: 0.032\n",
            "Train Step: 9000\tLoss: 0.021\n",
            "Train Step: 10000\tLoss: 0.020\n",
            "Train Step: 11000\tLoss: 0.006\n",
            "Train Step: 12000\tLoss: 0.010\n",
            "Train Step: 13000\tLoss: 0.003\n",
            "Train Step: 14000\tLoss: 0.003\n",
            "Train Step: 15000\tLoss: 0.022\n",
            "Train Step: 16000\tLoss: 0.002\n",
            "Train Step: 17000\tLoss: 0.017\n",
            "Train Step: 18000\tLoss: 0.000\n"
          ]
        }
      ],
      "source": [
        "import time\n",
        "\n",
        "model.train() #--> 모델 학습 선언 (실제 학습 X), model을 train 모드로 바꾼다.\n",
        "i = 1\n",
        "for epoch in range(epochs):\n",
        "    start_time_each_epoch = time.time()\n",
        "    \n",
        "    for data, target in train_loader:\n",
        "        # print(data.shape)\n",
        "        #--> data에는 batch로 묶은 50개의 이미지 정보가 담긴다.\n",
        "        data = data.to(device)\n",
        "        target = target.to(device)\n",
        "\n",
        "        optimizer.zero_grad()\n",
        "        output = model(data)\n",
        "        loss = criterion(output, target)\n",
        "        loss.backward() #--> Weight 역전파\n",
        "        optimizer.step() #--> Wehght Update\n",
        "\n",
        "        if i % 1000 == 0:\n",
        "            print(time.time() - start_time_each_epoch)\n",
        "            print(\"Train Step: {}\\tLoss: {:.3f}\".format(i, loss.item()))\n",
        "        i += 1"
      ]
    },
    {
      "cell_type": "code",
      "execution_count": 28,
      "metadata": {
        "colab": {
          "base_uri": "https://localhost:8080/"
        },
        "id": "6Rdp5TBj0bVs",
        "outputId": "be17a632-4d10-47f2-8e33-8ae23a0cda6d"
      },
      "outputs": [
        {
          "name": "stdout",
          "output_type": "stream",
          "text": [
            "Test set Accuracy : 99.22%\n"
          ]
        }
      ],
      "source": [
        "model.eval()\n",
        "correct = 0\n",
        "for data, target in test_loader:\n",
        "    data = data.to(device)\n",
        "    target = target.to(device)\n",
        "    output = model(data)\n",
        "    prediction = output.data.max(1)[1]\n",
        "    correct += prediction.eq(target.data).sum()\n",
        "\n",
        "print('Test set Accuracy : {:.2f}%'.format(100 * correct / len(test_loader.dataset)))"
      ]
    },
    {
      "cell_type": "code",
      "execution_count": null,
      "metadata": {
        "id": "_4-E8o7v79yv"
      },
      "outputs": [],
      "source": []
    }
  ],
  "metadata": {
    "accelerator": "GPU",
    "colab": {
      "authorship_tag": "ABX9TyNb0Y0Fh+DPdV3FqwzDP0Mk",
      "gpuType": "T4",
      "include_colab_link": true,
      "provenance": [],
      "toc_visible": true
    },
    "kernelspec": {
      "display_name": "Python 3",
      "name": "python3"
    },
    "language_info": {
      "name": "python"
    }
  },
  "nbformat": 4,
  "nbformat_minor": 0
}
