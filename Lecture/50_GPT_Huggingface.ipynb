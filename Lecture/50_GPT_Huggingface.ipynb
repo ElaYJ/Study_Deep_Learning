{
 "cells": [
  {
   "cell_type": "markdown",
   "metadata": {},
   "source": [
    "# Hugging Face\n",
    "\n",
    "- https://huggingface.co/\n",
    "\n",
    "\n",
    "</br>\n",
    "\n",
    "### __install__\n",
    "\n",
    "- https://wikidocs.net/166691"
   ]
  },
  {
   "cell_type": "code",
   "execution_count": 1,
   "metadata": {},
   "outputs": [
    {
     "name": "stdout",
     "output_type": "stream",
     "text": [
      "Requirement already satisfied: transformers in c:\\users\\happy\\miniconda3\\envs\\ds_study\\lib\\site-packages (4.39.3)\n",
      "Requirement already satisfied: filelock in c:\\users\\happy\\miniconda3\\envs\\ds_study\\lib\\site-packages (from transformers) (3.13.4)\n",
      "Requirement already satisfied: huggingface-hub<1.0,>=0.19.3 in c:\\users\\happy\\miniconda3\\envs\\ds_study\\lib\\site-packages (from transformers) (0.22.2)\n",
      "Requirement already satisfied: numpy>=1.17 in c:\\users\\happy\\miniconda3\\envs\\ds_study\\lib\\site-packages (from transformers) (1.24.3)\n",
      "Requirement already satisfied: packaging>=20.0 in c:\\users\\happy\\miniconda3\\envs\\ds_study\\lib\\site-packages (from transformers) (23.1)\n",
      "Requirement already satisfied: pyyaml>=5.1 in c:\\users\\happy\\miniconda3\\envs\\ds_study\\lib\\site-packages (from transformers) (6.0.1)\n",
      "Requirement already satisfied: regex!=2019.12.17 in c:\\users\\happy\\miniconda3\\envs\\ds_study\\lib\\site-packages (from transformers) (2023.12.25)\n",
      "Requirement already satisfied: requests in c:\\users\\happy\\miniconda3\\envs\\ds_study\\lib\\site-packages (from transformers) (2.31.0)\n",
      "Requirement already satisfied: tokenizers<0.19,>=0.14 in c:\\users\\happy\\miniconda3\\envs\\ds_study\\lib\\site-packages (from transformers) (0.15.2)\n",
      "Requirement already satisfied: safetensors>=0.4.1 in c:\\users\\happy\\miniconda3\\envs\\ds_study\\lib\\site-packages (from transformers) (0.4.2)\n",
      "Requirement already satisfied: tqdm>=4.27 in c:\\users\\happy\\miniconda3\\envs\\ds_study\\lib\\site-packages (from transformers) (4.66.1)\n",
      "Requirement already satisfied: fsspec>=2023.5.0 in c:\\users\\happy\\miniconda3\\envs\\ds_study\\lib\\site-packages (from huggingface-hub<1.0,>=0.19.3->transformers) (2024.3.1)\n",
      "Requirement already satisfied: typing-extensions>=3.7.4.3 in c:\\users\\happy\\miniconda3\\envs\\ds_study\\lib\\site-packages (from huggingface-hub<1.0,>=0.19.3->transformers) (4.5.0)\n",
      "Requirement already satisfied: colorama in c:\\users\\happy\\miniconda3\\envs\\ds_study\\lib\\site-packages (from tqdm>=4.27->transformers) (0.4.6)\n",
      "Requirement already satisfied: charset-normalizer<4,>=2 in c:\\users\\happy\\miniconda3\\envs\\ds_study\\lib\\site-packages (from requests->transformers) (2.0.4)\n",
      "Requirement already satisfied: idna<4,>=2.5 in c:\\users\\happy\\miniconda3\\envs\\ds_study\\lib\\site-packages (from requests->transformers) (3.4)\n",
      "Requirement already satisfied: urllib3<3,>=1.21.1 in c:\\users\\happy\\miniconda3\\envs\\ds_study\\lib\\site-packages (from requests->transformers) (1.26.18)\n",
      "Requirement already satisfied: certifi>=2017.4.17 in c:\\users\\happy\\miniconda3\\envs\\ds_study\\lib\\site-packages (from requests->transformers) (2024.2.2)\n"
     ]
    }
   ],
   "source": [
    "# Transformers의 매우 가벼운 버전을 설치\n",
    "# PyTorch 또는 TensorFlow와 같은 특정 기계 학습 프레임워크가 함께 설치되지는 않기 때문에 이는 별도로 설치해야 한다.\n",
    "\n",
    "!pip install transformers"
   ]
  },
  {
   "cell_type": "code",
   "execution_count": 3,
   "metadata": {},
   "outputs": [
    {
     "name": "stdout",
     "output_type": "stream",
     "text": [
      "Requirement already satisfied: transformers[sentencepiece] in c:\\users\\happy\\miniconda3\\envs\\ds_study\\lib\\site-packages (4.39.3)\n",
      "Requirement already satisfied: filelock in c:\\users\\happy\\miniconda3\\envs\\ds_study\\lib\\site-packages (from transformers[sentencepiece]) (3.13.4)\n",
      "Requirement already satisfied: huggingface-hub<1.0,>=0.19.3 in c:\\users\\happy\\miniconda3\\envs\\ds_study\\lib\\site-packages (from transformers[sentencepiece]) (0.22.2)\n",
      "Requirement already satisfied: numpy>=1.17 in c:\\users\\happy\\miniconda3\\envs\\ds_study\\lib\\site-packages (from transformers[sentencepiece]) (1.24.3)\n",
      "Requirement already satisfied: packaging>=20.0 in c:\\users\\happy\\miniconda3\\envs\\ds_study\\lib\\site-packages (from transformers[sentencepiece]) (23.1)\n",
      "Requirement already satisfied: pyyaml>=5.1 in c:\\users\\happy\\miniconda3\\envs\\ds_study\\lib\\site-packages (from transformers[sentencepiece]) (6.0.1)\n",
      "Requirement already satisfied: regex!=2019.12.17 in c:\\users\\happy\\miniconda3\\envs\\ds_study\\lib\\site-packages (from transformers[sentencepiece]) (2023.12.25)\n",
      "Requirement already satisfied: requests in c:\\users\\happy\\miniconda3\\envs\\ds_study\\lib\\site-packages (from transformers[sentencepiece]) (2.31.0)\n",
      "Requirement already satisfied: tokenizers<0.19,>=0.14 in c:\\users\\happy\\miniconda3\\envs\\ds_study\\lib\\site-packages (from transformers[sentencepiece]) (0.15.2)\n",
      "Requirement already satisfied: safetensors>=0.4.1 in c:\\users\\happy\\miniconda3\\envs\\ds_study\\lib\\site-packages (from transformers[sentencepiece]) (0.4.2)\n",
      "Requirement already satisfied: tqdm>=4.27 in c:\\users\\happy\\miniconda3\\envs\\ds_study\\lib\\site-packages (from transformers[sentencepiece]) (4.66.1)\n",
      "Collecting sentencepiece!=0.1.92,>=0.1.91 (from transformers[sentencepiece])\n",
      "  Downloading sentencepiece-0.2.0-cp38-cp38-win_amd64.whl.metadata (8.3 kB)\n",
      "Requirement already satisfied: protobuf in c:\\users\\happy\\miniconda3\\envs\\ds_study\\lib\\site-packages (from transformers[sentencepiece]) (4.25.3)\n",
      "Requirement already satisfied: fsspec>=2023.5.0 in c:\\users\\happy\\miniconda3\\envs\\ds_study\\lib\\site-packages (from huggingface-hub<1.0,>=0.19.3->transformers[sentencepiece]) (2024.2.0)\n",
      "Requirement already satisfied: typing-extensions>=3.7.4.3 in c:\\users\\happy\\miniconda3\\envs\\ds_study\\lib\\site-packages (from huggingface-hub<1.0,>=0.19.3->transformers[sentencepiece]) (4.5.0)\n",
      "Requirement already satisfied: colorama in c:\\users\\happy\\miniconda3\\envs\\ds_study\\lib\\site-packages (from tqdm>=4.27->transformers[sentencepiece]) (0.4.6)\n",
      "Requirement already satisfied: charset-normalizer<4,>=2 in c:\\users\\happy\\miniconda3\\envs\\ds_study\\lib\\site-packages (from requests->transformers[sentencepiece]) (2.0.4)\n",
      "Requirement already satisfied: idna<4,>=2.5 in c:\\users\\happy\\miniconda3\\envs\\ds_study\\lib\\site-packages (from requests->transformers[sentencepiece]) (3.4)\n",
      "Requirement already satisfied: urllib3<3,>=1.21.1 in c:\\users\\happy\\miniconda3\\envs\\ds_study\\lib\\site-packages (from requests->transformers[sentencepiece]) (1.26.18)\n",
      "Requirement already satisfied: certifi>=2017.4.17 in c:\\users\\happy\\miniconda3\\envs\\ds_study\\lib\\site-packages (from requests->transformers[sentencepiece]) (2024.2.2)\n",
      "Downloading sentencepiece-0.2.0-cp38-cp38-win_amd64.whl (991 kB)\n",
      "   ---------------------------------------- 0.0/991.7 kB ? eta -:--:--\n",
      "   ---------------------------------------- 0.0/991.7 kB ? eta -:--:--\n",
      "    -------------------------------------- 20.5/991.7 kB 330.3 kB/s eta 0:00:03\n",
      "   -- ------------------------------------ 61.4/991.7 kB 656.4 kB/s eta 0:00:02\n",
      "   ------------------ --------------------- 450.6/991.7 kB 3.5 MB/s eta 0:00:01\n",
      "   ---------------------------------------  983.0/991.7 kB 5.7 MB/s eta 0:00:01\n",
      "   ---------------------------------------- 991.7/991.7 kB 5.2 MB/s eta 0:00:00\n",
      "Installing collected packages: sentencepiece\n",
      "Successfully installed sentencepiece-0.2.0\n"
     ]
    }
   ],
   "source": [
    "# 개발자 버전\n",
    "# 거의 모든 활용 사례(use cases)에 필요한 모든 종속성(dependency)을 포함한 개발자 버전(development version)을 설치하는 것이 좋다.\n",
    "\n",
    "!pip install transformers[sentencepiece]"
   ]
  },
  {
   "cell_type": "code",
   "execution_count": 2,
   "metadata": {},
   "outputs": [
    {
     "name": "stdout",
     "output_type": "stream",
     "text": [
      "Collecting datasets\n",
      "  Downloading datasets-2.18.0-py3-none-any.whl.metadata (20 kB)\n",
      "Requirement already satisfied: filelock in c:\\users\\happy\\miniconda3\\envs\\ds_study\\lib\\site-packages (from datasets) (3.13.4)\n",
      "Requirement already satisfied: numpy>=1.17 in c:\\users\\happy\\miniconda3\\envs\\ds_study\\lib\\site-packages (from datasets) (1.24.3)\n",
      "Collecting pyarrow>=12.0.0 (from datasets)\n",
      "  Downloading pyarrow-15.0.2-cp38-cp38-win_amd64.whl.metadata (3.1 kB)\n",
      "Collecting pyarrow-hotfix (from datasets)\n",
      "  Downloading pyarrow_hotfix-0.6-py3-none-any.whl.metadata (3.6 kB)\n",
      "Collecting dill<0.3.9,>=0.3.0 (from datasets)\n",
      "  Downloading dill-0.3.8-py3-none-any.whl.metadata (10 kB)\n",
      "Requirement already satisfied: pandas in c:\\users\\happy\\miniconda3\\envs\\ds_study\\lib\\site-packages (from datasets) (2.0.3)\n",
      "Requirement already satisfied: requests>=2.19.0 in c:\\users\\happy\\miniconda3\\envs\\ds_study\\lib\\site-packages (from datasets) (2.31.0)\n",
      "Requirement already satisfied: tqdm>=4.62.1 in c:\\users\\happy\\miniconda3\\envs\\ds_study\\lib\\site-packages (from datasets) (4.66.1)\n",
      "Collecting xxhash (from datasets)\n",
      "  Downloading xxhash-3.4.1-cp38-cp38-win_amd64.whl.metadata (12 kB)\n",
      "Collecting multiprocess (from datasets)\n",
      "  Downloading multiprocess-0.70.16-py38-none-any.whl.metadata (7.1 kB)\n",
      "Collecting fsspec<=2024.2.0,>=2023.1.0 (from fsspec[http]<=2024.2.0,>=2023.1.0->datasets)\n",
      "  Downloading fsspec-2024.2.0-py3-none-any.whl.metadata (6.8 kB)\n",
      "Collecting aiohttp (from datasets)\n",
      "  Downloading aiohttp-3.9.4-cp38-cp38-win_amd64.whl.metadata (7.7 kB)\n",
      "Requirement already satisfied: huggingface-hub>=0.19.4 in c:\\users\\happy\\miniconda3\\envs\\ds_study\\lib\\site-packages (from datasets) (0.22.2)\n",
      "Requirement already satisfied: packaging in c:\\users\\happy\\miniconda3\\envs\\ds_study\\lib\\site-packages (from datasets) (23.1)\n",
      "Requirement already satisfied: pyyaml>=5.1 in c:\\users\\happy\\miniconda3\\envs\\ds_study\\lib\\site-packages (from datasets) (6.0.1)\n",
      "Collecting aiosignal>=1.1.2 (from aiohttp->datasets)\n",
      "  Downloading aiosignal-1.3.1-py3-none-any.whl.metadata (4.0 kB)\n",
      "Requirement already satisfied: attrs>=17.3.0 in c:\\users\\happy\\miniconda3\\envs\\ds_study\\lib\\site-packages (from aiohttp->datasets) (23.1.0)\n",
      "Collecting frozenlist>=1.1.1 (from aiohttp->datasets)\n",
      "  Downloading frozenlist-1.4.1-cp38-cp38-win_amd64.whl.metadata (12 kB)\n",
      "Collecting multidict<7.0,>=4.5 (from aiohttp->datasets)\n",
      "  Downloading multidict-6.0.5-cp38-cp38-win_amd64.whl.metadata (4.3 kB)\n",
      "Collecting yarl<2.0,>=1.0 (from aiohttp->datasets)\n",
      "  Downloading yarl-1.9.4-cp38-cp38-win_amd64.whl.metadata (32 kB)\n",
      "Collecting async-timeout<5.0,>=4.0 (from aiohttp->datasets)\n",
      "  Downloading async_timeout-4.0.3-py3-none-any.whl.metadata (4.2 kB)\n",
      "Requirement already satisfied: typing-extensions>=3.7.4.3 in c:\\users\\happy\\miniconda3\\envs\\ds_study\\lib\\site-packages (from huggingface-hub>=0.19.4->datasets) (4.5.0)\n",
      "Requirement already satisfied: charset-normalizer<4,>=2 in c:\\users\\happy\\miniconda3\\envs\\ds_study\\lib\\site-packages (from requests>=2.19.0->datasets) (2.0.4)\n",
      "Requirement already satisfied: idna<4,>=2.5 in c:\\users\\happy\\miniconda3\\envs\\ds_study\\lib\\site-packages (from requests>=2.19.0->datasets) (3.4)\n",
      "Requirement already satisfied: urllib3<3,>=1.21.1 in c:\\users\\happy\\miniconda3\\envs\\ds_study\\lib\\site-packages (from requests>=2.19.0->datasets) (1.26.18)\n",
      "Requirement already satisfied: certifi>=2017.4.17 in c:\\users\\happy\\miniconda3\\envs\\ds_study\\lib\\site-packages (from requests>=2.19.0->datasets) (2024.2.2)\n",
      "Requirement already satisfied: colorama in c:\\users\\happy\\miniconda3\\envs\\ds_study\\lib\\site-packages (from tqdm>=4.62.1->datasets) (0.4.6)\n",
      "Requirement already satisfied: python-dateutil>=2.8.2 in c:\\users\\happy\\miniconda3\\envs\\ds_study\\lib\\site-packages (from pandas->datasets) (2.8.2)\n",
      "Requirement already satisfied: pytz>=2020.1 in c:\\users\\happy\\miniconda3\\envs\\ds_study\\lib\\site-packages (from pandas->datasets) (2023.3.post1)\n",
      "Requirement already satisfied: tzdata>=2022.1 in c:\\users\\happy\\miniconda3\\envs\\ds_study\\lib\\site-packages (from pandas->datasets) (2023.3)\n",
      "Requirement already satisfied: six>=1.5 in c:\\users\\happy\\miniconda3\\envs\\ds_study\\lib\\site-packages (from python-dateutil>=2.8.2->pandas->datasets) (1.16.0)\n",
      "Downloading datasets-2.18.0-py3-none-any.whl (510 kB)\n",
      "   ---------------------------------------- 0.0/510.5 kB ? eta -:--:--\n",
      "   --------------------------------------  501.8/510.5 kB 15.9 MB/s eta 0:00:01\n",
      "   ---------------------------------------- 510.5/510.5 kB 8.1 MB/s eta 0:00:00\n",
      "Downloading dill-0.3.8-py3-none-any.whl (116 kB)\n",
      "   ---------------------------------------- 0.0/116.3 kB ? eta -:--:--\n",
      "   ---------------------------------------- 116.3/116.3 kB 7.1 MB/s eta 0:00:00\n",
      "Downloading fsspec-2024.2.0-py3-none-any.whl (170 kB)\n",
      "   ---------------------------------------- 0.0/170.9 kB ? eta -:--:--\n",
      "   ---------------------------------------- 170.9/170.9 kB 5.2 MB/s eta 0:00:00\n",
      "Downloading aiohttp-3.9.4-cp38-cp38-win_amd64.whl (372 kB)\n",
      "   ---------------------------------------- 0.0/373.0 kB ? eta -:--:--\n",
      "   ------------------ --------------------- 174.1/373.0 kB 5.1 MB/s eta 0:00:01\n",
      "   ---------------------------------------  368.6/373.0 kB 3.8 MB/s eta 0:00:01\n",
      "   ---------------------------------------- 373.0/373.0 kB 3.3 MB/s eta 0:00:00\n",
      "Downloading pyarrow-15.0.2-cp38-cp38-win_amd64.whl (24.9 MB)\n",
      "   ---------------------------------------- 0.0/24.9 MB ? eta -:--:--\n",
      "    --------------------------------------- 0.6/24.9 MB 11.5 MB/s eta 0:00:03\n",
      "   - -------------------------------------- 1.0/24.9 MB 10.8 MB/s eta 0:00:03\n",
      "   -- ------------------------------------- 1.6/24.9 MB 11.0 MB/s eta 0:00:03\n",
      "   --- ------------------------------------ 2.3/24.9 MB 11.9 MB/s eta 0:00:02\n",
      "   ---- ----------------------------------- 2.9/24.9 MB 11.6 MB/s eta 0:00:02\n",
      "   ----- ---------------------------------- 3.6/24.9 MB 11.5 MB/s eta 0:00:02\n",
      "   ------ --------------------------------- 4.3/24.9 MB 11.5 MB/s eta 0:00:02\n",
      "   ------- -------------------------------- 4.8/24.9 MB 11.5 MB/s eta 0:00:02\n",
      "   -------- ------------------------------- 5.4/24.9 MB 11.5 MB/s eta 0:00:02\n",
      "   --------- ------------------------------ 5.9/24.9 MB 11.4 MB/s eta 0:00:02\n",
      "   ---------- ----------------------------- 6.5/24.9 MB 11.4 MB/s eta 0:00:02\n",
      "   ----------- ---------------------------- 7.0/24.9 MB 11.4 MB/s eta 0:00:02\n",
      "   ------------ --------------------------- 7.6/24.9 MB 11.6 MB/s eta 0:00:02\n",
      "   ------------- -------------------------- 8.3/24.9 MB 11.5 MB/s eta 0:00:02\n",
      "   -------------- ------------------------- 9.0/24.9 MB 11.4 MB/s eta 0:00:02\n",
      "   --------------- ------------------------ 9.5/24.9 MB 11.4 MB/s eta 0:00:02\n",
      "   ---------------- ----------------------- 10.0/24.9 MB 11.4 MB/s eta 0:00:02\n",
      "   ---------------- ----------------------- 10.6/24.9 MB 11.5 MB/s eta 0:00:02\n",
      "   ----------------- ---------------------- 11.1/24.9 MB 11.5 MB/s eta 0:00:02\n",
      "   ------------------ --------------------- 11.6/24.9 MB 11.5 MB/s eta 0:00:02\n",
      "   ------------------- -------------------- 11.9/24.9 MB 11.1 MB/s eta 0:00:02\n",
      "   ------------------- -------------------- 12.3/24.9 MB 10.9 MB/s eta 0:00:02\n",
      "   -------------------- ------------------- 12.8/24.9 MB 11.1 MB/s eta 0:00:02\n",
      "   --------------------- ------------------ 13.5/24.9 MB 11.1 MB/s eta 0:00:02\n",
      "   ---------------------- ----------------- 14.2/24.9 MB 11.3 MB/s eta 0:00:01\n",
      "   ----------------------- ---------------- 14.7/24.9 MB 11.1 MB/s eta 0:00:01\n",
      "   ------------------------ --------------- 15.3/24.9 MB 11.1 MB/s eta 0:00:01\n",
      "   ------------------------- -------------- 15.8/24.9 MB 11.1 MB/s eta 0:00:01\n",
      "   -------------------------- ------------- 16.4/24.9 MB 10.9 MB/s eta 0:00:01\n",
      "   --------------------------- ------------ 17.0/24.9 MB 10.9 MB/s eta 0:00:01\n",
      "   ---------------------------- ----------- 17.5/24.9 MB 11.1 MB/s eta 0:00:01\n",
      "   ----------------------------- ---------- 18.2/24.9 MB 11.3 MB/s eta 0:00:01\n",
      "   ------------------------------ --------- 18.9/24.9 MB 11.3 MB/s eta 0:00:01\n",
      "   ------------------------------- -------- 19.4/24.9 MB 11.1 MB/s eta 0:00:01\n",
      "   ------------------------------- -------- 19.9/24.9 MB 11.1 MB/s eta 0:00:01\n",
      "   -------------------------------- ------- 20.4/24.9 MB 11.1 MB/s eta 0:00:01\n",
      "   --------------------------------- ------ 20.9/24.9 MB 11.1 MB/s eta 0:00:01\n",
      "   ---------------------------------- ----- 21.2/24.9 MB 10.7 MB/s eta 0:00:01\n",
      "   ---------------------------------- ----- 21.5/24.9 MB 10.6 MB/s eta 0:00:01\n",
      "   ----------------------------------- ---- 21.8/24.9 MB 10.4 MB/s eta 0:00:01\n",
      "   ------------------------------------ --- 22.4/24.9 MB 10.7 MB/s eta 0:00:01\n",
      "   ------------------------------------- -- 23.1/24.9 MB 10.7 MB/s eta 0:00:01\n",
      "   -------------------------------------- - 23.9/24.9 MB 10.7 MB/s eta 0:00:01\n",
      "   ---------------------------------------  24.4/24.9 MB 10.7 MB/s eta 0:00:01\n",
      "   ---------------------------------------  24.9/24.9 MB 10.7 MB/s eta 0:00:01\n",
      "   ---------------------------------------  24.9/24.9 MB 10.7 MB/s eta 0:00:01\n",
      "   ---------------------------------------  24.9/24.9 MB 10.7 MB/s eta 0:00:01\n",
      "   ---------------------------------------- 24.9/24.9 MB 9.8 MB/s eta 0:00:00\n",
      "Downloading multiprocess-0.70.16-py38-none-any.whl (132 kB)\n",
      "   ---------------------------------------- 0.0/132.6 kB ? eta -:--:--\n",
      "   ---------------------------------------- 132.6/132.6 kB 7.6 MB/s eta 0:00:00\n",
      "Downloading pyarrow_hotfix-0.6-py3-none-any.whl (7.9 kB)\n",
      "Downloading xxhash-3.4.1-cp38-cp38-win_amd64.whl (29 kB)\n",
      "Downloading aiosignal-1.3.1-py3-none-any.whl (7.6 kB)\n",
      "Downloading async_timeout-4.0.3-py3-none-any.whl (5.7 kB)\n",
      "Downloading frozenlist-1.4.1-cp38-cp38-win_amd64.whl (50 kB)\n",
      "   ---------------------------------------- 0.0/50.8 kB ? eta -:--:--\n",
      "   ---------------------------------------- 50.8/50.8 kB 2.7 MB/s eta 0:00:00\n",
      "Downloading multidict-6.0.5-cp38-cp38-win_amd64.whl (28 kB)\n",
      "Downloading yarl-1.9.4-cp38-cp38-win_amd64.whl (77 kB)\n",
      "   ---------------------------------------- 0.0/77.1 kB ? eta -:--:--\n",
      "   ---------------------------------------- 77.1/77.1 kB 4.2 MB/s eta 0:00:00\n",
      "Installing collected packages: xxhash, pyarrow-hotfix, pyarrow, multidict, fsspec, frozenlist, dill, async-timeout, yarl, multiprocess, aiosignal, aiohttp, datasets\n",
      "  Attempting uninstall: fsspec\n",
      "    Found existing installation: fsspec 2024.3.1\n",
      "    Uninstalling fsspec-2024.3.1:\n",
      "      Successfully uninstalled fsspec-2024.3.1\n",
      "Successfully installed aiohttp-3.9.4 aiosignal-1.3.1 async-timeout-4.0.3 datasets-2.18.0 dill-0.3.8 frozenlist-1.4.1 fsspec-2024.2.0 multidict-6.0.5 multiprocess-0.70.16 pyarrow-15.0.2 pyarrow-hotfix-0.6 xxhash-3.4.1 yarl-1.9.4\n"
     ]
    },
    {
     "name": "stderr",
     "output_type": "stream",
     "text": [
      "ERROR: pip's dependency resolver does not currently take into account all the packages that are installed. This behaviour is the source of the following dependency conflicts.\n",
      "torch 2.2.2 requires typing-extensions>=4.8.0, but you have typing-extensions 4.5.0 which is incompatible.\n"
     ]
    }
   ],
   "source": [
    "!pip install datasets"
   ]
  },
  {
   "cell_type": "markdown",
   "metadata": {},
   "source": [
    "<br></br>\n",
    "\n",
    "## 1. pipeline\n",
    "\n",
    "- preprocess --> MODEL --> post process\n",
    "\n",
    "- 이 3개의 과정을 pipeline을 통해 한번에~"
   ]
  },
  {
   "cell_type": "code",
   "execution_count": 4,
   "metadata": {},
   "outputs": [],
   "source": [
    "from transformers import pipeline"
   ]
  },
  {
   "cell_type": "code",
   "execution_count": null,
   "metadata": {},
   "outputs": [],
   "source": [
    "# sentimental analysis Task를 하는 모델의 pipeline\n",
    "classifier = pipeline('sentiment-analysis')"
   ]
  },
  {
   "cell_type": "code",
   "execution_count": null,
   "metadata": {},
   "outputs": [],
   "source": [
    "classifier.model"
   ]
  },
  {
   "cell_type": "code",
   "execution_count": null,
   "metadata": {},
   "outputs": [],
   "source": []
  }
 ],
 "metadata": {
  "kernelspec": {
   "display_name": "ds_study",
   "language": "python",
   "name": "python3"
  },
  "language_info": {
   "codemirror_mode": {
    "name": "ipython",
    "version": 3
   },
   "file_extension": ".py",
   "mimetype": "text/x-python",
   "name": "python",
   "nbconvert_exporter": "python",
   "pygments_lexer": "ipython3",
   "version": "3.8.18"
  }
 },
 "nbformat": 4,
 "nbformat_minor": 2
}
