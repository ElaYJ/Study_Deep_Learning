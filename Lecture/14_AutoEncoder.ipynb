{
 "cells": [
  {
   "cell_type": "markdown",
   "metadata": {},
   "source": [
    "# AutoEncoder 오토인코더\n",
    "\n",
    "- 오토인코더는 입력과 출력이 동일하다. --> 자기 자신을 재생성하는 네트워크이다.\n",
    "\n",
    "\t<img src=\"https://github.com/ElaYJ/supplement/assets/153154981/1fdf4275-3694-43e2-a359-14eff2cf86c0\" width=\"57%\"><br></br>\n",
    "\n",
    "- Encoder : 입력쪽, 인코더는 일종의 특징추출기와 같은 역할\n",
    "\n",
    "- Decoder : 출력쪽, 디코더는 압축된 데이터를 다시 복원하는 역할\n",
    "\n",
    "- Latent Vector : 잠재변수"
   ]
  },
  {
   "cell_type": "code",
   "execution_count": null,
   "metadata": {},
   "outputs": [],
   "source": []
  }
 ],
 "metadata": {
  "language_info": {
   "name": "python"
  }
 },
 "nbformat": 4,
 "nbformat_minor": 2
}
