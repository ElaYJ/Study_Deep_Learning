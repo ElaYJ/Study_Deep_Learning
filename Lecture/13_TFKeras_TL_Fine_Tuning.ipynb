{
 "cells": [
  {
   "cell_type": "markdown",
   "metadata": {},
   "source": [
    "# 전이 학습과 미세 조정 Fine Tuning\n",
    "\n",
    "- 사전 학습된 모델(pretrained model)이 획득한 지식이 \"전이(transferred)\"되므로 전이 학습(transfer learning) 이라는 용어를 사용한다.\n",
    "\n",
    "- 미세 조정(fine-tuning)은 모델이 사전 학습된 후에 수행되는 학습이다.\n",
    "\n",
    "- 미세 조정(fine-tuning)을 수행하려면 먼저 사전 학습된 모델(pretrained model)을 확보한 다음, \n",
    "\n",
    "\t특정 태스크에 맞는 데이터셋(dataset)을 사용하여 추가 학습을 수행하게 된다.\n",
    "\n",
    "\n",
    "<br></br>\n",
    "\n",
    "## 예제.\n",
    "\n",
    "- TensorFlow Keras Lib\n",
    "\n",
    "- 학습 코드는 텐서플로우 공식 페이지의 코드이다.\n",
    "\n",
    "\t코드가 간결하게 잘 작성되어 있어 그대로 사용한다.\n",
    "\n",
    "- 참고: https://www.tensorflow.org/guide/keras/transfer_learning?hl=ko"
   ]
  },
  {
   "cell_type": "code",
   "execution_count": null,
   "metadata": {},
   "outputs": [],
   "source": []
  }
 ],
 "metadata": {
  "language_info": {
   "name": "python"
  }
 },
 "nbformat": 4,
 "nbformat_minor": 2
}
