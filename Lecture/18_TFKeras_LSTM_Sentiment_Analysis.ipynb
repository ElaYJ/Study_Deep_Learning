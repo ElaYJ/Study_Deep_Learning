{
  "nbformat": 4,
  "nbformat_minor": 0,
  "metadata": {
    "colab": {
      "provenance": [],
      "gpuType": "T4",
      "mount_file_id": "1IhIC6yT-fggKQI3s9HwCOCej5e9gG_tt",
      "authorship_tag": "ABX9TyMCYXjVQ+uaF9O2tcRX/+dj",
      "include_colab_link": true
    },
    "kernelspec": {
      "name": "python3",
      "display_name": "Python 3"
    },
    "language_info": {
      "name": "python"
    },
    "accelerator": "GPU"
  },
  "cells": [
    {
      "cell_type": "markdown",
      "metadata": {
        "id": "view-in-github",
        "colab_type": "text"
      },
      "source": [
        "<a href=\"https://colab.research.google.com/github/ElaYJ/Study_Deep_Learning/blob/main/Lecture/18_TFKeras_LSTM_Sentiment_Analysis.ipynb\" target=\"_parent\"><img src=\"https://colab.research.google.com/assets/colab-badge.svg\" alt=\"Open In Colab\"/></a>"
      ]
    },
    {
      "cell_type": "markdown",
      "source": [
        "# LSTM 예제 : 감성 분석 Sentiment Analysis\n",
        "\n",
        "- 입력된 자연어 안의 주관적 의견, 감정 등을 찾아내는 문제\n",
        "\n",
        "- 이중 문장의 긍정/부정 등을 구분하는 경우가 많다.\n",
        "\n",
        "- dataset: https://github.com/e9t/nsmc\n",
        "\n",
        "    - 네이버 영화 리뷰에 대한 데이터로 평점 3점 이상이면 긍정, 미만이면 부정으로 labeling되어 있다."
      ],
      "metadata": {
        "id": "YUIZzfU-sTJQ"
      }
    },
    {
      "cell_type": "code",
      "execution_count": 1,
      "metadata": {
        "colab": {
          "base_uri": "https://localhost:8080/"
        },
        "id": "gFRsH7vhrXqq",
        "outputId": "a6f9fdcf-d653-45d3-924c-ea558af5b98a"
      },
      "outputs": [
        {
          "output_type": "stream",
          "name": "stdout",
          "text": [
            "Length of Train text: 6937271 characters\n",
            "Length of  Test text: 2318260 characters\n"
          ]
        }
      ],
      "source": [
        "path_to_train_file = \"/content/drive/MyDrive/zero-base DS/ratings_train.txt\"\n",
        "path_to_test_file = \"/content/drive/MyDrive/zero-base DS/ratings_test.txt\"\n",
        "\n",
        "with open(path_to_train_file, 'rb') as f:\n",
        "    train_text = f.read().decode(encoding='utf-8')\n",
        "\n",
        "with open(path_to_test_file, 'rb') as f:\n",
        "    test_text = f.read().decode(encoding='utf-8')\n",
        "\n",
        "print('Length of Train text: {} characters'.format(len(train_text)))\n",
        "print('Length of  Test text: {} characters'.format(len(test_text)))"
      ]
    },
    {
      "cell_type": "code",
      "source": [
        "print(train_text[:300])"
      ],
      "metadata": {
        "colab": {
          "base_uri": "https://localhost:8080/"
        },
        "id": "OU4yyMOcv0dP",
        "outputId": "987088f3-4c5f-4fea-b4aa-c7cf253aaba1"
      },
      "execution_count": 2,
      "outputs": [
        {
          "output_type": "stream",
          "name": "stdout",
          "text": [
            "id\tdocument\tlabel\n",
            "9976970\t아 더빙.. 진짜 짜증나네요 목소리\t0\n",
            "3819312\t흠...포스터보고 초딩영화줄....오버연기조차 가볍지 않구나\t1\n",
            "10265843\t너무재밓었다그래서보는것을추천한다\t0\n",
            "9045019\t교도소 이야기구먼 ..솔직히 재미는 없다..평점 조정\t0\n",
            "6483659\t사이몬페그의 익살스런 연기가 돋보였던 영화!스파이더맨에서 늙어보이기만 했던 커스틴 던스트가 너무나도 이뻐보였다\t1\n",
            "5403919\t막 걸음마 뗀 3세부터 초등학교 1학년생인 8살용영화.ㅋㅋㅋ...별반개도 아까움.\t0\n",
            "7797314\t원작의\n"
          ]
        }
      ]
    },
    {
      "cell_type": "code",
      "source": [
        "train_text[:300]"
      ],
      "metadata": {
        "colab": {
          "base_uri": "https://localhost:8080/",
          "height": 90
        },
        "id": "xcLY6TcywztF",
        "outputId": "cc9ad62c-90a5-4732-9e89-e7725edd87c4"
      },
      "execution_count": 3,
      "outputs": [
        {
          "output_type": "execute_result",
          "data": {
            "text/plain": [
              "'id\\tdocument\\tlabel\\n9976970\\t아 더빙.. 진짜 짜증나네요 목소리\\t0\\n3819312\\t흠...포스터보고 초딩영화줄....오버연기조차 가볍지 않구나\\t1\\n10265843\\t너무재밓었다그래서보는것을추천한다\\t0\\n9045019\\t교도소 이야기구먼 ..솔직히 재미는 없다..평점 조정\\t0\\n6483659\\t사이몬페그의 익살스런 연기가 돋보였던 영화!스파이더맨에서 늙어보이기만 했던 커스틴 던스트가 너무나도 이뻐보였다\\t1\\n5403919\\t막 걸음마 뗀 3세부터 초등학교 1학년생인 8살용영화.ㅋㅋㅋ...별반개도 아까움.\\t0\\n7797314\\t원작의'"
            ],
            "application/vnd.google.colaboratory.intrinsic+json": {
              "type": "string"
            }
          },
          "metadata": {},
          "execution_count": 3
        }
      ]
    },
    {
      "cell_type": "code",
      "source": [
        "train_text[:300].split('\\n')"
      ],
      "metadata": {
        "colab": {
          "base_uri": "https://localhost:8080/"
        },
        "id": "N-Oa8nK-xFnF",
        "outputId": "62932b12-0e55-421c-b8e3-eaefba3e0aff"
      },
      "execution_count": 4,
      "outputs": [
        {
          "output_type": "execute_result",
          "data": {
            "text/plain": [
              "['id\\tdocument\\tlabel',\n",
              " '9976970\\t아 더빙.. 진짜 짜증나네요 목소리\\t0',\n",
              " '3819312\\t흠...포스터보고 초딩영화줄....오버연기조차 가볍지 않구나\\t1',\n",
              " '10265843\\t너무재밓었다그래서보는것을추천한다\\t0',\n",
              " '9045019\\t교도소 이야기구먼 ..솔직히 재미는 없다..평점 조정\\t0',\n",
              " '6483659\\t사이몬페그의 익살스런 연기가 돋보였던 영화!스파이더맨에서 늙어보이기만 했던 커스틴 던스트가 너무나도 이뻐보였다\\t1',\n",
              " '5403919\\t막 걸음마 뗀 3세부터 초등학교 1학년생인 8살용영화.ㅋㅋㅋ...별반개도 아까움.\\t0',\n",
              " '7797314\\t원작의']"
            ]
          },
          "metadata": {},
          "execution_count": 4
        }
      ]
    },
    {
      "cell_type": "code",
      "source": [
        "train_text.split('\\n')[:3]"
      ],
      "metadata": {
        "colab": {
          "base_uri": "https://localhost:8080/"
        },
        "id": "lVu9uaZuxnJV",
        "outputId": "8cdbd988-23ed-4220-f454-ccd591c3d704"
      },
      "execution_count": 5,
      "outputs": [
        {
          "output_type": "execute_result",
          "data": {
            "text/plain": [
              "['id\\tdocument\\tlabel',\n",
              " '9976970\\t아 더빙.. 진짜 짜증나네요 목소리\\t0',\n",
              " '3819312\\t흠...포스터보고 초딩영화줄....오버연기조차 가볍지 않구나\\t1']"
            ]
          },
          "metadata": {},
          "execution_count": 5
        }
      ]
    },
    {
      "cell_type": "code",
      "source": [
        "train_text.split('\\n')[3]"
      ],
      "metadata": {
        "colab": {
          "base_uri": "https://localhost:8080/",
          "height": 35
        },
        "id": "2VtNjAehxL75",
        "outputId": "c0dd6bd1-bd4c-4d8c-8999-6ac697dd3b12"
      },
      "execution_count": 6,
      "outputs": [
        {
          "output_type": "execute_result",
          "data": {
            "text/plain": [
              "'10265843\\t너무재밓었다그래서보는것을추천한다\\t0'"
            ],
            "application/vnd.google.colaboratory.intrinsic+json": {
              "type": "string"
            }
          },
          "metadata": {},
          "execution_count": 6
        }
      ]
    },
    {
      "cell_type": "code",
      "source": [
        "train_text.split('\\n')[3].split('\\t')"
      ],
      "metadata": {
        "colab": {
          "base_uri": "https://localhost:8080/"
        },
        "id": "dLX7EpiFxjDh",
        "outputId": "8349dbc7-d7ae-408f-a57f-86cc67a5670b"
      },
      "execution_count": 7,
      "outputs": [
        {
          "output_type": "execute_result",
          "data": {
            "text/plain": [
              "['10265843', '너무재밓었다그래서보는것을추천한다', '0']"
            ]
          },
          "metadata": {},
          "execution_count": 7
        }
      ]
    },
    {
      "cell_type": "code",
      "source": [
        "import numpy as np\n",
        "\n",
        "# label data\n",
        "train_Y = np.array([[int(row.split('\\t')[2])] for row in train_text.split('\\n')[1:] if row.count('\\t') > 0])\n",
        "test_Y = np.array([[int(row.split('\\t')[2])] for row in test_text.split('\\n')[1:] if row.count('\\t') > 0])\n",
        "\n",
        "print(train_Y.shape, test_Y.shape)\n",
        "print(train_Y[:5])"
      ],
      "metadata": {
        "colab": {
          "base_uri": "https://localhost:8080/"
        },
        "id": "fAMRuUuwxu9g",
        "outputId": "75c74159-47d8-426c-fb74-34d6c0da7426"
      },
      "execution_count": 8,
      "outputs": [
        {
          "output_type": "stream",
          "name": "stdout",
          "text": [
            "(150000, 1) (50000, 1)\n",
            "[[0]\n",
            " [1]\n",
            " [0]\n",
            " [0]\n",
            " [1]]\n"
          ]
        }
      ]
    },
    {
      "cell_type": "markdown",
      "source": [
        "- cleaning은 불필요한 기호를 제거하는 것을 의미한다."
      ],
      "metadata": {
        "id": "ciR90mMCygKa"
      }
    },
    {
      "cell_type": "code",
      "source": [
        "import re\n",
        "\n",
        "# cleaning 함수 정의\n",
        "def clean_str(string):\n",
        "    string = re.sub(r\"[^가-힣A-Za-z0-9(),!?\\'\\`]\", \" \", string)\n",
        "    string = re.sub(r\"\\'s\", \" \\'s\", string)\n",
        "    string = re.sub(r\"\\'ve\", \" \\'ve\", string)\n",
        "    string = re.sub(r\"n\\'t\", \" n\\'t\", string)\n",
        "    string = re.sub(r\"\\'re\", \" \\'re\", string)\n",
        "    string = re.sub(r\"\\'d\", \" \\'d\", string)\n",
        "    string = re.sub(r\"\\'ll\", \" \\'ll\", string)\n",
        "    string = re.sub(r\",\", \" , \", string)\n",
        "    string = re.sub(r\"!\", \" ! \", string)\n",
        "    string = re.sub(r\"\\(\", \" \\(\", string)\n",
        "    string = re.sub(r\"\\)\", \" \\)\", string)\n",
        "    string = re.sub(r\"\\?\", \" \\?\", string)\n",
        "    string = re.sub(r\"\\s{2,}\", \" \", string)\n",
        "    string = re.sub(r\"\\'{2,}\", \"\\'\", string)\n",
        "    string = re.sub(r\"\\'\", \"\", string)\n",
        "\n",
        "    return string.lower()"
      ],
      "metadata": {
        "id": "jKwmwxJ6yYVG"
      },
      "execution_count": 9,
      "outputs": []
    },
    {
      "cell_type": "code",
      "source": [
        "# 훈련용 데이터\n",
        "\n",
        "train_text_X = [row.split('\\t')[1] for row in train_text.split('\\n')[1:] if row.count('\\t') > 0]\n",
        "train_text_X = [clean_str(sentence) for sentence in train_text_X]\n",
        "\n",
        "sentences = [sentence.split(' ') for sentence in train_text_X]\n",
        "for i in range(5):\n",
        "    print(sentences[i])"
      ],
      "metadata": {
        "colab": {
          "base_uri": "https://localhost:8080/"
        },
        "id": "rTaKAR1IRNAm",
        "outputId": "d2e5bc15-c986-4c45-bdc6-807513f7f7a3"
      },
      "execution_count": 10,
      "outputs": [
        {
          "output_type": "stream",
          "name": "stdout",
          "text": [
            "['아', '더빙', '진짜', '짜증나네요', '목소리']\n",
            "['흠', '포스터보고', '초딩영화줄', '오버연기조차', '가볍지', '않구나']\n",
            "['너무재밓었다그래서보는것을추천한다']\n",
            "['교도소', '이야기구먼', '솔직히', '재미는', '없다', '평점', '조정']\n",
            "['사이몬페그의', '익살스런', '연기가', '돋보였던', '영화', '!', '스파이더맨에서', '늙어보이기만', '했던', '커스틴', '던스트가', '너무나도', '이뻐보였다']\n"
          ]
        }
      ]
    },
    {
      "cell_type": "code",
      "source": [
        "import matplotlib.pyplot as plt\n",
        "\n",
        "sentence_len = [len(sentence) for sentence in sentences]\n",
        "sentence_len.sort()\n",
        "\n",
        "plt.plot(sentence_len)\n",
        "plt.show()"
      ],
      "metadata": {
        "colab": {
          "base_uri": "https://localhost:8080/",
          "height": 430
        },
        "id": "CSp3Buq-STH0",
        "outputId": "ad393775-2e42-44e5-b46b-856a1314b129"
      },
      "execution_count": 11,
      "outputs": [
        {
          "output_type": "display_data",
          "data": {
            "text/plain": [
              "<Figure size 640x480 with 1 Axes>"
            ],
            "image/png": "[encoded data removed]"
          },
          "metadata": {}
        }
      ]
    },
    {
      "cell_type": "markdown",
      "source": [
        "- 데이터 크기 맞추기\n",
        "\n",
        "    <img src=\"https://github.com/ElaYJ/supplement/assets/153154981/14b72ce5-83e8-418c-a76c-02909afc6628\" width=\"57%\">"
      ],
      "metadata": {
        "id": "191Z9-hSTBSX"
      }
    },
    {
      "cell_type": "code",
      "source": [
        "print(sum([int(l<=25) for l in sentence_len]))"
      ],
      "metadata": {
        "colab": {
          "base_uri": "https://localhost:8080/"
        },
        "id": "vIYon3JqSyRl",
        "outputId": "cd98e716-7ad2-4e54-8c38-0354ccadd06b"
      },
      "execution_count": 12,
      "outputs": [
        {
          "output_type": "stream",
          "name": "stdout",
          "text": [
            "142694\n"
          ]
        }
      ]
    },
    {
      "cell_type": "code",
      "source": [
        "print(sum([int(l<=40) for l in sentence_len]))"
      ],
      "metadata": {
        "colab": {
          "base_uri": "https://localhost:8080/"
        },
        "id": "WOi5CrrrSzbR",
        "outputId": "52d23c7e-96b7-4742-e121-1be8b30c31a3"
      },
      "execution_count": 13,
      "outputs": [
        {
          "output_type": "stream",
          "name": "stdout",
          "text": [
            "149854\n"
          ]
        }
      ]
    },
    {
      "cell_type": "code",
      "source": [
        "# 적당히 정제\n",
        "\n",
        "sentences_new = []\n",
        "for sentence in sentences:\n",
        "    sentences_new.append([word[:5] for word in sentence][:25])\n",
        "\n",
        "for i in range(5):\n",
        "    print(sentences_new[i])"
      ],
      "metadata": {
        "colab": {
          "base_uri": "https://localhost:8080/"
        },
        "id": "StK8_jzBT5Py",
        "outputId": "de24114c-88d3-4744-cddc-57fad4b902b7"
      },
      "execution_count": 14,
      "outputs": [
        {
          "output_type": "stream",
          "name": "stdout",
          "text": [
            "['아', '더빙', '진짜', '짜증나네요', '목소리']\n",
            "['흠', '포스터보고', '초딩영화줄', '오버연기조', '가볍지', '않구나']\n",
            "['너무재밓었']\n",
            "['교도소', '이야기구먼', '솔직히', '재미는', '없다', '평점', '조정']\n",
            "['사이몬페그', '익살스런', '연기가', '돋보였던', '영화', '!', '스파이더맨', '늙어보이기', '했던', '커스틴', '던스트가', '너무나도', '이뻐보였다']\n"
          ]
        }
      ]
    },
    {
      "cell_type": "markdown",
      "source": [
        "- tokenization은 자연어를 처리 가능한 최소의 단위로 나누는 것 --> 이번 예제에서는 띄어쓰기로 한다."
      ],
      "metadata": {
        "id": "Sval8xmtU_SK"
      }
    },
    {
      "cell_type": "code",
      "source": [
        "from tensorflow.keras.preprocessing.text import Tokenizer\n",
        "from tensorflow.keras.preprocessing.sequence import pad_sequences\n",
        "\n",
        "# 토크나이징과 패딩\n",
        "tokenizer = Tokenizer(num_words=20000)\n",
        "tokenizer.fit_on_texts(sentences_new)\n",
        "\n",
        "train_X = tokenizer.texts_to_sequences(sentences_new)\n",
        "train_X = pad_sequences(train_X, padding='post')\n",
        "print(train_X[:5])"
      ],
      "metadata": {
        "colab": {
          "base_uri": "https://localhost:8080/"
        },
        "id": "DS9ZaRAOUmTZ",
        "outputId": "f32fc502-d0f9-40c9-932f-9d875dd2ee59"
      },
      "execution_count": 15,
      "outputs": [
        {
          "output_type": "stream",
          "name": "stdout",
          "text": [
            "[[   25   875     8  6083  1107     0     0     0     0     0     0     0\n",
            "      0     0     0     0     0     0     0     0     0     0     0     0\n",
            "      0]\n",
            " [  590  5791  6695     0     0     0     0     0     0     0     0     0\n",
            "      0     0     0     0     0     0     0     0     0     0     0     0\n",
            "      0]\n",
            " [    0     0     0     0     0     0     0     0     0     0     0     0\n",
            "      0     0     0     0     0     0     0     0     0     0     0     0\n",
            "      0]\n",
            " [   69   345    31    35 10453     0     0     0     0     0     0     0\n",
            "      0     0     0     0     0     0     0     0     0     0     0     0\n",
            "      0]\n",
            " [  106  5336     4     2  2167   865   575     0     0     0     0     0\n",
            "      0     0     0     0     0     0     0     0     0     0     0     0\n",
            "      0]]\n"
          ]
        }
      ]
    },
    {
      "cell_type": "markdown",
      "source": [
        "- 임베딩 레이어\n",
        "\n",
        "    <img src=\"https://github.com/ElaYJ/supplement/assets/153154981/d8c041fc-d935-4849-a0b1-1f69575ebd64\" width=\"57%\"><br></br>\n",
        "\n",
        "    - 'boy'에 n-gram=2 방식을 적용하면...\n",
        "\n",
        "        'bo', 'by', 'oy',\n",
        "\n",
        "        'ob', 'yb', 'yo' 가 된다."
      ],
      "metadata": {
        "id": "nsq8pvOqXdJN"
      }
    },
    {
      "cell_type": "code",
      "source": [
        "import tensorflow as tf\n",
        "\n",
        "# 모델 구성\n",
        "model = tf.keras.Sequential([\n",
        "    tf.keras.layers.Embedding(20000, 300, input_length=25),\n",
        "    tf.keras.layers.LSTM(units=50),\n",
        "    tf.keras.layers.Dense(2, activation='softmax')\n",
        "]) #--> Dense(2): 부정이면 (0, 1), 긍정이면 (1, 0)으로, So 'softmax' 적용\n",
        "\n",
        "model.compile(optimizer='adam', loss='sparse_categorical_crossentropy', metrics=['accuracy'])\n",
        "model.summary()"
      ],
      "metadata": {
        "colab": {
          "base_uri": "https://localhost:8080/"
        },
        "id": "_b0V6_dWVeN9",
        "outputId": "d24689aa-d34d-40de-d891-ac4a91acc49f"
      },
      "execution_count": 16,
      "outputs": [
        {
          "output_type": "stream",
          "name": "stdout",
          "text": [
            "Model: \"sequential\"\n",
            "_________________________________________________________________\n",
            " Layer (type)                Output Shape              Param #   \n",
            "=================================================================\n",
            " embedding (Embedding)       (None, 25, 300)           6000000   \n",
            "                                                                 \n",
            " lstm (LSTM)                 (None, 50)                70200     \n",
            "                                                                 \n",
            " dense (Dense)               (None, 2)                 102       \n",
            "                                                                 \n",
            "=================================================================\n",
            "Total params: 6070302 (23.16 MB)\n",
            "Trainable params: 6070302 (23.16 MB)\n",
            "Non-trainable params: 0 (0.00 Byte)\n",
            "_________________________________________________________________\n"
          ]
        }
      ]
    },
    {
      "cell_type": "code",
      "source": [
        "# 학습\n",
        "\n",
        "history = model.fit(train_X, train_Y, epochs=5, batch_size=128, validation_split=0.2)"
      ],
      "metadata": {
        "colab": {
          "base_uri": "https://localhost:8080/"
        },
        "id": "pUCj7n4UXXf0",
        "outputId": "e3a23ef7-6a6a-4c23-86fc-a8dec3ca5a95"
      },
      "execution_count": 17,
      "outputs": [
        {
          "output_type": "stream",
          "name": "stdout",
          "text": [
            "Epoch 1/5\n",
            "938/938 [==============================] - 43s 42ms/step - loss: 0.4359 - accuracy: 0.7812 - val_loss: 0.3797 - val_accuracy: 0.8232\n",
            "Epoch 2/5\n",
            "938/938 [==============================] - 11s 12ms/step - loss: 0.3245 - accuracy: 0.8465 - val_loss: 0.3896 - val_accuracy: 0.8210\n",
            "Epoch 3/5\n",
            "938/938 [==============================] - 10s 10ms/step - loss: 0.2712 - accuracy: 0.8690 - val_loss: 0.4157 - val_accuracy: 0.8136\n",
            "Epoch 4/5\n",
            "938/938 [==============================] - 8s 9ms/step - loss: 0.2297 - accuracy: 0.8868 - val_loss: 0.4876 - val_accuracy: 0.8103\n",
            "Epoch 5/5\n",
            "938/938 [==============================] - 8s 9ms/step - loss: 0.1968 - accuracy: 0.9025 - val_loss: 0.5929 - val_accuracy: 0.8086\n"
          ]
        }
      ]
    },
    {
      "cell_type": "code",
      "source": [
        "# Test\n",
        "\n",
        "test_sentence = '재미있을 줄 알았는데 완전 실망했다. 너무 졸리고 돈이 아까웠다.'\n",
        "test_sentence = test_sentence.split(' ')\n",
        "test_sentences = []\n",
        "now_sentence = []\n",
        "for word in test_sentence:\n",
        "    print(word)\n",
        "    now_sentence.append(word)\n",
        "    print(now_sentence)\n",
        "    test_sentences.append(now_sentence[:])\n",
        "    print(test_sentences, end='\\n\\n')"
      ],
      "metadata": {
        "colab": {
          "base_uri": "https://localhost:8080/"
        },
        "id": "qAsMKGbSY5ca",
        "outputId": "06b30168-4606-4eeb-a62e-e8542c8b2571"
      },
      "execution_count": 18,
      "outputs": [
        {
          "output_type": "stream",
          "name": "stdout",
          "text": [
            "재미있을\n",
            "['재미있을']\n",
            "[['재미있을']]\n",
            "\n",
            "줄\n",
            "['재미있을', '줄']\n",
            "[['재미있을'], ['재미있을', '줄']]\n",
            "\n",
            "알았는데\n",
            "['재미있을', '줄', '알았는데']\n",
            "[['재미있을'], ['재미있을', '줄'], ['재미있을', '줄', '알았는데']]\n",
            "\n",
            "완전\n",
            "['재미있을', '줄', '알았는데', '완전']\n",
            "[['재미있을'], ['재미있을', '줄'], ['재미있을', '줄', '알았는데'], ['재미있을', '줄', '알았는데', '완전']]\n",
            "\n",
            "실망했다.\n",
            "['재미있을', '줄', '알았는데', '완전', '실망했다.']\n",
            "[['재미있을'], ['재미있을', '줄'], ['재미있을', '줄', '알았는데'], ['재미있을', '줄', '알았는데', '완전'], ['재미있을', '줄', '알았는데', '완전', '실망했다.']]\n",
            "\n",
            "너무\n",
            "['재미있을', '줄', '알았는데', '완전', '실망했다.', '너무']\n",
            "[['재미있을'], ['재미있을', '줄'], ['재미있을', '줄', '알았는데'], ['재미있을', '줄', '알았는데', '완전'], ['재미있을', '줄', '알았는데', '완전', '실망했다.'], ['재미있을', '줄', '알았는데', '완전', '실망했다.', '너무']]\n",
            "\n",
            "졸리고\n",
            "['재미있을', '줄', '알았는데', '완전', '실망했다.', '너무', '졸리고']\n",
            "[['재미있을'], ['재미있을', '줄'], ['재미있을', '줄', '알았는데'], ['재미있을', '줄', '알았는데', '완전'], ['재미있을', '줄', '알았는데', '완전', '실망했다.'], ['재미있을', '줄', '알았는데', '완전', '실망했다.', '너무'], ['재미있을', '줄', '알았는데', '완전', '실망했다.', '너무', '졸리고']]\n",
            "\n",
            "돈이\n",
            "['재미있을', '줄', '알았는데', '완전', '실망했다.', '너무', '졸리고', '돈이']\n",
            "[['재미있을'], ['재미있을', '줄'], ['재미있을', '줄', '알았는데'], ['재미있을', '줄', '알았는데', '완전'], ['재미있을', '줄', '알았는데', '완전', '실망했다.'], ['재미있을', '줄', '알았는데', '완전', '실망했다.', '너무'], ['재미있을', '줄', '알았는데', '완전', '실망했다.', '너무', '졸리고'], ['재미있을', '줄', '알았는데', '완전', '실망했다.', '너무', '졸리고', '돈이']]\n",
            "\n",
            "아까웠다.\n",
            "['재미있을', '줄', '알았는데', '완전', '실망했다.', '너무', '졸리고', '돈이', '아까웠다.']\n",
            "[['재미있을'], ['재미있을', '줄'], ['재미있을', '줄', '알았는데'], ['재미있을', '줄', '알았는데', '완전'], ['재미있을', '줄', '알았는데', '완전', '실망했다.'], ['재미있을', '줄', '알았는데', '완전', '실망했다.', '너무'], ['재미있을', '줄', '알았는데', '완전', '실망했다.', '너무', '졸리고'], ['재미있을', '줄', '알았는데', '완전', '실망했다.', '너무', '졸리고', '돈이'], ['재미있을', '줄', '알았는데', '완전', '실망했다.', '너무', '졸리고', '돈이', '아까웠다.']]\n",
            "\n"
          ]
        }
      ]
    },
    {
      "cell_type": "code",
      "source": [
        "test_X_1 = tokenizer.texts_to_sequences(test_sentences)\n",
        "test_X_1 = pad_sequences(test_X_1, padding='post', maxlen=25)\n",
        "\n",
        "prediction = model.predict(test_X_1)\n",
        "for idx, sentence in enumerate(test_sentences):\n",
        "    print(sentence)\n",
        "    print(prediction[idx])"
      ],
      "metadata": {
        "colab": {
          "base_uri": "https://localhost:8080/"
        },
        "id": "as6s-uQuZ_V-",
        "outputId": "f471d2d0-54d6-47f0-ff24-53f9c5a15885"
      },
      "execution_count": 19,
      "outputs": [
        {
          "output_type": "stream",
          "name": "stdout",
          "text": [
            "1/1 [==============================] - 0s 413ms/step\n",
            "['재미있을']\n",
            "[0.4225034 0.5774966]\n",
            "['재미있을', '줄']\n",
            "[0.39915895 0.600841  ]\n",
            "['재미있을', '줄', '알았는데']\n",
            "[0.36721644 0.6327836 ]\n",
            "['재미있을', '줄', '알았는데', '완전']\n",
            "[0.44310564 0.55689436]\n",
            "['재미있을', '줄', '알았는데', '완전', '실망했다.']\n",
            "[0.44310564 0.55689436]\n",
            "['재미있을', '줄', '알았는데', '완전', '실망했다.', '너무']\n",
            "[0.501817 0.498183]\n",
            "['재미있을', '줄', '알았는데', '완전', '실망했다.', '너무', '졸리고']\n",
            "[0.9800377  0.01996232]\n",
            "['재미있을', '줄', '알았는데', '완전', '실망했다.', '너무', '졸리고', '돈이']\n",
            "[9.991990e-01 8.010109e-04]\n",
            "['재미있을', '줄', '알았는데', '완전', '실망했다.', '너무', '졸리고', '돈이', '아까웠다.']\n",
            "[9.991990e-01 8.010109e-04]\n"
          ]
        }
      ]
    }
  ]
}