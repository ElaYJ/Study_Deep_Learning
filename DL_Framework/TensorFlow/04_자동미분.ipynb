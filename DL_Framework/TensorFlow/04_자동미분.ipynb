{
  "cells": [
    {
      "cell_type": "markdown",
      "metadata": {
        "id": "view-in-github",
        "colab_type": "text"
      },
      "source": [
        "<a href=\"https://colab.research.google.com/github/ElaYJ/Study_Deep_Learning/blob/main/DL_Framework/TensorFlow/04_%EC%9E%90%EB%8F%99%EB%AF%B8%EB%B6%84.ipynb\" target=\"_parent\"><img src=\"https://colab.research.google.com/assets/colab-badge.svg\" alt=\"Open In Colab\"/></a>"
      ]
    },
    {
      "cell_type": "markdown",
      "id": "375144cc",
      "metadata": {
        "school_cell_uuid": "c878fc07fcc14b6994e915f2c7fe77f5",
        "id": "375144cc"
      },
      "source": [
        "# 자동 미분"
      ]
    },
    {
      "cell_type": "code",
      "execution_count": 1,
      "id": "78da0d9a",
      "metadata": {
        "id": "78da0d9a"
      },
      "outputs": [],
      "source": [
        "import tensorflow as tf"
      ]
    },
    {
      "cell_type": "markdown",
      "id": "5b095191",
      "metadata": {
        "school_cell_uuid": "70e9d8ece68040349072fa52c2daea0b",
        "id": "5b095191"
      },
      "source": [
        "## `tf.GradientTape`\n",
        "\n",
        "- 텐서플로의 자동 미분\n",
        "\n",
        "- tf.GradientTape는 컨텍스트(context) 안에서 실행된 모든 연산을 테이프(tape)에 \"기록\".\n",
        "\n",
        "- 그 다음 텐서플로는 후진 방식 자동 미분(reverse mode differentiation)을 사용해 테이프에 \"기록된\" 연산의 그래디언트를 계산합니다.\n"
      ]
    },
    {
      "cell_type": "markdown",
      "id": "e1a7d24a",
      "metadata": {
        "id": "e1a7d24a"
      },
      "source": [
        "#### Scalar 를 Scalar로 미분"
      ]
    },
    {
      "cell_type": "code",
      "execution_count": 8,
      "id": "dbef8c45",
      "metadata": {
        "school_cell_uuid": "73ed72bac16748f79399f90cf7612a60",
        "scrolled": false,
        "id": "dbef8c45"
      },
      "outputs": [],
      "source": [
        "x = tf.Variable(3.0)\n",
        "\n",
        "# tape.gradient()를 한 번만 호출 가능\n",
        "with tf.GradientTape() as tape:\n",
        "    y = x**2"
      ]
    },
    {
      "cell_type": "code",
      "execution_count": 9,
      "id": "8d30aa8d",
      "metadata": {
        "colab": {
          "base_uri": "https://localhost:8080/"
        },
        "id": "8d30aa8d",
        "outputId": "09db7a90-dcf9-41be-dbd9-1efc48197445"
      },
      "outputs": [
        {
          "output_type": "execute_result",
          "data": {
            "text/plain": [
              "<tf.Tensor: shape=(), dtype=float32, numpy=9.0>"
            ]
          },
          "metadata": {},
          "execution_count": 9
        }
      ],
      "source": [
        "y"
      ]
    },
    {
      "cell_type": "code",
      "execution_count": 10,
      "id": "5b5bb4af",
      "metadata": {
        "colab": {
          "base_uri": "https://localhost:8080/"
        },
        "id": "5b5bb4af",
        "outputId": "fac039c0-8f30-4925-fcea-7596475a1e9c"
      },
      "outputs": [
        {
          "output_type": "execute_result",
          "data": {
            "text/plain": [
              "<tf.Tensor: shape=(), dtype=float32, numpy=6.0>"
            ]
          },
          "metadata": {},
          "execution_count": 10
        }
      ],
      "source": [
        "# dy = 2x * dx\n",
        "dy_dx = tape.gradient(y, x)\n",
        "dy_dx"
      ]
    },
    {
      "cell_type": "code",
      "source": [
        "dy_dx.numpy()"
      ],
      "metadata": {
        "colab": {
          "base_uri": "https://localhost:8080/"
        },
        "id": "FZ87_2C1_mu6",
        "outputId": "be7fdaad-50eb-48fd-d338-0c4204569779"
      },
      "id": "FZ87_2C1_mu6",
      "execution_count": 11,
      "outputs": [
        {
          "output_type": "execute_result",
          "data": {
            "text/plain": [
              "6.0"
            ]
          },
          "metadata": {},
          "execution_count": 11
        }
      ]
    },
    {
      "cell_type": "markdown",
      "id": "2b1ec0d2",
      "metadata": {
        "id": "2b1ec0d2"
      },
      "source": [
        "#### Scalar를 Vector로 미분"
      ]
    },
    {
      "cell_type": "code",
      "execution_count": 26,
      "id": "44f956c0",
      "metadata": {
        "id": "44f956c0"
      },
      "outputs": [],
      "source": [
        "w = tf.Variable(tf.random.normal((3, 2)), name='w') #--> weights\n",
        "b = tf.Variable(tf.zeros(2, dtype=tf.float32), name='b') #--> bias\n",
        "x = [[1., 2., 3.]]\n",
        "\n",
        "# persistent=True 옵션으로 tape.gradient()를 한 번 이상 호출 가능\n",
        "with tf.GradientTape(persistent=True) as tape:\n",
        "    y = x @ w + b\n",
        "    loss = tf.reduce_mean(y**2)\n"
      ]
    },
    {
      "cell_type": "code",
      "source": [
        "w"
      ],
      "metadata": {
        "colab": {
          "base_uri": "https://localhost:8080/"
        },
        "id": "U7P1KK6WAUjO",
        "outputId": "4dd41740-ebf7-47a0-de94-b6198d4c49cc"
      },
      "id": "U7P1KK6WAUjO",
      "execution_count": 13,
      "outputs": [
        {
          "output_type": "execute_result",
          "data": {
            "text/plain": [
              "<tf.Variable 'w:0' shape=(3, 2) dtype=float32, numpy=\n",
              "array([[ 0.966009  ,  0.04924868],\n",
              "       [-0.29810202,  1.384905  ],\n",
              "       [-1.0577765 , -0.19742115]], dtype=float32)>"
            ]
          },
          "metadata": {},
          "execution_count": 13
        }
      ]
    },
    {
      "cell_type": "code",
      "source": [
        "b"
      ],
      "metadata": {
        "colab": {
          "base_uri": "https://localhost:8080/"
        },
        "id": "35-X_OrSAV7E",
        "outputId": "de85b3b7-dde8-47a1-989b-cb62013bae98"
      },
      "id": "35-X_OrSAV7E",
      "execution_count": 14,
      "outputs": [
        {
          "output_type": "execute_result",
          "data": {
            "text/plain": [
              "<tf.Variable 'b:0' shape=(2,) dtype=float32, numpy=array([0., 0.], dtype=float32)>"
            ]
          },
          "metadata": {},
          "execution_count": 14
        }
      ]
    },
    {
      "cell_type": "code",
      "source": [
        "y"
      ],
      "metadata": {
        "colab": {
          "base_uri": "https://localhost:8080/"
        },
        "id": "et9dq5pQAfZ6",
        "outputId": "6c56ae42-fe63-406b-a985-2a112ec76ca4"
      },
      "id": "et9dq5pQAfZ6",
      "execution_count": 16,
      "outputs": [
        {
          "output_type": "execute_result",
          "data": {
            "text/plain": [
              "<tf.Tensor: shape=(1, 2), dtype=float32, numpy=array([[-2.8035245,  2.2267952]], dtype=float32)>"
            ]
          },
          "metadata": {},
          "execution_count": 16
        }
      ]
    },
    {
      "cell_type": "code",
      "source": [
        "loss"
      ],
      "metadata": {
        "colab": {
          "base_uri": "https://localhost:8080/"
        },
        "id": "yskcIB6QAXax",
        "outputId": "73df3e65-cc52-4bf4-f857-8ace58c6d7d1"
      },
      "id": "yskcIB6QAXax",
      "execution_count": 15,
      "outputs": [
        {
          "output_type": "execute_result",
          "data": {
            "text/plain": [
              "<tf.Tensor: shape=(), dtype=float32, numpy=6.4091835>"
            ]
          },
          "metadata": {},
          "execution_count": 15
        }
      ]
    },
    {
      "cell_type": "code",
      "execution_count": 27,
      "id": "f7ba47e0",
      "metadata": {
        "colab": {
          "base_uri": "https://localhost:8080/"
        },
        "id": "f7ba47e0",
        "outputId": "0be45416-82ca-466c-e919-80aaeaec2fb4"
      },
      "outputs": [
        {
          "output_type": "execute_result",
          "data": {
            "text/plain": [
              "[<tf.Tensor: shape=(3, 2), dtype=float32, numpy=\n",
              " array([[ 1.6136951, -2.0941195],\n",
              "        [ 3.2273903, -4.188239 ],\n",
              "        [ 4.8410854, -6.2823586]], dtype=float32)>,\n",
              " <tf.Tensor: shape=(2,), dtype=float32, numpy=array([ 1.6136951, -2.0941195], dtype=float32)>]"
            ]
          },
          "metadata": {},
          "execution_count": 27
        }
      ],
      "source": [
        "[dl_dw, dl_db] = tape.gradient(loss, [w, b]) #--> List Type\n",
        "\n",
        "[dl_dw, dl_db]"
      ]
    },
    {
      "cell_type": "code",
      "source": [
        "# 기록되고 있는 variable 확인\n",
        "\n",
        "tape.watched_variables()"
      ],
      "metadata": {
        "colab": {
          "base_uri": "https://localhost:8080/"
        },
        "id": "wqz6bsUMEOr1",
        "outputId": "088647ad-9de0-41d3-9331-24642d8f76bb"
      },
      "id": "wqz6bsUMEOr1",
      "execution_count": 28,
      "outputs": [
        {
          "output_type": "execute_result",
          "data": {
            "text/plain": [
              "(<tf.Variable 'w:0' shape=(3, 2) dtype=float32, numpy=\n",
              " array([[ 1.2125661 ,  0.33372277],\n",
              "        [-0.5328175 , -0.05227595],\n",
              "        [ 0.4889213 , -0.7744301 ]], dtype=float32)>,\n",
              " <tf.Variable 'b:0' shape=(2,) dtype=float32, numpy=array([0., 0.], dtype=float32)>)"
            ]
          },
          "metadata": {},
          "execution_count": 28
        }
      ]
    },
    {
      "cell_type": "code",
      "execution_count": 18,
      "id": "c3277e28",
      "metadata": {
        "colab": {
          "base_uri": "https://localhost:8080/"
        },
        "id": "c3277e28",
        "outputId": "3d99a817-7340-4044-8881-0736fb3047cd"
      },
      "outputs": [
        {
          "output_type": "execute_result",
          "data": {
            "text/plain": [
              "<tf.Tensor: shape=(2,), dtype=float32, numpy=array([-2.8035245,  2.2267952], dtype=float32)>"
            ]
          },
          "metadata": {},
          "execution_count": 18
        }
      ],
      "source": [
        "my_vars = {\n",
        "    'w': w,\n",
        "    'b': b\n",
        "}\n",
        "\n",
        "grad = tape.gradient(loss, my_vars) #--> Dict Type\n",
        "grad['b']"
      ]
    },
    {
      "cell_type": "code",
      "execution_count": 19,
      "id": "5f6ab30d",
      "metadata": {
        "colab": {
          "base_uri": "https://localhost:8080/"
        },
        "id": "5f6ab30d",
        "outputId": "780c7856-6ec6-4bb1-e4b4-53db433c075a"
      },
      "outputs": [
        {
          "output_type": "execute_result",
          "data": {
            "text/plain": [
              "{'w': <tf.Tensor: shape=(3, 2), dtype=float32, numpy=\n",
              " array([[-2.8035245,  2.2267952],\n",
              "        [-5.607049 ,  4.4535904],\n",
              "        [-8.410574 ,  6.6803856]], dtype=float32)>,\n",
              " 'b': <tf.Tensor: shape=(2,), dtype=float32, numpy=array([-2.8035245,  2.2267952], dtype=float32)>}"
            ]
          },
          "metadata": {},
          "execution_count": 19
        }
      ],
      "source": [
        "grad"
      ]
    },
    {
      "cell_type": "code",
      "source": [],
      "metadata": {
        "id": "qy-iVNOPBdce"
      },
      "id": "qy-iVNOPBdce",
      "execution_count": null,
      "outputs": []
    },
    {
      "cell_type": "code",
      "execution_count": null,
      "id": "59cde98d",
      "metadata": {
        "id": "59cde98d"
      },
      "outputs": [],
      "source": []
    },
    {
      "cell_type": "markdown",
      "id": "6fae20d0",
      "metadata": {
        "id": "6fae20d0"
      },
      "source": [
        "## 자동미분 컨트롤 하기!\n",
        "\n",
        "  - `tf.GradientTape`은 `tf.Variable`만 기록한다.\n",
        "\n",
        "  - A(variable) + tensor(constant) 연산은 tensor(constant)를 반환하므로 기록되지 않는다.\n",
        "\n",
        "  - 변수(variable)인 weights를 모델에서 사용할 때,\n",
        "  \n",
        "    `trainable` 조건으로 미분 기록을 제어할 수 있다."
      ]
    },
    {
      "cell_type": "code",
      "execution_count": 20,
      "id": "c63776d1",
      "metadata": {
        "colab": {
          "base_uri": "https://localhost:8080/"
        },
        "id": "c63776d1",
        "outputId": "3f34d2f0-0c33-4e00-ab74-73177b34b1c9"
      },
      "outputs": [
        {
          "output_type": "execute_result",
          "data": {
            "text/plain": [
              "<tf.Variable 'x0:0' shape=() dtype=float32, numpy=3.0>"
            ]
          },
          "metadata": {},
          "execution_count": 20
        }
      ],
      "source": [
        "# A trainable variable\n",
        "x0 = tf.Variable(3.0, name='x0')\n",
        "x0"
      ]
    },
    {
      "cell_type": "code",
      "source": [
        "# Not trainable variable\n",
        "x1 = tf.Variable(3.0, name='x1', trainable=False)\n",
        "x1"
      ],
      "metadata": {
        "colab": {
          "base_uri": "https://localhost:8080/"
        },
        "id": "GnKyRnUqDQld",
        "outputId": "5913e04f-f0dc-485c-fe21-499e085739f4"
      },
      "id": "GnKyRnUqDQld",
      "execution_count": 21,
      "outputs": [
        {
          "output_type": "execute_result",
          "data": {
            "text/plain": [
              "<tf.Variable 'x1:0' shape=() dtype=float32, numpy=3.0>"
            ]
          },
          "metadata": {},
          "execution_count": 21
        }
      ]
    },
    {
      "cell_type": "code",
      "source": [
        "# Not a Variable: A variable + tensor returns a tensor.\n",
        "x2 = tf.Variable(2.0, name='x2') + 1.0\n",
        "x2"
      ],
      "metadata": {
        "colab": {
          "base_uri": "https://localhost:8080/"
        },
        "id": "IJv_TGSQDV9-",
        "outputId": "e603ad88-6eb0-41cc-8730-31b5e356c8b2"
      },
      "id": "IJv_TGSQDV9-",
      "execution_count": 22,
      "outputs": [
        {
          "output_type": "execute_result",
          "data": {
            "text/plain": [
              "<tf.Tensor: shape=(), dtype=float32, numpy=3.0>"
            ]
          },
          "metadata": {},
          "execution_count": 22
        }
      ]
    },
    {
      "cell_type": "code",
      "source": [
        "# Not a variable\n",
        "x3 = tf.constant(3.0, name='x3')\n",
        "x3"
      ],
      "metadata": {
        "colab": {
          "base_uri": "https://localhost:8080/"
        },
        "id": "tMRAx_0ODZYb",
        "outputId": "93749a17-ea41-41bc-d269-09bf6fd57096"
      },
      "id": "tMRAx_0ODZYb",
      "execution_count": 23,
      "outputs": [
        {
          "output_type": "execute_result",
          "data": {
            "text/plain": [
              "<tf.Tensor: shape=(), dtype=float32, numpy=3.0>"
            ]
          },
          "metadata": {},
          "execution_count": 23
        }
      ]
    },
    {
      "cell_type": "code",
      "source": [
        "with tf.GradientTape() as tape:\n",
        "    y = (x0**2) + (x1**2) + (x2**2) + (x3**2)\n",
        "\n",
        "grad = tape.gradient(y, [x0, x1, x2, x3])\n",
        "\n",
        "for g in grad:\n",
        "    print(g)"
      ],
      "metadata": {
        "colab": {
          "base_uri": "https://localhost:8080/"
        },
        "id": "KWFVnwhvDaxE",
        "outputId": "6fac699a-5be2-4711-fc14-1460305cf1a8"
      },
      "id": "KWFVnwhvDaxE",
      "execution_count": 24,
      "outputs": [
        {
          "output_type": "stream",
          "name": "stdout",
          "text": [
            "tf.Tensor(6.0, shape=(), dtype=float32)\n",
            "None\n",
            "None\n",
            "None\n"
          ]
        }
      ]
    },
    {
      "cell_type": "code",
      "execution_count": null,
      "id": "82a6c756",
      "metadata": {
        "id": "82a6c756"
      },
      "outputs": [],
      "source": []
    },
    {
      "cell_type": "markdown",
      "id": "a31603bb",
      "metadata": {
        "id": "a31603bb"
      },
      "source": [
        "#### 기록되고 있는 variable 확인하기"
      ]
    },
    {
      "cell_type": "code",
      "execution_count": 25,
      "id": "80617825",
      "metadata": {
        "colab": {
          "base_uri": "https://localhost:8080/"
        },
        "id": "80617825",
        "outputId": "a3f0787a-a356-44c8-e4e7-91eddb019f3a"
      },
      "outputs": [
        {
          "output_type": "execute_result",
          "data": {
            "text/plain": [
              "(<tf.Variable 'x0:0' shape=() dtype=float32, numpy=3.0>,)"
            ]
          },
          "metadata": {},
          "execution_count": 25
        }
      ],
      "source": [
        "tape.watched_variables()"
      ]
    },
    {
      "cell_type": "code",
      "execution_count": null,
      "id": "01563d6d",
      "metadata": {
        "id": "01563d6d"
      },
      "outputs": [],
      "source": []
    }
  ],
  "metadata": {
    "kernelspec": {
      "display_name": "Python 3 (ipykernel)",
      "language": "python",
      "name": "python3"
    },
    "language_info": {
      "codemirror_mode": {
        "name": "ipython",
        "version": 3
      },
      "file_extension": ".py",
      "mimetype": "text/x-python",
      "name": "python",
      "nbconvert_exporter": "python",
      "pygments_lexer": "ipython3",
      "version": "3.9.9"
    },
    "toc": {
      "base_numbering": 1,
      "nav_menu": {},
      "number_sections": true,
      "sideBar": true,
      "skip_h1_title": false,
      "title_cell": "Table of Contents",
      "title_sidebar": "Contents",
      "toc_cell": false,
      "toc_position": {
        "height": "calc(100% - 180px)",
        "left": "10px",
        "top": "150px",
        "width": "205.312px"
      },
      "toc_section_display": true,
      "toc_window_display": true
    },
    "varInspector": {
      "cols": {
        "lenName": 16,
        "lenType": 16,
        "lenVar": 40
      },
      "kernels_config": {
        "python": {
          "delete_cmd_postfix": "",
          "delete_cmd_prefix": "del ",
          "library": "var_list.py",
          "varRefreshCmd": "print(var_dic_list())"
        },
        "r": {
          "delete_cmd_postfix": ") ",
          "delete_cmd_prefix": "rm(",
          "library": "var_list.r",
          "varRefreshCmd": "cat(var_dic_list()) "
        }
      },
      "types_to_exclude": [
        "module",
        "function",
        "builtin_function_or_method",
        "instance",
        "_Feature"
      ],
      "window_display": false
    },
    "colab": {
      "provenance": [],
      "toc_visible": true,
      "include_colab_link": true
    }
  },
  "nbformat": 4,
  "nbformat_minor": 5
}