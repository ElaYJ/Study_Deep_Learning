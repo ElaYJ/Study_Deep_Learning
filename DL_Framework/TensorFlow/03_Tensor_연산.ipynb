{
  "cells": [
    {
      "cell_type": "markdown",
      "metadata": {
        "id": "view-in-github",
        "colab_type": "text"
      },
      "source": [
        "<a href=\"https://colab.research.google.com/github/ElaYJ/Study_Deep_Learning/blob/main/DL_Framework/TensorFlow/03_Tensor_%EC%97%B0%EC%82%B0.ipynb\" target=\"_parent\"><img src=\"https://colab.research.google.com/assets/colab-badge.svg\" alt=\"Open In Colab\"/></a>"
      ]
    },
    {
      "cell_type": "markdown",
      "id": "b0a2d006",
      "metadata": {
        "id": "b0a2d006"
      },
      "source": [
        "# Tensor 연산"
      ]
    },
    {
      "cell_type": "code",
      "execution_count": 2,
      "id": "a47ff13a",
      "metadata": {
        "colab": {
          "base_uri": "https://localhost:8080/",
          "height": 35
        },
        "id": "a47ff13a",
        "outputId": "78eb7cc9-73d9-4427-d11b-580c9be59b81"
      },
      "outputs": [
        {
          "output_type": "execute_result",
          "data": {
            "text/plain": [
              "'2.15.0'"
            ],
            "application/vnd.google.colaboratory.intrinsic+json": {
              "type": "string"
            }
          },
          "metadata": {},
          "execution_count": 2
        }
      ],
      "source": [
        "import tensorflow as tf\n",
        "\n",
        "tf.__version__"
      ]
    },
    {
      "cell_type": "markdown",
      "id": "7a1c90c4",
      "metadata": {
        "id": "7a1c90c4"
      },
      "source": [
        "아래의 기본 연산은 특수 메서드를 이용하여 연산자 오버로딩이 되어 있으므로 그냥 연산자 기호를 사용하는게 가능!\n",
        "\n",
        "* `tf.add`: 덧셈\n",
        "* `tf.subtract`: 뺄셈\n",
        "* `tf.multiply`: 곱셈\n",
        "* `tf.divide`: 나눗셈\n",
        "* `tf.pow`: n-제곱\n",
        "* `tf.negative`: 음수 부호\n"
      ]
    },
    {
      "cell_type": "code",
      "execution_count": 3,
      "id": "8ece8410",
      "metadata": {
        "colab": {
          "base_uri": "https://localhost:8080/"
        },
        "id": "8ece8410",
        "outputId": "2c4a4e0c-a0df-4676-d4d1-213525f50aa6"
      },
      "outputs": [
        {
          "output_type": "execute_result",
          "data": {
            "text/plain": [
              "<tf.Tensor: shape=(6,), dtype=int32, numpy=array([2, 3, 4, 5, 6, 7], dtype=int32)>"
            ]
          },
          "metadata": {},
          "execution_count": 3
        }
      ],
      "source": [
        "a = tf.range(6, dtype=tf.int32)\n",
        "b = 2 * tf.ones(6, dtype=tf.int32)\n",
        "\n",
        "tf.add(a, b)"
      ]
    },
    {
      "cell_type": "code",
      "execution_count": 4,
      "id": "c76d5938",
      "metadata": {
        "colab": {
          "base_uri": "https://localhost:8080/"
        },
        "id": "c76d5938",
        "outputId": "9f700695-0db5-4f73-9bed-9d31b4e3e1c7"
      },
      "outputs": [
        {
          "output_type": "execute_result",
          "data": {
            "text/plain": [
              "<tf.Tensor: shape=(6,), dtype=int32, numpy=array([2, 3, 4, 5, 6, 7], dtype=int32)>"
            ]
          },
          "metadata": {},
          "execution_count": 4
        }
      ],
      "source": [
        "a + b"
      ]
    },
    {
      "cell_type": "code",
      "execution_count": null,
      "id": "bfd89a77",
      "metadata": {
        "id": "bfd89a77"
      },
      "outputs": [],
      "source": []
    },
    {
      "cell_type": "markdown",
      "id": "64f5dc6e",
      "metadata": {
        "id": "64f5dc6e"
      },
      "source": [
        "**여러가지 연산**\n",
        "\n",
        "* `tf.abs`: 절대값\n",
        "* `tf.sign`: 부호\n",
        "* `tf.round`: 반올림\n",
        "* `tf.ceil`: 올림\n",
        "* `tf.floor`: 내림\n",
        "* `tf.square`: 제곱\n",
        "* `tf.sqrt`: 제곱근\n",
        "* `tf.maximum`: 두 텐서의 각 원소에서 최댓값만 반환.\n",
        "* `tf.minimum`: 두 텐서의 각 원소에서 최솟값만 반환.\n",
        "* `tf.cumsum`: 누적합\n",
        "* `tf.cumprod`: 누적곱\n"
      ]
    },
    {
      "cell_type": "code",
      "execution_count": 5,
      "id": "2672b782",
      "metadata": {
        "colab": {
          "base_uri": "https://localhost:8080/"
        },
        "id": "2672b782",
        "outputId": "71db9041-4fae-47b9-9020-70c644ba0c2c"
      },
      "outputs": [
        {
          "output_type": "execute_result",
          "data": {
            "text/plain": [
              "<tf.Tensor: shape=(6,), dtype=int32, numpy=array([2, 2, 2, 3, 4, 5], dtype=int32)>"
            ]
          },
          "metadata": {},
          "execution_count": 5
        }
      ],
      "source": [
        "tf.maximum(a, b)"
      ]
    },
    {
      "cell_type": "code",
      "execution_count": null,
      "id": "5a703ca5",
      "metadata": {
        "id": "5a703ca5"
      },
      "outputs": [],
      "source": []
    },
    {
      "cell_type": "markdown",
      "id": "b7aa8914",
      "metadata": {
        "id": "b7aa8914"
      },
      "source": [
        "### Axis 이해하기"
      ]
    },
    {
      "cell_type": "code",
      "execution_count": 6,
      "id": "35fb668d",
      "metadata": {
        "id": "35fb668d"
      },
      "outputs": [],
      "source": [
        "rank_2 = tf.random.normal((3, 3))"
      ]
    },
    {
      "cell_type": "code",
      "execution_count": 7,
      "id": "8cb367b7",
      "metadata": {
        "colab": {
          "base_uri": "https://localhost:8080/"
        },
        "id": "8cb367b7",
        "outputId": "2bdd102f-a08c-4566-96f4-8abe21c336da"
      },
      "outputs": [
        {
          "output_type": "execute_result",
          "data": {
            "text/plain": [
              "<tf.Tensor: shape=(3, 3), dtype=float32, numpy=\n",
              "array([[ 0.1956068 , -1.6649842 , -0.6412402 ],\n",
              "       [-0.19667937, -0.96673244,  0.7879124 ],\n",
              "       [ 1.2113066 ,  0.57480496,  0.8116904 ]], dtype=float32)>"
            ]
          },
          "metadata": {},
          "execution_count": 7
        }
      ],
      "source": [
        "rank_2"
      ]
    },
    {
      "cell_type": "code",
      "source": [
        "# 중앙의 값\n",
        "\n",
        "rank_2[1,1]"
      ],
      "metadata": {
        "colab": {
          "base_uri": "https://localhost:8080/"
        },
        "id": "exvpThggemWh",
        "outputId": "1a261d2a-5b61-4df7-a912-af40f56171c3"
      },
      "id": "exvpThggemWh",
      "execution_count": 8,
      "outputs": [
        {
          "output_type": "execute_result",
          "data": {
            "text/plain": [
              "<tf.Tensor: shape=(), dtype=float32, numpy=-0.96673244>"
            ]
          },
          "metadata": {},
          "execution_count": 8
        }
      ]
    },
    {
      "cell_type": "code",
      "execution_count": 9,
      "id": "887c9ebf",
      "metadata": {
        "colab": {
          "base_uri": "https://localhost:8080/"
        },
        "id": "887c9ebf",
        "outputId": "b73d3b1b-097b-462f-e3e4-e8c9b05d8ecd"
      },
      "outputs": [
        {
          "output_type": "execute_result",
          "data": {
            "text/plain": [
              "<tf.Tensor: shape=(3,), dtype=float32, numpy=array([ 0.1956068, -1.6649842, -0.6412402], dtype=float32)>"
            ]
          },
          "metadata": {},
          "execution_count": 9
        }
      ],
      "source": [
        "rank_2[0]"
      ]
    },
    {
      "cell_type": "code",
      "execution_count": 10,
      "id": "d6e00ecb",
      "metadata": {
        "colab": {
          "base_uri": "https://localhost:8080/"
        },
        "id": "d6e00ecb",
        "outputId": "05771ce8-f9f9-43d4-bd43-7a2cc9f7ea90"
      },
      "outputs": [
        {
          "output_type": "execute_result",
          "data": {
            "text/plain": [
              "<tf.Tensor: shape=(), dtype=float32, numpy=0.1956068>"
            ]
          },
          "metadata": {},
          "execution_count": 10
        }
      ],
      "source": [
        "rank_2[0, 0]"
      ]
    },
    {
      "cell_type": "code",
      "execution_count": null,
      "id": "ebfb703f",
      "metadata": {
        "id": "ebfb703f"
      },
      "outputs": [],
      "source": []
    },
    {
      "cell_type": "code",
      "execution_count": 11,
      "id": "a8e2bc76",
      "metadata": {
        "id": "a8e2bc76"
      },
      "outputs": [],
      "source": [
        "rank_3 = tf.random.normal((3, 3, 3))"
      ]
    },
    {
      "cell_type": "code",
      "execution_count": 12,
      "id": "b521b95b",
      "metadata": {
        "colab": {
          "base_uri": "https://localhost:8080/"
        },
        "id": "b521b95b",
        "outputId": "d9c5c84d-0612-4372-a185-68fc3eba5b20"
      },
      "outputs": [
        {
          "output_type": "execute_result",
          "data": {
            "text/plain": [
              "<tf.Tensor: shape=(3, 3, 3), dtype=float32, numpy=\n",
              "array([[[ 0.29864508,  0.60712355,  0.4981782 ],\n",
              "        [ 0.35562587,  1.216464  , -0.7182583 ],\n",
              "        [-0.08345941, -1.908295  ,  0.47373652]],\n",
              "\n",
              "       [[ 1.6115022 ,  0.30214235,  0.8587347 ],\n",
              "        [-1.1377591 , -0.08054514, -1.4224585 ],\n",
              "        [-0.6209164 , -0.62983066,  1.1635516 ]],\n",
              "\n",
              "       [[-0.07982248, -0.23376386,  0.60522807],\n",
              "        [-1.1477547 ,  0.24908201,  0.27922326],\n",
              "        [ 0.17970449,  0.41293985,  0.17307945]]], dtype=float32)>"
            ]
          },
          "metadata": {},
          "execution_count": 12
        }
      ],
      "source": [
        "rank_3"
      ]
    },
    {
      "cell_type": "code",
      "source": [
        "rank_3[1,1,2]"
      ],
      "metadata": {
        "colab": {
          "base_uri": "https://localhost:8080/"
        },
        "id": "qOtGOf-Hff1K",
        "outputId": "65dbf641-f3f0-4eee-915e-a33b22a5914f"
      },
      "id": "qOtGOf-Hff1K",
      "execution_count": 14,
      "outputs": [
        {
          "output_type": "execute_result",
          "data": {
            "text/plain": [
              "<tf.Tensor: shape=(), dtype=float32, numpy=-1.4224585>"
            ]
          },
          "metadata": {},
          "execution_count": 14
        }
      ]
    },
    {
      "cell_type": "code",
      "execution_count": null,
      "id": "58af702a",
      "metadata": {
        "id": "58af702a"
      },
      "outputs": [],
      "source": []
    },
    {
      "cell_type": "code",
      "execution_count": 15,
      "id": "beed0411",
      "metadata": {
        "id": "beed0411"
      },
      "outputs": [],
      "source": [
        "rank_4 = tf.random.normal((3, 3, 3, 3))"
      ]
    },
    {
      "cell_type": "code",
      "execution_count": 17,
      "id": "14a9b29a",
      "metadata": {
        "colab": {
          "base_uri": "https://localhost:8080/"
        },
        "id": "14a9b29a",
        "outputId": "a9848f30-a85e-478c-80c9-430606f29ff7"
      },
      "outputs": [
        {
          "output_type": "execute_result",
          "data": {
            "text/plain": [
              "<tf.Tensor: shape=(3, 3, 3, 3), dtype=float32, numpy=\n",
              "array([[[[-9.4028783e-01,  1.1796626e+00,  5.6787592e-01],\n",
              "         [-1.5804422e+00,  4.2516384e-01,  3.4847394e-01],\n",
              "         [ 1.8794473e-03, -2.1688492e+00, -5.8890474e-01]],\n",
              "\n",
              "        [[ 8.7653905e-01,  1.6725610e+00, -6.3037103e-01],\n",
              "         [ 4.9751621e-01,  5.7685125e-01, -1.1027012e+00],\n",
              "         [-6.8535489e-01,  3.9131176e-01,  1.4030033e+00]],\n",
              "\n",
              "        [[ 2.1948616e-01, -2.1615391e+00,  1.3711005e+00],\n",
              "         [-1.5820038e+00,  8.5939240e-01,  8.9341587e-01],\n",
              "         [ 6.1016190e-01,  1.8193495e-01, -1.6584094e-01]]],\n",
              "\n",
              "\n",
              "       [[[-2.8843083e+00,  2.8983729e-02,  1.8595110e+00],\n",
              "         [-2.8092906e-01, -3.6179480e-01, -1.1404532e+00],\n",
              "         [-1.9250419e+00, -5.0496899e-02,  9.1224414e-01]],\n",
              "\n",
              "        [[ 7.4830675e-01,  4.4694149e-01, -2.1010247e-01],\n",
              "         [-9.8911834e-01,  1.3127847e+00,  8.9708668e-01],\n",
              "         [ 1.8584548e+00, -9.7564012e-01,  1.0600127e+00]],\n",
              "\n",
              "        [[ 6.7520939e-02, -1.1852282e+00, -1.4062994e+00],\n",
              "         [ 4.5094463e-01,  5.8529186e-01,  6.9596189e-01],\n",
              "         [-9.9946368e-01, -8.6867034e-01, -1.9905297e+00]]],\n",
              "\n",
              "\n",
              "       [[[ 3.4754848e-01, -4.9591190e-01,  1.4919058e-02],\n",
              "         [-1.6397355e+00,  9.0312392e-01,  2.3293343e-01],\n",
              "         [-2.4338904e-01,  4.6844065e-01, -1.8996099e+00]],\n",
              "\n",
              "        [[-2.5258741e-01, -3.8626930e-01, -9.3779320e-01],\n",
              "         [-2.5220975e-01, -3.6872339e-01,  1.5984234e+00],\n",
              "         [-1.0138519e+00, -1.0438830e+00,  1.3965232e+00]],\n",
              "\n",
              "        [[-1.0192677e+00, -1.1061516e+00,  8.0461353e-01],\n",
              "         [-1.4415277e+00, -3.9949408e-01,  2.6007068e+00],\n",
              "         [-2.7561352e-01, -3.8489145e-01, -7.2491992e-01]]]],\n",
              "      dtype=float32)>"
            ]
          },
          "metadata": {},
          "execution_count": 17
        }
      ],
      "source": [
        "rank_4"
      ]
    },
    {
      "cell_type": "code",
      "source": [
        "rank_4[1,2,1,2]"
      ],
      "metadata": {
        "colab": {
          "base_uri": "https://localhost:8080/"
        },
        "id": "hHKvQzdCf2Aa",
        "outputId": "9b01f4be-023a-4184-9a54-e6c88197cdc1"
      },
      "id": "hHKvQzdCf2Aa",
      "execution_count": 16,
      "outputs": [
        {
          "output_type": "execute_result",
          "data": {
            "text/plain": [
              "<tf.Tensor: shape=(), dtype=float32, numpy=0.6959619>"
            ]
          },
          "metadata": {},
          "execution_count": 16
        }
      ]
    },
    {
      "cell_type": "code",
      "execution_count": null,
      "id": "a988bf20",
      "metadata": {
        "id": "a988bf20"
      },
      "outputs": [],
      "source": []
    },
    {
      "cell_type": "markdown",
      "id": "2b50e10d",
      "metadata": {
        "id": "2b50e10d"
      },
      "source": [
        "### **차원 축소 연산**\n",
        "\n",
        "* `tf.reduce_mean`: 설정한 축의 평균을 구한다.\n",
        "* `tf.reduce_max`: 설정한 축의 최댓값을 구한다.\n",
        "* `tf.reduce_min`: 설정한 축의 최솟값을 구한다.\n",
        "* `tf.reduce_prod`: 설정한 축의 요소를 모두 곱한 값을 구한다.\n",
        "* `tf.reduce_sum`: 설정한 축의 요소를 모두 더한 값을 구한다."
      ]
    },
    {
      "cell_type": "code",
      "source": [
        "a"
      ],
      "metadata": {
        "colab": {
          "base_uri": "https://localhost:8080/"
        },
        "id": "HM0JF0F_g8qZ",
        "outputId": "030b7415-e923-4bee-9b2e-c1eb7ee6edd2"
      },
      "id": "HM0JF0F_g8qZ",
      "execution_count": 18,
      "outputs": [
        {
          "output_type": "execute_result",
          "data": {
            "text/plain": [
              "<tf.Tensor: shape=(6,), dtype=int32, numpy=array([0, 1, 2, 3, 4, 5], dtype=int32)>"
            ]
          },
          "metadata": {},
          "execution_count": 18
        }
      ]
    },
    {
      "cell_type": "code",
      "execution_count": 19,
      "id": "a4056a5f",
      "metadata": {
        "colab": {
          "base_uri": "https://localhost:8080/"
        },
        "id": "a4056a5f",
        "outputId": "5c230b70-77c5-435a-e2bc-8531538aa249"
      },
      "outputs": [
        {
          "output_type": "execute_result",
          "data": {
            "text/plain": [
              "(<tf.Tensor: shape=(), dtype=int32, numpy=15>,)"
            ]
          },
          "metadata": {},
          "execution_count": 19
        }
      ],
      "source": [
        "tf.reduce_sum(a, axis=0),"
      ]
    },
    {
      "cell_type": "code",
      "execution_count": 20,
      "id": "0bd4e0b3",
      "metadata": {
        "colab": {
          "base_uri": "https://localhost:8080/"
        },
        "id": "0bd4e0b3",
        "outputId": "41bed0ff-cd4b-4a91-f7f6-424746aebd15"
      },
      "outputs": [
        {
          "output_type": "execute_result",
          "data": {
            "text/plain": [
              "<tf.Tensor: shape=(1,), dtype=int32, numpy=array([15], dtype=int32)>"
            ]
          },
          "metadata": {},
          "execution_count": 20
        }
      ],
      "source": [
        "# 차원을 유지하고 싶다면...\n",
        "\n",
        "tf.reduce_sum(a, axis=0, keepdims=True)"
      ]
    },
    {
      "cell_type": "code",
      "execution_count": 21,
      "id": "cdc61ead",
      "metadata": {
        "colab": {
          "base_uri": "https://localhost:8080/"
        },
        "id": "cdc61ead",
        "outputId": "3193ded4-c0ae-4947-800d-21d30029025b"
      },
      "outputs": [
        {
          "output_type": "execute_result",
          "data": {
            "text/plain": [
              "<tf.Tensor: shape=(2, 7), dtype=float32, numpy=\n",
              "array([[ 1.1079564 , -0.28696337,  0.13386111,  2.2797525 ,  0.05958601,\n",
              "         1.1391575 ,  1.4547833 ],\n",
              "       [ 0.308695  ,  0.18551877,  1.5702655 , -0.1896621 ,  0.4386407 ,\n",
              "        -1.359739  , -1.0493965 ]], dtype=float32)>"
            ]
          },
          "metadata": {},
          "execution_count": 21
        }
      ],
      "source": [
        "b = tf.random.normal((2,7))\n",
        "b"
      ]
    },
    {
      "cell_type": "code",
      "source": [
        "tf.reduce_mean(b, axis=0)"
      ],
      "metadata": {
        "colab": {
          "base_uri": "https://localhost:8080/"
        },
        "id": "F2RnJiEqhgp5",
        "outputId": "dea6ae53-0f8b-4161-c5b9-52af908e0d58"
      },
      "id": "F2RnJiEqhgp5",
      "execution_count": 22,
      "outputs": [
        {
          "output_type": "execute_result",
          "data": {
            "text/plain": [
              "<tf.Tensor: shape=(7,), dtype=float32, numpy=\n",
              "array([ 0.7083257 , -0.0507223 ,  0.8520633 ,  1.0450451 ,  0.24911337,\n",
              "       -0.11029071,  0.2026934 ], dtype=float32)>"
            ]
          },
          "metadata": {},
          "execution_count": 22
        }
      ]
    },
    {
      "cell_type": "code",
      "source": [
        "tf.reduce_mean(b, axis=1)"
      ],
      "metadata": {
        "colab": {
          "base_uri": "https://localhost:8080/"
        },
        "id": "qUPryGL2h29h",
        "outputId": "1c6667e4-be58-4ec8-bbbe-c9e35e68ad02"
      },
      "id": "qUPryGL2h29h",
      "execution_count": 23,
      "outputs": [
        {
          "output_type": "execute_result",
          "data": {
            "text/plain": [
              "<tf.Tensor: shape=(2,), dtype=float32, numpy=array([ 0.841162  , -0.01366821], dtype=float32)>"
            ]
          },
          "metadata": {},
          "execution_count": 23
        }
      ]
    },
    {
      "cell_type": "code",
      "source": [
        "c = tf.random.normal((2, 4, 3))\n",
        "c"
      ],
      "metadata": {
        "colab": {
          "base_uri": "https://localhost:8080/"
        },
        "id": "m8RXsptZh-Zp",
        "outputId": "59f58efa-120f-4426-ec4f-cc240fa3d443"
      },
      "id": "m8RXsptZh-Zp",
      "execution_count": 24,
      "outputs": [
        {
          "output_type": "execute_result",
          "data": {
            "text/plain": [
              "<tf.Tensor: shape=(2, 4, 3), dtype=float32, numpy=\n",
              "array([[[ 0.02705411, -0.1338259 , -0.28384113],\n",
              "        [ 2.0626218 ,  0.8332451 ,  0.19649807],\n",
              "        [-0.1080901 ,  0.2949258 , -1.9695839 ],\n",
              "        [ 0.93423873, -2.519091  ,  2.6448328 ]],\n",
              "\n",
              "       [[-0.25945604,  0.29232675, -0.6237756 ],\n",
              "        [-0.4349887 ,  2.0240366 ,  0.92180014],\n",
              "        [ 1.2656821 , -1.7330259 ,  0.29808694],\n",
              "        [-0.04835184, -1.1604881 ,  0.0819112 ]]], dtype=float32)>"
            ]
          },
          "metadata": {},
          "execution_count": 24
        }
      ]
    },
    {
      "cell_type": "code",
      "source": [
        "tf.reduce_mean(c, axis=0)"
      ],
      "metadata": {
        "colab": {
          "base_uri": "https://localhost:8080/"
        },
        "id": "BIJTthHEihKW",
        "outputId": "37a25d65-c74e-4fdc-98e5-63159c2a5059"
      },
      "id": "BIJTthHEihKW",
      "execution_count": 25,
      "outputs": [
        {
          "output_type": "execute_result",
          "data": {
            "text/plain": [
              "<tf.Tensor: shape=(4, 3), dtype=float32, numpy=\n",
              "array([[-0.11620096,  0.07925043, -0.45380837],\n",
              "       [ 0.81381655,  1.4286408 ,  0.5591491 ],\n",
              "       [ 0.578796  , -0.71905005, -0.83574843],\n",
              "       [ 0.44294345, -1.8397895 ,  1.363372  ]], dtype=float32)>"
            ]
          },
          "metadata": {},
          "execution_count": 25
        }
      ]
    },
    {
      "cell_type": "code",
      "source": [
        "tf.reduce_mean(c, axis=1)"
      ],
      "metadata": {
        "colab": {
          "base_uri": "https://localhost:8080/"
        },
        "id": "lujuhr5Yin2_",
        "outputId": "d77f07f6-c757-4c14-cb17-e20e43eb9051"
      },
      "id": "lujuhr5Yin2_",
      "execution_count": 26,
      "outputs": [
        {
          "output_type": "execute_result",
          "data": {
            "text/plain": [
              "<tf.Tensor: shape=(2, 3), dtype=float32, numpy=\n",
              "array([[ 0.72895616, -0.3811865 ,  0.14697647],\n",
              "       [ 0.13072138, -0.14428768,  0.16950567]], dtype=float32)>"
            ]
          },
          "metadata": {},
          "execution_count": 26
        }
      ]
    },
    {
      "cell_type": "code",
      "source": [
        "tf.reduce_mean(c, axis=2)"
      ],
      "metadata": {
        "colab": {
          "base_uri": "https://localhost:8080/"
        },
        "id": "wZD-_6vEiuUw",
        "outputId": "8fe6c603-a992-4c69-eeba-e73861590537"
      },
      "id": "wZD-_6vEiuUw",
      "execution_count": 27,
      "outputs": [
        {
          "output_type": "execute_result",
          "data": {
            "text/plain": [
              "<tf.Tensor: shape=(2, 4), dtype=float32, numpy=\n",
              "array([[-0.1302043 ,  1.0307883 , -0.5942494 ,  0.3533269 ],\n",
              "       [-0.1969683 ,  0.83694935, -0.05641896, -0.37564293]],\n",
              "      dtype=float32)>"
            ]
          },
          "metadata": {},
          "execution_count": 27
        }
      ]
    },
    {
      "cell_type": "code",
      "source": [],
      "metadata": {
        "id": "V80D5iMnjAEC"
      },
      "id": "V80D5iMnjAEC",
      "execution_count": null,
      "outputs": []
    },
    {
      "cell_type": "markdown",
      "id": "6719bd69",
      "metadata": {
        "id": "6719bd69"
      },
      "source": [
        "### 행렬 연산\n",
        "\n",
        "행렬과 관련된 연산\n",
        "\n",
        "* `tf.matmul`: 내적\n",
        "* `tf.linalg.inv`: 역행렬\n"
      ]
    },
    {
      "cell_type": "code",
      "execution_count": 28,
      "id": "d38b9776",
      "metadata": {
        "colab": {
          "base_uri": "https://localhost:8080/"
        },
        "id": "d38b9776",
        "outputId": "a71c9582-6af0-4b58-ab73-27d878bd9b52"
      },
      "outputs": [
        {
          "output_type": "execute_result",
          "data": {
            "text/plain": [
              "<tf.Tensor: shape=(2, 2), dtype=float32, numpy=\n",
              "array([[2., 2.],\n",
              "       [1., 1.]], dtype=float32)>"
            ]
          },
          "metadata": {},
          "execution_count": 28
        }
      ],
      "source": [
        "a = tf.constant([[2, 0], [0, 1]], dtype=tf.float32)\n",
        "b = tf.constant([[1, 1], [1, 1]], dtype=tf.float32)\n",
        "tf.matmul(a, b)"
      ]
    },
    {
      "cell_type": "code",
      "execution_count": 29,
      "id": "8af1362b",
      "metadata": {
        "colab": {
          "base_uri": "https://localhost:8080/"
        },
        "id": "8af1362b",
        "outputId": "ac5bbc5d-2a0b-4dba-aff4-38a9eebfd6e6"
      },
      "outputs": [
        {
          "output_type": "execute_result",
          "data": {
            "text/plain": [
              "<tf.Tensor: shape=(2, 2), dtype=float32, numpy=\n",
              "array([[0.5, 0. ],\n",
              "       [0. , 1. ]], dtype=float32)>"
            ]
          },
          "metadata": {},
          "execution_count": 29
        }
      ],
      "source": [
        "a = tf.constant([[2, 0], [0, 1]], dtype=tf.float32)\n",
        "tf.linalg.inv(a)"
      ]
    },
    {
      "cell_type": "code",
      "execution_count": null,
      "id": "1d89cc35",
      "metadata": {
        "id": "1d89cc35"
      },
      "outputs": [],
      "source": []
    },
    {
      "cell_type": "markdown",
      "id": "b253bf69",
      "metadata": {
        "id": "b253bf69"
      },
      "source": [
        "### 차원 변경\n",
        "\n",
        "**크기 및 차원을 바꾸는 명령**\n",
        " (잘 사용됩니다!!)\n",
        "\n",
        "이를 사용 할 때는 축을 잘 이해하고 사용하시면 좋습니다.\n",
        "\n",
        "* `tf.reshape`: 벡터 행렬의 크기 변환\n",
        "* `tf.transpose`: 전치 연산\n",
        "* `tf.expand_dims`: 지정한 축으로 차원을 추가 $~\\dashrightarrow~$ 데이터를 한 묶음으로 묶을 때 사용됨\n",
        "* `tf.squeeze`: 벡터로 차원을 축소"
      ]
    },
    {
      "cell_type": "code",
      "execution_count": 30,
      "id": "e542cd66",
      "metadata": {
        "scrolled": false,
        "colab": {
          "base_uri": "https://localhost:8080/"
        },
        "id": "e542cd66",
        "outputId": "3e73a87e-bfae-45b3-f220-5e61fa3a2010"
      },
      "outputs": [
        {
          "output_type": "stream",
          "name": "stdout",
          "text": [
            "a     : tf.Tensor([0 1 2 3 4 5], shape=(6,), dtype=int32) \n",
            "\n",
            "a_2d  : tf.Tensor(\n",
            "[[0 1 2]\n",
            " [3 4 5]], shape=(2, 3), dtype=int32) \n",
            "\n",
            "a_2d_t: tf.Tensor(\n",
            "[[0 3]\n",
            " [1 4]\n",
            " [2 5]], shape=(3, 2), dtype=int32) \n",
            "\n",
            "a_3d  : tf.Tensor(\n",
            "[[[0 1 2]\n",
            "  [3 4 5]]], shape=(1, 2, 3), dtype=int32) \n",
            "\n",
            "a_4d  : tf.Tensor(\n",
            "[[[[0]\n",
            "   [1]\n",
            "   [2]]\n",
            "\n",
            "  [[3]\n",
            "   [4]\n",
            "   [5]]]], shape=(1, 2, 3, 1), dtype=int32) \n",
            "\n",
            "a_1d  : tf.Tensor(\n",
            "[[0 1 2]\n",
            " [3 4 5]], shape=(2, 3), dtype=int32) \n",
            "\n"
          ]
        }
      ],
      "source": [
        "a = tf.range(6, dtype=tf.int32) #--> [0, 1, 2, 3, 4, 5]\n",
        "print(\"a     :\", a, \"\\n\")\n",
        "\n",
        "# reshape\n",
        "# 1차원 벡터는 2x3 크기의 2차원 행렬로 변환\n",
        "a_2d = tf.reshape(a, (2, 3))\n",
        "print(\"a_2d  :\", a_2d, \"\\n\")\n",
        "\n",
        "# transpose\n",
        "# 2x3 크기의 2차원 행렬을 3x2 크기의 2차원 행렬로 변환\n",
        "a_2d_t = tf.transpose(a_2d)\n",
        "print(\"a_2d_t:\", a_2d_t, \"\\n\")\n",
        "\n",
        "# expand_dims\n",
        "# 2x3 크기의 2차원 행렬을 1x2x3 크기의 3차원 행렬로 변환\n",
        "a_3d = tf.expand_dims(a_2d, 0) #--> 0번 axis에 차원 추가\n",
        "print(\"a_3d  :\", a_3d, \"\\n\")\n",
        "\n",
        "# 1x2x3 크기의 3차원 행렬을 1x2x3x1 크기의 4차원 행렬로 변환\n",
        "a_4d = tf.expand_dims(a_3d, 3) #--> 3번 axis에 차원 추가, 3대신 -1로 써도 됨.\n",
        "print(\"a_4d  :\", a_4d, \"\\n\")\n",
        "\n",
        "# squeeze\n",
        "# 1x2x3x1 크기의 4차원 행렬을 1차원 벡터로 변환\n",
        "a_1d = tf.squeeze(a_4d)\n",
        "print(\"a_1d  :\", a_1d, \"\\n\")"
      ]
    },
    {
      "cell_type": "code",
      "execution_count": 31,
      "id": "a2151df1",
      "metadata": {
        "colab": {
          "base_uri": "https://localhost:8080/"
        },
        "id": "a2151df1",
        "outputId": "c3feaebb-409e-408e-bf53-a6dd55c461aa"
      },
      "outputs": [
        {
          "output_type": "execute_result",
          "data": {
            "text/plain": [
              "<tf.Tensor: shape=(2, 3, 1), dtype=int32, numpy=\n",
              "array([[[0],\n",
              "        [1],\n",
              "        [2]],\n",
              "\n",
              "       [[3],\n",
              "        [4],\n",
              "        [5]]], dtype=int32)>"
            ]
          },
          "metadata": {},
          "execution_count": 31
        }
      ],
      "source": [
        "tf.squeeze(a_4d, axis=0)"
      ]
    },
    {
      "cell_type": "code",
      "source": [
        "# shape=1 일 때만 squeeze() 적용 가능\n",
        "# a_4d의 axis=2의 shape=3이므로 에러 발생\n",
        "\n",
        "tf.squeeze(a_4d, axis=2)"
      ],
      "metadata": {
        "colab": {
          "base_uri": "https://localhost:8080/",
          "height": 339
        },
        "id": "1OJzKSA6lcVh",
        "outputId": "3c323b95-fcdd-4f7f-ab0c-8c51cb4389b9"
      },
      "id": "1OJzKSA6lcVh",
      "execution_count": 32,
      "outputs": [
        {
          "output_type": "error",
          "ename": "InvalidArgumentError",
          "evalue": "{{function_node __wrapped__Squeeze_device_/job:localhost/replica:0/task:0/device:CPU:0}} Can not squeeze dim[2], expected a dimension of 1, got 3 [Op:Squeeze] name: ",
          "traceback": [
            "\u001b[0;31m---------------------------------------------------------------------------\u001b[0m",
            "\u001b[0;31mInvalidArgumentError\u001b[0m                      Traceback (most recent call last)",
            "\u001b[0;32m<ipython-input-32-94f26138fcf7>\u001b[0m in \u001b[0;36m<cell line: 4>\u001b[0;34m()\u001b[0m\n\u001b[1;32m      2\u001b[0m \u001b[0;31m# a_4d의 axis=2의 shape=3이므로 에러 발생\u001b[0m\u001b[0;34m\u001b[0m\u001b[0;34m\u001b[0m\u001b[0m\n\u001b[1;32m      3\u001b[0m \u001b[0;34m\u001b[0m\u001b[0m\n\u001b[0;32m----> 4\u001b[0;31m \u001b[0mtf\u001b[0m\u001b[0;34m.\u001b[0m\u001b[0msqueeze\u001b[0m\u001b[0;34m(\u001b[0m\u001b[0ma_4d\u001b[0m\u001b[0;34m,\u001b[0m \u001b[0maxis\u001b[0m\u001b[0;34m=\u001b[0m\u001b[0;36m2\u001b[0m\u001b[0;34m)\u001b[0m\u001b[0;34m\u001b[0m\u001b[0;34m\u001b[0m\u001b[0m\n\u001b[0m",
            "\u001b[0;32m/usr/local/lib/python3.10/dist-packages/tensorflow/python/ops/weak_tensor_ops.py\u001b[0m in \u001b[0;36mwrapper\u001b[0;34m(*args, **kwargs)\u001b[0m\n\u001b[1;32m     86\u001b[0m   \u001b[0;32mdef\u001b[0m \u001b[0mwrapper\u001b[0m\u001b[0;34m(\u001b[0m\u001b[0;34m*\u001b[0m\u001b[0margs\u001b[0m\u001b[0;34m,\u001b[0m \u001b[0;34m**\u001b[0m\u001b[0mkwargs\u001b[0m\u001b[0;34m)\u001b[0m\u001b[0;34m:\u001b[0m\u001b[0;34m\u001b[0m\u001b[0;34m\u001b[0m\u001b[0m\n\u001b[1;32m     87\u001b[0m     \u001b[0;32mif\u001b[0m \u001b[0;32mnot\u001b[0m \u001b[0mops\u001b[0m\u001b[0;34m.\u001b[0m\u001b[0mis_auto_dtype_conversion_enabled\u001b[0m\u001b[0;34m(\u001b[0m\u001b[0;34m)\u001b[0m\u001b[0;34m:\u001b[0m\u001b[0;34m\u001b[0m\u001b[0;34m\u001b[0m\u001b[0m\n\u001b[0;32m---> 88\u001b[0;31m       \u001b[0;32mreturn\u001b[0m \u001b[0mop\u001b[0m\u001b[0;34m(\u001b[0m\u001b[0;34m*\u001b[0m\u001b[0margs\u001b[0m\u001b[0;34m,\u001b[0m \u001b[0;34m**\u001b[0m\u001b[0mkwargs\u001b[0m\u001b[0;34m)\u001b[0m\u001b[0;34m\u001b[0m\u001b[0;34m\u001b[0m\u001b[0m\n\u001b[0m\u001b[1;32m     89\u001b[0m     \u001b[0mbound_arguments\u001b[0m \u001b[0;34m=\u001b[0m \u001b[0msignature\u001b[0m\u001b[0;34m.\u001b[0m\u001b[0mbind\u001b[0m\u001b[0;34m(\u001b[0m\u001b[0;34m*\u001b[0m\u001b[0margs\u001b[0m\u001b[0;34m,\u001b[0m \u001b[0;34m**\u001b[0m\u001b[0mkwargs\u001b[0m\u001b[0;34m)\u001b[0m\u001b[0;34m\u001b[0m\u001b[0;34m\u001b[0m\u001b[0m\n\u001b[1;32m     90\u001b[0m     \u001b[0mbound_arguments\u001b[0m\u001b[0;34m.\u001b[0m\u001b[0mapply_defaults\u001b[0m\u001b[0;34m(\u001b[0m\u001b[0;34m)\u001b[0m\u001b[0;34m\u001b[0m\u001b[0;34m\u001b[0m\u001b[0m\n",
            "\u001b[0;32m/usr/local/lib/python3.10/dist-packages/tensorflow/python/util/traceback_utils.py\u001b[0m in \u001b[0;36merror_handler\u001b[0;34m(*args, **kwargs)\u001b[0m\n\u001b[1;32m    151\u001b[0m     \u001b[0;32mexcept\u001b[0m \u001b[0mException\u001b[0m \u001b[0;32mas\u001b[0m \u001b[0me\u001b[0m\u001b[0;34m:\u001b[0m\u001b[0;34m\u001b[0m\u001b[0;34m\u001b[0m\u001b[0m\n\u001b[1;32m    152\u001b[0m       \u001b[0mfiltered_tb\u001b[0m \u001b[0;34m=\u001b[0m \u001b[0m_process_traceback_frames\u001b[0m\u001b[0;34m(\u001b[0m\u001b[0me\u001b[0m\u001b[0;34m.\u001b[0m\u001b[0m__traceback__\u001b[0m\u001b[0;34m)\u001b[0m\u001b[0;34m\u001b[0m\u001b[0;34m\u001b[0m\u001b[0m\n\u001b[0;32m--> 153\u001b[0;31m       \u001b[0;32mraise\u001b[0m \u001b[0me\u001b[0m\u001b[0;34m.\u001b[0m\u001b[0mwith_traceback\u001b[0m\u001b[0;34m(\u001b[0m\u001b[0mfiltered_tb\u001b[0m\u001b[0;34m)\u001b[0m \u001b[0;32mfrom\u001b[0m \u001b[0;32mNone\u001b[0m\u001b[0;34m\u001b[0m\u001b[0;34m\u001b[0m\u001b[0m\n\u001b[0m\u001b[1;32m    154\u001b[0m     \u001b[0;32mfinally\u001b[0m\u001b[0;34m:\u001b[0m\u001b[0;34m\u001b[0m\u001b[0;34m\u001b[0m\u001b[0m\n\u001b[1;32m    155\u001b[0m       \u001b[0;32mdel\u001b[0m \u001b[0mfiltered_tb\u001b[0m\u001b[0;34m\u001b[0m\u001b[0;34m\u001b[0m\u001b[0m\n",
            "\u001b[0;32m/usr/local/lib/python3.10/dist-packages/tensorflow/python/framework/ops.py\u001b[0m in \u001b[0;36mraise_from_not_ok_status\u001b[0;34m(e, name)\u001b[0m\n\u001b[1;32m   5881\u001b[0m \u001b[0;32mdef\u001b[0m \u001b[0mraise_from_not_ok_status\u001b[0m\u001b[0;34m(\u001b[0m\u001b[0me\u001b[0m\u001b[0;34m,\u001b[0m \u001b[0mname\u001b[0m\u001b[0;34m)\u001b[0m \u001b[0;34m->\u001b[0m \u001b[0mNoReturn\u001b[0m\u001b[0;34m:\u001b[0m\u001b[0;34m\u001b[0m\u001b[0;34m\u001b[0m\u001b[0m\n\u001b[1;32m   5882\u001b[0m   \u001b[0me\u001b[0m\u001b[0;34m.\u001b[0m\u001b[0mmessage\u001b[0m \u001b[0;34m+=\u001b[0m \u001b[0;34m(\u001b[0m\u001b[0;34m\" name: \"\u001b[0m \u001b[0;34m+\u001b[0m \u001b[0mstr\u001b[0m\u001b[0;34m(\u001b[0m\u001b[0mname\u001b[0m \u001b[0;32mif\u001b[0m \u001b[0mname\u001b[0m \u001b[0;32mis\u001b[0m \u001b[0;32mnot\u001b[0m \u001b[0;32mNone\u001b[0m \u001b[0;32melse\u001b[0m \u001b[0;34m\"\"\u001b[0m\u001b[0;34m)\u001b[0m\u001b[0;34m)\u001b[0m\u001b[0;34m\u001b[0m\u001b[0;34m\u001b[0m\u001b[0m\n\u001b[0;32m-> 5883\u001b[0;31m   \u001b[0;32mraise\u001b[0m \u001b[0mcore\u001b[0m\u001b[0;34m.\u001b[0m\u001b[0m_status_to_exception\u001b[0m\u001b[0;34m(\u001b[0m\u001b[0me\u001b[0m\u001b[0;34m)\u001b[0m \u001b[0;32mfrom\u001b[0m \u001b[0;32mNone\u001b[0m  \u001b[0;31m# pylint: disable=protected-access\u001b[0m\u001b[0;34m\u001b[0m\u001b[0;34m\u001b[0m\u001b[0m\n\u001b[0m\u001b[1;32m   5884\u001b[0m \u001b[0;34m\u001b[0m\u001b[0m\n\u001b[1;32m   5885\u001b[0m \u001b[0;34m\u001b[0m\u001b[0m\n",
            "\u001b[0;31mInvalidArgumentError\u001b[0m: {{function_node __wrapped__Squeeze_device_/job:localhost/replica:0/task:0/device:CPU:0}} Can not squeeze dim[2], expected a dimension of 1, got 3 [Op:Squeeze] name: "
          ]
        }
      ]
    },
    {
      "cell_type": "code",
      "source": [],
      "metadata": {
        "id": "YeDih0oQl4lM"
      },
      "id": "YeDih0oQl4lM",
      "execution_count": null,
      "outputs": []
    },
    {
      "cell_type": "markdown",
      "id": "a28010f6",
      "metadata": {
        "id": "a28010f6"
      },
      "source": [
        "### Tensor 나누기/합치기\n",
        "\n",
        "**텐서를 나누거나 두 개 이상의 텐서를 합치는 명령**\n",
        "\n",
        "* `tf.slice`: 특정 부분을 추출\n",
        "* `tf.split`: 분할\n",
        "* `tf.concat`: 합치기\n",
        "* `tf.tile`: 복제-붙이기\n",
        "* `tf.stack`: 합성\n",
        "* `tf.unstack`: 분리"
      ]
    },
    {
      "cell_type": "code",
      "execution_count": 33,
      "id": "43b6714a",
      "metadata": {
        "colab": {
          "base_uri": "https://localhost:8080/"
        },
        "id": "43b6714a",
        "outputId": "5cdcc4f8-5ed3-4007-d00c-bddb97ba44c2"
      },
      "outputs": [
        {
          "output_type": "execute_result",
          "data": {
            "text/plain": [
              "<tf.Tensor: shape=(3, 4), dtype=int32, numpy=\n",
              "array([[ 0,  1,  2,  3],\n",
              "       [ 4,  5,  6,  7],\n",
              "       [ 8,  9, 10, 11]], dtype=int32)>"
            ]
          },
          "metadata": {},
          "execution_count": 33
        }
      ],
      "source": [
        "a = tf.reshape(tf.range(12), (3, 4))\n",
        "a"
      ]
    },
    {
      "cell_type": "code",
      "execution_count": 34,
      "id": "64f3f37d",
      "metadata": {
        "colab": {
          "base_uri": "https://localhost:8080/"
        },
        "id": "64f3f37d",
        "outputId": "cf80f71d-7904-4dd7-fc98-ae0ee2608d6f"
      },
      "outputs": [
        {
          "output_type": "execute_result",
          "data": {
            "text/plain": [
              "<tf.Tensor: shape=(2, 3), dtype=int32, numpy=\n",
              "array([[1, 2, 3],\n",
              "       [5, 6, 7]], dtype=int32)>"
            ]
          },
          "metadata": {},
          "execution_count": 34
        }
      ],
      "source": [
        "tf.slice(a, begin=[0, 1], size=[2, 3]) #--> (0, 1)위치에서 (2개 rows, 3개 cols)만큼 뽑아낸다."
      ]
    },
    {
      "cell_type": "code",
      "execution_count": 35,
      "id": "aa42eeb3",
      "metadata": {
        "colab": {
          "base_uri": "https://localhost:8080/"
        },
        "id": "aa42eeb3",
        "outputId": "ccc4a2dc-1307-46a7-ecc7-acf31651900b"
      },
      "outputs": [
        {
          "output_type": "stream",
          "name": "stdout",
          "text": [
            "tf.Tensor(\n",
            "[[0 1]\n",
            " [4 5]\n",
            " [8 9]], shape=(3, 2), dtype=int32)\n",
            "tf.Tensor(\n",
            "[[ 2  3]\n",
            " [ 6  7]\n",
            " [10 11]], shape=(3, 2), dtype=int32)\n"
          ]
        }
      ],
      "source": [
        "a1, a2 = tf.split(a, num_or_size_splits=2, axis=1)  # 세로축(axis=1)을 따라 2개로 분할\n",
        "print(a1)\n",
        "print(a2)"
      ]
    },
    {
      "cell_type": "code",
      "execution_count": 36,
      "id": "db1ca1d0",
      "metadata": {
        "colab": {
          "base_uri": "https://localhost:8080/"
        },
        "id": "db1ca1d0",
        "outputId": "53b00118-59de-49e6-a9a8-91f3fe87ac04"
      },
      "outputs": [
        {
          "output_type": "execute_result",
          "data": {
            "text/plain": [
              "<tf.Tensor: shape=(3, 4), dtype=int32, numpy=\n",
              "array([[ 0,  1,  2,  3],\n",
              "       [ 4,  5,  6,  7],\n",
              "       [ 8,  9, 10, 11]], dtype=int32)>"
            ]
          },
          "metadata": {},
          "execution_count": 36
        }
      ],
      "source": [
        "tf.concat([a1, a2], axis=1) # 세로축(axis=1)을 따라 a1, a2를 합치기"
      ]
    },
    {
      "cell_type": "code",
      "source": [
        "tf.concat([a1, a2], axis=0)"
      ],
      "metadata": {
        "colab": {
          "base_uri": "https://localhost:8080/"
        },
        "id": "BEbfIGmBoK7s",
        "outputId": "8c9bca23-a3bc-4c75-8ab2-2cf148e1faab"
      },
      "id": "BEbfIGmBoK7s",
      "execution_count": 37,
      "outputs": [
        {
          "output_type": "execute_result",
          "data": {
            "text/plain": [
              "<tf.Tensor: shape=(6, 2), dtype=int32, numpy=\n",
              "array([[ 0,  1],\n",
              "       [ 4,  5],\n",
              "       [ 8,  9],\n",
              "       [ 2,  3],\n",
              "       [ 6,  7],\n",
              "       [10, 11]], dtype=int32)>"
            ]
          },
          "metadata": {},
          "execution_count": 37
        }
      ]
    },
    {
      "cell_type": "code",
      "source": [
        "a1"
      ],
      "metadata": {
        "colab": {
          "base_uri": "https://localhost:8080/"
        },
        "id": "TswJpUFPoVhl",
        "outputId": "14e76d00-dc69-4958-c677-b3530fa182bb"
      },
      "id": "TswJpUFPoVhl",
      "execution_count": 38,
      "outputs": [
        {
          "output_type": "execute_result",
          "data": {
            "text/plain": [
              "<tf.Tensor: shape=(3, 2), dtype=int32, numpy=\n",
              "array([[0, 1],\n",
              "       [4, 5],\n",
              "       [8, 9]], dtype=int32)>"
            ]
          },
          "metadata": {},
          "execution_count": 38
        }
      ]
    },
    {
      "cell_type": "code",
      "execution_count": 39,
      "id": "26922c48",
      "metadata": {
        "colab": {
          "base_uri": "https://localhost:8080/"
        },
        "id": "26922c48",
        "outputId": "5d451dba-0dc1-434e-abf0-ec2a379bfa89"
      },
      "outputs": [
        {
          "output_type": "execute_result",
          "data": {
            "text/plain": [
              "<tf.Tensor: shape=(3, 6), dtype=int32, numpy=\n",
              "array([[0, 1, 0, 1, 0, 1],\n",
              "       [4, 5, 4, 5, 4, 5],\n",
              "       [8, 9, 8, 9, 8, 9]], dtype=int32)>"
            ]
          },
          "metadata": {},
          "execution_count": 39
        }
      ],
      "source": [
        "tf.tile(a1, [1, 3])  # (axis=1)을 따라 3개로 복사-붙이기"
      ]
    },
    {
      "cell_type": "code",
      "execution_count": 41,
      "id": "383dc585",
      "metadata": {
        "colab": {
          "base_uri": "https://localhost:8080/"
        },
        "id": "383dc585",
        "outputId": "d7735718-ac03-4d80-938c-9729b2f4f05b"
      },
      "outputs": [
        {
          "output_type": "execute_result",
          "data": {
            "text/plain": [
              "<tf.Tensor: shape=(2, 3, 2), dtype=int32, numpy=\n",
              "array([[[ 0,  1],\n",
              "        [ 4,  5],\n",
              "        [ 8,  9]],\n",
              "\n",
              "       [[ 2,  3],\n",
              "        [ 6,  7],\n",
              "        [10, 11]]], dtype=int32)>"
            ]
          },
          "metadata": {},
          "execution_count": 41
        }
      ],
      "source": [
        "a3 = tf.stack([a1, a2])  # 3x2 행렬 a1, a2를 추가적인 차원으로 붙여서 2x3x2 고차원 텐서 생성\n",
        "a3"
      ]
    },
    {
      "cell_type": "code",
      "execution_count": 42,
      "id": "2759d577",
      "metadata": {
        "colab": {
          "base_uri": "https://localhost:8080/"
        },
        "id": "2759d577",
        "outputId": "25c99b02-6587-4069-ea57-8424e094ad3e"
      },
      "outputs": [
        {
          "output_type": "execute_result",
          "data": {
            "text/plain": [
              "[<tf.Tensor: shape=(2, 2), dtype=int32, numpy=\n",
              " array([[0, 1],\n",
              "        [2, 3]], dtype=int32)>,\n",
              " <tf.Tensor: shape=(2, 2), dtype=int32, numpy=\n",
              " array([[4, 5],\n",
              "        [6, 7]], dtype=int32)>,\n",
              " <tf.Tensor: shape=(2, 2), dtype=int32, numpy=\n",
              " array([[ 8,  9],\n",
              "        [10, 11]], dtype=int32)>]"
            ]
          },
          "metadata": {},
          "execution_count": 42
        }
      ],
      "source": [
        "tf.unstack(a3, axis=1)\n",
        "# 2x3x2 고차원 텐서에서 axis=1에 해당하는 3을 0차원으로 풀어서 3개의 2x2 행렬 생성"
      ]
    },
    {
      "cell_type": "code",
      "execution_count": null,
      "id": "609e5fea",
      "metadata": {
        "id": "609e5fea"
      },
      "outputs": [],
      "source": []
    },
    {
      "cell_type": "markdown",
      "id": "0111dfac",
      "metadata": {
        "id": "0111dfac"
      },
      "source": [
        "### 간단 퀴즈\n",
        "\n",
        "다음 코드를 에러 없이 실행하라."
      ]
    },
    {
      "cell_type": "code",
      "execution_count": 45,
      "id": "b05ad9e0",
      "metadata": {
        "id": "b05ad9e0"
      },
      "outputs": [],
      "source": [
        "a = tf.constant(((1, 2, 3), (1, 2, 3)))\n",
        "b = tf.constant([1, 2, 3])\n",
        "\n",
        "# tf.matmul(a, b)"
      ]
    },
    {
      "cell_type": "markdown",
      "id": "a7fe4d91",
      "metadata": {
        "id": "a7fe4d91"
      },
      "source": [
        "-----"
      ]
    },
    {
      "cell_type": "code",
      "source": [
        "a"
      ],
      "metadata": {
        "colab": {
          "base_uri": "https://localhost:8080/"
        },
        "id": "Y9RMMiRUplcR",
        "outputId": "42669eaa-e4e1-4f38-9789-b17fdf43f8a5"
      },
      "id": "Y9RMMiRUplcR",
      "execution_count": 46,
      "outputs": [
        {
          "output_type": "execute_result",
          "data": {
            "text/plain": [
              "<tf.Tensor: shape=(2, 3), dtype=int32, numpy=\n",
              "array([[1, 2, 3],\n",
              "       [1, 2, 3]], dtype=int32)>"
            ]
          },
          "metadata": {},
          "execution_count": 46
        }
      ]
    },
    {
      "cell_type": "code",
      "source": [
        "tf.expand_dims(b, axis=1)"
      ],
      "metadata": {
        "colab": {
          "base_uri": "https://localhost:8080/"
        },
        "id": "nfl_0UffpkuE",
        "outputId": "2f857f39-8b25-475c-ac3b-013789168a5a"
      },
      "id": "nfl_0UffpkuE",
      "execution_count": 47,
      "outputs": [
        {
          "output_type": "execute_result",
          "data": {
            "text/plain": [
              "<tf.Tensor: shape=(3, 1), dtype=int32, numpy=\n",
              "array([[1],\n",
              "       [2],\n",
              "       [3]], dtype=int32)>"
            ]
          },
          "metadata": {},
          "execution_count": 47
        }
      ]
    },
    {
      "cell_type": "code",
      "execution_count": 48,
      "id": "d9124f61",
      "metadata": {
        "colab": {
          "base_uri": "https://localhost:8080/"
        },
        "id": "d9124f61",
        "outputId": "c1d1760f-c60d-4f08-e50c-8ff754373930"
      },
      "outputs": [
        {
          "output_type": "execute_result",
          "data": {
            "text/plain": [
              "<tf.Tensor: shape=(2, 1), dtype=int32, numpy=\n",
              "array([[14],\n",
              "       [14]], dtype=int32)>"
            ]
          },
          "metadata": {},
          "execution_count": 48
        }
      ],
      "source": [
        "tf.matmul(a, tf.expand_dims(b, axis=1))"
      ]
    },
    {
      "cell_type": "code",
      "execution_count": null,
      "id": "8691f37b",
      "metadata": {
        "id": "8691f37b"
      },
      "outputs": [],
      "source": []
    },
    {
      "cell_type": "code",
      "execution_count": null,
      "id": "e4ff63b7",
      "metadata": {
        "id": "e4ff63b7"
      },
      "outputs": [],
      "source": []
    }
  ],
  "metadata": {
    "kernelspec": {
      "display_name": "Python 3 (ipykernel)",
      "language": "python",
      "name": "python3"
    },
    "language_info": {
      "codemirror_mode": {
        "name": "ipython",
        "version": 3
      },
      "file_extension": ".py",
      "mimetype": "text/x-python",
      "name": "python",
      "nbconvert_exporter": "python",
      "pygments_lexer": "ipython3",
      "version": "3.9.9"
    },
    "toc": {
      "base_numbering": 1,
      "nav_menu": {},
      "number_sections": true,
      "sideBar": true,
      "skip_h1_title": false,
      "title_cell": "Table of Contents",
      "title_sidebar": "Contents",
      "toc_cell": false,
      "toc_position": {
        "height": "calc(100% - 180px)",
        "left": "10px",
        "top": "150px",
        "width": "205.312px"
      },
      "toc_section_display": true,
      "toc_window_display": true
    },
    "varInspector": {
      "cols": {
        "lenName": 16,
        "lenType": 16,
        "lenVar": 40
      },
      "kernels_config": {
        "python": {
          "delete_cmd_postfix": "",
          "delete_cmd_prefix": "del ",
          "library": "var_list.py",
          "varRefreshCmd": "print(var_dic_list())"
        },
        "r": {
          "delete_cmd_postfix": ") ",
          "delete_cmd_prefix": "rm(",
          "library": "var_list.r",
          "varRefreshCmd": "cat(var_dic_list()) "
        }
      },
      "types_to_exclude": [
        "module",
        "function",
        "builtin_function_or_method",
        "instance",
        "_Feature"
      ],
      "window_display": false
    },
    "colab": {
      "provenance": [],
      "toc_visible": true,
      "include_colab_link": true
    }
  },
  "nbformat": 4,
  "nbformat_minor": 5
}