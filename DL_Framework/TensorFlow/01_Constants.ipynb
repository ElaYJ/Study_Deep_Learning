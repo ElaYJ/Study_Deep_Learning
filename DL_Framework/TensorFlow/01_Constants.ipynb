{
  "cells": [
    {
      "cell_type": "markdown",
      "metadata": {
        "id": "view-in-github",
        "colab_type": "text"
      },
      "source": [
        "<a href=\"https://colab.research.google.com/github/ElaYJ/Study_Deep_Learning/blob/main/DL_Framework/TensorFlow/01_Constants.ipynb\" target=\"_parent\"><img src=\"https://colab.research.google.com/assets/colab-badge.svg\" alt=\"Open In Colab\"/></a>"
      ]
    },
    {
      "cell_type": "markdown",
      "id": "874c79aa",
      "metadata": {
        "id": "874c79aa"
      },
      "source": [
        "# Constants"
      ]
    },
    {
      "cell_type": "code",
      "execution_count": 1,
      "id": "64973dd4",
      "metadata": {
        "colab": {
          "base_uri": "https://localhost:8080/"
        },
        "id": "64973dd4",
        "outputId": "f4d4ee32-df7c-4637-c3a8-0e84a35cdfe2"
      },
      "outputs": [
        {
          "output_type": "stream",
          "name": "stdout",
          "text": [
            "2.15.0\n"
          ]
        }
      ],
      "source": [
        "import numpy as np\n",
        "import tensorflow as tf\n",
        "\n",
        "print(tf.__version__)"
      ]
    },
    {
      "cell_type": "markdown",
      "id": "da4d6dd2",
      "metadata": {
        "id": "da4d6dd2"
      },
      "source": [
        "## Tensor"
      ]
    },
    {
      "cell_type": "markdown",
      "id": "093978d8",
      "metadata": {
        "id": "093978d8"
      },
      "source": [
        "- Deeplearning framework는 기본적으로 Tensor를 다루는 도구다.\n",
        "    - [Tensor](https://www.google.com/search?q=Tensor&newwindow=1&sxsrf=AOaemvLxCRvi46j5dRtWwY8K6ssvkpF48A:1641452781782&source=lnms&tbm=isch&sa=X&ved=2ahUKEwin2eSPyJz1AhXNdd4KHWzUAd8Q_AUoAXoECAIQAw&biw=1440&bih=820&dpr=2)\n",
        "\n",
        "\n",
        "- Tensor를 다룰 때 가장 중요한 것!\n",
        "\n",
        "  ${\\rightarrow} \\ $ **SHAPE !!!**\n",
        "  \n",
        " (해보면 알겠지만, 제일 에러 많이 나는 이유, 제일 헷갈리는 것, 개발할 때 우리가 이론을 알아야 하는 이유, 함수들의 설정값을 확인해야하는 이유)\n",
        "\n",
        ""
      ]
    },
    {
      "cell_type": "markdown",
      "id": "3907c01d",
      "metadata": {
        "id": "3907c01d"
      },
      "source": [
        "## Tensor 생성"
      ]
    },
    {
      "cell_type": "markdown",
      "id": "7ed66109",
      "metadata": {
        "id": "7ed66109"
      },
      "source": [
        "우리가 생성하는 것은 `tf.Tensor` 데이터!"
      ]
    },
    {
      "cell_type": "markdown",
      "id": "a902cacd",
      "metadata": {
        "id": "a902cacd"
      },
      "source": [
        "**항상 체크 해야 할 것 !**\n",
        " - shape\n",
        " - dtype (데이터 타입이 같아야 연산이 가능합니다.)"
      ]
    },
    {
      "cell_type": "markdown",
      "id": "4da46b25",
      "metadata": {
        "id": "4da46b25"
      },
      "source": [
        "## Constant (상수)\n",
        "\n",
        "- 기존 python의 list, tuple, array(numpy)로 Tensor 상수 만들기\n",
        "\n",
        "- **```tf.constant()```**\n",
        "\n",
        "    - list -> Tensor\n",
        "    - tuple -> Tensor\n",
        "    - Array -> Tensor"
      ]
    },
    {
      "cell_type": "code",
      "execution_count": 2,
      "id": "f1da2ea9",
      "metadata": {
        "colab": {
          "base_uri": "https://localhost:8080/"
        },
        "id": "f1da2ea9",
        "outputId": "cabf55e3-abda-423b-96ee-0279e964a2ea"
      },
      "outputs": [
        {
          "output_type": "execute_result",
          "data": {
            "text/plain": [
              "<tf.Tensor: shape=(3,), dtype=int32, numpy=array([1, 2, 3], dtype=int32)>"
            ]
          },
          "metadata": {},
          "execution_count": 2
        }
      ],
      "source": [
        "li_ten = tf.constant([1, 2, 3])\n",
        "li_ten"
      ]
    },
    {
      "cell_type": "code",
      "execution_count": 3,
      "id": "94433696",
      "metadata": {
        "colab": {
          "base_uri": "https://localhost:8080/"
        },
        "id": "94433696",
        "outputId": "ac910f6e-fe3c-48a1-d21b-360af1d540dd"
      },
      "outputs": [
        {
          "output_type": "execute_result",
          "data": {
            "text/plain": [
              "<tf.Tensor: shape=(3,), dtype=float32, numpy=array([1., 2., 3.], dtype=float32)>"
            ]
          },
          "metadata": {},
          "execution_count": 3
        }
      ],
      "source": [
        "li_ten_f = tf.constant([1., 2., 3.])\n",
        "li_ten_f"
      ]
    },
    {
      "cell_type": "code",
      "execution_count": 4,
      "id": "036f4faa",
      "metadata": {
        "colab": {
          "base_uri": "https://localhost:8080/"
        },
        "id": "036f4faa",
        "outputId": "ece1fe66-441b-45a5-bbb6-a3db09866bcf"
      },
      "outputs": [
        {
          "output_type": "execute_result",
          "data": {
            "text/plain": [
              "<tf.Tensor: shape=(2, 3), dtype=int32, numpy=\n",
              "array([[1, 2, 3],\n",
              "       [1, 2, 3]], dtype=int32)>"
            ]
          },
          "metadata": {},
          "execution_count": 4
        }
      ],
      "source": [
        "tu_ten = tf.constant(((1, 2, 3), (1, 2, 3)), name=\"sample\")\n",
        "tu_ten"
      ]
    },
    {
      "cell_type": "code",
      "execution_count": 5,
      "id": "cb81c7eb",
      "metadata": {
        "colab": {
          "base_uri": "https://localhost:8080/"
        },
        "id": "cb81c7eb",
        "outputId": "5a3de31f-3cd8-481d-c4f5-f2cf45ad4f40"
      },
      "outputs": [
        {
          "output_type": "execute_result",
          "data": {
            "text/plain": [
              "<tf.Tensor: shape=(3,), dtype=float64, numpy=array([1., 2., 3.])>"
            ]
          },
          "metadata": {},
          "execution_count": 5
        }
      ],
      "source": [
        "arr = np.array([1., 2., 3.])#, dtype='float64')\n",
        "arr_ten = tf.constant(arr)\n",
        "arr_ten"
      ]
    },
    {
      "cell_type": "markdown",
      "id": "23aa3174",
      "metadata": {
        "id": "23aa3174"
      },
      "source": [
        "#### 잠깐 옆으로 새서...\n",
        "* double precision : 64bits\n",
        "* single precision : 32bits\n",
        "* half precision   : 16bits"
      ]
    },
    {
      "cell_type": "code",
      "execution_count": null,
      "id": "445c00b0",
      "metadata": {
        "id": "445c00b0"
      },
      "outputs": [],
      "source": []
    },
    {
      "cell_type": "markdown",
      "id": "a39b8eae",
      "metadata": {
        "id": "a39b8eae"
      },
      "source": [
        "### Numpy array 추출\n",
        "\n",
        "- tf.Tensor에는 `numpy()`라는 메서드가 있다."
      ]
    },
    {
      "cell_type": "code",
      "execution_count": 6,
      "id": "83b36c1c",
      "metadata": {
        "colab": {
          "base_uri": "https://localhost:8080/"
        },
        "id": "83b36c1c",
        "outputId": "b49ebda3-cd4c-410a-d1b8-9a8ef7b4b3e8"
      },
      "outputs": [
        {
          "output_type": "execute_result",
          "data": {
            "text/plain": [
              "(array([1., 2., 3.]), numpy.ndarray)"
            ]
          },
          "metadata": {},
          "execution_count": 6
        }
      ],
      "source": [
        "arr_ten.numpy(), type(arr_ten.numpy())"
      ]
    },
    {
      "cell_type": "code",
      "execution_count": 7,
      "id": "c3dc3fd8",
      "metadata": {
        "colab": {
          "base_uri": "https://localhost:8080/"
        },
        "id": "c3dc3fd8",
        "outputId": "107773b5-8d2b-4fec-ce93-221217293a60"
      },
      "outputs": [
        {
          "output_type": "execute_result",
          "data": {
            "text/plain": [
              "(array([1, 2, 3], dtype=int32), numpy.ndarray)"
            ]
          },
          "metadata": {},
          "execution_count": 7
        }
      ],
      "source": [
        "li_ten.numpy(), type(li_ten.numpy())"
      ]
    },
    {
      "cell_type": "code",
      "execution_count": 9,
      "id": "7e5e33c2",
      "metadata": {
        "id": "7e5e33c2"
      },
      "outputs": [],
      "source": [
        "not_a_matrix = [[1,2,3], [4, 5], [6, 7, 8]]\n",
        "# tf.constant(not_a_matrix)\n",
        "#--> ValueError: Can't convert non-rectangular Python sequence to Tensor."
      ]
    },
    {
      "cell_type": "code",
      "execution_count": null,
      "id": "942c9361",
      "metadata": {
        "id": "942c9361"
      },
      "outputs": [],
      "source": []
    },
    {
      "cell_type": "markdown",
      "id": "1c356a83",
      "metadata": {
        "id": "1c356a83"
      },
      "source": [
        "### shape, dtype 항상 체크!!\n",
        "\n",
        "- shape이나 data-type이 일치하지 않으면 연산 불가능~!\n",
        "\n",
        "- rank 수(ndim)가 맞지 않아도 연산이 불가능하다."
      ]
    },
    {
      "cell_type": "code",
      "execution_count": 10,
      "id": "59c55661",
      "metadata": {
        "colab": {
          "base_uri": "https://localhost:8080/"
        },
        "id": "59c55661",
        "outputId": "7a69817b-eb4a-45b7-b569-2ca302e2ccc9"
      },
      "outputs": [
        {
          "output_type": "execute_result",
          "data": {
            "text/plain": [
              "(TensorShape([3]), TensorShape([2, 3]), TensorShape([3]))"
            ]
          },
          "metadata": {},
          "execution_count": 10
        }
      ],
      "source": [
        "li_ten.shape, tu_ten.shape, arr_ten.shape"
      ]
    },
    {
      "cell_type": "code",
      "execution_count": null,
      "id": "cf4c62eb",
      "metadata": {
        "id": "cf4c62eb",
        "outputId": "850ea732-b47b-47f2-cea7-6c75aea2a095"
      },
      "outputs": [
        {
          "data": {
            "text/plain": [
              "(tf.float64, tf.int32)"
            ]
          },
          "execution_count": 14,
          "metadata": {},
          "output_type": "execute_result"
        }
      ],
      "source": [
        "arr_ten.dtype, li_ten.dtype"
      ]
    },
    {
      "cell_type": "code",
      "execution_count": 15,
      "id": "c7287754",
      "metadata": {
        "id": "c7287754"
      },
      "outputs": [],
      "source": [
        "# 1번 케이스\n",
        "# (1x3) · (2x3) : metrix가 내적이 불가능한 형태\n",
        "# InvalidArgumentError: In[0] and In[1] has different ndims: [3] vs. [2,3]\n",
        "\n",
        "# tf.matmul(li_ten, tu_ten)"
      ]
    },
    {
      "cell_type": "code",
      "execution_count": 14,
      "id": "a999f6e5",
      "metadata": {
        "id": "a999f6e5"
      },
      "outputs": [],
      "source": [
        "# 2번 케이스\n",
        "\n",
        "# tf.matmul(tu_ten, li_ten)"
      ]
    },
    {
      "cell_type": "code",
      "execution_count": 12,
      "id": "cb21fbc2",
      "metadata": {
        "colab": {
          "base_uri": "https://localhost:8080/"
        },
        "id": "cb21fbc2",
        "outputId": "a4e26ccd-9958-4df2-8a0c-d214d2bfd420"
      },
      "outputs": [
        {
          "output_type": "stream",
          "name": "stdout",
          "text": [
            "1\n",
            "2\n"
          ]
        }
      ],
      "source": [
        "# 차원수 확인 : ndim\n",
        "\n",
        "print(li_ten.ndim)\n",
        "print(tu_ten.ndim)"
      ]
    },
    {
      "cell_type": "code",
      "execution_count": null,
      "id": "808843ec",
      "metadata": {
        "id": "808843ec"
      },
      "outputs": [],
      "source": [
        "# 3번 케이스\n",
        "# float63 x int32 : dtype이 다르면 연산이 불가능하다.\n",
        "\n",
        "# arr_ten * li_ten"
      ]
    },
    {
      "cell_type": "code",
      "source": [],
      "metadata": {
        "id": "m9fhBYCNNgY2"
      },
      "id": "m9fhBYCNNgY2",
      "execution_count": null,
      "outputs": []
    },
    {
      "cell_type": "markdown",
      "id": "c3babfd8",
      "metadata": {
        "id": "c3babfd8"
      },
      "source": [
        "### 데이터 타입 컨트롤하는 방법\n",
        "  - `tf.cast`"
      ]
    },
    {
      "cell_type": "code",
      "execution_count": 16,
      "id": "0c2cf3cb",
      "metadata": {
        "colab": {
          "base_uri": "https://localhost:8080/"
        },
        "id": "0c2cf3cb",
        "outputId": "c0d46769-8b25-441a-8050-aabb63803bd6"
      },
      "outputs": [
        {
          "output_type": "execute_result",
          "data": {
            "text/plain": [
              "<tf.Tensor: shape=(3,), dtype=float32, numpy=array([1., 2., 3.], dtype=float32)>"
            ]
          },
          "metadata": {},
          "execution_count": 16
        }
      ],
      "source": [
        "# 미리 지정해주거나\n",
        "tensor = tf.constant([1, 2, 3], dtype=tf.float32)\n",
        "tensor"
      ]
    },
    {
      "cell_type": "code",
      "execution_count": 17,
      "id": "b4982741",
      "metadata": {
        "colab": {
          "base_uri": "https://localhost:8080/"
        },
        "id": "b4982741",
        "outputId": "e9df9188-52ff-490e-e363-bf8d59035a0c"
      },
      "outputs": [
        {
          "output_type": "execute_result",
          "data": {
            "text/plain": [
              "<tf.Tensor: shape=(3,), dtype=int16, numpy=array([1, 2, 3], dtype=int16)>"
            ]
          },
          "metadata": {},
          "execution_count": 17
        }
      ],
      "source": [
        "# tf.cast를 사용. 다만, 많은 경우 미리 데이터타입을 정리해둘 수 있다.\n",
        "tf.cast(tensor, dtype=tf.int16)"
      ]
    },
    {
      "cell_type": "code",
      "execution_count": null,
      "id": "792ad7c9",
      "metadata": {
        "id": "792ad7c9"
      },
      "outputs": [],
      "source": []
    },
    {
      "cell_type": "markdown",
      "id": "63b5855f",
      "metadata": {
        "id": "63b5855f"
      },
      "source": [
        "#### 간단 퀴즈\n",
        "\n",
        "아래 코드를 에러 없이 실행 하시오."
      ]
    },
    {
      "cell_type": "code",
      "execution_count": 18,
      "id": "0145cabe",
      "metadata": {
        "colab": {
          "base_uri": "https://localhost:8080/"
        },
        "id": "0145cabe",
        "outputId": "6cc8c476-52b2-4306-e881-2ba6b0a39dfd"
      },
      "outputs": [
        {
          "output_type": "execute_result",
          "data": {
            "text/plain": [
              "(<tf.Tensor: shape=(3,), dtype=float64, numpy=array([1., 2., 3.])>,\n",
              " <tf.Tensor: shape=(3,), dtype=int32, numpy=array([1, 2, 3], dtype=int32)>)"
            ]
          },
          "metadata": {},
          "execution_count": 18
        }
      ],
      "source": [
        "arr_ten, li_ten"
      ]
    },
    {
      "cell_type": "code",
      "execution_count": null,
      "id": "2956a85a",
      "metadata": {
        "id": "2956a85a",
        "outputId": "59326d27-dbeb-4445-b431-b858f495c6ab"
      },
      "outputs": [
        {
          "ename": "InvalidArgumentError",
          "evalue": "cannot compute Mul as input #1(zero-based) was expected to be a double tensor but is a int32 tensor [Op:Mul]",
          "output_type": "error",
          "traceback": [
            "\u001b[0;31m---------------------------------------------------------------------------\u001b[0m",
            "\u001b[0;31mInvalidArgumentError\u001b[0m                      Traceback (most recent call last)",
            "\u001b[0;32m/var/folders/jw/90llkwyx0s15yv61kvs2dqk00000gn/T/ipykernel_81683/791220602.py\u001b[0m in \u001b[0;36m<module>\u001b[0;34m\u001b[0m\n\u001b[0;32m----> 1\u001b[0;31m \u001b[0marr_ten\u001b[0m \u001b[0;34m*\u001b[0m \u001b[0mli_ten\u001b[0m\u001b[0;34m\u001b[0m\u001b[0;34m\u001b[0m\u001b[0m\n\u001b[0m",
            "\u001b[0;32m/usr/local/lib/python3.9/site-packages/tensorflow/python/util/traceback_utils.py\u001b[0m in \u001b[0;36merror_handler\u001b[0;34m(*args, **kwargs)\u001b[0m\n\u001b[1;32m    151\u001b[0m     \u001b[0;32mexcept\u001b[0m \u001b[0mException\u001b[0m \u001b[0;32mas\u001b[0m \u001b[0me\u001b[0m\u001b[0;34m:\u001b[0m\u001b[0;34m\u001b[0m\u001b[0;34m\u001b[0m\u001b[0m\n\u001b[1;32m    152\u001b[0m       \u001b[0mfiltered_tb\u001b[0m \u001b[0;34m=\u001b[0m \u001b[0m_process_traceback_frames\u001b[0m\u001b[0;34m(\u001b[0m\u001b[0me\u001b[0m\u001b[0;34m.\u001b[0m\u001b[0m__traceback__\u001b[0m\u001b[0;34m)\u001b[0m\u001b[0;34m\u001b[0m\u001b[0;34m\u001b[0m\u001b[0m\n\u001b[0;32m--> 153\u001b[0;31m       \u001b[0;32mraise\u001b[0m \u001b[0me\u001b[0m\u001b[0;34m.\u001b[0m\u001b[0mwith_traceback\u001b[0m\u001b[0;34m(\u001b[0m\u001b[0mfiltered_tb\u001b[0m\u001b[0;34m)\u001b[0m \u001b[0;32mfrom\u001b[0m \u001b[0;32mNone\u001b[0m\u001b[0;34m\u001b[0m\u001b[0;34m\u001b[0m\u001b[0m\n\u001b[0m\u001b[1;32m    154\u001b[0m     \u001b[0;32mfinally\u001b[0m\u001b[0;34m:\u001b[0m\u001b[0;34m\u001b[0m\u001b[0;34m\u001b[0m\u001b[0m\n\u001b[1;32m    155\u001b[0m       \u001b[0;32mdel\u001b[0m \u001b[0mfiltered_tb\u001b[0m\u001b[0;34m\u001b[0m\u001b[0;34m\u001b[0m\u001b[0m\n",
            "\u001b[0;32m/usr/local/lib/python3.9/site-packages/tensorflow/python/framework/ops.py\u001b[0m in \u001b[0;36mraise_from_not_ok_status\u001b[0;34m(e, name)\u001b[0m\n\u001b[1;32m   7105\u001b[0m \u001b[0;32mdef\u001b[0m \u001b[0mraise_from_not_ok_status\u001b[0m\u001b[0;34m(\u001b[0m\u001b[0me\u001b[0m\u001b[0;34m,\u001b[0m \u001b[0mname\u001b[0m\u001b[0;34m)\u001b[0m\u001b[0;34m:\u001b[0m\u001b[0;34m\u001b[0m\u001b[0;34m\u001b[0m\u001b[0m\n\u001b[1;32m   7106\u001b[0m   \u001b[0me\u001b[0m\u001b[0;34m.\u001b[0m\u001b[0mmessage\u001b[0m \u001b[0;34m+=\u001b[0m \u001b[0;34m(\u001b[0m\u001b[0;34m\" name: \"\u001b[0m \u001b[0;34m+\u001b[0m \u001b[0mname\u001b[0m \u001b[0;32mif\u001b[0m \u001b[0mname\u001b[0m \u001b[0;32mis\u001b[0m \u001b[0;32mnot\u001b[0m \u001b[0;32mNone\u001b[0m \u001b[0;32melse\u001b[0m \u001b[0;34m\"\"\u001b[0m\u001b[0;34m)\u001b[0m\u001b[0;34m\u001b[0m\u001b[0;34m\u001b[0m\u001b[0m\n\u001b[0;32m-> 7107\u001b[0;31m   \u001b[0;32mraise\u001b[0m \u001b[0mcore\u001b[0m\u001b[0;34m.\u001b[0m\u001b[0m_status_to_exception\u001b[0m\u001b[0;34m(\u001b[0m\u001b[0me\u001b[0m\u001b[0;34m)\u001b[0m \u001b[0;32mfrom\u001b[0m \u001b[0;32mNone\u001b[0m  \u001b[0;31m# pylint: disable=protected-access\u001b[0m\u001b[0;34m\u001b[0m\u001b[0;34m\u001b[0m\u001b[0m\n\u001b[0m\u001b[1;32m   7108\u001b[0m \u001b[0;34m\u001b[0m\u001b[0m\n\u001b[1;32m   7109\u001b[0m \u001b[0;34m\u001b[0m\u001b[0m\n",
            "\u001b[0;31mInvalidArgumentError\u001b[0m: cannot compute Mul as input #1(zero-based) was expected to be a double tensor but is a int32 tensor [Op:Mul]"
          ]
        }
      ],
      "source": [
        "arr_ten * li_ten"
      ]
    },
    {
      "cell_type": "code",
      "execution_count": 19,
      "id": "c103c075",
      "metadata": {
        "colab": {
          "base_uri": "https://localhost:8080/"
        },
        "id": "c103c075",
        "outputId": "9e43373f-3944-4b55-9c63-319ecb45b9a9"
      },
      "outputs": [
        {
          "output_type": "execute_result",
          "data": {
            "text/plain": [
              "<tf.Tensor: shape=(3,), dtype=float64, numpy=array([1., 4., 9.])>"
            ]
          },
          "metadata": {},
          "execution_count": 19
        }
      ],
      "source": [
        "# 해설\n",
        "\n",
        "arr_ten * tf.cast(li_ten, tf.float64)"
      ]
    },
    {
      "cell_type": "code",
      "execution_count": null,
      "id": "1f55bdd6",
      "metadata": {
        "id": "1f55bdd6"
      },
      "outputs": [],
      "source": []
    },
    {
      "cell_type": "markdown",
      "id": "ba8e4a02",
      "metadata": {
        "id": "ba8e4a02"
      },
      "source": [
        "### 특정 값의 Tensor 생성\n",
        "\n",
        " - `tf.ones`\n",
        " - `tf.zeros`\n",
        " - `tf.range`\n"
      ]
    },
    {
      "cell_type": "code",
      "execution_count": 20,
      "id": "32b491d4",
      "metadata": {
        "colab": {
          "base_uri": "https://localhost:8080/"
        },
        "id": "32b491d4",
        "outputId": "3aa96f22-7922-4271-e187-eaad77f0db4f"
      },
      "outputs": [
        {
          "output_type": "execute_result",
          "data": {
            "text/plain": [
              "<tf.Tensor: shape=(1,), dtype=float32, numpy=array([1.], dtype=float32)>"
            ]
          },
          "metadata": {},
          "execution_count": 20
        }
      ],
      "source": [
        "tf.ones(1)"
      ]
    },
    {
      "cell_type": "code",
      "source": [
        "tf.ones(10)"
      ],
      "metadata": {
        "colab": {
          "base_uri": "https://localhost:8080/"
        },
        "id": "MFxH7i3pRtA6",
        "outputId": "14c5b28a-5c61-42ee-e241-40ca1adc7d99"
      },
      "id": "MFxH7i3pRtA6",
      "execution_count": 31,
      "outputs": [
        {
          "output_type": "execute_result",
          "data": {
            "text/plain": [
              "<tf.Tensor: shape=(10,), dtype=float32, numpy=array([1., 1., 1., 1., 1., 1., 1., 1., 1., 1.], dtype=float32)>"
            ]
          },
          "metadata": {},
          "execution_count": 31
        }
      ]
    },
    {
      "cell_type": "code",
      "execution_count": 21,
      "id": "eb35e22a",
      "metadata": {
        "colab": {
          "base_uri": "https://localhost:8080/"
        },
        "id": "eb35e22a",
        "outputId": "944849f1-10b2-48f7-9e82-bf8e68844428"
      },
      "outputs": [
        {
          "output_type": "execute_result",
          "data": {
            "text/plain": [
              "<tf.Tensor: shape=(2, 5), dtype=int32, numpy=\n",
              "array([[0, 0, 0, 0, 0],\n",
              "       [0, 0, 0, 0, 0]], dtype=int32)>"
            ]
          },
          "metadata": {},
          "execution_count": 21
        }
      ],
      "source": [
        "tf.zeros((2, 5), dtype=\"int32\")"
      ]
    },
    {
      "cell_type": "code",
      "execution_count": 22,
      "id": "e9fe0255",
      "metadata": {
        "colab": {
          "base_uri": "https://localhost:8080/"
        },
        "id": "e9fe0255",
        "outputId": "df6197f8-282b-46a0-febf-052a09655332"
      },
      "outputs": [
        {
          "output_type": "execute_result",
          "data": {
            "text/plain": [
              "<tf.Tensor: shape=(10,), dtype=int32, numpy=array([0, 1, 2, 3, 4, 5, 6, 7, 8, 9], dtype=int32)>"
            ]
          },
          "metadata": {},
          "execution_count": 22
        }
      ],
      "source": [
        "tf.range(10)"
      ]
    },
    {
      "cell_type": "code",
      "execution_count": 23,
      "id": "12b880bc",
      "metadata": {
        "colab": {
          "base_uri": "https://localhost:8080/"
        },
        "id": "12b880bc",
        "outputId": "cccf2ea2-b8c7-4d94-d9f3-64ba7b4317e5"
      },
      "outputs": [
        {
          "output_type": "execute_result",
          "data": {
            "text/plain": [
              "<tf.Tensor: shape=(10,), dtype=int32, numpy=array([ 1,  2,  3,  4,  5,  6,  7,  8,  9, 10], dtype=int32)>"
            ]
          },
          "metadata": {},
          "execution_count": 23
        }
      ],
      "source": [
        "tf.range(1, 11)"
      ]
    },
    {
      "cell_type": "code",
      "execution_count": null,
      "id": "b4b6113b",
      "metadata": {
        "id": "b4b6113b"
      },
      "outputs": [],
      "source": []
    },
    {
      "cell_type": "markdown",
      "id": "76d8fcc5",
      "metadata": {
        "id": "76d8fcc5"
      },
      "source": [
        "####  간단 퀴즈"
      ]
    },
    {
      "cell_type": "markdown",
      "id": "58619add",
      "metadata": {
        "id": "58619add"
      },
      "source": [
        "**n 을 입력하면 첫항이 1이고 공비가 2인 등비수열을 생성하는 함수를 만드시오**\n",
        "(이 때 결과값은 tf.Tensor 데이터이고, 데이터 타입은 tf.int32)\n",
        "\n",
        "$$\n",
        "n = 10 \\ 일 때 \\\\ \\\\\n",
        "(1,~2,~4,~8,~16,~32,~64,~128,~256,~512)\n",
        "$$"
      ]
    },
    {
      "cell_type": "code",
      "execution_count": 26,
      "id": "a7da07a0",
      "metadata": {
        "id": "a7da07a0"
      },
      "outputs": [],
      "source": [
        "def geometric_sequence(n):\n",
        "    result = [1,]\n",
        "    a=1\n",
        "    for i in range(n-1):\n",
        "        a *= 2\n",
        "        result.append(a)\n",
        "    return tf.constant(result, dtype='int32')"
      ]
    },
    {
      "cell_type": "code",
      "execution_count": 27,
      "id": "b708c70b",
      "metadata": {
        "colab": {
          "base_uri": "https://localhost:8080/"
        },
        "id": "b708c70b",
        "outputId": "7e051e77-1fa8-440a-d0a3-55dedc8dd00f"
      },
      "outputs": [
        {
          "output_type": "stream",
          "name": "stdout",
          "text": [
            "tf.Tensor([  1   2   4   8  16  32  64 128 256 512], shape=(10,), dtype=int32)\n"
          ]
        }
      ],
      "source": [
        "print(geometric_sequence(10))"
      ]
    },
    {
      "cell_type": "markdown",
      "id": "aabbc751",
      "metadata": {
        "id": "aabbc751"
      },
      "source": [
        "-----"
      ]
    },
    {
      "cell_type": "code",
      "execution_count": 28,
      "id": "a33b0a63",
      "metadata": {
        "id": "a33b0a63"
      },
      "outputs": [],
      "source": [
        "def geometric_sequence(n):\n",
        "    r = tf.range(n, dtype='int32')\n",
        "    s = tf.ones(n, dtype=tf.int32) * 2\n",
        "    return s**r\n"
      ]
    },
    {
      "cell_type": "code",
      "source": [
        "tf.range(10, dtype='int32')"
      ],
      "metadata": {
        "colab": {
          "base_uri": "https://localhost:8080/"
        },
        "id": "wHampLeHRecP",
        "outputId": "2e37ac7a-033e-4a2a-a287-a38ed88fba0e"
      },
      "id": "wHampLeHRecP",
      "execution_count": 29,
      "outputs": [
        {
          "output_type": "execute_result",
          "data": {
            "text/plain": [
              "<tf.Tensor: shape=(10,), dtype=int32, numpy=array([0, 1, 2, 3, 4, 5, 6, 7, 8, 9], dtype=int32)>"
            ]
          },
          "metadata": {},
          "execution_count": 29
        }
      ]
    },
    {
      "cell_type": "code",
      "source": [
        "tf.ones(10, dtype=tf.int32)"
      ],
      "metadata": {
        "colab": {
          "base_uri": "https://localhost:8080/"
        },
        "id": "aNe7js-PRgx4",
        "outputId": "ab5bed59-33f6-4799-ffde-cace8029e6b3"
      },
      "id": "aNe7js-PRgx4",
      "execution_count": 30,
      "outputs": [
        {
          "output_type": "execute_result",
          "data": {
            "text/plain": [
              "<tf.Tensor: shape=(10,), dtype=int32, numpy=array([1, 1, 1, 1, 1, 1, 1, 1, 1, 1], dtype=int32)>"
            ]
          },
          "metadata": {},
          "execution_count": 30
        }
      ]
    },
    {
      "cell_type": "code",
      "source": [
        "tf.ones(10, dtype=tf.int32) * 2"
      ],
      "metadata": {
        "colab": {
          "base_uri": "https://localhost:8080/"
        },
        "id": "IGo87HEHRkVU",
        "outputId": "85f717c7-8abe-4074-a2a7-8ee0008798e3"
      },
      "id": "IGo87HEHRkVU",
      "execution_count": 32,
      "outputs": [
        {
          "output_type": "execute_result",
          "data": {
            "text/plain": [
              "<tf.Tensor: shape=(10,), dtype=int32, numpy=array([2, 2, 2, 2, 2, 2, 2, 2, 2, 2], dtype=int32)>"
            ]
          },
          "metadata": {},
          "execution_count": 32
        }
      ]
    },
    {
      "cell_type": "code",
      "execution_count": 33,
      "id": "f9e4b8a1",
      "metadata": {
        "colab": {
          "base_uri": "https://localhost:8080/"
        },
        "id": "f9e4b8a1",
        "outputId": "b2095fcd-779c-42fd-80cd-35528e8d317c"
      },
      "outputs": [
        {
          "output_type": "stream",
          "name": "stdout",
          "text": [
            "tf.Tensor([  1   2   4   8  16  32  64 128 256 512], shape=(10,), dtype=int32)\n"
          ]
        }
      ],
      "source": [
        "print(geometric_sequence(10))"
      ]
    },
    {
      "cell_type": "code",
      "execution_count": null,
      "id": "3dbb1ce3",
      "metadata": {
        "id": "3dbb1ce3"
      },
      "outputs": [],
      "source": []
    },
    {
      "cell_type": "code",
      "execution_count": null,
      "id": "7c512a01",
      "metadata": {
        "id": "7c512a01"
      },
      "outputs": [],
      "source": []
    },
    {
      "cell_type": "markdown",
      "id": "f7d17ca6",
      "metadata": {
        "id": "f7d17ca6"
      },
      "source": [
        "## Random Value(난수)\n",
        "\n",
        "- 무작위 값을 생성할 때 필요.\n",
        "- Noise를 재현 한다거나, test를 한다거나 할 때 많이 사용됨\n",
        "- 데이터 타입은 상수형태로 반환됨<br></br>\n",
        "\n",
        "**`tf.random`** 에 구현 되어 있음.\n",
        "\n",
        "  - `tf.random.normal`\n",
        "      - Gaussian Normal Distribution\n",
        "      \n",
        "  - `tf.random.uniform`\n",
        "      - Uniform Distribution\n",
        "      \n",
        "> 이렇게나 많습니다! [LINK](https://www.tensorflow.org/api_docs/python/tf/random)"
      ]
    },
    {
      "cell_type": "code",
      "execution_count": 34,
      "id": "994abe4d",
      "metadata": {
        "id": "994abe4d"
      },
      "outputs": [],
      "source": [
        "shape = (3, 3)"
      ]
    },
    {
      "cell_type": "code",
      "execution_count": 35,
      "id": "566a27b7",
      "metadata": {
        "colab": {
          "base_uri": "https://localhost:8080/"
        },
        "id": "566a27b7",
        "outputId": "78f2c2cd-d946-4a48-c02e-bce3676b7c30"
      },
      "outputs": [
        {
          "output_type": "execute_result",
          "data": {
            "text/plain": [
              "<tf.Tensor: shape=(3, 3), dtype=float32, numpy=\n",
              "array([[ 0.34185266,  0.27840805,  0.05853431],\n",
              "       [-2.2830732 , -0.20140494, -0.41426593],\n",
              "       [-1.2484925 , -0.88472223,  1.8271574 ]], dtype=float32)>"
            ]
          },
          "metadata": {},
          "execution_count": 35
        }
      ],
      "source": [
        "tf.random.normal(shape)"
      ]
    },
    {
      "cell_type": "code",
      "source": [
        "tf.random.normal(shape, mean=100, stddev=10)"
      ],
      "metadata": {
        "colab": {
          "base_uri": "https://localhost:8080/"
        },
        "id": "owYj4OHyTtnv",
        "outputId": "635ad100-ecfb-4b09-9c48-046e04de1ea2"
      },
      "id": "owYj4OHyTtnv",
      "execution_count": 36,
      "outputs": [
        {
          "output_type": "execute_result",
          "data": {
            "text/plain": [
              "<tf.Tensor: shape=(3, 3), dtype=float32, numpy=\n",
              "array([[101.03205 ,  84.10386 ,  97.208855],\n",
              "       [ 97.99629 , 118.16855 ,  78.99282 ],\n",
              "       [ 92.93791 ,  83.00777 ,  76.499825]], dtype=float32)>"
            ]
          },
          "metadata": {},
          "execution_count": 36
        }
      ]
    },
    {
      "cell_type": "markdown",
      "id": "2eaa38cb",
      "metadata": {
        "id": "2eaa38cb"
      },
      "source": [
        "- tf.random.uniform\n",
        "    - TensorFlow에서 Uniform Distribution"
      ]
    },
    {
      "cell_type": "code",
      "execution_count": 37,
      "id": "88f7a8d8",
      "metadata": {
        "colab": {
          "base_uri": "https://localhost:8080/"
        },
        "id": "88f7a8d8",
        "outputId": "a6232e6f-29cc-4d67-aac0-850973dfb022"
      },
      "outputs": [
        {
          "output_type": "execute_result",
          "data": {
            "text/plain": [
              "<tf.Tensor: shape=(3, 3), dtype=float32, numpy=\n",
              "array([[0.27665615, 0.3536346 , 0.7579843 ],\n",
              "       [0.34038734, 0.6704452 , 0.5172585 ],\n",
              "       [0.88530135, 0.92387855, 0.7281867 ]], dtype=float32)>"
            ]
          },
          "metadata": {},
          "execution_count": 37
        }
      ],
      "source": [
        "tf.random.uniform(shape)"
      ]
    },
    {
      "cell_type": "code",
      "execution_count": null,
      "id": "c143198c",
      "metadata": {
        "id": "c143198c"
      },
      "outputs": [],
      "source": []
    },
    {
      "cell_type": "markdown",
      "id": "d6a68fcc",
      "metadata": {
        "id": "d6a68fcc"
      },
      "source": [
        "### **Random seed 관리 하기!!!**\n",
        "\n",
        "- Random value로 보통 가중치를 초기화\n",
        "- 이외에도 학습과정에서 Random value가 많이 사용됨.\n",
        "- 이를 관리 안해주면, 자신이 했던 작업이 동일하게 복구 또는 재현이 안됨!!!\n",
        "\n",
        "- **`tf.random.set_seed({seed_number})`**\n",
        "\n",
        "    **=> 항상 Random seed를 고정해두고 개발 한다!!!**\n",
        "   \n",
        "    (주의 할 점은 해당 개발물에 사용되는 난수가 모두 TensorFlow에서 생성된것이 아닐 수 있다는 것이다.)"
      ]
    },
    {
      "cell_type": "code",
      "execution_count": 38,
      "id": "6e0b3f17",
      "metadata": {
        "id": "6e0b3f17"
      },
      "outputs": [],
      "source": [
        "seed = 7777"
      ]
    },
    {
      "cell_type": "code",
      "execution_count": 39,
      "id": "e2924cb0",
      "metadata": {
        "colab": {
          "base_uri": "https://localhost:8080/"
        },
        "id": "e2924cb0",
        "outputId": "444a8070-907f-4e17-af5e-c6609e68b36b"
      },
      "outputs": [
        {
          "output_type": "stream",
          "name": "stdout",
          "text": [
            "tf.Tensor([0.959749], shape=(1,), dtype=float32)\n",
            "tf.Tensor([0.8677443], shape=(1,), dtype=float32)\n"
          ]
        }
      ],
      "source": [
        "tf.random.set_seed(seed)\n",
        "a = tf.random.uniform([1])\n",
        "b = tf.random.uniform([1])\n",
        "print(a, b, sep=\"\\n\")"
      ]
    },
    {
      "cell_type": "code",
      "execution_count": 40,
      "id": "11d41a95",
      "metadata": {
        "colab": {
          "base_uri": "https://localhost:8080/"
        },
        "id": "11d41a95",
        "outputId": "35ed4abd-c4d6-4e75-a092-a7cdfdfad924"
      },
      "outputs": [
        {
          "output_type": "stream",
          "name": "stdout",
          "text": [
            "tf.Tensor([0.22878075], shape=(1,), dtype=float32)\n",
            "tf.Tensor([0.87772965], shape=(1,), dtype=float32)\n"
          ]
        }
      ],
      "source": [
        "a = tf.random.uniform([1])\n",
        "b = tf.random.uniform([1])\n",
        "print(a, b, sep=\"\\n\")"
      ]
    },
    {
      "cell_type": "code",
      "execution_count": 41,
      "id": "225f8ea2",
      "metadata": {
        "colab": {
          "base_uri": "https://localhost:8080/"
        },
        "id": "225f8ea2",
        "outputId": "83f9a167-9323-4e51-ace6-4df3b53605fa"
      },
      "outputs": [
        {
          "output_type": "stream",
          "name": "stdout",
          "text": [
            "tf.Tensor([0.959749], shape=(1,), dtype=float32)\n",
            "tf.Tensor([0.8677443], shape=(1,), dtype=float32)\n"
          ]
        }
      ],
      "source": [
        "tf.random.set_seed(seed)\n",
        "a = tf.random.uniform([1])\n",
        "b = tf.random.uniform([1])\n",
        "print(a, b, sep=\"\\n\")"
      ]
    },
    {
      "cell_type": "code",
      "execution_count": null,
      "id": "1ab4666c",
      "metadata": {
        "id": "1ab4666c"
      },
      "outputs": [],
      "source": []
    },
    {
      "cell_type": "code",
      "execution_count": null,
      "id": "e51c2a70",
      "metadata": {
        "id": "e51c2a70"
      },
      "outputs": [],
      "source": []
    }
  ],
  "metadata": {
    "kernelspec": {
      "display_name": "Python 3 (ipykernel)",
      "language": "python",
      "name": "python3"
    },
    "language_info": {
      "codemirror_mode": {
        "name": "ipython",
        "version": 3
      },
      "file_extension": ".py",
      "mimetype": "text/x-python",
      "name": "python",
      "nbconvert_exporter": "python",
      "pygments_lexer": "ipython3",
      "version": "3.9.9"
    },
    "toc": {
      "base_numbering": 1,
      "nav_menu": {},
      "number_sections": true,
      "sideBar": true,
      "skip_h1_title": false,
      "title_cell": "Table of Contents",
      "title_sidebar": "Contents",
      "toc_cell": false,
      "toc_position": {
        "height": "calc(100% - 180px)",
        "left": "10px",
        "top": "150px",
        "width": "165px"
      },
      "toc_section_display": true,
      "toc_window_display": false
    },
    "varInspector": {
      "cols": {
        "lenName": 16,
        "lenType": 16,
        "lenVar": 40
      },
      "kernels_config": {
        "python": {
          "delete_cmd_postfix": "",
          "delete_cmd_prefix": "del ",
          "library": "var_list.py",
          "varRefreshCmd": "print(var_dic_list())"
        },
        "r": {
          "delete_cmd_postfix": ") ",
          "delete_cmd_prefix": "rm(",
          "library": "var_list.r",
          "varRefreshCmd": "cat(var_dic_list()) "
        }
      },
      "types_to_exclude": [
        "module",
        "function",
        "builtin_function_or_method",
        "instance",
        "_Feature"
      ],
      "window_display": false
    },
    "colab": {
      "provenance": [],
      "toc_visible": true,
      "include_colab_link": true
    }
  },
  "nbformat": 4,
  "nbformat_minor": 5
}