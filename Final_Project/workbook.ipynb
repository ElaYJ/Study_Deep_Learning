{
 "cells": [
  {
   "cell_type": "code",
   "execution_count": 1,
   "metadata": {},
   "outputs": [
    {
     "name": "stdout",
     "output_type": "stream",
     "text": [
      "Elapsed time: 0 hours, 0 minutes, 0 seconds\n"
     ]
    }
   ],
   "source": [
    "import time\n",
    "\n",
    "# 코드 실행 시간을 측정할 함수\n",
    "def some_function_to_measure():\n",
    "    # 예시로 간단한 시간을 끄는 루프\n",
    "    for _ in range(10000000):\n",
    "        pass\n",
    "\n",
    "# 시작 시간 기록\n",
    "start_time = time.time()\n",
    "\n",
    "# 측정할 코드 실행\n",
    "some_function_to_measure()\n",
    "\n",
    "# 종료 시간 기록\n",
    "end_time = time.time()\n",
    "\n",
    "# 경과 시간 계산\n",
    "elapsed_time = end_time - start_time\n",
    "\n",
    "# 시, 분, 초로 변환\n",
    "hours = int(elapsed_time // 3600)\n",
    "minutes = int((elapsed_time % 3600) // 60)\n",
    "seconds = int(elapsed_time % 60)\n",
    "\n",
    "# 결과 출력\n",
    "print(f\"Elapsed time: {hours} hours, {minutes} minutes, {seconds} seconds\")"
   ]
  },
  {
   "cell_type": "code",
   "execution_count": 5,
   "metadata": {},
   "outputs": [
    {
     "name": "stdout",
     "output_type": "stream",
     "text": [
      "Epoch [ 3/50] - 0: 0: 0s, Train Loss: 0.0000, Val Loss: 0.0000\n"
     ]
    }
   ],
   "source": [
    "NUM_EPOCHS = 50\n",
    "epoch = 2\n",
    "train_loss = 0.0000\n",
    "val_loss = 0.0000\n",
    "h, m, s = int(elapsed_time // 3600), int((elapsed_time % 3600) // 60), int(elapsed_time % 60)\n",
    "print(f\"Epoch [{epoch+1:>2}/{NUM_EPOCHS}] - {h}:{m:>2}:{s:>2}s, Train Loss: {train_loss:.4f}, Val Loss: {val_loss:.4f}\")"
   ]
  },
  {
   "cell_type": "code",
   "execution_count": 9,
   "metadata": {},
   "outputs": [],
   "source": [
    "import torch\n",
    "\n",
    "loss_dict={\n",
    "\t'loss_classifier': torch.tensor(0.0551), \n",
    " \t'loss_box_reg': torch.tensor(0.0386), \n",
    "  \t'loss_mask': torch.tensor(0.1592), \n",
    "   \t'loss_objectness': torch.tensor(0.0044), \n",
    "   \t'loss_rpn_box_reg': torch.tensor(0.0017)\n",
    "}"
   ]
  },
  {
   "cell_type": "code",
   "execution_count": 10,
   "metadata": {},
   "outputs": [
    {
     "data": {
      "text/plain": [
       "dict_values([tensor(0.0551), tensor(0.0386), tensor(0.1592), tensor(0.0044), tensor(0.0017)])"
      ]
     },
     "execution_count": 10,
     "metadata": {},
     "output_type": "execute_result"
    }
   ],
   "source": [
    "loss_dict.values()"
   ]
  },
  {
   "cell_type": "code",
   "execution_count": 11,
   "metadata": {},
   "outputs": [
    {
     "data": {
      "text/plain": [
       "tensor(0.2590)"
      ]
     },
     "execution_count": 11,
     "metadata": {},
     "output_type": "execute_result"
    }
   ],
   "source": [
    "losses = sum(loss for loss in loss_dict.values())\n",
    "losses"
   ]
  },
  {
   "cell_type": "code",
   "execution_count": 12,
   "metadata": {},
   "outputs": [
    {
     "data": {
      "text/plain": [
       "0.2590000331401825"
      ]
     },
     "execution_count": 12,
     "metadata": {},
     "output_type": "execute_result"
    }
   ],
   "source": [
    "losses.item()"
   ]
  },
  {
   "cell_type": "code",
   "execution_count": 13,
   "metadata": {},
   "outputs": [
    {
     "data": {
      "text/html": [
       "<div>\n",
       "<style scoped>\n",
       "    .dataframe tbody tr th:only-of-type {\n",
       "        vertical-align: middle;\n",
       "    }\n",
       "\n",
       "    .dataframe tbody tr th {\n",
       "        vertical-align: top;\n",
       "    }\n",
       "\n",
       "    .dataframe thead th {\n",
       "        text-align: right;\n",
       "    }\n",
       "</style>\n",
       "<table border=\"1\" class=\"dataframe\">\n",
       "  <thead>\n",
       "    <tr style=\"text-align: right;\">\n",
       "      <th></th>\n",
       "      <th>train_loss</th>\n",
       "      <th>val_loss</th>\n",
       "      <th>train_class_loss</th>\n",
       "      <th>train_box_loss</th>\n",
       "      <th>train_mask_loss</th>\n",
       "      <th>val_class_loss</th>\n",
       "      <th>val_box_loss</th>\n",
       "      <th>val_mask_loss</th>\n",
       "    </tr>\n",
       "  </thead>\n",
       "  <tbody>\n",
       "    <tr>\n",
       "      <th>0</th>\n",
       "      <td>0</td>\n",
       "      <td>1</td>\n",
       "      <td>2</td>\n",
       "      <td>3</td>\n",
       "      <td>4</td>\n",
       "      <td>5</td>\n",
       "      <td>6</td>\n",
       "      <td>7</td>\n",
       "    </tr>\n",
       "    <tr>\n",
       "      <th>1</th>\n",
       "      <td>0</td>\n",
       "      <td>1</td>\n",
       "      <td>2</td>\n",
       "      <td>3</td>\n",
       "      <td>4</td>\n",
       "      <td>5</td>\n",
       "      <td>6</td>\n",
       "      <td>7</td>\n",
       "    </tr>\n",
       "    <tr>\n",
       "      <th>2</th>\n",
       "      <td>0</td>\n",
       "      <td>1</td>\n",
       "      <td>2</td>\n",
       "      <td>3</td>\n",
       "      <td>4</td>\n",
       "      <td>5</td>\n",
       "      <td>6</td>\n",
       "      <td>7</td>\n",
       "    </tr>\n",
       "  </tbody>\n",
       "</table>\n",
       "</div>"
      ],
      "text/plain": [
       "   train_loss  val_loss  train_class_loss  train_box_loss  train_mask_loss  \\\n",
       "0           0         1                 2               3                4   \n",
       "1           0         1                 2               3                4   \n",
       "2           0         1                 2               3                4   \n",
       "\n",
       "   val_class_loss  val_box_loss  val_mask_loss  \n",
       "0               5             6              7  \n",
       "1               5             6              7  \n",
       "2               5             6              7  "
      ]
     },
     "execution_count": 13,
     "metadata": {},
     "output_type": "execute_result"
    }
   ],
   "source": [
    "import pandas as pd\n",
    "\n",
    "history = {\n",
    "    'train_loss': [0,0,0],\n",
    "    'train_class_loss': [2,2,2],\n",
    "    'train_box_loss': [3,3,3],\n",
    "    'train_mask_loss': [4,4,4],\n",
    "    'val_loss': [1,1,1],\n",
    "    'val_class_loss': [5,5,5],\n",
    "    'val_box_loss': [6,6,6],\n",
    "    'val_mask_loss': [7,7,7]\n",
    "}\n",
    "df = pd.DataFrame(history)\n",
    "df"
   ]
  },
  {
   "cell_type": "code",
   "execution_count": 19,
   "metadata": {},
   "outputs": [
    {
     "data": {
      "text/html": [
       "<div>\n",
       "<style scoped>\n",
       "    .dataframe tbody tr th:only-of-type {\n",
       "        vertical-align: middle;\n",
       "    }\n",
       "\n",
       "    .dataframe tbody tr th {\n",
       "        vertical-align: top;\n",
       "    }\n",
       "\n",
       "    .dataframe thead th {\n",
       "        text-align: right;\n",
       "    }\n",
       "</style>\n",
       "<table border=\"1\" class=\"dataframe\">\n",
       "  <thead>\n",
       "    <tr style=\"text-align: right;\">\n",
       "      <th></th>\n",
       "      <th>train_loss</th>\n",
       "      <th>val_loss</th>\n",
       "      <th>train_class_loss</th>\n",
       "      <th>train_box_loss</th>\n",
       "      <th>train_mask_loss</th>\n",
       "      <th>val_class_loss</th>\n",
       "      <th>val_box_loss</th>\n",
       "      <th>val_mask_loss</th>\n",
       "    </tr>\n",
       "  </thead>\n",
       "  <tbody>\n",
       "    <tr>\n",
       "      <th>0</th>\n",
       "      <td>0.000000</td>\n",
       "      <td>1.000000</td>\n",
       "      <td>2.000000</td>\n",
       "      <td>3.000000</td>\n",
       "      <td>4.000000</td>\n",
       "      <td>5.000000</td>\n",
       "      <td>6.000000</td>\n",
       "      <td>7.000000</td>\n",
       "    </tr>\n",
       "    <tr>\n",
       "      <th>1</th>\n",
       "      <td>0.000000</td>\n",
       "      <td>1.000000</td>\n",
       "      <td>2.000000</td>\n",
       "      <td>3.000000</td>\n",
       "      <td>4.000000</td>\n",
       "      <td>5.000000</td>\n",
       "      <td>6.000000</td>\n",
       "      <td>7.000000</td>\n",
       "    </tr>\n",
       "    <tr>\n",
       "      <th>2</th>\n",
       "      <td>0.000000</td>\n",
       "      <td>1.000000</td>\n",
       "      <td>2.000000</td>\n",
       "      <td>3.000000</td>\n",
       "      <td>4.000000</td>\n",
       "      <td>5.000000</td>\n",
       "      <td>6.000000</td>\n",
       "      <td>7.000000</td>\n",
       "    </tr>\n",
       "    <tr>\n",
       "      <th>3</th>\n",
       "      <td>0.203031</td>\n",
       "      <td>1.508506</td>\n",
       "      <td>0.045116</td>\n",
       "      <td>0.150079</td>\n",
       "      <td>0.069115</td>\n",
       "      <td>0.868413</td>\n",
       "      <td>0.939514</td>\n",
       "      <td>1.584351</td>\n",
       "    </tr>\n",
       "  </tbody>\n",
       "</table>\n",
       "</div>"
      ],
      "text/plain": [
       "   train_loss  val_loss  train_class_loss  train_box_loss  train_mask_loss  \\\n",
       "0    0.000000  1.000000          2.000000        3.000000         4.000000   \n",
       "1    0.000000  1.000000          2.000000        3.000000         4.000000   \n",
       "2    0.000000  1.000000          2.000000        3.000000         4.000000   \n",
       "3    0.203031  1.508506          0.045116        0.150079         0.069115   \n",
       "\n",
       "   val_class_loss  val_box_loss  val_mask_loss  \n",
       "0        5.000000      6.000000       7.000000  \n",
       "1        5.000000      6.000000       7.000000  \n",
       "2        5.000000      6.000000       7.000000  \n",
       "3        0.868413      0.939514       1.584351  "
      ]
     },
     "execution_count": 19,
     "metadata": {},
     "output_type": "execute_result"
    }
   ],
   "source": [
    "import random\n",
    "train_n_batches = 2362\n",
    "valid_n_batches = 292\n",
    "history['train_loss'].append((random.uniform(100, 500)/train_n_batches))\n",
    "history['train_class_loss'].append((random.uniform(100, 500)/train_n_batches))\n",
    "history['train_box_loss'].append((random.uniform(100, 500)/train_n_batches))\n",
    "history['train_mask_loss'].append((random.uniform(100, 500)/train_n_batches))\n",
    "history['val_loss'].append((random.uniform(100, 500)/valid_n_batches))\n",
    "history['val_class_loss'].append((random.uniform(100, 500)/valid_n_batches))\n",
    "history['val_box_loss'].append((random.uniform(100, 500)/valid_n_batches))\n",
    "history['val_mask_loss'].append((random.uniform(100, 500)/valid_n_batches))\n",
    "df = pd.DataFrame(history)\n",
    "df"
   ]
  },
  {
   "cell_type": "code",
   "execution_count": 21,
   "metadata": {},
   "outputs": [
    {
     "data": {
      "image/png": "[encoded data removed]",
      "text/plain": [
       "<Figure size 640x480 with 1 Axes>"
      ]
     },
     "metadata": {},
     "output_type": "display_data"
    }
   ],
   "source": [
    "df['train_loss'].plot();"
   ]
  },
  {
   "cell_type": "code",
   "execution_count": 2,
   "metadata": {},
   "outputs": [],
   "source": [
    "import numpy as np\n",
    "import torch\n",
    "\n",
    "pred = {'boxes': torch.tensor([[128.3508,  50.0531, 150.4191,  73.6116],\n",
    "          [ 95.4021, 196.8708, 133.0644, 235.0270],\n",
    "          [415.0556, 327.5433, 434.0832, 347.9129],\n",
    "          [169.5990,  15.4423, 188.3002,  35.6968],\n",
    "          [169.6282,  15.1050, 188.5282,  35.8340],\n",
    "          [210.8997, 235.4694, 276.8505, 278.5871],\n",
    "          [414.9402, 327.7391, 433.9455, 348.4162]]),\n",
    "  'labels': torch.tensor([1, 1, 1, 2, 1, 1, 2]),\n",
    "  'scores': torch.tensor([0.9879, 0.9811, 0.9658, 0.6280, 0.5437, 0.1325, 0.0523]),}"
   ]
  },
  {
   "cell_type": "code",
   "execution_count": null,
   "metadata": {},
   "outputs": [],
   "source": [
    "boxes = prediction['boxes']\n",
    "    scores = prediction['scores']\n",
    "    labels = prediction['labels']\n",
    "\n",
    "    keep = scores > threshold\n",
    "    filtered_boxes = boxes[keep]\n",
    "    filtered_scores = scores[keep]\n",
    "    filtered_labels = labels[keep]"
   ]
  },
  {
   "cell_type": "code",
   "execution_count": 5,
   "metadata": {},
   "outputs": [
    {
     "data": {
      "text/plain": [
       "(tensor([ True,  True,  True, False, False, False, False]),\n",
       " tensor([0.9879, 0.9811, 0.9658, 0.6280, 0.5437, 0.1325, 0.0523]))"
      ]
     },
     "execution_count": 5,
     "metadata": {},
     "output_type": "execute_result"
    }
   ],
   "source": [
    "scores = pred['scores']\n",
    "keep = scores > 0.7\n",
    "keep, scores"
   ]
  },
  {
   "cell_type": "code",
   "execution_count": 4,
   "metadata": {},
   "outputs": [
    {
     "data": {
      "text/plain": [
       "(tensor([[128.3508,  50.0531, 150.4191,  73.6116],\n",
       "         [ 95.4021, 196.8708, 133.0644, 235.0270],\n",
       "         [415.0556, 327.5433, 434.0832, 347.9129],\n",
       "         [169.5990,  15.4423, 188.3002,  35.6968],\n",
       "         [169.6282,  15.1050, 188.5282,  35.8340],\n",
       "         [210.8997, 235.4694, 276.8505, 278.5871],\n",
       "         [414.9402, 327.7391, 433.9455, 348.4162]]),\n",
       " tensor([[128.3508,  50.0531, 150.4191,  73.6116],\n",
       "         [ 95.4021, 196.8708, 133.0644, 235.0270],\n",
       "         [415.0556, 327.5433, 434.0832, 347.9129]]))"
      ]
     },
     "execution_count": 4,
     "metadata": {},
     "output_type": "execute_result"
    }
   ],
   "source": [
    "boxes = pred['boxes']\n",
    "filtered_boxes = boxes[keep]\n",
    "boxes, filtered_boxes"
   ]
  },
  {
   "cell_type": "code",
   "execution_count": 6,
   "metadata": {},
   "outputs": [
    {
     "data": {
      "text/plain": [
       "17.17037556802994"
      ]
     },
     "execution_count": 6,
     "metadata": {},
     "output_type": "execute_result"
    }
   ],
   "source": [
    "100 - 99157/119712*100"
   ]
  },
  {
   "cell_type": "code",
   "execution_count": null,
   "metadata": {},
   "outputs": [],
   "source": []
  }
 ],
 "metadata": {
  "kernelspec": {
   "display_name": "ds_study",
   "language": "python",
   "name": "python3"
  },
  "language_info": {
   "codemirror_mode": {
    "name": "ipython",
    "version": 3
   },
   "file_extension": ".py",
   "mimetype": "text/x-python",
   "name": "python",
   "nbconvert_exporter": "python",
   "pygments_lexer": "ipython3",
   "version": "3.8.18"
  }
 },
 "nbformat": 4,
 "nbformat_minor": 2
}
