{
  "cells": [
    {
      "cell_type": "markdown",
      "metadata": {
        "id": "view-in-github",
        "colab_type": "text"
      },
      "source": [
        "<a href=\"https://colab.research.google.com/github/ElaYJ/Study_Deep_Learning/blob/main/Framework/TensorFlow/15_Model_Save_and_Load.ipynb\" target=\"_parent\"><img src=\"https://colab.research.google.com/assets/colab-badge.svg\" alt=\"Open In Colab\"/></a>"
      ]
    },
    {
      "cell_type": "markdown",
      "id": "26c6d546",
      "metadata": {
        "id": "26c6d546"
      },
      "source": [
        "# Model Save and Load"
      ]
    },
    {
      "cell_type": "code",
      "execution_count": 1,
      "id": "a4d0d853",
      "metadata": {
        "id": "a4d0d853"
      },
      "outputs": [],
      "source": [
        "import numpy as np\n",
        "import pandas as pd\n",
        "import tensorflow as tf\n",
        "\n",
        "import matplotlib.pyplot as plt\n",
        "import seaborn as sns\n",
        "%matplotlib inline"
      ]
    },
    {
      "cell_type": "code",
      "execution_count": 2,
      "id": "5c40f4a5",
      "metadata": {
        "id": "5c40f4a5"
      },
      "outputs": [],
      "source": [
        "np.random.seed(7777)\n",
        "tf.random.set_seed(7777)"
      ]
    },
    {
      "cell_type": "code",
      "execution_count": 3,
      "id": "cfbead7a",
      "metadata": {
        "colab": {
          "base_uri": "https://localhost:8080/"
        },
        "id": "cfbead7a",
        "outputId": "8c6c9491-3c30-4df6-dd65-bb174d7823bf"
      },
      "outputs": [
        {
          "output_type": "stream",
          "name": "stdout",
          "text": [
            "Downloading data from https://www.cs.toronto.edu/~kriz/cifar-10-python.tar.gz\n",
            "170498071/170498071 [==============================] - 2s 0us/step\n",
            "(50000, 32, 32, 3) float32\n",
            "(50000, 10) float32\n",
            "(10000, 32, 32, 3) float32\n",
            "(10000, 10) float32\n"
          ]
        }
      ],
      "source": [
        "class Cifar10DataLoader():\n",
        "    def __init__(self):\n",
        "        # data load\n",
        "        (self.train_x, self.train_y), \\\n",
        "            (self.test_x, self.test_y) = tf.keras.datasets.cifar10.load_data()\n",
        "        self.input_shape = self.train_x.shape[1:]\n",
        "\n",
        "    def scale(self, x):\n",
        "\n",
        "        return (x / 255.0).astype(np.float32)\n",
        "\n",
        "    def preprocess_dataset(self, dataset):\n",
        "\n",
        "        (feature, target) = dataset\n",
        "\n",
        "        # scaling #\n",
        "        scaled_x = np.array([self.scale(x) for x in feature])\n",
        "\n",
        "        # label encoding #\n",
        "        ohe_y = np.array([tf.keras.utils.to_categorical(\n",
        "            y, num_classes=10) for y in target])\n",
        "\n",
        "        return scaled_x, ohe_y.squeeze(1)\n",
        "\n",
        "    def get_train_dataset(self):\n",
        "        return self.preprocess_dataset((self.train_x, self.train_y))\n",
        "\n",
        "    def get_test_dataset(self):\n",
        "        return self.preprocess_dataset((self.test_x, self.test_y))\n",
        "\n",
        "cifar10_loader = Cifar10DataLoader()\n",
        "train_x, train_y = cifar10_loader.get_train_dataset()\n",
        "\n",
        "print(train_x.shape, train_x.dtype)\n",
        "print(train_y.shape, train_y.dtype)\n",
        "\n",
        "test_x, test_y = cifar10_loader.get_test_dataset()\n",
        "\n",
        "print(test_x.shape, test_x.dtype)\n",
        "print(test_y.shape, test_y.dtype)"
      ]
    },
    {
      "cell_type": "code",
      "execution_count": 4,
      "id": "c511a44b",
      "metadata": {
        "colab": {
          "base_uri": "https://localhost:8080/"
        },
        "id": "c511a44b",
        "outputId": "6034622c-0c85-414e-e3a3-25e544829e9e"
      },
      "outputs": [
        {
          "output_type": "stream",
          "name": "stdout",
          "text": [
            "Model: \"resnet\"\n",
            "__________________________________________________________________________________________________\n",
            " Layer (type)                Output Shape                 Param #   Connected to                  \n",
            "==================================================================================================\n",
            " input_1 (InputLayer)        [(None, 32, 32, 3)]          0         []                            \n",
            "                                                                                                  \n",
            " conv2d (Conv2D)             (None, 16, 16, 16)           448       ['input_1[0][0]']             \n",
            "                                                                                                  \n",
            " max_pooling2d (MaxPooling2  (None, 8, 8, 16)             0         ['conv2d[0][0]']              \n",
            " D)                                                                                               \n",
            "                                                                                                  \n",
            " conv2d_1 (Conv2D)           (None, 8, 8, 32)             544       ['max_pooling2d[0][0]']       \n",
            "                                                                                                  \n",
            " conv2d_2 (Conv2D)           (None, 8, 8, 32)             9248      ['conv2d_1[0][0]']            \n",
            "                                                                                                  \n",
            " conv2d_4 (Conv2D)           (None, 8, 8, 32)             544       ['max_pooling2d[0][0]']       \n",
            "                                                                                                  \n",
            " conv2d_3 (Conv2D)           (None, 8, 8, 32)             1056      ['conv2d_2[0][0]']            \n",
            "                                                                                                  \n",
            " add (Add)                   (None, 8, 8, 32)             0         ['conv2d_4[0][0]',            \n",
            "                                                                     'conv2d_3[0][0]']            \n",
            "                                                                                                  \n",
            " conv2d_5 (Conv2D)           (None, 8, 8, 32)             1056      ['add[0][0]']                 \n",
            "                                                                                                  \n",
            " conv2d_6 (Conv2D)           (None, 8, 8, 32)             9248      ['conv2d_5[0][0]']            \n",
            "                                                                                                  \n",
            " conv2d_7 (Conv2D)           (None, 8, 8, 32)             1056      ['conv2d_6[0][0]']            \n",
            "                                                                                                  \n",
            " add_1 (Add)                 (None, 8, 8, 32)             0         ['add[0][0]',                 \n",
            "                                                                     'conv2d_7[0][0]']            \n",
            "                                                                                                  \n",
            " max_pooling2d_1 (MaxPoolin  (None, 4, 4, 32)             0         ['add_1[0][0]']               \n",
            " g2D)                                                                                             \n",
            "                                                                                                  \n",
            " flatten (Flatten)           (None, 512)                  0         ['max_pooling2d_1[0][0]']     \n",
            "                                                                                                  \n",
            " dense (Dense)               (None, 10)                   5130      ['flatten[0][0]']             \n",
            "                                                                                                  \n",
            "==================================================================================================\n",
            "Total params: 28330 (110.66 KB)\n",
            "Trainable params: 28330 (110.66 KB)\n",
            "Non-trainable params: 0 (0.00 Byte)\n",
            "__________________________________________________________________________________________________\n"
          ]
        }
      ],
      "source": [
        "from tensorflow.keras.layers import Input, Conv2D, MaxPool2D, Flatten, Dense, Add\n",
        "\n",
        "def build_resnet(input_shape):\n",
        "    inputs = Input(input_shape)\n",
        "\n",
        "    net = Conv2D(16, kernel_size=3, strides=2,\n",
        "                 padding='same', activation='relu')(inputs)\n",
        "    net = MaxPool2D()(net)\n",
        "\n",
        "    net1 = Conv2D(32, kernel_size=1, padding='same', activation='relu')(net)\n",
        "    net2 = Conv2D(32, kernel_size=3, padding='same', activation='relu')(net1)\n",
        "    net3 = Conv2D(32, kernel_size=1, padding='same', activation='relu')(net2)\n",
        "\n",
        "    net1_1 = Conv2D(32, kernel_size=1, padding='same')(net)\n",
        "    net = Add()([net1_1, net3])\n",
        "\n",
        "    net1 = Conv2D(32, kernel_size=1, padding='same', activation='relu')(net)\n",
        "    net2 = Conv2D(32, kernel_size=3, padding='same', activation='relu')(net1)\n",
        "    net3 = Conv2D(32, kernel_size=1, padding='same', activation='relu')(net2)\n",
        "\n",
        "    net = Add()([net, net3])\n",
        "\n",
        "    net = MaxPool2D()(net)\n",
        "\n",
        "    net = Flatten()(net)\n",
        "    net = Dense(10, activation=\"softmax\")(net)\n",
        "\n",
        "    model = tf.keras.Model(inputs=inputs, outputs=net, name='resnet')\n",
        "\n",
        "    return model\n",
        "\n",
        "model = build_resnet((32, 32, 3))\n",
        "model.summary()"
      ]
    },
    {
      "cell_type": "code",
      "execution_count": 8,
      "id": "d56b3e30",
      "metadata": {
        "id": "d56b3e30"
      },
      "outputs": [],
      "source": [
        "learning_rate = 0.03\n",
        "opt = tf.keras.optimizers.Adam(learning_rate)\n",
        "loss = tf.keras.losses.categorical_crossentropy\n",
        "\n",
        "model.compile(optimizer=opt, loss=loss, metrics=['accuracy'])"
      ]
    },
    {
      "cell_type": "code",
      "source": [],
      "metadata": {
        "id": "HLRlRKoUQ277"
      },
      "id": "HLRlRKoUQ277",
      "execution_count": null,
      "outputs": []
    },
    {
      "cell_type": "markdown",
      "id": "ed3d5afb",
      "metadata": {
        "id": "ed3d5afb"
      },
      "source": [
        "### save 함수\n",
        "\n",
        "- `.h5` : 모델 확장자"
      ]
    },
    {
      "cell_type": "code",
      "execution_count": 10,
      "id": "bb159c82",
      "metadata": {
        "id": "bb159c82"
      },
      "outputs": [],
      "source": [
        "model.save(\"checkpoints/sample/model.h5\")"
      ]
    },
    {
      "cell_type": "code",
      "execution_count": 11,
      "id": "4f83a52d",
      "metadata": {
        "id": "4f83a52d"
      },
      "outputs": [],
      "source": [
        "model_loaded = tf.keras.models.load_model(\"checkpoints/sample/model.h5\")"
      ]
    },
    {
      "cell_type": "code",
      "execution_count": 12,
      "id": "39ed4e02",
      "metadata": {
        "colab": {
          "base_uri": "https://localhost:8080/"
        },
        "id": "39ed4e02",
        "outputId": "4d417351-0186-4169-bd9a-dec38b32c99e"
      },
      "outputs": [
        {
          "output_type": "stream",
          "name": "stdout",
          "text": [
            "Model: \"resnet\"\n",
            "__________________________________________________________________________________________________\n",
            " Layer (type)                Output Shape                 Param #   Connected to                  \n",
            "==================================================================================================\n",
            " input_1 (InputLayer)        [(None, 32, 32, 3)]          0         []                            \n",
            "                                                                                                  \n",
            " conv2d (Conv2D)             (None, 16, 16, 16)           448       ['input_1[0][0]']             \n",
            "                                                                                                  \n",
            " max_pooling2d (MaxPooling2  (None, 8, 8, 16)             0         ['conv2d[0][0]']              \n",
            " D)                                                                                               \n",
            "                                                                                                  \n",
            " conv2d_1 (Conv2D)           (None, 8, 8, 32)             544       ['max_pooling2d[0][0]']       \n",
            "                                                                                                  \n",
            " conv2d_2 (Conv2D)           (None, 8, 8, 32)             9248      ['conv2d_1[0][0]']            \n",
            "                                                                                                  \n",
            " conv2d_4 (Conv2D)           (None, 8, 8, 32)             544       ['max_pooling2d[0][0]']       \n",
            "                                                                                                  \n",
            " conv2d_3 (Conv2D)           (None, 8, 8, 32)             1056      ['conv2d_2[0][0]']            \n",
            "                                                                                                  \n",
            " add (Add)                   (None, 8, 8, 32)             0         ['conv2d_4[0][0]',            \n",
            "                                                                     'conv2d_3[0][0]']            \n",
            "                                                                                                  \n",
            " conv2d_5 (Conv2D)           (None, 8, 8, 32)             1056      ['add[0][0]']                 \n",
            "                                                                                                  \n",
            " conv2d_6 (Conv2D)           (None, 8, 8, 32)             9248      ['conv2d_5[0][0]']            \n",
            "                                                                                                  \n",
            " conv2d_7 (Conv2D)           (None, 8, 8, 32)             1056      ['conv2d_6[0][0]']            \n",
            "                                                                                                  \n",
            " add_1 (Add)                 (None, 8, 8, 32)             0         ['add[0][0]',                 \n",
            "                                                                     'conv2d_7[0][0]']            \n",
            "                                                                                                  \n",
            " max_pooling2d_1 (MaxPoolin  (None, 4, 4, 32)             0         ['add_1[0][0]']               \n",
            " g2D)                                                                                             \n",
            "                                                                                                  \n",
            " flatten (Flatten)           (None, 512)                  0         ['max_pooling2d_1[0][0]']     \n",
            "                                                                                                  \n",
            " dense (Dense)               (None, 10)                   5130      ['flatten[0][0]']             \n",
            "                                                                                                  \n",
            "==================================================================================================\n",
            "Total params: 28330 (110.66 KB)\n",
            "Trainable params: 28330 (110.66 KB)\n",
            "Non-trainable params: 0 (0.00 Byte)\n",
            "__________________________________________________________________________________________________\n"
          ]
        }
      ],
      "source": [
        "model_loaded.summary()"
      ]
    },
    {
      "cell_type": "code",
      "source": [],
      "metadata": {
        "id": "h1-_EOf8Q_fe"
      },
      "id": "h1-_EOf8Q_fe",
      "execution_count": null,
      "outputs": []
    },
    {
      "cell_type": "markdown",
      "id": "ddf72718",
      "metadata": {
        "id": "ddf72718"
      },
      "source": [
        "### save_weights 함수\n",
        "\n",
        " - weights만 저장 하므로, 저장공간이 절약됨."
      ]
    },
    {
      "cell_type": "code",
      "execution_count": 13,
      "id": "7d9ccb48",
      "metadata": {
        "id": "7d9ccb48"
      },
      "outputs": [],
      "source": [
        "model.save_weights(\"checkpoints/sample/model.h5\")"
      ]
    },
    {
      "cell_type": "code",
      "execution_count": 14,
      "id": "26de646b",
      "metadata": {
        "id": "26de646b"
      },
      "outputs": [],
      "source": [
        "new_model = build_resnet((32, 32, 3))\n",
        "new_model.load_weights(\"checkpoints/sample/model.h5\")"
      ]
    },
    {
      "cell_type": "code",
      "execution_count": 15,
      "id": "db044edc",
      "metadata": {
        "colab": {
          "base_uri": "https://localhost:8080/"
        },
        "id": "db044edc",
        "outputId": "0aa90edf-41a4-4630-9743-4da3207526ab"
      },
      "outputs": [
        {
          "output_type": "stream",
          "name": "stdout",
          "text": [
            "1/1 [==============================] - 0s 324ms/step\n",
            "[[0.05417893 0.15204579 0.12910922 0.02722898 0.06856316 0.1143992\n",
            "  0.15260859 0.12940913 0.11545654 0.05700042]]\n",
            "1/1 [==============================] - 0s 123ms/step\n",
            "[[0.05417893 0.15204579 0.12910922 0.02722898 0.06856316 0.1143992\n",
            "  0.15260859 0.12940913 0.11545654 0.05700042]]\n"
          ]
        }
      ],
      "source": [
        "print(model.predict(test_x[:1]))\n",
        "print(new_model.predict(test_x[:1]))"
      ]
    },
    {
      "cell_type": "code",
      "source": [],
      "metadata": {
        "id": "q_VXOitgRNMB"
      },
      "id": "q_VXOitgRNMB",
      "execution_count": null,
      "outputs": []
    },
    {
      "cell_type": "markdown",
      "id": "f0e8d74d",
      "metadata": {
        "id": "f0e8d74d"
      },
      "source": [
        "### Callbacks 함수 사용하기\n",
        "\n",
        "- epoch 마다 모델을 저장"
      ]
    },
    {
      "cell_type": "code",
      "execution_count": 16,
      "id": "091d2c20",
      "metadata": {
        "id": "091d2c20"
      },
      "outputs": [],
      "source": [
        "save_path = 'checkpoints/{epoch:02d}-{val_loss:.2f}.h5'\n",
        "checkpoint = tf.keras.callbacks.ModelCheckpoint(save_path,\n",
        "                                                monitor='val_accuracy',\n",
        "                                                save_best_only=True)"
      ]
    },
    {
      "cell_type": "code",
      "execution_count": 17,
      "id": "6447f07d",
      "metadata": {
        "id": "6447f07d"
      },
      "outputs": [],
      "source": [
        "learning_rate = 0.03\n",
        "opt = tf.keras.optimizers.Adam(learning_rate)\n",
        "loss = tf.keras.losses.categorical_crossentropy\n",
        "\n",
        "model.compile(optimizer=opt, loss=loss, metrics=[\"accuracy\"])"
      ]
    },
    {
      "cell_type": "code",
      "execution_count": 18,
      "id": "31641f3b",
      "metadata": {
        "colab": {
          "base_uri": "https://localhost:8080/"
        },
        "id": "31641f3b",
        "outputId": "0684a377-5605-4983-a664-2e1f0b286487"
      },
      "outputs": [
        {
          "output_type": "stream",
          "name": "stdout",
          "text": [
            "1563/1563 [==============================] - 31s 19ms/step - loss: 2.3383 - accuracy: 0.0997 - val_loss: 2.3373 - val_accuracy: 0.1000\n"
          ]
        },
        {
          "output_type": "execute_result",
          "data": {
            "text/plain": [
              "<keras.src.callbacks.History at 0x7865b35de470>"
            ]
          },
          "metadata": {},
          "execution_count": 18
        }
      ],
      "source": [
        "model.fit(x=train_x,\n",
        "          y=train_y,\n",
        "          epochs=1,\n",
        "          validation_data=(test_x, test_y),\n",
        "          callbacks=[checkpoint])"
      ]
    },
    {
      "cell_type": "code",
      "source": [],
      "metadata": {
        "id": "GMW3W6F-SE9k"
      },
      "id": "GMW3W6F-SE9k",
      "execution_count": null,
      "outputs": []
    },
    {
      "cell_type": "markdown",
      "id": "77a4b81b",
      "metadata": {
        "id": "77a4b81b"
      },
      "source": [
        "### pb 형식으로 저장 하기\n",
        " - 모델을 protoBuffer 형식으로 저장"
      ]
    },
    {
      "cell_type": "code",
      "execution_count": 19,
      "id": "6b6e8858",
      "metadata": {
        "id": "6b6e8858"
      },
      "outputs": [],
      "source": [
        "save_path = 'checkpoints/{epoch:02d}-{val_loss:.2f}'\n",
        "checkpoint = tf.keras.callbacks.ModelCheckpoint(save_path,\n",
        "                                                monitor='val_accuracy',\n",
        "                                                save_best_only=True)"
      ]
    },
    {
      "cell_type": "code",
      "execution_count": 20,
      "id": "4d1e64c8",
      "metadata": {
        "colab": {
          "base_uri": "https://localhost:8080/"
        },
        "id": "4d1e64c8",
        "outputId": "b2023570-60ae-4233-cfb7-b73e97902761"
      },
      "outputs": [
        {
          "output_type": "stream",
          "name": "stdout",
          "text": [
            "1563/1563 [==============================] - 32s 21ms/step - loss: 2.3402 - accuracy: 0.1000 - val_loss: 2.3137 - val_accuracy: 0.1000\n"
          ]
        },
        {
          "output_type": "execute_result",
          "data": {
            "text/plain": [
              "<keras.src.callbacks.History at 0x7865b0a2fd60>"
            ]
          },
          "metadata": {},
          "execution_count": 20
        }
      ],
      "source": [
        "model.fit(x=train_x,\n",
        "          y=train_y,\n",
        "          epochs=1,\n",
        "          validation_data=(test_x, test_y),\n",
        "          callbacks=[checkpoint])"
      ]
    },
    {
      "cell_type": "code",
      "execution_count": 21,
      "id": "60948046",
      "metadata": {
        "id": "60948046"
      },
      "outputs": [],
      "source": [
        "model = tf.saved_model.load(\"checkpoints/01-2.31\")"
      ]
    },
    {
      "cell_type": "code",
      "execution_count": 22,
      "id": "0e57f973",
      "metadata": {
        "colab": {
          "base_uri": "https://localhost:8080/"
        },
        "id": "0e57f973",
        "outputId": "8b84b51d-be7b-4b92-9130-d7205f0de330"
      },
      "outputs": [
        {
          "output_type": "execute_result",
          "data": {
            "text/plain": [
              "<tf.Tensor: shape=(1, 10), dtype=float32, numpy=\n",
              "array([[0.09401317, 0.1189163 , 0.11037154, 0.09008231, 0.09135515,\n",
              "        0.07168686, 0.11272863, 0.11045162, 0.08728135, 0.1131131 ]],\n",
              "      dtype=float32)>"
            ]
          },
          "metadata": {},
          "execution_count": 22
        }
      ],
      "source": [
        "model(test_x[:1])"
      ]
    },
    {
      "cell_type": "code",
      "execution_count": null,
      "id": "130b41c7",
      "metadata": {
        "id": "130b41c7"
      },
      "outputs": [],
      "source": []
    }
  ],
  "metadata": {
    "kernelspec": {
      "display_name": "Python 3 (ipykernel)",
      "language": "python",
      "name": "python3"
    },
    "language_info": {
      "codemirror_mode": {
        "name": "ipython",
        "version": 3
      },
      "file_extension": ".py",
      "mimetype": "text/x-python",
      "name": "python",
      "nbconvert_exporter": "python",
      "pygments_lexer": "ipython3",
      "version": "3.9.9"
    },
    "varInspector": {
      "cols": {
        "lenName": 16,
        "lenType": 16,
        "lenVar": 40
      },
      "kernels_config": {
        "python": {
          "delete_cmd_postfix": "",
          "delete_cmd_prefix": "del ",
          "library": "var_list.py",
          "varRefreshCmd": "print(var_dic_list())"
        },
        "r": {
          "delete_cmd_postfix": ") ",
          "delete_cmd_prefix": "rm(",
          "library": "var_list.r",
          "varRefreshCmd": "cat(var_dic_list()) "
        }
      },
      "types_to_exclude": [
        "module",
        "function",
        "builtin_function_or_method",
        "instance",
        "_Feature"
      ],
      "window_display": false
    },
    "colab": {
      "provenance": [],
      "toc_visible": true,
      "include_colab_link": true
    }
  },
  "nbformat": 4,
  "nbformat_minor": 5
}