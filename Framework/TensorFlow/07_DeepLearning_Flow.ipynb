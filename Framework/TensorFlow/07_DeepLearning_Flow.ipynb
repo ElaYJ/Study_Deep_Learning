{
  "cells": [
    {
      "cell_type": "markdown",
      "metadata": {
        "id": "view-in-github",
        "colab_type": "text"
      },
      "source": [
        "<a href=\"https://colab.research.google.com/github/ElaYJ/Study_Deep_Learning/blob/main/Framework/TensorFlow/07_DeepLearning_Flow.ipynb\" target=\"_parent\"><img src=\"https://colab.research.google.com/assets/colab-badge.svg\" alt=\"Open In Colab\"/></a>"
      ]
    },
    {
      "cell_type": "markdown",
      "id": "3169f002",
      "metadata": {
        "id": "3169f002"
      },
      "source": [
        "# Deep learning Flow\n",
        "\n",
        "- 변하지 않는 Deep learning Flow 4가지 단계\n",
        "\n",
        "    <img src=\"https://github.com/ElaYJ/supplement/assets/153154981/9b816dbd-a8db-4d66-8205-2e86091cf339\" width=\"57%\"> </img>"
      ]
    },
    {
      "cell_type": "code",
      "execution_count": 1,
      "id": "40ae810a",
      "metadata": {
        "id": "40ae810a"
      },
      "outputs": [],
      "source": [
        "import numpy as np\n",
        "import pandas as pd\n",
        "import tensorflow as tf\n",
        "\n",
        "import matplotlib.pyplot as plt\n",
        "import seaborn as sns\n",
        "%matplotlib inline"
      ]
    },
    {
      "cell_type": "markdown",
      "id": "552cb4b9",
      "metadata": {
        "id": "552cb4b9"
      },
      "source": [
        "## 1. Data 가져오기\n",
        "\n",
        "- TensorFlow에서 제공하는 MNIST 예제"
      ]
    },
    {
      "cell_type": "code",
      "execution_count": 2,
      "id": "be84c8d0",
      "metadata": {
        "colab": {
          "base_uri": "https://localhost:8080/"
        },
        "id": "be84c8d0",
        "outputId": "3dc2ddf6-e055-485a-d595-fd3035ffa2ad"
      },
      "outputs": [
        {
          "output_type": "stream",
          "name": "stdout",
          "text": [
            "Downloading data from https://storage.googleapis.com/tensorflow/tf-keras-datasets/mnist.npz\n",
            "11490434/11490434 [==============================] - 0s 0us/step\n"
          ]
        }
      ],
      "source": [
        "(train_x, train_y), (test_x, test_y) = tf.keras.datasets.mnist.load_data()"
      ]
    },
    {
      "cell_type": "markdown",
      "id": "0182c0f2",
      "metadata": {
        "id": "0182c0f2"
      },
      "source": [
        "- 데이터 shape, dtype 확인하기"
      ]
    },
    {
      "cell_type": "code",
      "execution_count": 3,
      "id": "5a702a1f",
      "metadata": {
        "colab": {
          "base_uri": "https://localhost:8080/"
        },
        "id": "5a702a1f",
        "outputId": "af068b7a-f65b-4071-a352-e5073d01cccf"
      },
      "outputs": [
        {
          "output_type": "stream",
          "name": "stdout",
          "text": [
            "(60000, 28, 28)\n",
            "(10000, 28, 28)\n"
          ]
        }
      ],
      "source": [
        "print(train_x.shape)\n",
        "print(test_x.shape)"
      ]
    },
    {
      "cell_type": "code",
      "execution_count": 4,
      "id": "a45d75ab",
      "metadata": {
        "colab": {
          "base_uri": "https://localhost:8080/"
        },
        "id": "a45d75ab",
        "outputId": "3f7d1553-f863-48dc-c855-2d5605e76a18"
      },
      "outputs": [
        {
          "output_type": "stream",
          "name": "stdout",
          "text": [
            "(60000,)\n",
            "(10000,)\n"
          ]
        }
      ],
      "source": [
        "print(train_y.shape)\n",
        "print(test_y.shape)"
      ]
    },
    {
      "cell_type": "code",
      "execution_count": 5,
      "id": "da1c5e08",
      "metadata": {
        "colab": {
          "base_uri": "https://localhost:8080/"
        },
        "id": "da1c5e08",
        "outputId": "cdfcacf3-472d-4c15-b47b-01e17d945711"
      },
      "outputs": [
        {
          "output_type": "stream",
          "name": "stdout",
          "text": [
            "uint8\n",
            "uint8\n",
            "uint8\n",
            "uint8\n"
          ]
        }
      ],
      "source": [
        "print(train_x.dtype)\n",
        "print(test_x.dtype)\n",
        "\n",
        "print(train_y.dtype)\n",
        "print(test_y.dtype)"
      ]
    },
    {
      "cell_type": "markdown",
      "id": "383c35b8",
      "metadata": {
        "id": "383c35b8"
      },
      "source": [
        "- 데이터 하나만 뽑기"
      ]
    },
    {
      "cell_type": "code",
      "execution_count": 6,
      "id": "6ed0147d",
      "metadata": {
        "colab": {
          "base_uri": "https://localhost:8080/"
        },
        "id": "6ed0147d",
        "outputId": "a60de7b8-b40e-45e8-d00c-89cc61dbf3c5"
      },
      "outputs": [
        {
          "output_type": "execute_result",
          "data": {
            "text/plain": [
              "(28, 28)"
            ]
          },
          "metadata": {},
          "execution_count": 6
        }
      ],
      "source": [
        "image = train_x[77]\n",
        "image.shape"
      ]
    },
    {
      "cell_type": "code",
      "source": [
        "# 만약 차원을 유지하고 싶으면...\n",
        "train_x[77:78].shape"
      ],
      "metadata": {
        "colab": {
          "base_uri": "https://localhost:8080/"
        },
        "id": "7eFLpGCziHcF",
        "outputId": "aa79ad69-52b6-4a12-cbf3-112aea7107a5"
      },
      "id": "7eFLpGCziHcF",
      "execution_count": 7,
      "outputs": [
        {
          "output_type": "execute_result",
          "data": {
            "text/plain": [
              "(1, 28, 28)"
            ]
          },
          "metadata": {},
          "execution_count": 7
        }
      ]
    },
    {
      "cell_type": "markdown",
      "id": "10efcc8b",
      "metadata": {
        "id": "10efcc8b"
      },
      "source": [
        "- 시각화해서 확인"
      ]
    },
    {
      "cell_type": "code",
      "execution_count": 8,
      "id": "fc58cb47",
      "metadata": {
        "colab": {
          "base_uri": "https://localhost:8080/",
          "height": 430
        },
        "id": "fc58cb47",
        "outputId": "2c706e16-5288-4cfd-f0ad-33b14569374c"
      },
      "outputs": [
        {
          "output_type": "display_data",
          "data": {
            "text/plain": [
              "<Figure size 640x480 with 1 Axes>"
            ],
            "image/png": "[encoded data removed]"
          },
          "metadata": {}
        }
      ],
      "source": [
        "plt.imshow(image, 'gray')\n",
        "plt.show()"
      ]
    },
    {
      "cell_type": "markdown",
      "id": "78c192af",
      "metadata": {
        "id": "78c192af"
      },
      "source": [
        "#### 👉 데이터를 받으면 데이터를 이해하기 위해 노력해야합니다!\n"
      ]
    },
    {
      "cell_type": "code",
      "execution_count": null,
      "id": "dfd3cf0e",
      "metadata": {
        "id": "dfd3cf0e"
      },
      "outputs": [],
      "source": []
    },
    {
      "cell_type": "markdown",
      "id": "7421cad4",
      "metadata": {
        "id": "7421cad4"
      },
      "source": [
        "----"
      ]
    },
    {
      "cell_type": "markdown",
      "id": "75a0b963",
      "metadata": {
        "id": "75a0b963"
      },
      "source": [
        "#### ex>  훈련용 데이터셋에는 각 숫자의 그림이 몇개씩 들어가 있나? (QUIZ)"
      ]
    },
    {
      "cell_type": "code",
      "execution_count": 10,
      "id": "159f4402",
      "metadata": {
        "colab": {
          "base_uri": "https://localhost:8080/"
        },
        "id": "159f4402",
        "outputId": "0d1470d5-9404-4e68-c68a-2432d3626ed9"
      },
      "outputs": [
        {
          "output_type": "execute_result",
          "data": {
            "text/plain": [
              "(array([0, 1, 2, 3, 4, 5, 6, 7, 8, 9], dtype=uint8),\n",
              " array([5923, 6742, 5958, 6131, 5842, 5421, 5918, 6265, 5851, 5949]))"
            ]
          },
          "metadata": {},
          "execution_count": 10
        }
      ],
      "source": [
        "y_unique, y_counts = np.unique(train_y, return_counts=True)\n",
        "y_unique, y_counts"
      ]
    },
    {
      "cell_type": "markdown",
      "id": "19f45721",
      "metadata": {
        "id": "19f45721"
      },
      "source": [
        "* 시각화를 해야 더 잘 보이겠죠?"
      ]
    },
    {
      "cell_type": "code",
      "execution_count": 11,
      "id": "f3fe8779",
      "metadata": {
        "colab": {
          "base_uri": "https://localhost:8080/",
          "height": 363
        },
        "id": "f3fe8779",
        "outputId": "2891a341-1131-48d5-dda8-2ac8d2623b52"
      },
      "outputs": [
        {
          "output_type": "execute_result",
          "data": {
            "text/plain": [
              "   count\n",
              "0   5923\n",
              "1   6742\n",
              "2   5958\n",
              "3   6131\n",
              "4   5842\n",
              "5   5421\n",
              "6   5918\n",
              "7   6265\n",
              "8   5851\n",
              "9   5949"
            ],
            "text/html": [
              "\n",
              "  <div id=\"df-8f3039bf-4eba-4920-94de-58f7a16f3d51\" class=\"colab-df-container\">\n",
              "    <div>\n",
              "<style scoped>\n",
              "    .dataframe tbody tr th:only-of-type {\n",
              "        vertical-align: middle;\n",
              "    }\n",
              "\n",
              "    .dataframe tbody tr th {\n",
              "        vertical-align: top;\n",
              "    }\n",
              "\n",
              "    .dataframe thead th {\n",
              "        text-align: right;\n",
              "    }\n",
              "</style>\n",
              "<table border=\"1\" class=\"dataframe\">\n",
              "  <thead>\n",
              "    <tr style=\"text-align: right;\">\n",
              "      <th></th>\n",
              "      <th>count</th>\n",
              "    </tr>\n",
              "  </thead>\n",
              "  <tbody>\n",
              "    <tr>\n",
              "      <th>0</th>\n",
              "      <td>5923</td>\n",
              "    </tr>\n",
              "    <tr>\n",
              "      <th>1</th>\n",
              "      <td>6742</td>\n",
              "    </tr>\n",
              "    <tr>\n",
              "      <th>2</th>\n",
              "      <td>5958</td>\n",
              "    </tr>\n",
              "    <tr>\n",
              "      <th>3</th>\n",
              "      <td>6131</td>\n",
              "    </tr>\n",
              "    <tr>\n",
              "      <th>4</th>\n",
              "      <td>5842</td>\n",
              "    </tr>\n",
              "    <tr>\n",
              "      <th>5</th>\n",
              "      <td>5421</td>\n",
              "    </tr>\n",
              "    <tr>\n",
              "      <th>6</th>\n",
              "      <td>5918</td>\n",
              "    </tr>\n",
              "    <tr>\n",
              "      <th>7</th>\n",
              "      <td>6265</td>\n",
              "    </tr>\n",
              "    <tr>\n",
              "      <th>8</th>\n",
              "      <td>5851</td>\n",
              "    </tr>\n",
              "    <tr>\n",
              "      <th>9</th>\n",
              "      <td>5949</td>\n",
              "    </tr>\n",
              "  </tbody>\n",
              "</table>\n",
              "</div>\n",
              "    <div class=\"colab-df-buttons\">\n",
              "\n",
              "  <div class=\"colab-df-container\">\n",
              "    <button class=\"colab-df-convert\" onclick=\"convertToInteractive('df-8f3039bf-4eba-4920-94de-58f7a16f3d51')\"\n",
              "            title=\"Convert this dataframe to an interactive table.\"\n",
              "            style=\"display:none;\">\n",
              "\n",
              "  <svg xmlns=\"http://www.w3.org/2000/svg\" height=\"24px\" viewBox=\"0 -960 960 960\">\n",
              "    <path d=\"M120-120v-720h720v720H120Zm60-500h600v-160H180v160Zm220 220h160v-160H400v160Zm0 220h160v-160H400v160ZM180-400h160v-160H180v160Zm440 0h160v-160H620v160ZM180-180h160v-160H180v160Zm440 0h160v-160H620v160Z\"/>\n",
              "  </svg>\n",
              "    </button>\n",
              "\n",
              "  <style>\n",
              "    .colab-df-container {\n",
              "      display:flex;\n",
              "      gap: 12px;\n",
              "    }\n",
              "\n",
              "    .colab-df-convert {\n",
              "      background-color: #E8F0FE;\n",
              "      border: none;\n",
              "      border-radius: 50%;\n",
              "      cursor: pointer;\n",
              "      display: none;\n",
              "      fill: #1967D2;\n",
              "      height: 32px;\n",
              "      padding: 0 0 0 0;\n",
              "      width: 32px;\n",
              "    }\n",
              "\n",
              "    .colab-df-convert:hover {\n",
              "      background-color: #E2EBFA;\n",
              "      box-shadow: 0px 1px 2px rgba(60, 64, 67, 0.3), 0px 1px 3px 1px rgba(60, 64, 67, 0.15);\n",
              "      fill: #174EA6;\n",
              "    }\n",
              "\n",
              "    .colab-df-buttons div {\n",
              "      margin-bottom: 4px;\n",
              "    }\n",
              "\n",
              "    [theme=dark] .colab-df-convert {\n",
              "      background-color: #3B4455;\n",
              "      fill: #D2E3FC;\n",
              "    }\n",
              "\n",
              "    [theme=dark] .colab-df-convert:hover {\n",
              "      background-color: #434B5C;\n",
              "      box-shadow: 0px 1px 3px 1px rgba(0, 0, 0, 0.15);\n",
              "      filter: drop-shadow(0px 1px 2px rgba(0, 0, 0, 0.3));\n",
              "      fill: #FFFFFF;\n",
              "    }\n",
              "  </style>\n",
              "\n",
              "    <script>\n",
              "      const buttonEl =\n",
              "        document.querySelector('#df-8f3039bf-4eba-4920-94de-58f7a16f3d51 button.colab-df-convert');\n",
              "      buttonEl.style.display =\n",
              "        google.colab.kernel.accessAllowed ? 'block' : 'none';\n",
              "\n",
              "      async function convertToInteractive(key) {\n",
              "        const element = document.querySelector('#df-8f3039bf-4eba-4920-94de-58f7a16f3d51');\n",
              "        const dataTable =\n",
              "          await google.colab.kernel.invokeFunction('convertToInteractive',\n",
              "                                                    [key], {});\n",
              "        if (!dataTable) return;\n",
              "\n",
              "        const docLinkHtml = 'Like what you see? Visit the ' +\n",
              "          '<a target=\"_blank\" href=https://colab.research.google.com/notebooks/data_table.ipynb>data table notebook</a>'\n",
              "          + ' to learn more about interactive tables.';\n",
              "        element.innerHTML = '';\n",
              "        dataTable['output_type'] = 'display_data';\n",
              "        await google.colab.output.renderOutput(dataTable, element);\n",
              "        const docLink = document.createElement('div');\n",
              "        docLink.innerHTML = docLinkHtml;\n",
              "        element.appendChild(docLink);\n",
              "      }\n",
              "    </script>\n",
              "  </div>\n",
              "\n",
              "\n",
              "<div id=\"df-a823c987-b3b5-4c8e-bf3f-25e870e1e295\">\n",
              "  <button class=\"colab-df-quickchart\" onclick=\"quickchart('df-a823c987-b3b5-4c8e-bf3f-25e870e1e295')\"\n",
              "            title=\"Suggest charts\"\n",
              "            style=\"display:none;\">\n",
              "\n",
              "<svg xmlns=\"http://www.w3.org/2000/svg\" height=\"24px\"viewBox=\"0 0 24 24\"\n",
              "     width=\"24px\">\n",
              "    <g>\n",
              "        <path d=\"M19 3H5c-1.1 0-2 .9-2 2v14c0 1.1.9 2 2 2h14c1.1 0 2-.9 2-2V5c0-1.1-.9-2-2-2zM9 17H7v-7h2v7zm4 0h-2V7h2v10zm4 0h-2v-4h2v4z\"/>\n",
              "    </g>\n",
              "</svg>\n",
              "  </button>\n",
              "\n",
              "<style>\n",
              "  .colab-df-quickchart {\n",
              "      --bg-color: #E8F0FE;\n",
              "      --fill-color: #1967D2;\n",
              "      --hover-bg-color: #E2EBFA;\n",
              "      --hover-fill-color: #174EA6;\n",
              "      --disabled-fill-color: #AAA;\n",
              "      --disabled-bg-color: #DDD;\n",
              "  }\n",
              "\n",
              "  [theme=dark] .colab-df-quickchart {\n",
              "      --bg-color: #3B4455;\n",
              "      --fill-color: #D2E3FC;\n",
              "      --hover-bg-color: #434B5C;\n",
              "      --hover-fill-color: #FFFFFF;\n",
              "      --disabled-bg-color: #3B4455;\n",
              "      --disabled-fill-color: #666;\n",
              "  }\n",
              "\n",
              "  .colab-df-quickchart {\n",
              "    background-color: var(--bg-color);\n",
              "    border: none;\n",
              "    border-radius: 50%;\n",
              "    cursor: pointer;\n",
              "    display: none;\n",
              "    fill: var(--fill-color);\n",
              "    height: 32px;\n",
              "    padding: 0;\n",
              "    width: 32px;\n",
              "  }\n",
              "\n",
              "  .colab-df-quickchart:hover {\n",
              "    background-color: var(--hover-bg-color);\n",
              "    box-shadow: 0 1px 2px rgba(60, 64, 67, 0.3), 0 1px 3px 1px rgba(60, 64, 67, 0.15);\n",
              "    fill: var(--button-hover-fill-color);\n",
              "  }\n",
              "\n",
              "  .colab-df-quickchart-complete:disabled,\n",
              "  .colab-df-quickchart-complete:disabled:hover {\n",
              "    background-color: var(--disabled-bg-color);\n",
              "    fill: var(--disabled-fill-color);\n",
              "    box-shadow: none;\n",
              "  }\n",
              "\n",
              "  .colab-df-spinner {\n",
              "    border: 2px solid var(--fill-color);\n",
              "    border-color: transparent;\n",
              "    border-bottom-color: var(--fill-color);\n",
              "    animation:\n",
              "      spin 1s steps(1) infinite;\n",
              "  }\n",
              "\n",
              "  @keyframes spin {\n",
              "    0% {\n",
              "      border-color: transparent;\n",
              "      border-bottom-color: var(--fill-color);\n",
              "      border-left-color: var(--fill-color);\n",
              "    }\n",
              "    20% {\n",
              "      border-color: transparent;\n",
              "      border-left-color: var(--fill-color);\n",
              "      border-top-color: var(--fill-color);\n",
              "    }\n",
              "    30% {\n",
              "      border-color: transparent;\n",
              "      border-left-color: var(--fill-color);\n",
              "      border-top-color: var(--fill-color);\n",
              "      border-right-color: var(--fill-color);\n",
              "    }\n",
              "    40% {\n",
              "      border-color: transparent;\n",
              "      border-right-color: var(--fill-color);\n",
              "      border-top-color: var(--fill-color);\n",
              "    }\n",
              "    60% {\n",
              "      border-color: transparent;\n",
              "      border-right-color: var(--fill-color);\n",
              "    }\n",
              "    80% {\n",
              "      border-color: transparent;\n",
              "      border-right-color: var(--fill-color);\n",
              "      border-bottom-color: var(--fill-color);\n",
              "    }\n",
              "    90% {\n",
              "      border-color: transparent;\n",
              "      border-bottom-color: var(--fill-color);\n",
              "    }\n",
              "  }\n",
              "</style>\n",
              "\n",
              "  <script>\n",
              "    async function quickchart(key) {\n",
              "      const quickchartButtonEl =\n",
              "        document.querySelector('#' + key + ' button');\n",
              "      quickchartButtonEl.disabled = true;  // To prevent multiple clicks.\n",
              "      quickchartButtonEl.classList.add('colab-df-spinner');\n",
              "      try {\n",
              "        const charts = await google.colab.kernel.invokeFunction(\n",
              "            'suggestCharts', [key], {});\n",
              "      } catch (error) {\n",
              "        console.error('Error during call to suggestCharts:', error);\n",
              "      }\n",
              "      quickchartButtonEl.classList.remove('colab-df-spinner');\n",
              "      quickchartButtonEl.classList.add('colab-df-quickchart-complete');\n",
              "    }\n",
              "    (() => {\n",
              "      let quickchartButtonEl =\n",
              "        document.querySelector('#df-a823c987-b3b5-4c8e-bf3f-25e870e1e295 button');\n",
              "      quickchartButtonEl.style.display =\n",
              "        google.colab.kernel.accessAllowed ? 'block' : 'none';\n",
              "    })();\n",
              "  </script>\n",
              "</div>\n",
              "\n",
              "  <div id=\"id_49dc98dd-2895-43e9-a8a5-6e7842d84412\">\n",
              "    <style>\n",
              "      .colab-df-generate {\n",
              "        background-color: #E8F0FE;\n",
              "        border: none;\n",
              "        border-radius: 50%;\n",
              "        cursor: pointer;\n",
              "        display: none;\n",
              "        fill: #1967D2;\n",
              "        height: 32px;\n",
              "        padding: 0 0 0 0;\n",
              "        width: 32px;\n",
              "      }\n",
              "\n",
              "      .colab-df-generate:hover {\n",
              "        background-color: #E2EBFA;\n",
              "        box-shadow: 0px 1px 2px rgba(60, 64, 67, 0.3), 0px 1px 3px 1px rgba(60, 64, 67, 0.15);\n",
              "        fill: #174EA6;\n",
              "      }\n",
              "\n",
              "      [theme=dark] .colab-df-generate {\n",
              "        background-color: #3B4455;\n",
              "        fill: #D2E3FC;\n",
              "      }\n",
              "\n",
              "      [theme=dark] .colab-df-generate:hover {\n",
              "        background-color: #434B5C;\n",
              "        box-shadow: 0px 1px 3px 1px rgba(0, 0, 0, 0.15);\n",
              "        filter: drop-shadow(0px 1px 2px rgba(0, 0, 0, 0.3));\n",
              "        fill: #FFFFFF;\n",
              "      }\n",
              "    </style>\n",
              "    <button class=\"colab-df-generate\" onclick=\"generateWithVariable('df_view')\"\n",
              "            title=\"Generate code using this dataframe.\"\n",
              "            style=\"display:none;\">\n",
              "\n",
              "  <svg xmlns=\"http://www.w3.org/2000/svg\" height=\"24px\"viewBox=\"0 0 24 24\"\n",
              "       width=\"24px\">\n",
              "    <path d=\"M7,19H8.4L18.45,9,17,7.55,7,17.6ZM5,21V16.75L18.45,3.32a2,2,0,0,1,2.83,0l1.4,1.43a1.91,1.91,0,0,1,.58,1.4,1.91,1.91,0,0,1-.58,1.4L9.25,21ZM18.45,9,17,7.55Zm-12,3A5.31,5.31,0,0,0,4.9,8.1,5.31,5.31,0,0,0,1,6.5,5.31,5.31,0,0,0,4.9,4.9,5.31,5.31,0,0,0,6.5,1,5.31,5.31,0,0,0,8.1,4.9,5.31,5.31,0,0,0,12,6.5,5.46,5.46,0,0,0,6.5,12Z\"/>\n",
              "  </svg>\n",
              "    </button>\n",
              "    <script>\n",
              "      (() => {\n",
              "      const buttonEl =\n",
              "        document.querySelector('#id_49dc98dd-2895-43e9-a8a5-6e7842d84412 button.colab-df-generate');\n",
              "      buttonEl.style.display =\n",
              "        google.colab.kernel.accessAllowed ? 'block' : 'none';\n",
              "\n",
              "      buttonEl.onclick = () => {\n",
              "        google.colab.notebook.generateWithVariable('df_view');\n",
              "      }\n",
              "      })();\n",
              "    </script>\n",
              "  </div>\n",
              "\n",
              "    </div>\n",
              "  </div>\n"
            ],
            "application/vnd.google.colaboratory.intrinsic+json": {
              "type": "dataframe",
              "variable_name": "df_view",
              "summary": "{\n  \"name\": \"df_view\",\n  \"rows\": 10,\n  \"fields\": [\n    {\n      \"column\": \"count\",\n      \"properties\": {\n        \"dtype\": \"number\",\n        \"std\": 339,\n        \"min\": 5421,\n        \"max\": 6742,\n        \"num_unique_values\": 10,\n        \"samples\": [\n          5851,\n          6742,\n          5421\n        ],\n        \"semantic_type\": \"\",\n        \"description\": \"\"\n      }\n    }\n  ]\n}"
            }
          },
          "metadata": {},
          "execution_count": 11
        }
      ],
      "source": [
        "df_view = pd.DataFrame(data={\"count\" : y_counts}, index=y_unique)\n",
        "df_view"
      ]
    },
    {
      "cell_type": "code",
      "execution_count": 12,
      "id": "5f5928a3",
      "metadata": {
        "colab": {
          "base_uri": "https://localhost:8080/",
          "height": 363
        },
        "id": "5f5928a3",
        "outputId": "6348d5dc-0aac-4d00-89dd-30fb7030c097"
      },
      "outputs": [
        {
          "output_type": "execute_result",
          "data": {
            "text/plain": [
              "   count\n",
              "1   6742\n",
              "7   6265\n",
              "3   6131\n",
              "2   5958\n",
              "9   5949\n",
              "0   5923\n",
              "6   5918\n",
              "8   5851\n",
              "4   5842\n",
              "5   5421"
            ],
            "text/html": [
              "\n",
              "  <div id=\"df-896befbe-71e8-4034-9b62-731246af1114\" class=\"colab-df-container\">\n",
              "    <div>\n",
              "<style scoped>\n",
              "    .dataframe tbody tr th:only-of-type {\n",
              "        vertical-align: middle;\n",
              "    }\n",
              "\n",
              "    .dataframe tbody tr th {\n",
              "        vertical-align: top;\n",
              "    }\n",
              "\n",
              "    .dataframe thead th {\n",
              "        text-align: right;\n",
              "    }\n",
              "</style>\n",
              "<table border=\"1\" class=\"dataframe\">\n",
              "  <thead>\n",
              "    <tr style=\"text-align: right;\">\n",
              "      <th></th>\n",
              "      <th>count</th>\n",
              "    </tr>\n",
              "  </thead>\n",
              "  <tbody>\n",
              "    <tr>\n",
              "      <th>1</th>\n",
              "      <td>6742</td>\n",
              "    </tr>\n",
              "    <tr>\n",
              "      <th>7</th>\n",
              "      <td>6265</td>\n",
              "    </tr>\n",
              "    <tr>\n",
              "      <th>3</th>\n",
              "      <td>6131</td>\n",
              "    </tr>\n",
              "    <tr>\n",
              "      <th>2</th>\n",
              "      <td>5958</td>\n",
              "    </tr>\n",
              "    <tr>\n",
              "      <th>9</th>\n",
              "      <td>5949</td>\n",
              "    </tr>\n",
              "    <tr>\n",
              "      <th>0</th>\n",
              "      <td>5923</td>\n",
              "    </tr>\n",
              "    <tr>\n",
              "      <th>6</th>\n",
              "      <td>5918</td>\n",
              "    </tr>\n",
              "    <tr>\n",
              "      <th>8</th>\n",
              "      <td>5851</td>\n",
              "    </tr>\n",
              "    <tr>\n",
              "      <th>4</th>\n",
              "      <td>5842</td>\n",
              "    </tr>\n",
              "    <tr>\n",
              "      <th>5</th>\n",
              "      <td>5421</td>\n",
              "    </tr>\n",
              "  </tbody>\n",
              "</table>\n",
              "</div>\n",
              "    <div class=\"colab-df-buttons\">\n",
              "\n",
              "  <div class=\"colab-df-container\">\n",
              "    <button class=\"colab-df-convert\" onclick=\"convertToInteractive('df-896befbe-71e8-4034-9b62-731246af1114')\"\n",
              "            title=\"Convert this dataframe to an interactive table.\"\n",
              "            style=\"display:none;\">\n",
              "\n",
              "  <svg xmlns=\"http://www.w3.org/2000/svg\" height=\"24px\" viewBox=\"0 -960 960 960\">\n",
              "    <path d=\"M120-120v-720h720v720H120Zm60-500h600v-160H180v160Zm220 220h160v-160H400v160Zm0 220h160v-160H400v160ZM180-400h160v-160H180v160Zm440 0h160v-160H620v160ZM180-180h160v-160H180v160Zm440 0h160v-160H620v160Z\"/>\n",
              "  </svg>\n",
              "    </button>\n",
              "\n",
              "  <style>\n",
              "    .colab-df-container {\n",
              "      display:flex;\n",
              "      gap: 12px;\n",
              "    }\n",
              "\n",
              "    .colab-df-convert {\n",
              "      background-color: #E8F0FE;\n",
              "      border: none;\n",
              "      border-radius: 50%;\n",
              "      cursor: pointer;\n",
              "      display: none;\n",
              "      fill: #1967D2;\n",
              "      height: 32px;\n",
              "      padding: 0 0 0 0;\n",
              "      width: 32px;\n",
              "    }\n",
              "\n",
              "    .colab-df-convert:hover {\n",
              "      background-color: #E2EBFA;\n",
              "      box-shadow: 0px 1px 2px rgba(60, 64, 67, 0.3), 0px 1px 3px 1px rgba(60, 64, 67, 0.15);\n",
              "      fill: #174EA6;\n",
              "    }\n",
              "\n",
              "    .colab-df-buttons div {\n",
              "      margin-bottom: 4px;\n",
              "    }\n",
              "\n",
              "    [theme=dark] .colab-df-convert {\n",
              "      background-color: #3B4455;\n",
              "      fill: #D2E3FC;\n",
              "    }\n",
              "\n",
              "    [theme=dark] .colab-df-convert:hover {\n",
              "      background-color: #434B5C;\n",
              "      box-shadow: 0px 1px 3px 1px rgba(0, 0, 0, 0.15);\n",
              "      filter: drop-shadow(0px 1px 2px rgba(0, 0, 0, 0.3));\n",
              "      fill: #FFFFFF;\n",
              "    }\n",
              "  </style>\n",
              "\n",
              "    <script>\n",
              "      const buttonEl =\n",
              "        document.querySelector('#df-896befbe-71e8-4034-9b62-731246af1114 button.colab-df-convert');\n",
              "      buttonEl.style.display =\n",
              "        google.colab.kernel.accessAllowed ? 'block' : 'none';\n",
              "\n",
              "      async function convertToInteractive(key) {\n",
              "        const element = document.querySelector('#df-896befbe-71e8-4034-9b62-731246af1114');\n",
              "        const dataTable =\n",
              "          await google.colab.kernel.invokeFunction('convertToInteractive',\n",
              "                                                    [key], {});\n",
              "        if (!dataTable) return;\n",
              "\n",
              "        const docLinkHtml = 'Like what you see? Visit the ' +\n",
              "          '<a target=\"_blank\" href=https://colab.research.google.com/notebooks/data_table.ipynb>data table notebook</a>'\n",
              "          + ' to learn more about interactive tables.';\n",
              "        element.innerHTML = '';\n",
              "        dataTable['output_type'] = 'display_data';\n",
              "        await google.colab.output.renderOutput(dataTable, element);\n",
              "        const docLink = document.createElement('div');\n",
              "        docLink.innerHTML = docLinkHtml;\n",
              "        element.appendChild(docLink);\n",
              "      }\n",
              "    </script>\n",
              "  </div>\n",
              "\n",
              "\n",
              "<div id=\"df-0be1bcc4-fc77-402e-8688-3f6a747b569f\">\n",
              "  <button class=\"colab-df-quickchart\" onclick=\"quickchart('df-0be1bcc4-fc77-402e-8688-3f6a747b569f')\"\n",
              "            title=\"Suggest charts\"\n",
              "            style=\"display:none;\">\n",
              "\n",
              "<svg xmlns=\"http://www.w3.org/2000/svg\" height=\"24px\"viewBox=\"0 0 24 24\"\n",
              "     width=\"24px\">\n",
              "    <g>\n",
              "        <path d=\"M19 3H5c-1.1 0-2 .9-2 2v14c0 1.1.9 2 2 2h14c1.1 0 2-.9 2-2V5c0-1.1-.9-2-2-2zM9 17H7v-7h2v7zm4 0h-2V7h2v10zm4 0h-2v-4h2v4z\"/>\n",
              "    </g>\n",
              "</svg>\n",
              "  </button>\n",
              "\n",
              "<style>\n",
              "  .colab-df-quickchart {\n",
              "      --bg-color: #E8F0FE;\n",
              "      --fill-color: #1967D2;\n",
              "      --hover-bg-color: #E2EBFA;\n",
              "      --hover-fill-color: #174EA6;\n",
              "      --disabled-fill-color: #AAA;\n",
              "      --disabled-bg-color: #DDD;\n",
              "  }\n",
              "\n",
              "  [theme=dark] .colab-df-quickchart {\n",
              "      --bg-color: #3B4455;\n",
              "      --fill-color: #D2E3FC;\n",
              "      --hover-bg-color: #434B5C;\n",
              "      --hover-fill-color: #FFFFFF;\n",
              "      --disabled-bg-color: #3B4455;\n",
              "      --disabled-fill-color: #666;\n",
              "  }\n",
              "\n",
              "  .colab-df-quickchart {\n",
              "    background-color: var(--bg-color);\n",
              "    border: none;\n",
              "    border-radius: 50%;\n",
              "    cursor: pointer;\n",
              "    display: none;\n",
              "    fill: var(--fill-color);\n",
              "    height: 32px;\n",
              "    padding: 0;\n",
              "    width: 32px;\n",
              "  }\n",
              "\n",
              "  .colab-df-quickchart:hover {\n",
              "    background-color: var(--hover-bg-color);\n",
              "    box-shadow: 0 1px 2px rgba(60, 64, 67, 0.3), 0 1px 3px 1px rgba(60, 64, 67, 0.15);\n",
              "    fill: var(--button-hover-fill-color);\n",
              "  }\n",
              "\n",
              "  .colab-df-quickchart-complete:disabled,\n",
              "  .colab-df-quickchart-complete:disabled:hover {\n",
              "    background-color: var(--disabled-bg-color);\n",
              "    fill: var(--disabled-fill-color);\n",
              "    box-shadow: none;\n",
              "  }\n",
              "\n",
              "  .colab-df-spinner {\n",
              "    border: 2px solid var(--fill-color);\n",
              "    border-color: transparent;\n",
              "    border-bottom-color: var(--fill-color);\n",
              "    animation:\n",
              "      spin 1s steps(1) infinite;\n",
              "  }\n",
              "\n",
              "  @keyframes spin {\n",
              "    0% {\n",
              "      border-color: transparent;\n",
              "      border-bottom-color: var(--fill-color);\n",
              "      border-left-color: var(--fill-color);\n",
              "    }\n",
              "    20% {\n",
              "      border-color: transparent;\n",
              "      border-left-color: var(--fill-color);\n",
              "      border-top-color: var(--fill-color);\n",
              "    }\n",
              "    30% {\n",
              "      border-color: transparent;\n",
              "      border-left-color: var(--fill-color);\n",
              "      border-top-color: var(--fill-color);\n",
              "      border-right-color: var(--fill-color);\n",
              "    }\n",
              "    40% {\n",
              "      border-color: transparent;\n",
              "      border-right-color: var(--fill-color);\n",
              "      border-top-color: var(--fill-color);\n",
              "    }\n",
              "    60% {\n",
              "      border-color: transparent;\n",
              "      border-right-color: var(--fill-color);\n",
              "    }\n",
              "    80% {\n",
              "      border-color: transparent;\n",
              "      border-right-color: var(--fill-color);\n",
              "      border-bottom-color: var(--fill-color);\n",
              "    }\n",
              "    90% {\n",
              "      border-color: transparent;\n",
              "      border-bottom-color: var(--fill-color);\n",
              "    }\n",
              "  }\n",
              "</style>\n",
              "\n",
              "  <script>\n",
              "    async function quickchart(key) {\n",
              "      const quickchartButtonEl =\n",
              "        document.querySelector('#' + key + ' button');\n",
              "      quickchartButtonEl.disabled = true;  // To prevent multiple clicks.\n",
              "      quickchartButtonEl.classList.add('colab-df-spinner');\n",
              "      try {\n",
              "        const charts = await google.colab.kernel.invokeFunction(\n",
              "            'suggestCharts', [key], {});\n",
              "      } catch (error) {\n",
              "        console.error('Error during call to suggestCharts:', error);\n",
              "      }\n",
              "      quickchartButtonEl.classList.remove('colab-df-spinner');\n",
              "      quickchartButtonEl.classList.add('colab-df-quickchart-complete');\n",
              "    }\n",
              "    (() => {\n",
              "      let quickchartButtonEl =\n",
              "        document.querySelector('#df-0be1bcc4-fc77-402e-8688-3f6a747b569f button');\n",
              "      quickchartButtonEl.style.display =\n",
              "        google.colab.kernel.accessAllowed ? 'block' : 'none';\n",
              "    })();\n",
              "  </script>\n",
              "</div>\n",
              "\n",
              "    </div>\n",
              "  </div>\n"
            ],
            "application/vnd.google.colaboratory.intrinsic+json": {
              "type": "dataframe",
              "summary": "{\n  \"name\": \"df_view\",\n  \"rows\": 10,\n  \"fields\": [\n    {\n      \"column\": \"count\",\n      \"properties\": {\n        \"dtype\": \"number\",\n        \"std\": 339,\n        \"min\": 5421,\n        \"max\": 6742,\n        \"num_unique_values\": 10,\n        \"samples\": [\n          5842,\n          6265,\n          5923\n        ],\n        \"semantic_type\": \"\",\n        \"description\": \"\"\n      }\n    }\n  ]\n}"
            }
          },
          "metadata": {},
          "execution_count": 12
        }
      ],
      "source": [
        "df_view.sort_values(\"count\", ascending=False)"
      ]
    },
    {
      "cell_type": "code",
      "execution_count": 13,
      "id": "61e281e2",
      "metadata": {
        "colab": {
          "base_uri": "https://localhost:8080/",
          "height": 452
        },
        "id": "61e281e2",
        "outputId": "3b56c58f-0f21-4cfb-9041-f069660c9716"
      },
      "outputs": [
        {
          "output_type": "display_data",
          "data": {
            "text/plain": [
              "<Figure size 640x480 with 1 Axes>"
            ],
            "image/png": "[encoded data removed]"
          },
          "metadata": {}
        }
      ],
      "source": [
        "plt.bar(x=y_unique, height=y_counts, color=\"black\")\n",
        "plt.title(\"label distribution\")\n",
        "plt.show()"
      ]
    },
    {
      "cell_type": "code",
      "execution_count": null,
      "id": "a2a895c9",
      "metadata": {
        "id": "a2a895c9"
      },
      "outputs": [],
      "source": []
    },
    {
      "cell_type": "markdown",
      "id": "1f851c76",
      "metadata": {
        "id": "1f851c76"
      },
      "source": [
        "### 막간 퀴즈\n",
        "\n",
        "- 다음 코드를 완성하여, 아래 이미지를 시계 반대 방향으로 90도 회전하고 아래위를 반전 시키기"
      ]
    },
    {
      "cell_type": "code",
      "source": [
        "image"
      ],
      "metadata": {
        "colab": {
          "base_uri": "https://localhost:8080/",
          "height": 1000
        },
        "id": "VnALiPj2tc5f",
        "outputId": "41e44793-a4a5-4334-eb7c-b2672deacedb"
      },
      "id": "VnALiPj2tc5f",
      "execution_count": 14,
      "outputs": [
        {
          "output_type": "execute_result",
          "data": {
            "text/plain": [
              "array([[  0,   0,   0,   0,   0,   0,   0,   0,   0,   0,   0,   0,   0,\n",
              "          0,   0,   0,   0,   0,   0,   0,   0,   0,   0,   0,   0,   0,\n",
              "          0,   0],\n",
              "       [  0,   0,   0,   0,   0,   0,   0,   0,   0,   0,   0,   0,   0,\n",
              "          0,   0,   0,   0,   0,   0,   0,   0,   0,   0,   0,   0,   0,\n",
              "          0,   0],\n",
              "       [  0,   0,   0,   0,   0,   0,   0,   0,   0,   0,   0,   0,   0,\n",
              "          0,   0,   0,   0,   0,   0,   0,   0,   0,   0,   0,   0,   0,\n",
              "          0,   0],\n",
              "       [  0,   0,   0,   0,   0,   0,   0,   0,   0,   0,   0,   0,   0,\n",
              "          0,   0,   0,   0,   0,   0,   0,   0,   0,   0,   0,   0,   0,\n",
              "          0,   0],\n",
              "       [  0,   0,   0,   0,   0,   0,   0,   0,   0,   0,   0,   0,   0,\n",
              "          0,   0,   0,   0,   0,   0,   0,   0,   0,   0,   0,   0,   0,\n",
              "          0,   0],\n",
              "       [  0,   0,   0,   0,   0,   0,   0,   0,   0,   0,   0,   0,   0,\n",
              "          0,   0,   0,  42, 228, 253, 253,   0,   0,   0,   0,   0,   0,\n",
              "          0,   0],\n",
              "       [  0,   0,   0,   0,   0,   0,   0,   0,   0,   0,   0,   0,   0,\n",
              "          0,   0,   0, 144, 251, 251, 251,   0,   0,   0,   0,   0,   0,\n",
              "          0,   0],\n",
              "       [  0,   0,   0,   0,   0,   0,   0,   0,   0,   0,   0,   0,   0,\n",
              "          0,   0,  89, 236, 251, 235, 215,   0,   0,   0,   0,   0,   0,\n",
              "          0,   0],\n",
              "       [  0,   0,   0,   0,   0,   0,   0,   0,   0,   0,   0,   0,   0,\n",
              "          0,  79, 253, 251, 251, 142,   0,   0,   0,   0,   0,   0,   0,\n",
              "          0,   0],\n",
              "       [  0,   0,   0,   0,   0,   0,   0,   0,   0,   0,   0,   0,   0,\n",
              "          0, 180, 253, 251, 251, 142,   0,   0,   0,   0,   0,   0,   0,\n",
              "          0,   0],\n",
              "       [  0,   0,   0,   0,   0,   0,   0,   0,   0,   0,   0,   0,   0,\n",
              "         32, 202, 255, 253, 216,   0,   0,   0,   0,   0,   0,   0,   0,\n",
              "          0,   0],\n",
              "       [  0,   0,   0,   0,   0,   0,   0,   0,   0,   0,   0,   0,   0,\n",
              "        109, 251, 253, 251, 112,   0,   0,   0,   0,   0,   0,   0,   0,\n",
              "          0,   0],\n",
              "       [  0,   0,   0,   0,   0,   0,   0,   0,   0,   0,   0,   0,   6,\n",
              "        129, 251, 253, 127,   5,   0,   0,   0,   0,   0,   0,   0,   0,\n",
              "          0,   0],\n",
              "       [  0,   0,   0,   0,   0,   0,   0,   0,   0,   0,   0,   0,  37,\n",
              "        251, 251, 253, 107,   0,   0,   0,   0,   0,   0,   0,   0,   0,\n",
              "          0,   0],\n",
              "       [  0,   0,   0,   0,   0,   0,   0,   0,   0,   0,   0,   0, 166,\n",
              "        251, 251, 201,  30,   0,   0,   0,   0,   0,   0,   0,   0,   0,\n",
              "          0,   0],\n",
              "       [  0,   0,   0,   0,   0,   0,   0,   0,   0,   0,   0,  42, 228,\n",
              "        253, 253,   0,   0,   0,   0,   0,   0,   0,   0,   0,   0,   0,\n",
              "          0,   0],\n",
              "       [  0,   0,   0,   0,   0,   0,   0,   0,   0,   0,   0, 144, 251,\n",
              "        251, 147,   0,   0,   0,   0,   0,   0,   0,   0,   0,   0,   0,\n",
              "          0,   0],\n",
              "       [  0,   0,   0,   0,   0,   0,   0,   0,   0,   0,  63, 236, 251,\n",
              "        251,  71,   0,   0,   0,   0,   0,   0,   0,   0,   0,   0,   0,\n",
              "          0,   0],\n",
              "       [  0,   0,   0,   0,   0,   0,   0,   0,   0,   0, 150, 251, 251,\n",
              "        204,  41,   0,   0,   0,   0,   0,   0,   0,   0,   0,   0,   0,\n",
              "          0,   0],\n",
              "       [  0,   0,   0,   0,   0,   0,   0,   0,   0,   0, 253, 251, 251,\n",
              "        142,   0,   0,   0,   0,   0,   0,   0,   0,   0,   0,   0,   0,\n",
              "          0,   0],\n",
              "       [  0,   0,   0,   0,   0,   0,   0,   0,   0,   0, 255, 253, 164,\n",
              "          0,   0,   0,   0,   0,   0,   0,   0,   0,   0,   0,   0,   0,\n",
              "          0,   0],\n",
              "       [  0,   0,   0,   0,   0,   0,   0,   0,   0, 105, 253, 251,  35,\n",
              "          0,   0,   0,   0,   0,   0,   0,   0,   0,   0,   0,   0,   0,\n",
              "          0,   0],\n",
              "       [  0,   0,   0,   0,   0,   0,   0,   0,   0, 180, 253, 251,  35,\n",
              "          0,   0,   0,   0,   0,   0,   0,   0,   0,   0,   0,   0,   0,\n",
              "          0,   0],\n",
              "       [  0,   0,   0,   0,   0,   0,   0,   0,   0, 180, 253, 251,  35,\n",
              "          0,   0,   0,   0,   0,   0,   0,   0,   0,   0,   0,   0,   0,\n",
              "          0,   0],\n",
              "       [  0,   0,   0,   0,   0,   0,   0,   0,   0, 180, 253, 251,  35,\n",
              "          0,   0,   0,   0,   0,   0,   0,   0,   0,   0,   0,   0,   0,\n",
              "          0,   0],\n",
              "       [  0,   0,   0,   0,   0,   0,   0,   0,   0,   0,   0,   0,   0,\n",
              "          0,   0,   0,   0,   0,   0,   0,   0,   0,   0,   0,   0,   0,\n",
              "          0,   0],\n",
              "       [  0,   0,   0,   0,   0,   0,   0,   0,   0,   0,   0,   0,   0,\n",
              "          0,   0,   0,   0,   0,   0,   0,   0,   0,   0,   0,   0,   0,\n",
              "          0,   0],\n",
              "       [  0,   0,   0,   0,   0,   0,   0,   0,   0,   0,   0,   0,   0,\n",
              "          0,   0,   0,   0,   0,   0,   0,   0,   0,   0,   0,   0,   0,\n",
              "          0,   0]], dtype=uint8)"
            ],
            "text/html": [
              "<style>\n",
              "      .ndarray_repr .ndarray_raw_data {\n",
              "        display: none;\n",
              "      }\n",
              "      .ndarray_repr.show_array .ndarray_raw_data {\n",
              "        display: block;\n",
              "      }\n",
              "      .ndarray_repr.show_array .ndarray_image_preview {\n",
              "        display: none;\n",
              "      }\n",
              "      </style>\n",
              "      <div id=\"id-2932f12e-90c3-452e-986c-6c69a99f35c0\" class=\"ndarray_repr\"><pre>ndarray (28, 28) <button style=\"padding: 0 2px;\">show data</button></pre><img src=\"data:image/png;base64,iVBORw0KGgoAAAANSUhEUgAAABwAAAAcCAAAAABXZoBIAAAAi0lEQVR4nGNgGOxA68nfvzglJ/z+/RuXXOSb36+v45Dz//v7dx+cx4QqmYrHNQqn/v+9gUsy9/ff3wUILoqxbCIMDC1TcWhU/f37bzYuU5f9/n1SDoccocCZjEvO/s3v3+4oIkiuDednuPgIl06UkEMH//8uwSmX+fe3MpoQwk5vTPVMmEJEStIIAADRxjMmewYqiAAAAABJRU5ErkJggg==\" class=\"ndarray_image_preview\" /><pre class=\"ndarray_raw_data\">array([[  0,   0,   0,   0,   0,   0,   0,   0,   0,   0,   0,   0,   0,\n",
              "          0,   0,   0,   0,   0,   0,   0,   0,   0,   0,   0,   0,   0,\n",
              "          0,   0],\n",
              "       [  0,   0,   0,   0,   0,   0,   0,   0,   0,   0,   0,   0,   0,\n",
              "          0,   0,   0,   0,   0,   0,   0,   0,   0,   0,   0,   0,   0,\n",
              "          0,   0],\n",
              "       [  0,   0,   0,   0,   0,   0,   0,   0,   0,   0,   0,   0,   0,\n",
              "          0,   0,   0,   0,   0,   0,   0,   0,   0,   0,   0,   0,   0,\n",
              "          0,   0],\n",
              "       [  0,   0,   0,   0,   0,   0,   0,   0,   0,   0,   0,   0,   0,\n",
              "          0,   0,   0,   0,   0,   0,   0,   0,   0,   0,   0,   0,   0,\n",
              "          0,   0],\n",
              "       [  0,   0,   0,   0,   0,   0,   0,   0,   0,   0,   0,   0,   0,\n",
              "          0,   0,   0,   0,   0,   0,   0,   0,   0,   0,   0,   0,   0,\n",
              "          0,   0],\n",
              "       [  0,   0,   0,   0,   0,   0,   0,   0,   0,   0,   0,   0,   0,\n",
              "          0,   0,   0,  42, 228, 253, 253,   0,   0,   0,   0,   0,   0,\n",
              "          0,   0],\n",
              "       [  0,   0,   0,   0,   0,   0,   0,   0,   0,   0,   0,   0,   0,\n",
              "          0,   0,   0, 144, 251, 251, 251,   0,   0,   0,   0,   0,   0,\n",
              "          0,   0],\n",
              "       [  0,   0,   0,   0,   0,   0,   0,   0,   0,   0,   0,   0,   0,\n",
              "          0,   0,  89, 236, 251, 235, 215,   0,   0,   0,   0,   0,   0,\n",
              "          0,   0],\n",
              "       [  0,   0,   0,   0,   0,   0,   0,   0,   0,   0,   0,   0,   0,\n",
              "          0,  79, 253, 251, 251, 142,   0,   0,   0,   0,   0,   0,   0,\n",
              "          0,   0],\n",
              "       [  0,   0,   0,   0,   0,   0,   0,   0,   0,   0,   0,   0,   0,\n",
              "          0, 180, 253, 251, 251, 142,   0,   0,   0,   0,   0,   0,   0,\n",
              "          0,   0],\n",
              "       [  0,   0,   0,   0,   0,   0,   0,   0,   0,   0,   0,   0,   0,\n",
              "         32, 202, 255, 253, 216,   0,   0,   0,   0,   0,   0,   0,   0,\n",
              "          0,   0],\n",
              "       [  0,   0,   0,   0,   0,   0,   0,   0,   0,   0,   0,   0,   0,\n",
              "        109, 251, 253, 251, 112,   0,   0,   0,   0,   0,   0,   0,   0,\n",
              "          0,   0],\n",
              "       [  0,   0,   0,   0,   0,   0,   0,   0,   0,   0,   0,   0,   6,\n",
              "        129, 251, 253, 127,   5,   0,   0,   0,   0,   0,   0,   0,   0,\n",
              "          0,   0],\n",
              "       [  0,   0,   0,   0,   0,   0,   0,   0,   0,   0,   0,   0,  37,\n",
              "        251, 251, 253, 107,   0,   0,   0,   0,   0,   0,   0,   0,   0,\n",
              "          0,   0],\n",
              "       [  0,   0,   0,   0,   0,   0,   0,   0,   0,   0,   0,   0, 166,\n",
              "        251, 251, 201,  30,   0,   0,   0,   0,   0,   0,   0,   0,   0,\n",
              "          0,   0],\n",
              "       [  0,   0,   0,   0,   0,   0,   0,   0,   0,   0,   0,  42, 228,\n",
              "        253, 253,   0,   0,   0,   0,   0,   0,   0,   0,   0,   0,   0,\n",
              "          0,   0],\n",
              "       [  0,   0,   0,   0,   0,   0,   0,   0,   0,   0,   0, 144, 251,\n",
              "        251, 147,   0,   0,   0,   0,   0,   0,   0,   0,   0,   0,   0,\n",
              "          0,   0],\n",
              "       [  0,   0,   0,   0,   0,   0,   0,   0,   0,   0,  63, 236, 251,\n",
              "        251,  71,   0,   0,   0,   0,   0,   0,   0,   0,   0,   0,   0,\n",
              "          0,   0],\n",
              "       [  0,   0,   0,   0,   0,   0,   0,   0,   0,   0, 150, 251, 251,\n",
              "        204,  41,   0,   0,   0,   0,   0,   0,   0,   0,   0,   0,   0,\n",
              "          0,   0],\n",
              "       [  0,   0,   0,   0,   0,   0,   0,   0,   0,   0, 253, 251, 251,\n",
              "        142,   0,   0,   0,   0,   0,   0,   0,   0,   0,   0,   0,   0,\n",
              "          0,   0],\n",
              "       [  0,   0,   0,   0,   0,   0,   0,   0,   0,   0, 255, 253, 164,\n",
              "          0,   0,   0,   0,   0,   0,   0,   0,   0,   0,   0,   0,   0,\n",
              "          0,   0],\n",
              "       [  0,   0,   0,   0,   0,   0,   0,   0,   0, 105, 253, 251,  35,\n",
              "          0,   0,   0,   0,   0,   0,   0,   0,   0,   0,   0,   0,   0,\n",
              "          0,   0],\n",
              "       [  0,   0,   0,   0,   0,   0,   0,   0,   0, 180, 253, 251,  35,\n",
              "          0,   0,   0,   0,   0,   0,   0,   0,   0,   0,   0,   0,   0,\n",
              "          0,   0],\n",
              "       [  0,   0,   0,   0,   0,   0,   0,   0,   0, 180, 253, 251,  35,\n",
              "          0,   0,   0,   0,   0,   0,   0,   0,   0,   0,   0,   0,   0,\n",
              "          0,   0],\n",
              "       [  0,   0,   0,   0,   0,   0,   0,   0,   0, 180, 253, 251,  35,\n",
              "          0,   0,   0,   0,   0,   0,   0,   0,   0,   0,   0,   0,   0,\n",
              "          0,   0],\n",
              "       [  0,   0,   0,   0,   0,   0,   0,   0,   0,   0,   0,   0,   0,\n",
              "          0,   0,   0,   0,   0,   0,   0,   0,   0,   0,   0,   0,   0,\n",
              "          0,   0],\n",
              "       [  0,   0,   0,   0,   0,   0,   0,   0,   0,   0,   0,   0,   0,\n",
              "          0,   0,   0,   0,   0,   0,   0,   0,   0,   0,   0,   0,   0,\n",
              "          0,   0],\n",
              "       [  0,   0,   0,   0,   0,   0,   0,   0,   0,   0,   0,   0,   0,\n",
              "          0,   0,   0,   0,   0,   0,   0,   0,   0,   0,   0,   0,   0,\n",
              "          0,   0]], dtype=uint8)</pre></div><script>\n",
              "      (() => {\n",
              "      const titles = ['show data', 'hide data'];\n",
              "      let index = 0\n",
              "      document.querySelector('#id-2932f12e-90c3-452e-986c-6c69a99f35c0 button').onclick = (e) => {\n",
              "        document.querySelector('#id-2932f12e-90c3-452e-986c-6c69a99f35c0').classList.toggle('show_array');\n",
              "        index = (++index) % 2;\n",
              "        document.querySelector('#id-2932f12e-90c3-452e-986c-6c69a99f35c0 button').textContent = titles[index];\n",
              "        e.preventDefault();\n",
              "        e.stopPropagation();\n",
              "      }\n",
              "      })();\n",
              "    </script>"
            ]
          },
          "metadata": {},
          "execution_count": 14
        }
      ]
    },
    {
      "cell_type": "code",
      "execution_count": 15,
      "id": "005b5845",
      "metadata": {
        "id": "005b5845",
        "colab": {
          "base_uri": "https://localhost:8080/"
        },
        "outputId": "43d4fc43-7b15-4d27-87af-649a1b536217"
      },
      "outputs": [
        {
          "output_type": "execute_result",
          "data": {
            "text/plain": [
              "<tf.Tensor: shape=(28, 28), dtype=uint8, numpy=\n",
              "array([[  0,   0,   0,   0,   0,   0,   0,   0,   0,   0,   0,   0,   0,\n",
              "          0,   0,   0,   0,   0,   0,   0,   0,   0,   0,   0,   0,   0,\n",
              "          0,   0],\n",
              "       [  0,   0,   0,   0,   0,   0,   0,   0,   0,   0,   0,   0,   0,\n",
              "          0,   0,   0,   0,   0,   0,   0,   0,   0,   0,   0,   0,   0,\n",
              "          0,   0],\n",
              "       [  0,   0,   0,   0,   0,   0,   0,   0,   0,   0,   0,   0,   0,\n",
              "          0,   0,   0,   0,   0,   0,   0,   0,   0,   0,   0,   0,   0,\n",
              "          0,   0],\n",
              "       [  0,   0,   0,   0,   0,   0,   0,   0,   0,   0,   0,   0,   0,\n",
              "          0,   0,   0,   0,   0,   0,   0,   0,   0,   0,   0,   0,   0,\n",
              "          0,   0],\n",
              "       [  0,   0,   0,   0,   0,   0,   0,   0,   0,   0,   0,   0,   0,\n",
              "          0,   0,   0,   0,   0,   0,   0,   0,   0,   0,   0,   0,   0,\n",
              "          0,   0],\n",
              "       [  0,   0,   0,   0,   0,   0,   0,   0,   0,   0,   0,   0,   0,\n",
              "          0,   0,   0,  42, 228, 253, 253,   0,   0,   0,   0,   0,   0,\n",
              "          0,   0],\n",
              "       [  0,   0,   0,   0,   0,   0,   0,   0,   0,   0,   0,   0,   0,\n",
              "          0,   0,   0, 144, 251, 251, 251,   0,   0,   0,   0,   0,   0,\n",
              "          0,   0],\n",
              "       [  0,   0,   0,   0,   0,   0,   0,   0,   0,   0,   0,   0,   0,\n",
              "          0,   0,  89, 236, 251, 235, 215,   0,   0,   0,   0,   0,   0,\n",
              "          0,   0],\n",
              "       [  0,   0,   0,   0,   0,   0,   0,   0,   0,   0,   0,   0,   0,\n",
              "          0,  79, 253, 251, 251, 142,   0,   0,   0,   0,   0,   0,   0,\n",
              "          0,   0],\n",
              "       [  0,   0,   0,   0,   0,   0,   0,   0,   0,   0,   0,   0,   0,\n",
              "          0, 180, 253, 251, 251, 142,   0,   0,   0,   0,   0,   0,   0,\n",
              "          0,   0],\n",
              "       [  0,   0,   0,   0,   0,   0,   0,   0,   0,   0,   0,   0,   0,\n",
              "         32, 202, 255, 253, 216,   0,   0,   0,   0,   0,   0,   0,   0,\n",
              "          0,   0],\n",
              "       [  0,   0,   0,   0,   0,   0,   0,   0,   0,   0,   0,   0,   0,\n",
              "        109, 251, 253, 251, 112,   0,   0,   0,   0,   0,   0,   0,   0,\n",
              "          0,   0],\n",
              "       [  0,   0,   0,   0,   0,   0,   0,   0,   0,   0,   0,   0,   6,\n",
              "        129, 251, 253, 127,   5,   0,   0,   0,   0,   0,   0,   0,   0,\n",
              "          0,   0],\n",
              "       [  0,   0,   0,   0,   0,   0,   0,   0,   0,   0,   0,   0,  37,\n",
              "        251, 251, 253, 107,   0,   0,   0,   0,   0,   0,   0,   0,   0,\n",
              "          0,   0],\n",
              "       [  0,   0,   0,   0,   0,   0,   0,   0,   0,   0,   0,   0, 166,\n",
              "        251, 251, 201,  30,   0,   0,   0,   0,   0,   0,   0,   0,   0,\n",
              "          0,   0],\n",
              "       [  0,   0,   0,   0,   0,   0,   0,   0,   0,   0,   0,  42, 228,\n",
              "        253, 253,   0,   0,   0,   0,   0,   0,   0,   0,   0,   0,   0,\n",
              "          0,   0],\n",
              "       [  0,   0,   0,   0,   0,   0,   0,   0,   0,   0,   0, 144, 251,\n",
              "        251, 147,   0,   0,   0,   0,   0,   0,   0,   0,   0,   0,   0,\n",
              "          0,   0],\n",
              "       [  0,   0,   0,   0,   0,   0,   0,   0,   0,   0,  63, 236, 251,\n",
              "        251,  71,   0,   0,   0,   0,   0,   0,   0,   0,   0,   0,   0,\n",
              "          0,   0],\n",
              "       [  0,   0,   0,   0,   0,   0,   0,   0,   0,   0, 150, 251, 251,\n",
              "        204,  41,   0,   0,   0,   0,   0,   0,   0,   0,   0,   0,   0,\n",
              "          0,   0],\n",
              "       [  0,   0,   0,   0,   0,   0,   0,   0,   0,   0, 253, 251, 251,\n",
              "        142,   0,   0,   0,   0,   0,   0,   0,   0,   0,   0,   0,   0,\n",
              "          0,   0],\n",
              "       [  0,   0,   0,   0,   0,   0,   0,   0,   0,   0, 255, 253, 164,\n",
              "          0,   0,   0,   0,   0,   0,   0,   0,   0,   0,   0,   0,   0,\n",
              "          0,   0],\n",
              "       [  0,   0,   0,   0,   0,   0,   0,   0,   0, 105, 253, 251,  35,\n",
              "          0,   0,   0,   0,   0,   0,   0,   0,   0,   0,   0,   0,   0,\n",
              "          0,   0],\n",
              "       [  0,   0,   0,   0,   0,   0,   0,   0,   0, 180, 253, 251,  35,\n",
              "          0,   0,   0,   0,   0,   0,   0,   0,   0,   0,   0,   0,   0,\n",
              "          0,   0],\n",
              "       [  0,   0,   0,   0,   0,   0,   0,   0,   0, 180, 253, 251,  35,\n",
              "          0,   0,   0,   0,   0,   0,   0,   0,   0,   0,   0,   0,   0,\n",
              "          0,   0],\n",
              "       [  0,   0,   0,   0,   0,   0,   0,   0,   0, 180, 253, 251,  35,\n",
              "          0,   0,   0,   0,   0,   0,   0,   0,   0,   0,   0,   0,   0,\n",
              "          0,   0],\n",
              "       [  0,   0,   0,   0,   0,   0,   0,   0,   0,   0,   0,   0,   0,\n",
              "          0,   0,   0,   0,   0,   0,   0,   0,   0,   0,   0,   0,   0,\n",
              "          0,   0],\n",
              "       [  0,   0,   0,   0,   0,   0,   0,   0,   0,   0,   0,   0,   0,\n",
              "          0,   0,   0,   0,   0,   0,   0,   0,   0,   0,   0,   0,   0,\n",
              "          0,   0],\n",
              "       [  0,   0,   0,   0,   0,   0,   0,   0,   0,   0,   0,   0,   0,\n",
              "          0,   0,   0,   0,   0,   0,   0,   0,   0,   0,   0,   0,   0,\n",
              "          0,   0]], dtype=uint8)>"
            ]
          },
          "metadata": {},
          "execution_count": 15
        }
      ],
      "source": [
        "image = tf.constant(image)\n",
        "image"
      ]
    },
    {
      "cell_type": "code",
      "execution_count": 16,
      "id": "ea85f4e4",
      "metadata": {
        "colab": {
          "base_uri": "https://localhost:8080/",
          "height": 430
        },
        "id": "ea85f4e4",
        "outputId": "0e58e0a8-f204-4e92-fbba-0e326f29565d"
      },
      "outputs": [
        {
          "output_type": "display_data",
          "data": {
            "text/plain": [
              "<Figure size 640x480 with 1 Axes>"
            ],
            "image/png": "[encoded data removed]"
          },
          "metadata": {}
        }
      ],
      "source": [
        "plt.imshow(image, 'gray')\n",
        "plt.show()"
      ]
    },
    {
      "cell_type": "code",
      "execution_count": 17,
      "id": "48947ada",
      "metadata": {
        "colab": {
          "base_uri": "https://localhost:8080/",
          "height": 430
        },
        "id": "48947ada",
        "outputId": "c52bf3a9-06d0-4d9f-8ea0-e5f399d8f291"
      },
      "outputs": [
        {
          "output_type": "display_data",
          "data": {
            "text/plain": [
              "<Figure size 640x480 with 1 Axes>"
            ],
            "image/png": "[encoded data removed]"
          },
          "metadata": {}
        }
      ],
      "source": [
        "plt.imshow(tf.transpose(image), 'gray')\n",
        "plt.show()"
      ]
    },
    {
      "cell_type": "code",
      "execution_count": null,
      "id": "dfbd7c09",
      "metadata": {
        "id": "dfbd7c09"
      },
      "outputs": [],
      "source": []
    },
    {
      "cell_type": "code",
      "execution_count": null,
      "id": "72c1d6c7",
      "metadata": {
        "id": "72c1d6c7"
      },
      "outputs": [],
      "source": []
    },
    {
      "cell_type": "markdown",
      "id": "98150ef8",
      "metadata": {
        "id": "98150ef8"
      },
      "source": [
        "## 2. Preprocessing\n",
        "\n",
        "- 모델의 입력값으로 사용할 수 있도록 데이터를 변환하는 작업\n",
        "\n",
        "- 데이터 전처리 : 데이터 변환 작업\n",
        "\n",
        "    - 데이터 검증 : 데이터의 유효성 검증\n",
        "    - 전처리\n",
        "    - 데이터 증강 ... (이 건 추후에!)"
      ]
    },
    {
      "cell_type": "markdown",
      "id": "7691280a",
      "metadata": {
        "id": "7691280a"
      },
      "source": [
        "#### 데이터 검증\n",
        "\n",
        " - 데이터 중에 학습에 포함 되면 안되는 것이 있는가?\n",
        "\n",
        "    ex> 개인정보가 들어있는 데이터, 테스트용 데이터에 들어있는것, 중복되는 데이터\n",
        "\n",
        " - 학습 의도와 다른 데이터가 있는가?\n",
        "\n",
        "    ex> 얼굴을 학습하는데 발 사진이 들어가있진 않은지(가끔은 의도하고 일부러 집어넣는 경우도 있음)\n",
        "\n",
        " - 라벨이 잘못된 데이터가 있는가?\n",
        "\n",
        "    ex> 7인데 1로 라벨링, 고양이 인데 강아지로 라벨링\n",
        " -  ... 등\n"
      ]
    },
    {
      "cell_type": "code",
      "execution_count": 18,
      "id": "e6d975c3",
      "metadata": {
        "id": "e6d975c3"
      },
      "outputs": [],
      "source": [
        "def validate_pixel_scale(x):\n",
        "    return 255 >= x.max() and 0 <= x.min()\n",
        "    #--> 0 ≤ x ≤ 255 이면 True 반환\n",
        "    #--> 조건에 만족하지 않으면 False로 해당 데이터는 필터링된다."
      ]
    },
    {
      "cell_type": "code",
      "execution_count": 19,
      "id": "99b954d1",
      "metadata": {
        "id": "99b954d1"
      },
      "outputs": [],
      "source": [
        "validated_train_x = np.array([x for x in train_x if validate_pixel_scale(x)])\n",
        "\n",
        "validated_train_y = np.array([y for x, y in zip(train_x, train_y) if validate_pixel_scale(x)])"
      ]
    },
    {
      "cell_type": "code",
      "execution_count": 20,
      "id": "8c5c875c",
      "metadata": {
        "colab": {
          "base_uri": "https://localhost:8080/"
        },
        "id": "8c5c875c",
        "outputId": "d7afaa84-18c4-48bf-9431-a5d41a2f8d8c"
      },
      "outputs": [
        {
          "output_type": "stream",
          "name": "stdout",
          "text": [
            "(60000, 28, 28)\n",
            "(60000,)\n"
          ]
        }
      ],
      "source": [
        "print(validated_train_x.shape)\n",
        "print(validated_train_y.shape)"
      ]
    },
    {
      "cell_type": "code",
      "source": [
        "validated_train_y[:10]"
      ],
      "metadata": {
        "colab": {
          "base_uri": "https://localhost:8080/"
        },
        "id": "xRY3C_3gkyql",
        "outputId": "9624e134-cd63-46e2-da2e-2c46ac726231"
      },
      "id": "xRY3C_3gkyql",
      "execution_count": 21,
      "outputs": [
        {
          "output_type": "execute_result",
          "data": {
            "text/plain": [
              "array([5, 0, 4, 1, 9, 2, 1, 3, 1, 4], dtype=uint8)"
            ]
          },
          "metadata": {},
          "execution_count": 21
        }
      ]
    },
    {
      "cell_type": "code",
      "source": [
        "train_y[:10]"
      ],
      "metadata": {
        "colab": {
          "base_uri": "https://localhost:8080/"
        },
        "id": "o-Ysfr_uk4kq",
        "outputId": "87d406a5-8a31-4c59-c61e-3be8a7572c03"
      },
      "id": "o-Ysfr_uk4kq",
      "execution_count": 22,
      "outputs": [
        {
          "output_type": "execute_result",
          "data": {
            "text/plain": [
              "array([5, 0, 4, 1, 9, 2, 1, 3, 1, 4], dtype=uint8)"
            ]
          },
          "metadata": {},
          "execution_count": 22
        }
      ]
    },
    {
      "cell_type": "markdown",
      "id": "e8ea6d63",
      "metadata": {
        "id": "e8ea6d63"
      },
      "source": [
        "#### 전처리\n",
        "\n",
        " - 입력하기 전에 모델링에 적합하게 처리!\n",
        " - 대표적으로 Scaling, Resizing, label encoding 등이 있다.\n",
        " - dtype, shape 항상 체크!!"
      ]
    },
    {
      "cell_type": "markdown",
      "id": "2be19f99",
      "metadata": {
        "id": "2be19f99"
      },
      "source": [
        "##### Scaling"
      ]
    },
    {
      "cell_type": "code",
      "execution_count": 23,
      "id": "fff2d672",
      "metadata": {
        "id": "fff2d672"
      },
      "outputs": [],
      "source": [
        "def scale(x):\n",
        "    \"\"\"\n",
        "    Make pixels within 0 ~ 1\n",
        "\n",
        "    return\n",
        "        scaled image (dtype=float32)\n",
        "    \"\"\"\n",
        "    return (x / 255.0).astype(np.float32)\n"
      ]
    },
    {
      "cell_type": "code",
      "execution_count": 24,
      "id": "b2d915e2",
      "metadata": {
        "colab": {
          "base_uri": "https://localhost:8080/"
        },
        "id": "b2d915e2",
        "outputId": "441cccef-33e1-4343-c51c-98d59e41f5c1"
      },
      "outputs": [
        {
          "output_type": "stream",
          "name": "stdout",
          "text": [
            "(28, 28) 0.0 1.0\n"
          ]
        }
      ],
      "source": [
        "# unit test\n",
        "sample = scale(validated_train_x[777])\n",
        "print(sample.shape, sample.min(), sample.max())"
      ]
    },
    {
      "cell_type": "code",
      "source": [
        "# distribution plot\n",
        "\n",
        "sns.displot(sample);"
      ],
      "metadata": {
        "colab": {
          "base_uri": "https://localhost:8080/",
          "height": 627
        },
        "id": "6acUtUgbm6kp",
        "outputId": "92309df1-e610-4e51-cb0f-2d6e5d77f1f3"
      },
      "id": "6acUtUgbm6kp",
      "execution_count": 25,
      "outputs": [
        {
          "output_type": "display_data",
          "data": {
            "text/plain": [
              "<Figure size 567.75x500 with 1 Axes>"
            ],
            "image/png": "[encoded data removed]"
          },
          "metadata": {}
        }
      ]
    },
    {
      "cell_type": "code",
      "source": [
        "sns.displot(sample.reshape(-1), kde=False)\n",
        "plt.show()"
      ],
      "metadata": {
        "colab": {
          "base_uri": "https://localhost:8080/",
          "height": 506
        },
        "id": "azSD1nrTmyXK",
        "outputId": "fd121ac2-6838-4460-92e7-3d1af6d3574d"
      },
      "id": "azSD1nrTmyXK",
      "execution_count": 26,
      "outputs": [
        {
          "output_type": "display_data",
          "data": {
            "text/plain": [
              "<Figure size 500x500 with 1 Axes>"
            ],
            "image/png": "[encoded data removed]"
          },
          "metadata": {}
        }
      ]
    },
    {
      "cell_type": "code",
      "source": [
        "sample.reshape(-1)"
      ],
      "metadata": {
        "colab": {
          "base_uri": "https://localhost:8080/"
        },
        "id": "JiiPnse2vcij",
        "outputId": "aaab1725-08f4-4866-854a-8d7868fa55aa"
      },
      "id": "JiiPnse2vcij",
      "execution_count": 27,
      "outputs": [
        {
          "output_type": "execute_result",
          "data": {
            "text/plain": [
              "array([0.        , 0.        , 0.        , 0.        , 0.        ,\n",
              "       0.        , 0.        , 0.        , 0.        , 0.        ,\n",
              "       0.        , 0.        , 0.        , 0.        , 0.        ,\n",
              "       0.        , 0.        , 0.        , 0.        , 0.        ,\n",
              "       0.        , 0.        , 0.        , 0.        , 0.        ,\n",
              "       0.        , 0.        , 0.        , 0.        , 0.        ,\n",
              "       0.        , 0.        , 0.        , 0.        , 0.        ,\n",
              "       0.        , 0.        , 0.        , 0.        , 0.        ,\n",
              "       0.        , 0.        , 0.        , 0.        , 0.        ,\n",
              "       0.        , 0.        , 0.        , 0.        , 0.        ,\n",
              "       0.        , 0.        , 0.        , 0.        , 0.        ,\n",
              "       0.        , 0.        , 0.        , 0.        , 0.        ,\n",
              "       0.        , 0.        , 0.        , 0.        , 0.        ,\n",
              "       0.        , 0.        , 0.        , 0.        , 0.        ,\n",
              "       0.        , 0.        , 0.        , 0.        , 0.        ,\n",
              "       0.        , 0.        , 0.        , 0.        , 0.        ,\n",
              "       0.        , 0.        , 0.        , 0.        , 0.        ,\n",
              "       0.        , 0.        , 0.        , 0.        , 0.        ,\n",
              "       0.        , 0.        , 0.        , 0.        , 0.        ,\n",
              "       0.        , 0.        , 0.        , 0.        , 0.        ,\n",
              "       0.        , 0.        , 0.        , 0.        , 0.        ,\n",
              "       0.        , 0.        , 0.        , 0.        , 0.        ,\n",
              "       0.        , 0.        , 0.        , 0.        , 0.        ,\n",
              "       0.        , 0.        , 0.        , 0.        , 0.        ,\n",
              "       0.        , 0.        , 0.        , 0.        , 0.        ,\n",
              "       0.        , 0.        , 0.        , 0.        , 0.        ,\n",
              "       0.        , 0.        , 0.        , 0.        , 0.        ,\n",
              "       0.        , 0.        , 0.        , 0.        , 0.        ,\n",
              "       0.        , 0.        , 0.        , 0.        , 0.        ,\n",
              "       0.        , 0.        , 0.        , 0.        , 0.        ,\n",
              "       0.        , 0.        , 0.        , 0.        , 0.03921569,\n",
              "       0.23137255, 0.6117647 , 0.9372549 , 0.99607843, 0.99607843,\n",
              "       0.99607843, 1.        , 0.9647059 , 0.42745098, 0.        ,\n",
              "       0.        , 0.        , 0.        , 0.        , 0.        ,\n",
              "       0.        , 0.        , 0.        , 0.        , 0.        ,\n",
              "       0.        , 0.        , 0.        , 0.        , 0.        ,\n",
              "       0.06666667, 0.5764706 , 0.8627451 , 0.99215686, 0.99607843,\n",
              "       0.99215686, 0.99215686, 0.99215686, 0.9607843 , 0.99607843,\n",
              "       0.99215686, 0.5058824 , 0.        , 0.        , 0.        ,\n",
              "       0.        , 0.        , 0.        , 0.        , 0.        ,\n",
              "       0.        , 0.        , 0.        , 0.        , 0.        ,\n",
              "       0.        , 0.12156863, 0.5411765 , 0.827451  , 0.99215686,\n",
              "       0.99215686, 0.99215686, 0.99607843, 0.84705883, 0.5647059 ,\n",
              "       0.30588236, 0.1882353 , 0.39607844, 0.36078432, 0.09411765,\n",
              "       0.        , 0.        , 0.        , 0.        , 0.        ,\n",
              "       0.        , 0.        , 0.        , 0.        , 0.        ,\n",
              "       0.        , 0.        , 0.        , 0.08627451, 0.70980394,\n",
              "       0.99607843, 0.99215686, 0.99215686, 0.84705883, 0.5411765 ,\n",
              "       0.22352941, 0.03921569, 0.        , 0.        , 0.        ,\n",
              "       0.        , 0.12156863, 0.        , 0.        , 0.        ,\n",
              "       0.        , 0.        , 0.        , 0.        , 0.        ,\n",
              "       0.        , 0.        , 0.        , 0.        , 0.        ,\n",
              "       0.        , 0.4509804 , 0.99215686, 0.99607843, 0.9607843 ,\n",
              "       0.49411765, 0.01960784, 0.        , 0.        , 0.        ,\n",
              "       0.        , 0.        , 0.        , 0.4745098 , 0.9372549 ,\n",
              "       0.5294118 , 0.        , 0.        , 0.        , 0.        ,\n",
              "       0.        , 0.        , 0.        , 0.        , 0.        ,\n",
              "       0.        , 0.        , 0.        , 0.        , 0.4509804 ,\n",
              "       0.99607843, 1.        , 0.9647059 , 0.2784314 , 0.        ,\n",
              "       0.        , 0.        , 0.        , 0.        , 0.33333334,\n",
              "       0.99607843, 1.        , 0.9764706 , 0.23529412, 0.        ,\n",
              "       0.        , 0.        , 0.        , 0.        , 0.        ,\n",
              "       0.        , 0.        , 0.        , 0.        , 0.        ,\n",
              "       0.        , 0.        , 0.02352941, 0.44705883, 0.99607843,\n",
              "       0.99215686, 0.94509804, 0.27058825, 0.        , 0.        ,\n",
              "       0.03921569, 0.4627451 , 0.98039216, 0.99215686, 0.9764706 ,\n",
              "       0.25490198, 0.        , 0.        , 0.        , 0.        ,\n",
              "       0.        , 0.        , 0.        , 0.        , 0.        ,\n",
              "       0.        , 0.        , 0.        , 0.        , 0.        ,\n",
              "       0.        , 0.        , 0.46666667, 0.99215686, 0.99215686,\n",
              "       0.94509804, 0.39607844, 0.5411765 , 0.827451  , 0.99215686,\n",
              "       0.99215686, 0.87058824, 0.23529412, 0.        , 0.        ,\n",
              "       0.        , 0.        , 0.        , 0.        , 0.        ,\n",
              "       0.        , 0.        , 0.        , 0.        , 0.        ,\n",
              "       0.        , 0.        , 0.        , 0.        , 0.        ,\n",
              "       0.01960784, 0.58431375, 0.99215686, 0.99215686, 0.99215686,\n",
              "       0.99607843, 0.99215686, 0.9411765 , 0.7764706 , 0.13333334,\n",
              "       0.        , 0.        , 0.        , 0.        , 0.        ,\n",
              "       0.        , 0.        , 0.        , 0.        , 0.        ,\n",
              "       0.        , 0.        , 0.        , 0.        , 0.        ,\n",
              "       0.        , 0.        , 0.        , 0.        , 0.22745098,\n",
              "       0.99215686, 0.99215686, 0.99215686, 0.99607843, 0.8117647 ,\n",
              "       0.27450982, 0.        , 0.        , 0.        , 0.        ,\n",
              "       0.        , 0.        , 0.        , 0.        , 0.        ,\n",
              "       0.        , 0.        , 0.        , 0.        , 0.        ,\n",
              "       0.        , 0.        , 0.        , 0.        , 0.        ,\n",
              "       0.        , 0.23137255, 0.9372549 , 0.99607843, 0.99607843,\n",
              "       0.99607843, 1.        , 0.15294118, 0.        , 0.        ,\n",
              "       0.        , 0.        , 0.        , 0.        , 0.        ,\n",
              "       0.        , 0.        , 0.        , 0.        , 0.        ,\n",
              "       0.        , 0.        , 0.        , 0.        , 0.        ,\n",
              "       0.        , 0.        , 0.01568628, 0.37254903, 0.9372549 ,\n",
              "       0.99215686, 0.96862745, 0.9254902 , 0.99215686, 0.99607843,\n",
              "       0.47843137, 0.        , 0.        , 0.        , 0.        ,\n",
              "       0.        , 0.        , 0.        , 0.        , 0.        ,\n",
              "       0.        , 0.        , 0.        , 0.        , 0.        ,\n",
              "       0.        , 0.        , 0.        , 0.        , 0.        ,\n",
              "       0.41960785, 0.99215686, 0.99607843, 0.96862745, 0.32941177,\n",
              "       0.15686275, 0.99215686, 0.99607843, 0.5294118 , 0.        ,\n",
              "       0.        , 0.        , 0.        , 0.        , 0.        ,\n",
              "       0.        , 0.        , 0.        , 0.        , 0.        ,\n",
              "       0.        , 0.        , 0.        , 0.        , 0.        ,\n",
              "       0.        , 0.        , 0.22745098, 0.92941177, 0.99215686,\n",
              "       0.8117647 , 0.1254902 , 0.        , 0.09411765, 0.9019608 ,\n",
              "       0.99607843, 0.5294118 , 0.        , 0.        , 0.        ,\n",
              "       0.        , 0.        , 0.        , 0.        , 0.        ,\n",
              "       0.        , 0.        , 0.        , 0.        , 0.        ,\n",
              "       0.        , 0.        , 0.        , 0.        , 0.        ,\n",
              "       0.6862745 , 0.99215686, 0.99215686, 0.23529412, 0.        ,\n",
              "       0.        , 0.59607846, 0.99215686, 0.99607843, 0.5294118 ,\n",
              "       0.        , 0.        , 0.        , 0.        , 0.        ,\n",
              "       0.        , 0.        , 0.        , 0.        , 0.        ,\n",
              "       0.        , 0.        , 0.        , 0.        , 0.        ,\n",
              "       0.        , 0.        , 0.07843138, 0.99607843, 0.99607843,\n",
              "       0.60784316, 0.        , 0.        , 0.19215687, 0.9647059 ,\n",
              "       0.99607843, 0.94509804, 0.26666668, 0.        , 0.        ,\n",
              "       0.        , 0.        , 0.        , 0.        , 0.        ,\n",
              "       0.        , 0.        , 0.        , 0.        , 0.        ,\n",
              "       0.        , 0.        , 0.        , 0.        , 0.        ,\n",
              "       0.07843138, 0.99215686, 0.99215686, 0.63529414, 0.05098039,\n",
              "       0.28627452, 0.8862745 , 0.99215686, 0.99215686, 0.4117647 ,\n",
              "       0.        , 0.        , 0.        , 0.        , 0.        ,\n",
              "       0.        , 0.        , 0.        , 0.        , 0.        ,\n",
              "       0.        , 0.        , 0.        , 0.        , 0.        ,\n",
              "       0.        , 0.        , 0.        , 0.05490196, 0.8980392 ,\n",
              "       0.99215686, 0.99215686, 0.8784314 , 0.99215686, 0.99215686,\n",
              "       0.99215686, 0.7254902 , 0.        , 0.        , 0.        ,\n",
              "       0.        , 0.        , 0.        , 0.        , 0.        ,\n",
              "       0.        , 0.        , 0.        , 0.        , 0.        ,\n",
              "       0.        , 0.        , 0.        , 0.        , 0.        ,\n",
              "       0.        , 0.        , 0.31764707, 0.8901961 , 0.99215686,\n",
              "       0.99607843, 0.99215686, 0.99215686, 0.7882353 , 0.13333334,\n",
              "       0.        , 0.        , 0.        , 0.        , 0.        ,\n",
              "       0.        , 0.        , 0.        , 0.        , 0.        ,\n",
              "       0.        , 0.        , 0.        , 0.        , 0.        ,\n",
              "       0.        , 0.        , 0.        , 0.        , 0.        ,\n",
              "       0.        , 0.18431373, 0.60784316, 0.84705883, 0.9607843 ,\n",
              "       0.49411765, 0.01960784, 0.        , 0.        , 0.        ,\n",
              "       0.        , 0.        , 0.        , 0.        , 0.        ,\n",
              "       0.        , 0.        , 0.        , 0.        , 0.        ,\n",
              "       0.        , 0.        , 0.        , 0.        , 0.        ,\n",
              "       0.        , 0.        , 0.        , 0.        , 0.        ,\n",
              "       0.        , 0.        , 0.        , 0.        , 0.        ,\n",
              "       0.        , 0.        , 0.        , 0.        , 0.        ,\n",
              "       0.        , 0.        , 0.        , 0.        , 0.        ,\n",
              "       0.        , 0.        , 0.        , 0.        , 0.        ,\n",
              "       0.        , 0.        , 0.        , 0.        , 0.        ,\n",
              "       0.        , 0.        , 0.        , 0.        , 0.        ,\n",
              "       0.        , 0.        , 0.        , 0.        , 0.        ,\n",
              "       0.        , 0.        , 0.        , 0.        , 0.        ,\n",
              "       0.        , 0.        , 0.        , 0.        , 0.        ,\n",
              "       0.        , 0.        , 0.        , 0.        , 0.        ,\n",
              "       0.        , 0.        , 0.        , 0.        , 0.        ,\n",
              "       0.        , 0.        , 0.        , 0.        , 0.        ,\n",
              "       0.        , 0.        , 0.        , 0.        , 0.        ,\n",
              "       0.        , 0.        , 0.        , 0.        , 0.        ,\n",
              "       0.        , 0.        , 0.        , 0.        ], dtype=float32)"
            ]
          },
          "metadata": {},
          "execution_count": 27
        }
      ]
    },
    {
      "cell_type": "code",
      "execution_count": 28,
      "id": "56aab002",
      "metadata": {
        "id": "56aab002"
      },
      "outputs": [],
      "source": [
        "scaled_train_x = np.array([scale(x) for x in validated_train_x])"
      ]
    },
    {
      "cell_type": "code",
      "execution_count": 29,
      "id": "8730eab9",
      "metadata": {
        "colab": {
          "base_uri": "https://localhost:8080/"
        },
        "id": "8730eab9",
        "outputId": "d69112bd-86b1-48c3-a29f-cabaf826562e"
      },
      "outputs": [
        {
          "output_type": "stream",
          "name": "stdout",
          "text": [
            "(60000, 28, 28) float32\n"
          ]
        }
      ],
      "source": [
        "print(scaled_train_x.shape, scaled_train_x.dtype)"
      ]
    },
    {
      "cell_type": "markdown",
      "id": "6a003baa",
      "metadata": {
        "id": "6a003baa"
      },
      "source": [
        "##### Flattening\n",
        "\n",
        " - 이번에 사용할 모델은 기본적인 Feed-Forward Neural Network\n",
        " - 1차원 벡터가 Input의 샘플 하나가 된다. (2차원 텐서라는 말)"
      ]
    },
    {
      "cell_type": "code",
      "execution_count": 30,
      "id": "997dc318",
      "metadata": {
        "id": "997dc318"
      },
      "outputs": [],
      "source": [
        "flattend_train_x = train_x.reshape((60000, -1))"
      ]
    },
    {
      "cell_type": "code",
      "execution_count": 31,
      "id": "8bad7367",
      "metadata": {
        "colab": {
          "base_uri": "https://localhost:8080/"
        },
        "id": "8bad7367",
        "outputId": "e73c749b-b31f-44c0-aaa5-214d4a4944a3"
      },
      "outputs": [
        {
          "output_type": "execute_result",
          "data": {
            "text/plain": [
              "(60000, 784)"
            ]
          },
          "metadata": {},
          "execution_count": 31
        }
      ],
      "source": [
        "flattend_train_x.shape"
      ]
    },
    {
      "cell_type": "markdown",
      "id": "a8db62cd",
      "metadata": {
        "id": "a8db62cd"
      },
      "source": [
        "##### Label encoding\n",
        "\n",
        " - One-Hot encoding\n",
        " - `tf.keras.utils.to_categorical` 사용!"
      ]
    },
    {
      "cell_type": "code",
      "execution_count": 32,
      "id": "dfa126d5",
      "metadata": {
        "colab": {
          "base_uri": "https://localhost:8080/"
        },
        "id": "dfa126d5",
        "outputId": "6d0d4d2d-daaf-4cd9-dc02-246963d66fbb"
      },
      "outputs": [
        {
          "output_type": "execute_result",
          "data": {
            "text/plain": [
              "1"
            ]
          },
          "metadata": {},
          "execution_count": 32
        }
      ],
      "source": [
        "validated_train_y[77]"
      ]
    },
    {
      "cell_type": "code",
      "execution_count": 33,
      "id": "bcb53622",
      "metadata": {
        "colab": {
          "base_uri": "https://localhost:8080/"
        },
        "id": "bcb53622",
        "outputId": "edd70168-3f09-4448-eb99-9d1ba1b0dd5f"
      },
      "outputs": [
        {
          "output_type": "execute_result",
          "data": {
            "text/plain": [
              "array([0., 1., 0., 0., 0., 0., 0., 0., 0., 0.], dtype=float32)"
            ]
          },
          "metadata": {},
          "execution_count": 33
        }
      ],
      "source": [
        "tf.keras.utils.to_categorical(validated_train_y[77], num_classes=10)"
      ]
    },
    {
      "cell_type": "code",
      "execution_count": 34,
      "id": "568dbcdd",
      "metadata": {
        "id": "568dbcdd"
      },
      "outputs": [],
      "source": [
        "ohe_train_y = np.array([tf.keras.utils.to_categorical(y, num_classes=10) for y in validated_train_y])"
      ]
    },
    {
      "cell_type": "code",
      "execution_count": 35,
      "id": "a09000e7",
      "metadata": {
        "colab": {
          "base_uri": "https://localhost:8080/"
        },
        "id": "a09000e7",
        "outputId": "971f2f90-40ba-470e-97ce-d61e04c24122"
      },
      "outputs": [
        {
          "output_type": "execute_result",
          "data": {
            "text/plain": [
              "(60000, 10)"
            ]
          },
          "metadata": {},
          "execution_count": 35
        }
      ],
      "source": [
        "ohe_train_y.shape"
      ]
    },
    {
      "cell_type": "markdown",
      "id": "e531ec05",
      "metadata": {
        "id": "e531ec05"
      },
      "source": [
        "### Class화\n",
        "\n",
        "- 보통은 큰 작업을 하나의 클래스로 만들어서 관리한다.\n"
      ]
    },
    {
      "cell_type": "code",
      "execution_count": 36,
      "id": "d1aa5977",
      "metadata": {
        "id": "d1aa5977"
      },
      "outputs": [],
      "source": [
        "class DataLoader():\n",
        "    def __init__(self):\n",
        "        # data load\n",
        "        (self.train_x, self.train_y), \\\n",
        "            (self.test_x, self.test_y) = tf.keras.datasets.mnist.load_data()\n",
        "\n",
        "    def validate_pixel_scale(self, x):\n",
        "        return 255 >= x.max() and 0 <= x.min()\n",
        "\n",
        "    def scale(self, x):\n",
        "        return (x / 255.0).astype(np.float32)\n",
        "\n",
        "    def preprocess_dataset(self, dataset):\n",
        "        \"\"\"\n",
        "        feature\n",
        "            shape : (num_data, 28, 28)\n",
        "        target\n",
        "            shape : (num_data,)\n",
        "\n",
        "        return\n",
        "            feature\n",
        "                shape : (num_data, 28, 28)\n",
        "            target\n",
        "                shape : (num_data,)\n",
        "        \"\"\"\n",
        "        (feature, target) = dataset\n",
        "\n",
        "        validated_x = np.array([x for x in feature if self.validate_pixel_scale(x)])\n",
        "\n",
        "        validated_y = np.array([y for x, y in zip(feature, target) if self.validate_pixel_scale(x)])\n",
        "\n",
        "        # scaling #\n",
        "        scaled_x = np.array([self.scale(x) for x in validated_x])\n",
        "\n",
        "        # flattening #\n",
        "        flattend_x = scaled_x.reshape((scaled_x.shape[0], -1))\n",
        "\n",
        "        # label encoding #\n",
        "        ohe_y = np.array([tf.keras.utils.to_categorical(y, num_classes=10) for y in validated_y])\n",
        "\n",
        "        return flattend_x, ohe_y\n",
        "\n",
        "    def get_train_dataset(self):\n",
        "        return self.preprocess_dataset((self.train_x, self.train_y))\n",
        "\n",
        "    def get_test_dataset(self):\n",
        "        return self.preprocess_dataset((self.test_x, self.test_y))"
      ]
    },
    {
      "cell_type": "code",
      "execution_count": 37,
      "id": "4714b8ef",
      "metadata": {
        "id": "4714b8ef"
      },
      "outputs": [],
      "source": [
        "mnist_loader = DataLoader()"
      ]
    },
    {
      "cell_type": "code",
      "execution_count": 38,
      "id": "4ef2daba",
      "metadata": {
        "id": "4ef2daba"
      },
      "outputs": [],
      "source": [
        "train_x, train_y = mnist_loader.get_train_dataset()"
      ]
    },
    {
      "cell_type": "code",
      "execution_count": 39,
      "id": "67101df4",
      "metadata": {
        "colab": {
          "base_uri": "https://localhost:8080/"
        },
        "id": "67101df4",
        "outputId": "5f237343-0e09-44eb-a663-3eab54141225"
      },
      "outputs": [
        {
          "output_type": "stream",
          "name": "stdout",
          "text": [
            "(60000, 784) float32\n",
            "(60000, 10) float32\n"
          ]
        }
      ],
      "source": [
        "print(train_x.shape, train_x.dtype)\n",
        "print(train_y.shape, train_y.dtype)"
      ]
    },
    {
      "cell_type": "code",
      "execution_count": 40,
      "id": "ff0cbf1b",
      "metadata": {
        "id": "ff0cbf1b"
      },
      "outputs": [],
      "source": [
        "test_x, test_y = mnist_loader.get_test_dataset()"
      ]
    },
    {
      "cell_type": "code",
      "execution_count": 41,
      "id": "a05e19d8",
      "metadata": {
        "colab": {
          "base_uri": "https://localhost:8080/"
        },
        "id": "a05e19d8",
        "outputId": "7a10c390-5e58-4259-e5c1-458c83f81cb7"
      },
      "outputs": [
        {
          "output_type": "stream",
          "name": "stdout",
          "text": [
            "(10000, 784) float32\n",
            "(10000, 10) float32\n"
          ]
        }
      ],
      "source": [
        "print(test_x.shape, test_x.dtype)\n",
        "print(test_y.shape, test_y.dtype)"
      ]
    },
    {
      "cell_type": "code",
      "execution_count": null,
      "id": "160ec5a6",
      "metadata": {
        "id": "160ec5a6"
      },
      "outputs": [],
      "source": []
    },
    {
      "cell_type": "markdown",
      "id": "6cd8c289",
      "metadata": {
        "id": "6cd8c289"
      },
      "source": [
        "## 3. Modeling\n",
        " 1. 모델 정의\n",
        " 2. 학습 로직 - 비용함수, 학습파라미터 세팅\n",
        " 3. 학습 수행\n"
      ]
    },
    {
      "cell_type": "markdown",
      "id": "8399e8fd",
      "metadata": {
        "id": "8399e8fd"
      },
      "source": [
        "#### 모델 정의\n",
        "\n",
        "- Dense layer는 Feed-Forward Neural Network 그 자체임."
      ]
    },
    {
      "cell_type": "code",
      "execution_count": 42,
      "id": "0c5e7f5b",
      "metadata": {
        "id": "0c5e7f5b"
      },
      "outputs": [],
      "source": [
        "from tensorflow.keras.layers import Dense, Activation"
      ]
    },
    {
      "cell_type": "code",
      "execution_count": 43,
      "id": "c16ad047",
      "metadata": {
        "id": "c16ad047"
      },
      "outputs": [],
      "source": [
        "model = tf.keras.Sequential()\n",
        "model.add(Dense(15, input_dim=784))\n",
        "model.add(Activation('sigmoid'))\n",
        "model.add(Dense(10, input_dim=784))\n",
        "model.add(Activation('softmax'))"
      ]
    },
    {
      "cell_type": "code",
      "execution_count": 44,
      "id": "955168e3",
      "metadata": {
        "id": "955168e3",
        "outputId": "c11c94d0-90f1-41a9-fdeb-2863a14b4d14",
        "colab": {
          "base_uri": "https://localhost:8080/"
        }
      },
      "outputs": [
        {
          "output_type": "stream",
          "name": "stdout",
          "text": [
            "Model: \"sequential\"\n",
            "_________________________________________________________________\n",
            " Layer (type)                Output Shape              Param #   \n",
            "=================================================================\n",
            " dense (Dense)               (None, 15)                11775     \n",
            "                                                                 \n",
            " activation (Activation)     (None, 15)                0         \n",
            "                                                                 \n",
            " dense_1 (Dense)             (None, 10)                160       \n",
            "                                                                 \n",
            " activation_1 (Activation)   (None, 10)                0         \n",
            "                                                                 \n",
            "=================================================================\n",
            "Total params: 11935 (46.62 KB)\n",
            "Trainable params: 11935 (46.62 KB)\n",
            "Non-trainable params: 0 (0.00 Byte)\n",
            "_________________________________________________________________\n"
          ]
        }
      ],
      "source": [
        "model.summary()"
      ]
    },
    {
      "cell_type": "markdown",
      "id": "1846dd6a",
      "metadata": {
        "id": "1846dd6a"
      },
      "source": [
        "#### 학습 로직"
      ]
    },
    {
      "cell_type": "code",
      "execution_count": 45,
      "id": "01e9ea95",
      "metadata": {
        "id": "01e9ea95"
      },
      "outputs": [],
      "source": [
        "opt = tf.keras.optimizers.SGD(learning_rate=0.03)\n",
        "loss = tf.keras.losses.categorical_crossentropy"
      ]
    },
    {
      "cell_type": "code",
      "execution_count": 46,
      "id": "7ef109e3",
      "metadata": {
        "id": "7ef109e3"
      },
      "outputs": [],
      "source": [
        "model.compile(optimizer=opt, loss=loss, metrics=[\"accuracy\"])"
      ]
    },
    {
      "cell_type": "markdown",
      "id": "99f12458",
      "metadata": {
        "id": "99f12458"
      },
      "source": [
        "#### 학습 실행"
      ]
    },
    {
      "cell_type": "code",
      "execution_count": 47,
      "id": "100d00a8",
      "metadata": {
        "id": "100d00a8"
      },
      "outputs": [],
      "source": [
        "batch_size = 128 # default=32\n",
        "epochs = 10"
      ]
    },
    {
      "cell_type": "code",
      "execution_count": 48,
      "id": "db72ef29",
      "metadata": {
        "id": "db72ef29",
        "outputId": "dccabad8-be37-4135-9bd6-b172df14da81",
        "colab": {
          "base_uri": "https://localhost:8080/"
        }
      },
      "outputs": [
        {
          "output_type": "stream",
          "name": "stdout",
          "text": [
            "Epoch 1/10\n",
            "469/469 [==============================] - 2s 3ms/step - loss: 1.9566 - accuracy: 0.4949\n",
            "Epoch 2/10\n",
            "469/469 [==============================] - 2s 5ms/step - loss: 1.3674 - accuracy: 0.7039\n",
            "Epoch 3/10\n",
            "469/469 [==============================] - 1s 3ms/step - loss: 1.0209 - accuracy: 0.7703\n",
            "Epoch 4/10\n",
            "469/469 [==============================] - 1s 3ms/step - loss: 0.8210 - accuracy: 0.8140\n",
            "Epoch 5/10\n",
            "469/469 [==============================] - 1s 3ms/step - loss: 0.6943 - accuracy: 0.8456\n",
            "Epoch 6/10\n",
            "469/469 [==============================] - 1s 2ms/step - loss: 0.6082 - accuracy: 0.8651\n",
            "Epoch 7/10\n",
            "469/469 [==============================] - 1s 2ms/step - loss: 0.5470 - accuracy: 0.8758\n",
            "Epoch 8/10\n",
            "469/469 [==============================] - 1s 3ms/step - loss: 0.5021 - accuracy: 0.8837\n",
            "Epoch 9/10\n",
            "469/469 [==============================] - 2s 5ms/step - loss: 0.4681 - accuracy: 0.8886\n",
            "Epoch 10/10\n",
            "469/469 [==============================] - 2s 5ms/step - loss: 0.4415 - accuracy: 0.8927\n"
          ]
        }
      ],
      "source": [
        "hist = model.fit(train_x,\n",
        "                 train_y,\n",
        "                 batch_size=batch_size,\n",
        "                 epochs=epochs)"
      ]
    },
    {
      "cell_type": "code",
      "source": [
        "hist"
      ],
      "metadata": {
        "colab": {
          "base_uri": "https://localhost:8080/"
        },
        "id": "6iDNoWNZ1Z8U",
        "outputId": "911eca09-8ff2-48ce-a1fe-5f8fb41f475e"
      },
      "id": "6iDNoWNZ1Z8U",
      "execution_count": 50,
      "outputs": [
        {
          "output_type": "execute_result",
          "data": {
            "text/plain": [
              "<keras.src.callbacks.History at 0x7c6f04200c40>"
            ]
          },
          "metadata": {},
          "execution_count": 50
        }
      ]
    },
    {
      "cell_type": "code",
      "execution_count": 49,
      "id": "39c0ebdb",
      "metadata": {
        "id": "39c0ebdb",
        "outputId": "96431695-fe8a-4630-a5fe-f95c442a06a7",
        "colab": {
          "base_uri": "https://localhost:8080/"
        }
      },
      "outputs": [
        {
          "output_type": "execute_result",
          "data": {
            "text/plain": [
              "{'loss': [1.9565871953964233,\n",
              "  1.3674465417861938,\n",
              "  1.0208548307418823,\n",
              "  0.8210417032241821,\n",
              "  0.6942750811576843,\n",
              "  0.6081894040107727,\n",
              "  0.5470184087753296,\n",
              "  0.5021161437034607,\n",
              "  0.46806809306144714,\n",
              "  0.4414634108543396],\n",
              " 'accuracy': [0.4949333369731903,\n",
              "  0.7039333581924438,\n",
              "  0.7702500224113464,\n",
              "  0.8140333294868469,\n",
              "  0.8456166386604309,\n",
              "  0.8651333451271057,\n",
              "  0.8757500052452087,\n",
              "  0.8837166428565979,\n",
              "  0.888616681098938,\n",
              "  0.8927000164985657]}"
            ]
          },
          "metadata": {},
          "execution_count": 49
        }
      ],
      "source": [
        "hist.history"
      ]
    },
    {
      "cell_type": "code",
      "execution_count": null,
      "id": "0cac84dd",
      "metadata": {
        "id": "0cac84dd"
      },
      "outputs": [],
      "source": []
    },
    {
      "cell_type": "markdown",
      "id": "45c34c13",
      "metadata": {
        "id": "45c34c13"
      },
      "source": [
        "## 4. Evaluation\n",
        "\n",
        "- 학습 과정 추적\n",
        "- Test / 모델 검증\n",
        "- 후처리"
      ]
    },
    {
      "cell_type": "markdown",
      "id": "9b725a2d",
      "metadata": {
        "id": "9b725a2d"
      },
      "source": [
        "##### 학습 과정 추적"
      ]
    },
    {
      "cell_type": "code",
      "execution_count": 51,
      "id": "1ad7098d",
      "metadata": {
        "id": "1ad7098d",
        "outputId": "e0812dd2-2f50-43d3-f090-f9f8741cd856",
        "colab": {
          "base_uri": "https://localhost:8080/",
          "height": 507
        }
      },
      "outputs": [
        {
          "output_type": "display_data",
          "data": {
            "text/plain": [
              "<Figure size 1000x500 with 2 Axes>"
            ],
            "image/png": "[encoded data removed]"
          },
          "metadata": {}
        }
      ],
      "source": [
        "plt.figure(figsize=(10, 5))\n",
        "plt.subplot(121)\n",
        "plt.plot(hist.history['loss'])\n",
        "plt.title(\"Loss\")\n",
        "plt.ylabel(\"loss\")\n",
        "plt.subplot(122)\n",
        "plt.plot(hist.history['accuracy'], 'b-')\n",
        "plt.title(\"Accuracy\")\n",
        "plt.ylabel(\"acc\")\n",
        "plt.tight_layout()\n",
        "plt.show()"
      ]
    },
    {
      "cell_type": "code",
      "execution_count": null,
      "id": "b5f55540",
      "metadata": {
        "id": "b5f55540"
      },
      "outputs": [],
      "source": []
    },
    {
      "cell_type": "markdown",
      "id": "5f4bf22c",
      "metadata": {
        "id": "5f4bf22c"
      },
      "source": [
        "##### 모델 검증"
      ]
    },
    {
      "cell_type": "code",
      "execution_count": 52,
      "id": "61edf914",
      "metadata": {
        "id": "61edf914",
        "outputId": "d07378e8-5fc3-48f5-9b03-39743c0dd705",
        "colab": {
          "base_uri": "https://localhost:8080/"
        }
      },
      "outputs": [
        {
          "output_type": "stream",
          "name": "stdout",
          "text": [
            "313/313 [==============================] - 2s 6ms/step - loss: 0.4178 - accuracy: 0.8968\n"
          ]
        },
        {
          "output_type": "execute_result",
          "data": {
            "text/plain": [
              "[0.4178430736064911, 0.8967999815940857]"
            ]
          },
          "metadata": {},
          "execution_count": 52
        }
      ],
      "source": [
        "model.evaluate(test_x, test_y)"
      ]
    },
    {
      "cell_type": "code",
      "execution_count": null,
      "id": "c653e426",
      "metadata": {
        "id": "c653e426"
      },
      "outputs": [],
      "source": []
    },
    {
      "cell_type": "markdown",
      "id": "21567ce4",
      "metadata": {
        "id": "21567ce4"
      },
      "source": [
        "##### 후처리"
      ]
    },
    {
      "cell_type": "code",
      "execution_count": 53,
      "id": "8432b08d",
      "metadata": {
        "id": "8432b08d",
        "outputId": "0593ead9-aa72-4c86-8fa7-78892e678ad2",
        "colab": {
          "base_uri": "https://localhost:8080/"
        }
      },
      "outputs": [
        {
          "output_type": "execute_result",
          "data": {
            "text/plain": [
              "(1, 784)"
            ]
          },
          "metadata": {},
          "execution_count": 53
        }
      ],
      "source": [
        "test_x[:1].shape"
      ]
    },
    {
      "cell_type": "code",
      "execution_count": 54,
      "id": "9b979407",
      "metadata": {
        "id": "9b979407",
        "outputId": "568c7a67-0184-49aa-b3db-8ee7a2516bc4",
        "colab": {
          "base_uri": "https://localhost:8080/"
        }
      },
      "outputs": [
        {
          "output_type": "stream",
          "name": "stdout",
          "text": [
            "1/1 [==============================] - 0s 160ms/step\n"
          ]
        },
        {
          "output_type": "execute_result",
          "data": {
            "text/plain": [
              "array([[3.2527708e-03, 1.3375310e-03, 8.1509689e-04, 1.1804024e-02,\n",
              "        1.0878468e-03, 3.4668983e-03, 1.6608545e-05, 9.6551627e-01,\n",
              "        9.7628590e-04, 1.1726638e-02]], dtype=float32)"
            ]
          },
          "metadata": {},
          "execution_count": 54
        }
      ],
      "source": [
        "prediction_sample = model.predict(test_x[:1])\n",
        "prediction_sample"
      ]
    },
    {
      "cell_type": "code",
      "execution_count": 55,
      "id": "7fd4dedd",
      "metadata": {
        "id": "7fd4dedd",
        "outputId": "95fcdef5-8ee6-4314-9107-23ef2206dd1d",
        "colab": {
          "base_uri": "https://localhost:8080/"
        }
      },
      "outputs": [
        {
          "output_type": "execute_result",
          "data": {
            "text/plain": [
              "7"
            ]
          },
          "metadata": {},
          "execution_count": 55
        }
      ],
      "source": [
        "np.argmax(prediction_sample)"
      ]
    },
    {
      "cell_type": "code",
      "execution_count": 56,
      "id": "d5812acb",
      "metadata": {
        "id": "d5812acb"
      },
      "outputs": [],
      "source": [
        "sample_image = test_x[0].reshape((28, 28)) * 255"
      ]
    },
    {
      "cell_type": "code",
      "execution_count": 59,
      "id": "4873504b",
      "metadata": {
        "id": "4873504b",
        "outputId": "569eaf83-f087-4a17-e7e7-59ebe3f5d276",
        "colab": {
          "base_uri": "https://localhost:8080/",
          "height": 430
        }
      },
      "outputs": [
        {
          "output_type": "display_data",
          "data": {
            "text/plain": [
              "<Figure size 640x480 with 1 Axes>"
            ],
            "image/png": "[encoded data removed]"
          },
          "metadata": {}
        }
      ],
      "source": [
        "plt.imshow(sample_image)#, cmap='gray'\n",
        "plt.show()"
      ]
    },
    {
      "cell_type": "code",
      "execution_count": null,
      "id": "b2f0cc1b",
      "metadata": {
        "id": "b2f0cc1b"
      },
      "outputs": [],
      "source": []
    },
    {
      "cell_type": "code",
      "execution_count": null,
      "id": "ceebf587",
      "metadata": {
        "id": "ceebf587"
      },
      "outputs": [],
      "source": []
    }
  ],
  "metadata": {
    "kernelspec": {
      "display_name": "Python 3 (ipykernel)",
      "language": "python",
      "name": "python3"
    },
    "language_info": {
      "codemirror_mode": {
        "name": "ipython",
        "version": 3
      },
      "file_extension": ".py",
      "mimetype": "text/x-python",
      "name": "python",
      "nbconvert_exporter": "python",
      "pygments_lexer": "ipython3",
      "version": "3.9.9"
    },
    "varInspector": {
      "cols": {
        "lenName": 16,
        "lenType": 16,
        "lenVar": 40
      },
      "kernels_config": {
        "python": {
          "delete_cmd_postfix": "",
          "delete_cmd_prefix": "del ",
          "library": "var_list.py",
          "varRefreshCmd": "print(var_dic_list())"
        },
        "r": {
          "delete_cmd_postfix": ") ",
          "delete_cmd_prefix": "rm(",
          "library": "var_list.r",
          "varRefreshCmd": "cat(var_dic_list()) "
        }
      },
      "types_to_exclude": [
        "module",
        "function",
        "builtin_function_or_method",
        "instance",
        "_Feature"
      ],
      "window_display": false
    },
    "colab": {
      "provenance": [],
      "toc_visible": true,
      "include_colab_link": true
    }
  },
  "nbformat": 4,
  "nbformat_minor": 5
}