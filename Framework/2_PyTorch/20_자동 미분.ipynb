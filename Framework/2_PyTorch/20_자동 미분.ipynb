{
  "cells": [
    {
      "cell_type": "markdown",
      "metadata": {
        "id": "view-in-github",
        "colab_type": "text"
      },
      "source": [
        "<a href=\"https://colab.research.google.com/github/ElaYJ/Study_Deep_Learning/blob/main/Framework/PyTorch/20_%EC%9E%90%EB%8F%99%20%EB%AF%B8%EB%B6%84.ipynb\" target=\"_parent\"><img src=\"https://colab.research.google.com/assets/colab-badge.svg\" alt=\"Open In Colab\"/></a>"
      ]
    },
    {
      "cell_type": "markdown",
      "id": "33ae048a",
      "metadata": {
        "id": "33ae048a",
        "school_cell_uuid": "0be508e1695e4b329b723279d00061ed"
      },
      "source": [
        "# 자동 미분"
      ]
    },
    {
      "cell_type": "code",
      "execution_count": 1,
      "id": "6119171e",
      "metadata": {
        "id": "6119171e"
      },
      "outputs": [],
      "source": [
        "import torch"
      ]
    },
    {
      "cell_type": "markdown",
      "id": "55a8e34f",
      "metadata": {
        "id": "55a8e34f",
        "school_cell_uuid": "49fe360451c843d1b115b31818e1165b"
      },
      "source": [
        "`autograd`는 PyTorch에서 핵심적인 기능을 담당하는 하부 패키지이다.\n",
        "\n",
        "autograd는 텐서의 연산에 대해 자동으로 미분값을 구해주는 기능을 한다.\n",
        "\n",
        "- 텐서 자료를 생성할 때, `requires_grad`인수를 `True`로 설정하거나\n",
        "- `.requires_grad_(True)`를 실행하면\n",
        "\n",
        "그 텐서에 행해지는 모든 연산에 대한 미분값을 계산한다.\n",
        "\n",
        "계산을 멈추고 싶으면 `.detach()`함수나 with을 이용해 `torch.no_grad()`를  이용하면 된다."
      ]
    },
    {
      "cell_type": "code",
      "source": [
        "torch.rand(2, 2)"
      ],
      "metadata": {
        "colab": {
          "base_uri": "https://localhost:8080/"
        },
        "id": "yA_fMbfO2Ihq",
        "outputId": "8a4f8dfb-cd2f-438e-e1a1-b772ea3e6c24"
      },
      "id": "yA_fMbfO2Ihq",
      "execution_count": 3,
      "outputs": [
        {
          "output_type": "execute_result",
          "data": {
            "text/plain": [
              "tensor([[0.9428, 0.4042],\n",
              "        [0.4438, 0.6448]])"
            ]
          },
          "metadata": {},
          "execution_count": 3
        }
      ]
    },
    {
      "cell_type": "code",
      "execution_count": 2,
      "id": "89004eed",
      "metadata": {
        "colab": {
          "base_uri": "https://localhost:8080/"
        },
        "id": "89004eed",
        "outputId": "9649bc8d-d440-4501-a457-2d05683c7811",
        "school_cell_uuid": "3396443a49494a22afb7fb0c7801aaff"
      },
      "outputs": [
        {
          "output_type": "stream",
          "name": "stdout",
          "text": [
            "tensor([[0.2607, 0.8066],\n",
            "        [0.5671, 0.1847]], requires_grad=True)\n"
          ]
        }
      ],
      "source": [
        "x = torch.rand(2, 2, requires_grad=True) #--> 미분값을 tracking(추적, 조사, 수집)\n",
        "print(x)"
      ]
    },
    {
      "cell_type": "markdown",
      "id": "6f2427c1",
      "metadata": {
        "id": "6f2427c1",
        "school_cell_uuid": "bbe2ffda94494f22aff74255a81349f0"
      },
      "source": [
        "- 다음으로 이 x에 연산을 수행한다.\n",
        "\n",
        "- 다음 코드의 y는 연산의 결과이므로 미분 함수를 가진다.\n",
        "\n",
        "- `grad_fn`속성을 출력해 미분 함수를 확인 할 수 있다."
      ]
    },
    {
      "cell_type": "code",
      "execution_count": 4,
      "id": "fe1d789e",
      "metadata": {
        "colab": {
          "base_uri": "https://localhost:8080/"
        },
        "id": "fe1d789e",
        "outputId": "0e7569ae-2813-41c9-88e2-953891a76b48",
        "school_cell_uuid": "d3fd2bc942a94648b083b9f6d22887b4"
      },
      "outputs": [
        {
          "output_type": "stream",
          "name": "stdout",
          "text": [
            "tensor(5.4574, grad_fn=<SumBackward0>) <SumBackward0 object at 0x785a12441240>\n"
          ]
        }
      ],
      "source": [
        "y = torch.sum(x * 3)\n",
        "print(y, y.grad_fn)"
      ]
    },
    {
      "cell_type": "markdown",
      "source": [
        "- `grad_fn` 속성값이 있으면 backward() 메서드 호출이 가능하다."
      ],
      "metadata": {
        "id": "yFRK61c53lwb"
      },
      "id": "yFRK61c53lwb"
    },
    {
      "cell_type": "code",
      "source": [
        "y.backward()"
      ],
      "metadata": {
        "id": "JS4-Mz9C3GmV"
      },
      "id": "JS4-Mz9C3GmV",
      "execution_count": 5,
      "outputs": []
    },
    {
      "cell_type": "code",
      "source": [
        "x.grad"
      ],
      "metadata": {
        "colab": {
          "base_uri": "https://localhost:8080/"
        },
        "id": "U2TD1jmz3OpN",
        "outputId": "3d644f64-5dc4-4578-e1f2-0ae2e348ad74"
      },
      "id": "U2TD1jmz3OpN",
      "execution_count": 7,
      "outputs": [
        {
          "output_type": "execute_result",
          "data": {
            "text/plain": [
              "tensor([[3., 3.],\n",
              "        [3., 3.]])"
            ]
          },
          "metadata": {},
          "execution_count": 7
        }
      ]
    },
    {
      "cell_type": "markdown",
      "id": "c3931e24",
      "metadata": {
        "id": "c3931e24",
        "school_cell_uuid": "85d36e8f00a4460abff07fb15125a86e"
      },
      "source": [
        "`y.backward()` 함수를 실행하면 x의 미분값이 자동으로 갱신된다. x의 `grad`속성을 확인하면 미분값이 들어 있는 것을 확인 할 수 있다. y를 구하기 위한 x의 연산을 수식으로 쓰면 다음과 같다.\n",
        "\n",
        "$$\n",
        "y = \\displaystyle\\sum_{i=1}^4 3 \\times x_i\n",
        "$$\n",
        "\n",
        "이를 $x_i$에 대해 미분 하면 미분 함수는 다음과 같다.\n",
        "\n",
        "$$\n",
        "\\dfrac{\\partial y}{\\partial x_i} = 3\n",
        "$$\n",
        "\n",
        "실제 미분값과 같은지 확인해보자."
      ]
    },
    {
      "cell_type": "code",
      "execution_count": 17,
      "id": "5a7a1af7",
      "metadata": {
        "id": "5a7a1af7",
        "school_cell_uuid": "f345c4eb6f7b4cda9ef4ce286e1a62c5"
      },
      "outputs": [],
      "source": [
        "x = torch.rand(2, 2, requires_grad=True)\n",
        "y = torch.sum(x * 3)"
      ]
    },
    {
      "cell_type": "code",
      "source": [
        "print(x.grad)"
      ],
      "metadata": {
        "colab": {
          "base_uri": "https://localhost:8080/"
        },
        "id": "2ZPxYFJ45RKx",
        "outputId": "0994d3ab-1193-42dd-dc36-ae8921a46593"
      },
      "id": "2ZPxYFJ45RKx",
      "execution_count": 19,
      "outputs": [
        {
          "output_type": "stream",
          "name": "stdout",
          "text": [
            "None\n"
          ]
        }
      ]
    },
    {
      "cell_type": "code",
      "execution_count": 20,
      "id": "3b033812",
      "metadata": {
        "id": "3b033812",
        "school_cell_uuid": "52d6d6b52cf14a23b4cd076f7b0963d1"
      },
      "outputs": [],
      "source": [
        "y.backward(retain_graph=True)"
      ]
    },
    {
      "cell_type": "code",
      "execution_count": 21,
      "id": "e70d74c4",
      "metadata": {
        "colab": {
          "base_uri": "https://localhost:8080/"
        },
        "id": "e70d74c4",
        "outputId": "87bfe409-ec99-4b34-a56f-f36802eb91d0",
        "school_cell_uuid": "bfcfdfea33f843fbabb7c58305594b1f"
      },
      "outputs": [
        {
          "output_type": "execute_result",
          "data": {
            "text/plain": [
              "tensor([[3., 3.],\n",
              "        [3., 3.]])"
            ]
          },
          "metadata": {},
          "execution_count": 21
        }
      ],
      "source": [
        "x.grad"
      ]
    },
    {
      "cell_type": "markdown",
      "id": "fd9e95ad",
      "metadata": {
        "id": "fd9e95ad",
        "school_cell_uuid": "912bc4592afa4dc3a7ae47a96278601a"
      },
      "source": [
        "`backward()`함수는 자동으로 미분값을 계산해 `requires_grad`인수가 True로 설정된 변수의 `grad`속성의 값을 갱신한다."
      ]
    },
    {
      "cell_type": "markdown",
      "id": "5450e53b",
      "metadata": {
        "id": "5450e53b"
      },
      "source": [
        "`retain_graph` 미분을 연산하기 위해서 사용했던 임시 그래프를 유지 할 것인가를 설정하는 것이다.\n",
        "기본값은 False로 설정되어 있지만 동일한 연산에 대해 여러번 미분을 계산하기 위해서는 True로 설정되어 있어야한다.(`tf.GradientTape`에서 `persistent`와 같음)\n",
        "\n",
        "`torch.autograd.grad()`함수를 사용해 `tf.GradientTape`처럼 사용할 수도 있다."
      ]
    },
    {
      "cell_type": "code",
      "execution_count": 22,
      "id": "6d510119",
      "metadata": {
        "colab": {
          "base_uri": "https://localhost:8080/"
        },
        "id": "6d510119",
        "outputId": "c2094268-da66-44b3-ca3f-569df1d12de4",
        "school_cell_uuid": "39d3203d06944519aa6b7c16e98aeda6"
      },
      "outputs": [
        {
          "output_type": "execute_result",
          "data": {
            "text/plain": [
              "(tensor([[3., 3.],\n",
              "         [3., 3.]]),)"
            ]
          },
          "metadata": {},
          "execution_count": 22
        }
      ],
      "source": [
        "torch.autograd.grad(y, x)"
      ]
    },
    {
      "cell_type": "code",
      "execution_count": null,
      "id": "fc06ac82",
      "metadata": {
        "id": "fc06ac82"
      },
      "outputs": [],
      "source": []
    },
    {
      "cell_type": "code",
      "execution_count": null,
      "id": "fdfbed7d",
      "metadata": {
        "id": "fdfbed7d"
      },
      "outputs": [],
      "source": []
    },
    {
      "cell_type": "markdown",
      "id": "26131202",
      "metadata": {
        "id": "26131202",
        "school_cell_uuid": "a075cd7db9344c589ce6018801d4b519"
      },
      "source": [
        "상황에 따라 특정 연산에는 미분값을 계산하고 싶지 않은 경우에는\n",
        "\n",
        " - `.detach()`함수\n",
        " - `with torch.no_grad()`"
      ]
    },
    {
      "cell_type": "code",
      "execution_count": 23,
      "id": "d1407ddb",
      "metadata": {
        "colab": {
          "base_uri": "https://localhost:8080/"
        },
        "id": "d1407ddb",
        "outputId": "e95f940a-2860-425f-bf12-1bacdc346eef"
      },
      "outputs": [
        {
          "output_type": "stream",
          "name": "stdout",
          "text": [
            "tensor([[3., 3.],\n",
            "        [3., 3.]])\n"
          ]
        },
        {
          "output_type": "execute_result",
          "data": {
            "text/plain": [
              "tensor([[0.5037, 0.6385],\n",
              "        [0.5239, 0.7276]])"
            ]
          },
          "metadata": {},
          "execution_count": 23
        }
      ],
      "source": [
        "print(x.grad)\n",
        "x_d = x.detach()\n",
        "torch.sigmoid(x_d)"
      ]
    },
    {
      "cell_type": "code",
      "execution_count": 24,
      "id": "644e280c",
      "metadata": {
        "colab": {
          "base_uri": "https://localhost:8080/"
        },
        "id": "644e280c",
        "outputId": "f7e6f84e-e2ed-49f1-e860-5b3cc96097a0"
      },
      "outputs": [
        {
          "output_type": "stream",
          "name": "stdout",
          "text": [
            "tensor([[3., 3.],\n",
            "        [3., 3.]])\n",
            "None\n"
          ]
        }
      ],
      "source": [
        "print(x.grad)\n",
        "print(x_d.grad)"
      ]
    },
    {
      "cell_type": "code",
      "execution_count": 25,
      "id": "0af72b58",
      "metadata": {
        "colab": {
          "base_uri": "https://localhost:8080/"
        },
        "id": "0af72b58",
        "outputId": "57213ce9-ccde-448f-e796-b5b05f4db20c"
      },
      "outputs": [
        {
          "output_type": "stream",
          "name": "stdout",
          "text": [
            "tensor([[3., 3.],\n",
            "        [3., 3.]])\n",
            "None\n"
          ]
        }
      ],
      "source": [
        "print(x.grad)\n",
        "with torch.no_grad():\n",
        "    x_d2 = torch.sigmoid(x)\n",
        "    print(x_d2.grad)"
      ]
    },
    {
      "cell_type": "code",
      "execution_count": null,
      "id": "765629bc",
      "metadata": {
        "id": "765629bc"
      },
      "outputs": [],
      "source": []
    },
    {
      "cell_type": "code",
      "execution_count": null,
      "id": "01d31c1c",
      "metadata": {
        "id": "01d31c1c"
      },
      "outputs": [],
      "source": []
    }
  ],
  "metadata": {
    "kernelspec": {
      "display_name": "Python 3 (ipykernel)",
      "language": "python",
      "name": "python3"
    },
    "language_info": {
      "codemirror_mode": {
        "name": "ipython",
        "version": 3
      },
      "file_extension": ".py",
      "mimetype": "text/x-python",
      "name": "python",
      "nbconvert_exporter": "python",
      "pygments_lexer": "ipython3",
      "version": "3.9.9"
    },
    "varInspector": {
      "cols": {
        "lenName": 16,
        "lenType": 16,
        "lenVar": 40
      },
      "kernels_config": {
        "python": {
          "delete_cmd_postfix": "",
          "delete_cmd_prefix": "del ",
          "library": "var_list.py",
          "varRefreshCmd": "print(var_dic_list())"
        },
        "r": {
          "delete_cmd_postfix": ") ",
          "delete_cmd_prefix": "rm(",
          "library": "var_list.r",
          "varRefreshCmd": "cat(var_dic_list()) "
        }
      },
      "types_to_exclude": [
        "module",
        "function",
        "builtin_function_or_method",
        "instance",
        "_Feature"
      ],
      "window_display": false
    },
    "colab": {
      "provenance": [],
      "toc_visible": true,
      "include_colab_link": true
    }
  },
  "nbformat": 4,
  "nbformat_minor": 5
}