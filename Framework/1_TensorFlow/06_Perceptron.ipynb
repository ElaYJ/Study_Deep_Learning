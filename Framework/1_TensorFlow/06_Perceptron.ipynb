{
  "cells": [
    {
      "cell_type": "markdown",
      "metadata": {
        "id": "view-in-github",
        "colab_type": "text"
      },
      "source": [
        "<a href=\"https://colab.research.google.com/github/ElaYJ/Study_Deep_Learning/blob/main/DL_Framework/TensorFlow/06_Perceptron.ipynb\" target=\"_parent\"><img src=\"https://colab.research.google.com/assets/colab-badge.svg\" alt=\"Open In Colab\"/></a>"
      ]
    },
    {
      "cell_type": "markdown",
      "id": "dd76e074",
      "metadata": {
        "school_cell_uuid": "581b252b81e24b78a8bf161e16479800",
        "id": "dd76e074"
      },
      "source": [
        "# 퍼셉트론"
      ]
    },
    {
      "cell_type": "code",
      "execution_count": 1,
      "id": "b58a3258",
      "metadata": {
        "id": "b58a3258"
      },
      "outputs": [],
      "source": [
        "import tensorflow as tf\n",
        "import numpy as np"
      ]
    },
    {
      "cell_type": "markdown",
      "id": "48fad343",
      "metadata": {
        "school_cell_uuid": "82a294bfdc354b31a412f17ed124538b",
        "id": "48fad343"
      },
      "source": [
        "- 이번엔 Iris 데이터 중 두 종류를 분류하는 퍼셉트론을 제작한다.\n",
        "\n",
        "- y값은 1 또는 -1을 사용하고 활성화 함수로는 하이퍼탄젠트(hypertangent)함수를 사용한다.\n",
        "\n",
        "$$\\Large{ \\hat{y} = tanh(w^Tx) }$$"
      ]
    },
    {
      "cell_type": "markdown",
      "id": "56052641",
      "metadata": {
        "id": "56052641"
      },
      "source": [
        "- 비용 함수로는 다음 식을 사용한다.\n",
        "\n",
        "$$\n",
        "\\large{\n",
        "Loss = \\sum_{i=1}^N \\max(0, -y_i \\hat{y_i})\n",
        "}\n",
        "$$\n",
        "\n",
        "- $\\,y_i\\,$와 $~\\hat y_i\\,$의 값이 같으면 -1로 max 값이 0이 되므로 counting에서 제외됨.\n",
        "\n",
        "- $\\,y_i\\,$와 $~\\hat y_i$ 두 값이 다를 때, 즉 예측값이 얼마나 틀렸는지를 손실함수로 사용"
      ]
    },
    {
      "cell_type": "code",
      "execution_count": 2,
      "id": "2edcacf9",
      "metadata": {
        "school_cell_uuid": "a208a3840ab44bb8a13d5cc7822cf00d",
        "scrolled": false,
        "colab": {
          "base_uri": "https://localhost:8080/"
        },
        "id": "2edcacf9",
        "outputId": "6ea9481b-9b26-471a-eda9-42f6709252f2"
      },
      "outputs": [
        {
          "output_type": "stream",
          "name": "stdout",
          "text": [
            ".. _iris_dataset:\n",
            "\n",
            "Iris plants dataset\n",
            "--------------------\n",
            "\n",
            "**Data Set Characteristics:**\n",
            "\n",
            "    :Number of Instances: 150 (50 in each of three classes)\n",
            "    :Number of Attributes: 4 numeric, predictive attributes and the class\n",
            "    :Attribute Information:\n",
            "        - sepal length in cm\n",
            "        - sepal width in cm\n",
            "        - petal length in cm\n",
            "        - petal width in cm\n",
            "        - class:\n",
            "                - Iris-Setosa\n",
            "                - Iris-Versicolour\n",
            "                - Iris-Virginica\n",
            "                \n",
            "    :Summary Statistics:\n",
            "\n",
            "    ============== ==== ==== ======= ===== ====================\n",
            "                    Min  Max   Mean    SD   Class Correlation\n",
            "    ============== ==== ==== ======= ===== ====================\n",
            "    sepal length:   4.3  7.9   5.84   0.83    0.7826\n",
            "    sepal width:    2.0  4.4   3.05   0.43   -0.4194\n",
            "    petal length:   1.0  6.9   3.76   1.76    0.9490  (high!)\n",
            "    petal width:    0.1  2.5   1.20   0.76    0.9565  (high!)\n",
            "    ============== ==== ==== ======= ===== ====================\n",
            "\n",
            "    :Missing Attribute Values: None\n",
            "    :Class Distribution: 33.3% for each of 3 classes.\n",
            "    :Creator: R.A. Fisher\n",
            "    :Donor: Michael Marshall (MARSHALL%PLU@io.arc.nasa.gov)\n",
            "    :Date: July, 1988\n",
            "\n",
            "The famous Iris database, first used by Sir R.A. Fisher. The dataset is taken\n",
            "from Fisher's paper. Note that it's the same as in R, but not as in the UCI\n",
            "Machine Learning Repository, which has two wrong data points.\n",
            "\n",
            "This is perhaps the best known database to be found in the\n",
            "pattern recognition literature.  Fisher's paper is a classic in the field and\n",
            "is referenced frequently to this day.  (See Duda & Hart, for example.)  The\n",
            "data set contains 3 classes of 50 instances each, where each class refers to a\n",
            "type of iris plant.  One class is linearly separable from the other 2; the\n",
            "latter are NOT linearly separable from each other.\n",
            "\n",
            ".. topic:: References\n",
            "\n",
            "   - Fisher, R.A. \"The use of multiple measurements in taxonomic problems\"\n",
            "     Annual Eugenics, 7, Part II, 179-188 (1936); also in \"Contributions to\n",
            "     Mathematical Statistics\" (John Wiley, NY, 1950).\n",
            "   - Duda, R.O., & Hart, P.E. (1973) Pattern Classification and Scene Analysis.\n",
            "     (Q327.D83) John Wiley & Sons.  ISBN 0-471-22361-1.  See page 218.\n",
            "   - Dasarathy, B.V. (1980) \"Nosing Around the Neighborhood: A New System\n",
            "     Structure and Classification Rule for Recognition in Partially Exposed\n",
            "     Environments\".  IEEE Transactions on Pattern Analysis and Machine\n",
            "     Intelligence, Vol. PAMI-2, No. 1, 67-71.\n",
            "   - Gates, G.W. (1972) \"The Reduced Nearest Neighbor Rule\".  IEEE Transactions\n",
            "     on Information Theory, May 1972, 431-433.\n",
            "   - See also: 1988 MLC Proceedings, 54-64.  Cheeseman et al\"s AUTOCLASS II\n",
            "     conceptual clustering system finds 3 classes in the data.\n",
            "   - Many, many more ...\n"
          ]
        }
      ],
      "source": [
        "from sklearn.datasets import load_iris\n",
        "iris = load_iris()\n",
        "print(iris.DESCR)"
      ]
    },
    {
      "cell_type": "markdown",
      "source": [
        "- IRIS type 2종류만 사용\n",
        "\n",
        "- features도 sepal length, sepal width 2개만 사용"
      ],
      "metadata": {
        "id": "VnWZmy53Rgzx"
      },
      "id": "VnWZmy53Rgzx"
    },
    {
      "cell_type": "code",
      "execution_count": 3,
      "id": "eab193fc",
      "metadata": {
        "id": "eab193fc"
      },
      "outputs": [],
      "source": [
        "idx = np.in1d(iris.target, [0, 2])\n",
        "X_data = iris.data[idx, 0:2]\n",
        "y_data = (iris.target[idx] - 1.0)[:, np.newaxis]"
      ]
    },
    {
      "cell_type": "code",
      "execution_count": 4,
      "id": "2d9ca57b",
      "metadata": {
        "colab": {
          "base_uri": "https://localhost:8080/"
        },
        "id": "2d9ca57b",
        "outputId": "18df4ee2-62a7-4859-e372-961a2a2602e6"
      },
      "outputs": [
        {
          "output_type": "execute_result",
          "data": {
            "text/plain": [
              "((100, 2), (100, 1))"
            ]
          },
          "metadata": {},
          "execution_count": 4
        }
      ],
      "source": [
        "X_data.shape, y_data.shape"
      ]
    },
    {
      "cell_type": "code",
      "source": [
        "X_data[0].shape, X_data[0:1].shape"
      ],
      "metadata": {
        "colab": {
          "base_uri": "https://localhost:8080/"
        },
        "id": "IhSbEl2vTbtE",
        "outputId": "a657de38-095e-4933-ff7c-d2415b235921"
      },
      "id": "IhSbEl2vTbtE",
      "execution_count": 5,
      "outputs": [
        {
          "output_type": "execute_result",
          "data": {
            "text/plain": [
              "((2,), (1, 2))"
            ]
          },
          "metadata": {},
          "execution_count": 5
        }
      ]
    },
    {
      "cell_type": "code",
      "source": [
        "X_data[0], X_data[0:1]"
      ],
      "metadata": {
        "colab": {
          "base_uri": "https://localhost:8080/"
        },
        "id": "8D-JiBBFTmW0",
        "outputId": "f05f2c4a-af85-419d-d7ad-ae48ff222418"
      },
      "id": "8D-JiBBFTmW0",
      "execution_count": 6,
      "outputs": [
        {
          "output_type": "execute_result",
          "data": {
            "text/plain": [
              "(array([5.1, 3.5]), array([[5.1, 3.5]]))"
            ]
          },
          "metadata": {},
          "execution_count": 6
        }
      ]
    },
    {
      "cell_type": "code",
      "source": [
        "idx"
      ],
      "metadata": {
        "colab": {
          "base_uri": "https://localhost:8080/"
        },
        "id": "rHvu9bHfR45h",
        "outputId": "5024bc5d-7b9a-4902-c2fe-0c880c7be494"
      },
      "id": "rHvu9bHfR45h",
      "execution_count": 7,
      "outputs": [
        {
          "output_type": "execute_result",
          "data": {
            "text/plain": [
              "array([ True,  True,  True,  True,  True,  True,  True,  True,  True,\n",
              "        True,  True,  True,  True,  True,  True,  True,  True,  True,\n",
              "        True,  True,  True,  True,  True,  True,  True,  True,  True,\n",
              "        True,  True,  True,  True,  True,  True,  True,  True,  True,\n",
              "        True,  True,  True,  True,  True,  True,  True,  True,  True,\n",
              "        True,  True,  True,  True,  True, False, False, False, False,\n",
              "       False, False, False, False, False, False, False, False, False,\n",
              "       False, False, False, False, False, False, False, False, False,\n",
              "       False, False, False, False, False, False, False, False, False,\n",
              "       False, False, False, False, False, False, False, False, False,\n",
              "       False, False, False, False, False, False, False, False, False,\n",
              "       False,  True,  True,  True,  True,  True,  True,  True,  True,\n",
              "        True,  True,  True,  True,  True,  True,  True,  True,  True,\n",
              "        True,  True,  True,  True,  True,  True,  True,  True,  True,\n",
              "        True,  True,  True,  True,  True,  True,  True,  True,  True,\n",
              "        True,  True,  True,  True,  True,  True,  True,  True,  True,\n",
              "        True,  True,  True,  True,  True,  True])"
            ]
          },
          "metadata": {},
          "execution_count": 7
        }
      ]
    },
    {
      "cell_type": "code",
      "source": [
        "(iris.target[idx] - 1.0)"
      ],
      "metadata": {
        "colab": {
          "base_uri": "https://localhost:8080/"
        },
        "id": "VUcHfAEuSM02",
        "outputId": "74917dbb-01c0-4594-ade1-1cc5f39684e8"
      },
      "id": "VUcHfAEuSM02",
      "execution_count": 8,
      "outputs": [
        {
          "output_type": "execute_result",
          "data": {
            "text/plain": [
              "array([-1., -1., -1., -1., -1., -1., -1., -1., -1., -1., -1., -1., -1.,\n",
              "       -1., -1., -1., -1., -1., -1., -1., -1., -1., -1., -1., -1., -1.,\n",
              "       -1., -1., -1., -1., -1., -1., -1., -1., -1., -1., -1., -1., -1.,\n",
              "       -1., -1., -1., -1., -1., -1., -1., -1., -1., -1., -1.,  1.,  1.,\n",
              "        1.,  1.,  1.,  1.,  1.,  1.,  1.,  1.,  1.,  1.,  1.,  1.,  1.,\n",
              "        1.,  1.,  1.,  1.,  1.,  1.,  1.,  1.,  1.,  1.,  1.,  1.,  1.,\n",
              "        1.,  1.,  1.,  1.,  1.,  1.,  1.,  1.,  1.,  1.,  1.,  1.,  1.,\n",
              "        1.,  1.,  1.,  1.,  1.,  1.,  1.,  1.,  1.])"
            ]
          },
          "metadata": {},
          "execution_count": 8
        }
      ]
    },
    {
      "cell_type": "code",
      "source": [
        "(iris.target[idx] - 1.0)[:, np.newaxis]"
      ],
      "metadata": {
        "colab": {
          "base_uri": "https://localhost:8080/"
        },
        "id": "PqCEdWfKSgiH",
        "outputId": "025fe739-690d-4c59-981f-44ce62e0267d"
      },
      "id": "PqCEdWfKSgiH",
      "execution_count": 9,
      "outputs": [
        {
          "output_type": "execute_result",
          "data": {
            "text/plain": [
              "array([[-1.],\n",
              "       [-1.],\n",
              "       [-1.],\n",
              "       [-1.],\n",
              "       [-1.],\n",
              "       [-1.],\n",
              "       [-1.],\n",
              "       [-1.],\n",
              "       [-1.],\n",
              "       [-1.],\n",
              "       [-1.],\n",
              "       [-1.],\n",
              "       [-1.],\n",
              "       [-1.],\n",
              "       [-1.],\n",
              "       [-1.],\n",
              "       [-1.],\n",
              "       [-1.],\n",
              "       [-1.],\n",
              "       [-1.],\n",
              "       [-1.],\n",
              "       [-1.],\n",
              "       [-1.],\n",
              "       [-1.],\n",
              "       [-1.],\n",
              "       [-1.],\n",
              "       [-1.],\n",
              "       [-1.],\n",
              "       [-1.],\n",
              "       [-1.],\n",
              "       [-1.],\n",
              "       [-1.],\n",
              "       [-1.],\n",
              "       [-1.],\n",
              "       [-1.],\n",
              "       [-1.],\n",
              "       [-1.],\n",
              "       [-1.],\n",
              "       [-1.],\n",
              "       [-1.],\n",
              "       [-1.],\n",
              "       [-1.],\n",
              "       [-1.],\n",
              "       [-1.],\n",
              "       [-1.],\n",
              "       [-1.],\n",
              "       [-1.],\n",
              "       [-1.],\n",
              "       [-1.],\n",
              "       [-1.],\n",
              "       [ 1.],\n",
              "       [ 1.],\n",
              "       [ 1.],\n",
              "       [ 1.],\n",
              "       [ 1.],\n",
              "       [ 1.],\n",
              "       [ 1.],\n",
              "       [ 1.],\n",
              "       [ 1.],\n",
              "       [ 1.],\n",
              "       [ 1.],\n",
              "       [ 1.],\n",
              "       [ 1.],\n",
              "       [ 1.],\n",
              "       [ 1.],\n",
              "       [ 1.],\n",
              "       [ 1.],\n",
              "       [ 1.],\n",
              "       [ 1.],\n",
              "       [ 1.],\n",
              "       [ 1.],\n",
              "       [ 1.],\n",
              "       [ 1.],\n",
              "       [ 1.],\n",
              "       [ 1.],\n",
              "       [ 1.],\n",
              "       [ 1.],\n",
              "       [ 1.],\n",
              "       [ 1.],\n",
              "       [ 1.],\n",
              "       [ 1.],\n",
              "       [ 1.],\n",
              "       [ 1.],\n",
              "       [ 1.],\n",
              "       [ 1.],\n",
              "       [ 1.],\n",
              "       [ 1.],\n",
              "       [ 1.],\n",
              "       [ 1.],\n",
              "       [ 1.],\n",
              "       [ 1.],\n",
              "       [ 1.],\n",
              "       [ 1.],\n",
              "       [ 1.],\n",
              "       [ 1.],\n",
              "       [ 1.],\n",
              "       [ 1.],\n",
              "       [ 1.],\n",
              "       [ 1.],\n",
              "       [ 1.]])"
            ]
          },
          "metadata": {},
          "execution_count": 9
        }
      ]
    },
    {
      "cell_type": "markdown",
      "id": "f5929ad7",
      "metadata": {
        "id": "f5929ad7"
      },
      "source": [
        "### Perceptron 구현\n",
        "\n",
        "- 다음 데이터를 이용해 Perceptron을 구현해 본다.\n",
        "\n",
        "    - 데이터 하나당 한번씩 weights 업데이트\n",
        "    - step size == 0.0003\n",
        "    - iteration == 200"
      ]
    },
    {
      "cell_type": "code",
      "execution_count": 10,
      "id": "d74df376",
      "metadata": {
        "id": "d74df376"
      },
      "outputs": [],
      "source": [
        "num_iter = 500\n",
        "lr = 0.0003"
      ]
    },
    {
      "cell_type": "code",
      "execution_count": 11,
      "id": "b6413cab",
      "metadata": {
        "id": "b6413cab"
      },
      "outputs": [],
      "source": [
        "w = tf.Variable(tf.random.normal([2, 1], dtype=tf.float64))\n",
        "b = tf.Variable(tf.random.normal([1, 1], dtype=tf.float64))"
      ]
    },
    {
      "cell_type": "code",
      "execution_count": 28,
      "id": "25fd48a8",
      "metadata": {
        "id": "25fd48a8"
      },
      "outputs": [],
      "source": [
        "zero = tf.constant(0, dtype=tf.float64)\n",
        "\n",
        "for i in range(num_iter):\n",
        "    for i in range(X_data.shape[0]):\n",
        "        x = X_data[i:i+1] #--> 차원 유지를 위해 [i:i+1]사용\n",
        "        y = y_data[i:i+1]\n",
        "\n",
        "        with tf.GradientTape() as tape:\n",
        "            logit = tf.matmul(x, w) + b\n",
        "            y_hat = tf.tanh(logit)\n",
        "            loss = tf.maximum(zero, tf.multiply(-y, y_hat))\n",
        "\n",
        "        grad = tape.gradient(loss, [w, b])\n",
        "        w.assign_add(-lr * grad[0])\n",
        "        b.assign_add(-lr * grad[1])\n",
        "        # w.assign_sub(lr * grad[0])\n",
        "        # b.assign_sub(lr * grad[1])\n",
        "        # 이거 쓰면 accuracy가 엉망으로 나옴. Why?"
      ]
    },
    {
      "cell_type": "code",
      "execution_count": 29,
      "id": "c8efc0e4",
      "metadata": {
        "id": "c8efc0e4"
      },
      "outputs": [],
      "source": [
        "y_pred = tf.tanh(tf.matmul(X_data, w) + b)"
      ]
    },
    {
      "cell_type": "code",
      "source": [
        "y_pred[:50]"
      ],
      "metadata": {
        "colab": {
          "base_uri": "https://localhost:8080/"
        },
        "id": "kFDiwoPUdbLb",
        "outputId": "e62dd947-4dfd-454d-eca4-2380b3c3e615"
      },
      "id": "kFDiwoPUdbLb",
      "execution_count": 30,
      "outputs": [
        {
          "output_type": "execute_result",
          "data": {
            "text/plain": [
              "<tf.Tensor: shape=(50, 1), dtype=float64, numpy=\n",
              "array([[-0.07074017],\n",
              "       [-0.0074678 ],\n",
              "       [-0.04845832],\n",
              "       [-0.03915647],\n",
              "       [-0.09111927],\n",
              "       [-0.11324705],\n",
              "       [-0.08373098],\n",
              "       [-0.06146116],\n",
              "       [-0.020534  ],\n",
              "       [-0.02238119],\n",
              "       [-0.08370463],\n",
              "       [-0.07260512],\n",
              "       [-0.01306438],\n",
              "       [-0.04102803],\n",
              "       [-0.105865  ],\n",
              "       [-0.16986567],\n",
              "       [-0.11324705],\n",
              "       [-0.07074017],\n",
              "       [-0.0818429 ],\n",
              "       [-0.11509719],\n",
              "       [-0.03912997],\n",
              "       [-0.10035359],\n",
              "       [-0.11327325],\n",
              "       [-0.04100154],\n",
              "       [-0.07260512],\n",
              "       [-0.00187074],\n",
              "       [-0.06146116],\n",
              "       [-0.06516885],\n",
              "       [-0.05030185],\n",
              "       [-0.04845832],\n",
              "       [-0.02797482],\n",
              "       [-0.03912997],\n",
              "       [-0.15353942],\n",
              "       [-0.15170851],\n",
              "       [-0.02238119],\n",
              "       [-0.03169412],\n",
              "       [-0.04843185],\n",
              "       [-0.0966671 ],\n",
              "       [-0.03543904],\n",
              "       [-0.05588325],\n",
              "       [-0.07630709],\n",
              "       [ 0.0744244 ],\n",
              "       [-0.06519527],\n",
              "       [-0.07630709],\n",
              "       [-0.11509719],\n",
              "       [-0.01306438],\n",
              "       [-0.11509719],\n",
              "       [-0.0540408 ],\n",
              "       [-0.08925994],\n",
              "       [-0.04658798]])>"
            ]
          },
          "metadata": {},
          "execution_count": 30
        }
      ]
    },
    {
      "cell_type": "code",
      "execution_count": 31,
      "id": "b7e571c3",
      "metadata": {
        "colab": {
          "base_uri": "https://localhost:8080/"
        },
        "id": "b7e571c3",
        "outputId": "1de8d4ff-3039-4a8d-b6de-4368f0ac4800"
      },
      "outputs": [
        {
          "output_type": "stream",
          "name": "stdout",
          "text": [
            "예측치 : [-0.07074017] 정답 : [-1.]\n",
            "예측치 : [-0.04100154] 정답 : [-1.]\n",
            "예측치 : [0.06149523] 정답 : [1.]\n"
          ]
        }
      ],
      "source": [
        "print(\"예측치 :\", y_pred[0].numpy(),  \"정답 :\", y_data[0])\n",
        "print(\"예측치 :\", y_pred[23].numpy(), \"정답 :\", y_data[23])\n",
        "print(\"예측치 :\", y_pred[87].numpy(), \"정답 :\", y_data[87])"
      ]
    },
    {
      "cell_type": "code",
      "execution_count": 32,
      "id": "561f122b",
      "metadata": {
        "colab": {
          "base_uri": "https://localhost:8080/"
        },
        "id": "561f122b",
        "outputId": "0f9b539c-b30f-4014-ef2d-55b34de41fa6"
      },
      "outputs": [
        {
          "output_type": "stream",
          "name": "stdout",
          "text": [
            "예측치 : -1 정답 : [-1.]\n",
            "예측치 : 1 정답 : [1.]\n",
            "예측치 : 1 정답 : [1.]\n"
          ]
        }
      ],
      "source": [
        "print(\"예측치 :\", -1 if y_pred[0] < 0 else 1,  \"정답 :\", y_data[0])\n",
        "print(\"예측치 :\", -1 if y_pred[51] < 0 else 1, \"정답 :\", y_data[51])\n",
        "print(\"예측치 :\", -1 if y_pred[88] < 0 else 1, \"정답 :\", y_data[88])"
      ]
    },
    {
      "cell_type": "code",
      "execution_count": 33,
      "id": "bce83268",
      "metadata": {
        "colab": {
          "base_uri": "https://localhost:8080/"
        },
        "id": "bce83268",
        "outputId": "7d1d2fe7-964c-4502-fb95-f9c318b0ff75"
      },
      "outputs": [
        {
          "output_type": "execute_result",
          "data": {
            "text/plain": [
              "1.0"
            ]
          },
          "metadata": {},
          "execution_count": 33
        }
      ],
      "source": [
        "wrong = 0\n",
        "\n",
        "for i in range(len(y_data)):\n",
        "    y_hat = 1. if y_pred[i] > 0 else -1.\n",
        "    if y_hat != y_data[i][0]:\n",
        "        wrong += 1\n",
        "\n",
        "accuracy = wrong/len(y_data) * 100\n",
        "accuracy"
      ]
    }
  ],
  "metadata": {
    "kernelspec": {
      "display_name": "Python 3",
      "name": "python3"
    },
    "language_info": {
      "codemirror_mode": {
        "name": "ipython",
        "version": 3
      },
      "file_extension": ".py",
      "mimetype": "text/x-python",
      "name": "python",
      "nbconvert_exporter": "python",
      "pygments_lexer": "ipython3",
      "version": "3.9.9"
    },
    "varInspector": {
      "cols": {
        "lenName": 16,
        "lenType": 16,
        "lenVar": 40
      },
      "kernels_config": {
        "python": {
          "delete_cmd_postfix": "",
          "delete_cmd_prefix": "del ",
          "library": "var_list.py",
          "varRefreshCmd": "print(var_dic_list())"
        },
        "r": {
          "delete_cmd_postfix": ") ",
          "delete_cmd_prefix": "rm(",
          "library": "var_list.r",
          "varRefreshCmd": "cat(var_dic_list()) "
        }
      },
      "types_to_exclude": [
        "module",
        "function",
        "builtin_function_or_method",
        "instance",
        "_Feature"
      ],
      "window_display": false
    },
    "colab": {
      "provenance": [],
      "toc_visible": true,
      "gpuType": "T4",
      "include_colab_link": true
    },
    "accelerator": "GPU"
  },
  "nbformat": 4,
  "nbformat_minor": 5
}