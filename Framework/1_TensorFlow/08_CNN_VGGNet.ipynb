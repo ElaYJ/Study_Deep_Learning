{
  "cells": [
    {
      "cell_type": "markdown",
      "metadata": {
        "colab_type": "text",
        "id": "view-in-github"
      },
      "source": [
        "<a href=\"https://colab.research.google.com/github/ElaYJ/Study_Deep_Learning/blob/main/Framework/1_TensorFlow/08_CNN_VGGNet.ipynb\" target=\"_parent\"><img src=\"https://colab.research.google.com/assets/colab-badge.svg\" alt=\"Open In Colab\"/></a>"
      ]
    },
    {
      "cell_type": "markdown",
      "id": "bcc140d6",
      "metadata": {
        "id": "bcc140d6"
      },
      "source": [
        "# 지금까지 정리\n",
        "\n",
        "\n",
        "딥러닝 프레임워크를 공부할 떄는 먼저, 4가지를 어떻게 하면 되는지를 알아보면 된다!\n",
        "\n",
        "<img width=\"67%\" alt=\"4elems_dlFramework\" src=\"https://github.com/ElaYJ/supplement/assets/153154981/a9e4cb26-d487-469c-9973-2227c2253cdc\">"
      ]
    },
    {
      "cell_type": "markdown",
      "id": "c169c166",
      "metadata": {
        "id": "c169c166"
      },
      "source": [
        "딥러닝 프로젝트를 수행하기 위해서 아래 4 단계를 구현 하면 된다.\n",
        "\n",
        "<img width=\"67%\" alt=\"dl_flow\" src=\"https://github.com/ElaYJ/supplement/assets/153154981/9b816dbd-a8db-4d66-8205-2e86091cf339\">"
      ]
    },
    {
      "cell_type": "code",
      "execution_count": null,
      "id": "5e7cbaa8",
      "metadata": {
        "id": "5e7cbaa8"
      },
      "outputs": [],
      "source": []
    },
    {
      "cell_type": "markdown",
      "id": "ec387c46",
      "metadata": {
        "id": "ec387c46"
      },
      "source": [
        "## 모델을 정의 하는 방법!\n",
        "\n",
        "- TensorFlow에서 모델을 정의하는 방법에는 3가지가 있다.\n",
        "\n",
        "    1. Sequencial 사용하기  (우리가 지금까지 모델을 만들던 방식)\n",
        "    2. Functional API model\n",
        "    3. Sub class model : TensorFlow에서 제공하는 모델을 상속받아 구현"
      ]
    },
    {
      "cell_type": "code",
      "execution_count": null,
      "id": "d3fef226",
      "metadata": {
        "id": "d3fef226"
      },
      "outputs": [],
      "source": []
    },
    {
      "cell_type": "markdown",
      "id": "f3773714",
      "metadata": {
        "id": "f3773714"
      },
      "source": [
        "-----\n",
        "\n",
        "<br></br>\n",
        "\n",
        "# CNN : VGGNet 구현\n",
        "\n",
        "- Convolutional Neural Network\n",
        "\n",
        "- 컨볼루션널 연산을 활용한 신경망"
      ]
    },
    {
      "cell_type": "code",
      "execution_count": 1,
      "id": "37f7fd0a",
      "metadata": {
        "id": "37f7fd0a"
      },
      "outputs": [],
      "source": [
        "import numpy as np\n",
        "import pandas as pd\n",
        "import tensorflow as tf\n",
        "\n",
        "import matplotlib.pyplot as plt\n",
        "import seaborn as sns\n",
        "%matplotlib inline"
      ]
    },
    {
      "cell_type": "code",
      "execution_count": 2,
      "id": "5e771042",
      "metadata": {
        "id": "5e771042"
      },
      "outputs": [],
      "source": [
        "np.random.seed(7777)\n",
        "tf.random.set_seed(7777)"
      ]
    },
    {
      "cell_type": "markdown",
      "id": "055c0145",
      "metadata": {
        "id": "055c0145"
      },
      "source": [
        "### Convolutional Neural Network\n",
        "\n",
        "<img width=\"67%\" alt=\"convnets-feature-maps\" src=\"https://github.com/ElaYJ/supplement/assets/153154981/b2bad2f7-ada6-468d-8866-311189968c35\">"
      ]
    },
    {
      "cell_type": "markdown",
      "id": "9ca204d9",
      "metadata": {
        "id": "9ca204d9"
      },
      "source": [
        "### Filter to an image (Convolution layer)\n",
        "\n",
        "<img src=\"https://github.com/ElaYJ/supplement/assets/153154981/d2667a5b-9511-45b4-bd05-a4f536bd2f1c\" width=\"67%\"><br></br>\n",
        "\n",
        "- weights를 이미지 처리에 적합하도록 2D Filter 형태로 사용한다.\n"
      ]
    },
    {
      "cell_type": "code",
      "execution_count": 2,
      "id": "527a307b",
      "metadata": {
        "id": "527a307b"
      },
      "outputs": [],
      "source": []
    },
    {
      "cell_type": "markdown",
      "id": "9c837910",
      "metadata": {
        "id": "9c837910"
      },
      "source": [
        "## VGGNet 구현\n",
        "\n",
        "> 이번 시간에는 VGGNet를 구현 해보겠습니다."
      ]
    },
    {
      "cell_type": "markdown",
      "id": "42c5b9ae",
      "metadata": {
        "id": "42c5b9ae"
      },
      "source": [
        "### VGGNet\n",
        "\n",
        " VGGNet은 2014년 ILSVRC에서 비록 다음에 배울 GoogLeNet에 밀려 2위를 했지만, 훨씬 간단한 구조로 이해와 변형이 쉽다는 장점이 있어 많이 응용된 모델이다."
      ]
    },
    {
      "cell_type": "markdown",
      "id": "5bac95bb",
      "metadata": {
        "id": "5bac95bb"
      },
      "source": [
        "VGGNet의 개발자들은 모델의 깊이가 성능에 얼마나 영향을 끼칠지에 집중하여 연구하였다고 논문에서 밝혔다. </br>\n",
        "깊은 네트워크를 가지고 있지만, GoogLeNet과 비교하면, 구조가 매우 간단하다. </br>\n",
        "깊이에 따른 변화를 비교하기 위해, 3x3의 작은 필터 크기를 사용했고, 모델 깊이와 구조에 변화를 주어 실험하였다. </br>\n",
        "논문에서 언급한 것은 총 6개의 모델로 내용은 다음 표와 같다. 표의 \"D\" 구조를 VGG16, \"E\" 구조를 VGG19라고 부른다. </br>\n",
        "다음 표에서, \"conv 3, 64\" 는 3x3 컨볼루션(convolution) 연산에 출력 피쳐맵 갯수는 64개라는 뜻이다."
      ]
    },
    {
      "cell_type": "markdown",
      "id": "5ef80cd8",
      "metadata": {
        "id": "5ef80cd8"
      },
      "source": [
        "|  A  |  A-LRN  |   B   |   C   |   D   |   E   |\n",
        "|:--------:|:--------:|:--------:|:--------:|:--------:|:--------:|\n",
        "|11개의 레이어|11개의 레이어|13개의 레이어|16개의 레이어|16개의 레이어|19개의 레이어|\n",
        "|conv 3, 64|conv 3, 64|conv 3, 64|conv 3, 64|conv 3, 64|conv 3, 64|\n",
        "|          |LRN       |conv 3, 64|conv 3, 64|conv 3, 64|conv 3, 64|\n",
        "| maxpool 2| maxpool 2| maxpool 2| maxpool 2| maxpool 2| maxpool 2|\n",
        "|conv 3, 128|conv 3, 128|conv 3, 128|conv 3, 128|conv 3, 128|conv 3, 128|\n",
        "|           |           |conv 3, 128|conv 3, 128|conv 3, 128|conv 3, 128|\n",
        "| maxpool 2| maxpool 2| maxpool 2| maxpool 2| maxpool 2| maxpool 2|\n",
        "|conv 3, 256|conv 3, 256|conv 3, 256|conv 3, 256|conv 3, 256|conv 3, 256|\n",
        "|conv 3, 256|conv 3, 256|conv 3, 256|conv 3, 256|conv 3, 256|conv 3, 256|\n",
        "|           |           |           |conv 1, 256|conv 3, 256|conv 3, 256|\n",
        "|           |           |           |           |           |conv 3, 256|\n",
        "| maxpool 2| maxpool 2| maxpool 2| maxpool 2| maxpool 2| maxpool 2|\n",
        "|conv 3, 512|conv 3, 512|conv 3, 512|conv 3, 512|conv 3, 512|conv 3, 512|\n",
        "|conv 3, 512|conv 3, 512|conv 3, 512|conv 3, 512|conv 3, 512|conv 3, 512|\n",
        "|           |           |           |conv 1, 512|conv 3, 512|conv 3, 512|\n",
        "|           |           |           |           |           |conv 3, 512|\n",
        "| maxpool 2| maxpool 2| maxpool 2| maxpool 2| maxpool 2| maxpool 2|\n",
        "|conv 3, 512|conv 3, 512|conv 3, 512|conv 3, 512|conv 3, 512|conv 3, 512|\n",
        "|conv 3, 512|conv 3, 512|conv 3, 512|conv 3, 512|conv 3, 512|conv 3, 512|\n",
        "|           |           |           |conv 1, 512|conv 3, 512|conv 3, 512|\n",
        "|           |           |           |           |           |conv 3, 512|\n",
        "| maxpool 2| maxpool 2| maxpool 2| maxpool 2| maxpool 2| maxpool 2|\n",
        "| FCN 4096  | FCN 4096  | FCN 4096  | FCN 4096  | FCN 4096  | FCN 4096  |\n",
        "| FCN 4096  | FCN 4096  | FCN 4096  | FCN 4096  | FCN 4096  | FCN 4096  |\n",
        "| FCN 1000  | FCN 1000  | FCN 1000  | FCN 1000  | FCN 1000  | FCN 1000  |\n"
      ]
    },
    {
      "cell_type": "code",
      "execution_count": 2,
      "id": "0b7fc5d7",
      "metadata": {
        "id": "0b7fc5d7"
      },
      "outputs": [],
      "source": []
    },
    {
      "cell_type": "code",
      "execution_count": 2,
      "id": "4298b2ed",
      "metadata": {
        "id": "4298b2ed"
      },
      "outputs": [],
      "source": []
    },
    {
      "cell_type": "markdown",
      "id": "dcb6e21c",
      "metadata": {
        "id": "dcb6e21c"
      },
      "source": [
        "### Dataloader\n",
        "\n",
        " - Flatten => 채널 차원 추가로 변경\n",
        "\n",
        " (Convolution Layer는 주로 이미지데이터처리를 위해 사용되기 때문에, 컬러이미지는 (height, width, 3) 흑백은 (height, width, 1)로 사용한다.)\n",
        "\n",
        "\n",
        "       ex) (num_data, 28, 28) => (num_data, 28, 28, 1)\n"
      ]
    },
    {
      "cell_type": "code",
      "execution_count": 3,
      "id": "f92d07f7",
      "metadata": {
        "code_folding": [],
        "id": "f92d07f7"
      },
      "outputs": [],
      "source": [
        "class DataLoader():\n",
        "    def __init__(self):\n",
        "        # data load\n",
        "        (self.train_x, self.train_y), \\\n",
        "            (self.test_x, self.test_y) = tf.keras.datasets.mnist.load_data()\n",
        "\n",
        "    def scale(self, x):\n",
        "\n",
        "        return (x / 255.0).astype(np.float32)\n",
        "\n",
        "    def preprocess_dataset(self, dataset):\n",
        "\n",
        "        (feature, target) = dataset\n",
        "\n",
        "        # scaling #\n",
        "        scaled_x = np.array([self.scale(x) for x in feature])\n",
        "\n",
        "        # Add channel axis #\n",
        "        expanded_x = scaled_x[:, :, :, np.newaxis]\n",
        "\n",
        "        # label encoding #\n",
        "        ohe_y = np.array([tf.keras.utils.to_categorical(y, num_classes=10) for y in target])\n",
        "\n",
        "        return expanded_x, ohe_y\n",
        "\n",
        "    def get_train_dataset(self):\n",
        "        return self.preprocess_dataset((self.train_x, self.train_y))\n",
        "\n",
        "    def get_test_dataset(self):\n",
        "        return self.preprocess_dataset((self.test_x, self.test_y))"
      ]
    },
    {
      "cell_type": "code",
      "execution_count": 4,
      "id": "14c089a1",
      "metadata": {
        "colab": {
          "base_uri": "https://localhost:8080/"
        },
        "id": "14c089a1",
        "outputId": "89e83a4a-f5c9-41e7-ed01-bd5314bc5f53"
      },
      "outputs": [
        {
          "name": "stdout",
          "output_type": "stream",
          "text": [
            "Downloading data from https://storage.googleapis.com/tensorflow/tf-keras-datasets/mnist.npz\n",
            "11490434/11490434 [==============================] - 0s 0us/step\n",
            "(60000, 28, 28, 1) float32\n",
            "(60000, 10) float32\n",
            "(10000, 28, 28, 1) float32\n",
            "(10000, 10) float32\n"
          ]
        }
      ],
      "source": [
        "mnist_loader = DataLoader()\n",
        "\n",
        "train_x, train_y = mnist_loader.get_train_dataset()\n",
        "\n",
        "print(train_x.shape, train_x.dtype)\n",
        "print(train_y.shape, train_y.dtype)\n",
        "\n",
        "test_x, test_y = mnist_loader.get_test_dataset()\n",
        "\n",
        "print(test_x.shape, test_x.dtype)\n",
        "print(test_y.shape, test_y.dtype)"
      ]
    },
    {
      "cell_type": "code",
      "execution_count": 4,
      "id": "f1253c20",
      "metadata": {
        "id": "f1253c20"
      },
      "outputs": [],
      "source": []
    },
    {
      "cell_type": "markdown",
      "id": "1992c743",
      "metadata": {
        "id": "1992c743"
      },
      "source": [
        "### VGGNet에서 사용되는 Layer들\n",
        "\n",
        "- `tf.keras.layers.Conv2D`\n",
        "\n",
        "- `tf.keras.layers.Activation`\n",
        "\n",
        "- `tf.keras.layers.MaxPool2D`\n",
        "\n",
        "- `tf.keras.layers.Flatten`\n",
        "\n",
        "- `tf.keras.layers.Dense`"
      ]
    },
    {
      "cell_type": "markdown",
      "id": "c6450b8d",
      "metadata": {
        "id": "c6450b8d"
      },
      "source": [
        "#### Conv2D\n",
        "\n",
        "<img width=\"77%\" alt=\"conv2D\" src=\"https://github.com/ElaYJ/supplement/assets/153154981/03d70b37-c987-4339-94ca-0c3afdd7b84c\">"
      ]
    },
    {
      "cell_type": "markdown",
      "id": "91fc430e",
      "metadata": {
        "id": "91fc430e"
      },
      "source": [
        "- filters: layer에서 사용할 Filter(weights)의 갯수\n",
        "\n",
        "- kernel_size: Filter(weights)의 사이즈  \n",
        "\n",
        "- strides: 몇 개의 pixel을 skip 하면서 훑어지나갈 것인지 (출력 피쳐맵의 사이즈에 영향을 줌)\n",
        "\n",
        "- padding: zero padding을 만들 것인지. VALID는 Padding이 없고, SAME은 Padding이 있음 (출력 피쳐맵의 사이즈에 영향을 줌)\n",
        "\n",
        "- activation: Activation Function을 지정"
      ]
    },
    {
      "cell_type": "code",
      "execution_count": 5,
      "id": "9c05a213",
      "metadata": {
        "colab": {
          "base_uri": "https://localhost:8080/"
        },
        "id": "9c05a213",
        "outputId": "1bc86490-c500-4c46-b19d-d81786071471"
      },
      "outputs": [
        {
          "data": {
            "text/plain": [
              "<keras.src.layers.convolutional.conv2d.Conv2D at 0x7dfd6a39b910>"
            ]
          },
          "execution_count": 5,
          "metadata": {},
          "output_type": "execute_result"
        }
      ],
      "source": [
        "tf.keras.layers.Conv2D(filters=64, kernel_size=3, strides=1, padding='same', activation='relu')"
      ]
    },
    {
      "cell_type": "code",
      "execution_count": 5,
      "id": "b8404829",
      "metadata": {
        "id": "b8404829"
      },
      "outputs": [],
      "source": []
    },
    {
      "cell_type": "markdown",
      "id": "a4bec1b4",
      "metadata": {
        "id": "a4bec1b4"
      },
      "source": [
        "#### MaxPool2D\n",
        "\n",
        "<img src=\"https://github.com/ElaYJ/supplement/assets/153154981/6eeadc4b-f7a2-42a7-937f-f286c2c7a21d\" width=\"57%\"><br></br>\n",
        "\n",
        "- 일종의 차원 축소 개념이다."
      ]
    },
    {
      "cell_type": "markdown",
      "id": "6f91c8d6",
      "metadata": {
        "id": "6f91c8d6"
      },
      "source": [
        "- pool_size: Pooling window 크기\n",
        "\n",
        "- strides: 몇 개의 pixel을 skip 하면서 훑어지나갈 것인지\n",
        "\n",
        "- padding: zero padding을 만들 것인지"
      ]
    },
    {
      "cell_type": "code",
      "execution_count": 6,
      "id": "3acd2618",
      "metadata": {
        "colab": {
          "base_uri": "https://localhost:8080/"
        },
        "id": "3acd2618",
        "outputId": "581aabf7-b972-4582-faf0-8fbcc1b0571c"
      },
      "outputs": [
        {
          "data": {
            "text/plain": [
              "<keras.src.layers.pooling.max_pooling2d.MaxPooling2D at 0x7dfd6a399210>"
            ]
          },
          "execution_count": 6,
          "metadata": {},
          "output_type": "execute_result"
        }
      ],
      "source": [
        "tf.keras.layers.MaxPool2D(pool_size=(2, 2), strides=2, padding='valid')"
      ]
    },
    {
      "cell_type": "code",
      "execution_count": 6,
      "id": "b4c7d4ac",
      "metadata": {
        "id": "b4c7d4ac"
      },
      "outputs": [],
      "source": []
    },
    {
      "cell_type": "markdown",
      "id": "83935747",
      "metadata": {
        "id": "83935747"
      },
      "source": [
        "#### Flatten\n",
        "\n",
        "<img src=\"https://github.com/ElaYJ/supplement/assets/153154981/61dbec23-cc64-4719-b45e-b948b2bbd221\" width=\"57%\">"
      ]
    },
    {
      "cell_type": "code",
      "execution_count": 7,
      "id": "4cd0f960",
      "metadata": {
        "id": "4cd0f960"
      },
      "outputs": [],
      "source": [
        "# tf.keras.layers.Flatten()"
      ]
    },
    {
      "cell_type": "code",
      "execution_count": 7,
      "id": "b0350fb6",
      "metadata": {
        "id": "b0350fb6"
      },
      "outputs": [],
      "source": []
    },
    {
      "cell_type": "markdown",
      "id": "783fe722",
      "metadata": {
        "id": "783fe722"
      },
      "source": [
        "#### Dense\n",
        "\n",
        "<img src=\"https://github.com/ElaYJ/supplement/assets/153154981/adbcf40d-5e20-4044-ab60-a3362dfab73f\" width=\"57%\">\n",
        "\n",
        "![](../../statics/imgs/Dense.png)"
      ]
    },
    {
      "cell_type": "markdown",
      "id": "215e946f",
      "metadata": {
        "id": "215e946f"
      },
      "source": [
        "- units : 노드 갯수\n",
        "\n",
        "- activation : 활성화 함수\n",
        "\n",
        "- use_bias : bias 를 사용 할 것인지\n",
        "\n",
        "- kernel_initializer : 최초 가중치를 어떻게 세팅 할 것인지\n",
        "\n",
        "- bias_initializer : 최초 bias를 어떻게 세팅 할 것인지"
      ]
    },
    {
      "cell_type": "code",
      "execution_count": 8,
      "id": "1e30d7b3",
      "metadata": {
        "id": "1e30d7b3"
      },
      "outputs": [],
      "source": [
        "# tf.keras.layers.Dense(\n",
        "#     units=10, activation=None, use_bias=True,\n",
        "#     kernel_initializer='glorot_uniform', bias_initializer='zeros',\n",
        "#     kernel_regularizer=None, bias_regularizer=None, activity_regularizer=None,\n",
        "#     kernel_constraint=None, bias_constraint=None\n",
        "# )"
      ]
    },
    {
      "cell_type": "code",
      "execution_count": 8,
      "id": "a038d808",
      "metadata": {
        "id": "a038d808"
      },
      "outputs": [],
      "source": []
    },
    {
      "cell_type": "markdown",
      "id": "377473ee",
      "metadata": {
        "id": "377473ee"
      },
      "source": [
        "## Layer들을 이용해 모델 만들기 - Sequencial 방식"
      ]
    },
    {
      "cell_type": "code",
      "execution_count": 9,
      "id": "738d5439",
      "metadata": {
        "id": "738d5439"
      },
      "outputs": [],
      "source": [
        "from tensorflow.keras.layers import Conv2D, MaxPool2D, Flatten, Dense"
      ]
    },
    {
      "cell_type": "code",
      "execution_count": 10,
      "id": "14cc537c",
      "metadata": {
        "id": "14cc537c"
      },
      "outputs": [],
      "source": [
        "model = tf.keras.Sequential()\n",
        "# 최초의 레이어는 Input의 shape을 명시해준다. (이때 배치 axis는 무시한다.)\n",
        "model.add(Conv2D(32, kernel_size=3, padding='same', activation='relu', input_shape=(28, 28, 1)))\n",
        "model.add(Conv2D(32, kernel_size=3, padding='same', activation='relu'))\n",
        "model.add(MaxPool2D()) #--> Default (2,2) 사용\n",
        "model.add(Conv2D(64, kernel_size=3, padding='same', activation='relu'))\n",
        "model.add(Conv2D(64, kernel_size=3, padding='same', activation='relu'))\n",
        "model.add(MaxPool2D())\n",
        "model.add(Flatten())\n",
        "model.add(Dense(128, activation=\"relu\"))\n",
        "model.add(Dense(64, activation=\"relu\"))\n",
        "model.add(Dense(10, activation=\"softmax\"))"
      ]
    },
    {
      "cell_type": "code",
      "execution_count": 11,
      "id": "226d9772",
      "metadata": {
        "colab": {
          "base_uri": "https://localhost:8080/"
        },
        "id": "226d9772",
        "outputId": "53aa8dd7-83a1-4803-90dd-2ebb6bf94b77"
      },
      "outputs": [
        {
          "name": "stdout",
          "output_type": "stream",
          "text": [
            "Model: \"sequential\"\n",
            "_________________________________________________________________\n",
            " Layer (type)                Output Shape              Param #   \n",
            "=================================================================\n",
            " conv2d_1 (Conv2D)           (None, 28, 28, 32)        320       \n",
            "                                                                 \n",
            " conv2d_2 (Conv2D)           (None, 28, 28, 32)        9248      \n",
            "                                                                 \n",
            " max_pooling2d_1 (MaxPoolin  (None, 14, 14, 32)        0         \n",
            " g2D)                                                            \n",
            "                                                                 \n",
            " conv2d_3 (Conv2D)           (None, 14, 14, 64)        18496     \n",
            "                                                                 \n",
            " conv2d_4 (Conv2D)           (None, 14, 14, 64)        36928     \n",
            "                                                                 \n",
            " max_pooling2d_2 (MaxPoolin  (None, 7, 7, 64)          0         \n",
            " g2D)                                                            \n",
            "                                                                 \n",
            " flatten (Flatten)           (None, 3136)              0         \n",
            "                                                                 \n",
            " dense (Dense)               (None, 128)               401536    \n",
            "                                                                 \n",
            " dense_1 (Dense)             (None, 64)                8256      \n",
            "                                                                 \n",
            " dense_2 (Dense)             (None, 10)                650       \n",
            "                                                                 \n",
            "=================================================================\n",
            "Total params: 475434 (1.81 MB)\n",
            "Trainable params: 475434 (1.81 MB)\n",
            "Non-trainable params: 0 (0.00 Byte)\n",
            "_________________________________________________________________\n"
          ]
        }
      ],
      "source": [
        "model.summary()"
      ]
    },
    {
      "cell_type": "code",
      "execution_count": 12,
      "id": "c202fb84",
      "metadata": {
        "id": "c202fb84"
      },
      "outputs": [],
      "source": [
        "learning_rate = 0.03\n",
        "opt = tf.keras.optimizers.Adam(learning_rate)\n",
        "loss = tf.keras.losses.categorical_crossentropy\n",
        "\n",
        "model.compile(optimizer=opt, loss=loss, metrics=[\"accuracy\"])"
      ]
    },
    {
      "cell_type": "code",
      "execution_count": 13,
      "id": "b575aa83",
      "metadata": {
        "colab": {
          "base_uri": "https://localhost:8080/"
        },
        "id": "b575aa83",
        "outputId": "7d8038c6-f051-401f-d018-003e07396ff0"
      },
      "outputs": [
        {
          "name": "stdout",
          "output_type": "stream",
          "text": [
            "Epoch 1/10\n",
            "469/469 [==============================] - 11s 11ms/step - loss: 2.4906 - accuracy: 0.1103 - val_loss: 2.3015 - val_accuracy: 0.1135\n",
            "Epoch 2/10\n",
            "469/469 [==============================] - 5s 10ms/step - loss: 2.3030 - accuracy: 0.1075 - val_loss: 2.3029 - val_accuracy: 0.1135\n",
            "Epoch 3/10\n",
            "469/469 [==============================] - 4s 9ms/step - loss: 2.3031 - accuracy: 0.1069 - val_loss: 2.3035 - val_accuracy: 0.1135\n",
            "Epoch 4/10\n",
            "469/469 [==============================] - 4s 9ms/step - loss: 2.3027 - accuracy: 0.1097 - val_loss: 2.3039 - val_accuracy: 0.1135\n",
            "Epoch 5/10\n",
            "469/469 [==============================] - 4s 9ms/step - loss: 2.3030 - accuracy: 0.1092 - val_loss: 2.3037 - val_accuracy: 0.1135\n",
            "Epoch 6/10\n",
            "469/469 [==============================] - 4s 9ms/step - loss: 2.3032 - accuracy: 0.1073 - val_loss: 2.3046 - val_accuracy: 0.1135\n",
            "Epoch 7/10\n",
            "469/469 [==============================] - 4s 9ms/step - loss: 2.3032 - accuracy: 0.1078 - val_loss: 2.3037 - val_accuracy: 0.1028\n",
            "Epoch 8/10\n",
            "469/469 [==============================] - 4s 9ms/step - loss: 2.3033 - accuracy: 0.1071 - val_loss: 2.3028 - val_accuracy: 0.1135\n",
            "Epoch 9/10\n",
            "469/469 [==============================] - 4s 9ms/step - loss: 2.3034 - accuracy: 0.1086 - val_loss: 2.3029 - val_accuracy: 0.1135\n",
            "Epoch 10/10\n",
            "469/469 [==============================] - 5s 11ms/step - loss: 2.3034 - accuracy: 0.1060 - val_loss: 2.3026 - val_accuracy: 0.1135\n"
          ]
        }
      ],
      "source": [
        "hist = model.fit(train_x, train_y,\n",
        "                 epochs=10, batch_size=128,\n",
        "                 validation_data=(test_x, test_y))"
      ]
    },
    {
      "cell_type": "code",
      "execution_count": 15,
      "id": "ZUS8CFWaCLal",
      "metadata": {
        "colab": {
          "base_uri": "https://localhost:8080/"
        },
        "id": "ZUS8CFWaCLal",
        "outputId": "70299fc7-2469-460a-dca6-42035b12fe45"
      },
      "outputs": [
        {
          "data": {
            "text/plain": [
              "{'loss': [2.4905502796173096,\n",
              "  2.303041458129883,\n",
              "  2.3031320571899414,\n",
              "  2.302680730819702,\n",
              "  2.302992343902588,\n",
              "  2.3032066822052,\n",
              "  2.303205728530884,\n",
              "  2.303284168243408,\n",
              "  2.303375244140625,\n",
              "  2.303391695022583],\n",
              " 'accuracy': [0.11031666398048401,\n",
              "  0.10745000094175339,\n",
              "  0.10686666518449783,\n",
              "  0.10970000177621841,\n",
              "  0.10921666771173477,\n",
              "  0.10731666535139084,\n",
              "  0.10779999941587448,\n",
              "  0.10713333636522293,\n",
              "  0.10858333110809326,\n",
              "  0.1060333326458931],\n",
              " 'val_loss': [2.301520586013794,\n",
              "  2.3028759956359863,\n",
              "  2.30349063873291,\n",
              "  2.3038811683654785,\n",
              "  2.3036704063415527,\n",
              "  2.304621458053589,\n",
              "  2.3037357330322266,\n",
              "  2.302767276763916,\n",
              "  2.302889585494995,\n",
              "  2.3025598526000977],\n",
              " 'val_accuracy': [0.11349999904632568,\n",
              "  0.11349999904632568,\n",
              "  0.11349999904632568,\n",
              "  0.11349999904632568,\n",
              "  0.11349999904632568,\n",
              "  0.11349999904632568,\n",
              "  0.10279999673366547,\n",
              "  0.11349999904632568,\n",
              "  0.11349999904632568,\n",
              "  0.11349999904632568]}"
            ]
          },
          "execution_count": 15,
          "metadata": {},
          "output_type": "execute_result"
        }
      ],
      "source": [
        "hist.history"
      ]
    },
    {
      "cell_type": "code",
      "execution_count": 14,
      "id": "1fdff601",
      "metadata": {
        "colab": {
          "base_uri": "https://localhost:8080/",
          "height": 500
        },
        "id": "1fdff601",
        "outputId": "5165cb34-36db-4172-d4f9-c5c9aec80f5f"
      },
      "outputs": [
        {
          "data": {
            "image/png": "[encoded data removed]",
            "text/plain": [
              "<Figure size 1000x500 with 4 Axes>"
            ]
          },
          "metadata": {},
          "output_type": "display_data"
        }
      ],
      "source": [
        "plt.figure(figsize=(10, 5))\n",
        "plt.subplot(221)\n",
        "plt.plot(hist.history['loss'])\n",
        "plt.title(\"loss\")\n",
        "plt.subplot(222)\n",
        "plt.plot(hist.history['accuracy'], 'b-')\n",
        "plt.title(\"acc\")\n",
        "plt.subplot(223)\n",
        "plt.plot(hist.history['val_loss'])\n",
        "plt.title(\"val_loss\")\n",
        "plt.subplot(224)\n",
        "plt.plot(hist.history['val_accuracy'], 'b-')\n",
        "plt.title(\"val_accuracy\")\n",
        "\n",
        "plt.tight_layout()\n",
        "plt.show()"
      ]
    },
    {
      "cell_type": "code",
      "execution_count": 14,
      "id": "e33689fa",
      "metadata": {
        "id": "e33689fa"
      },
      "outputs": [],
      "source": []
    }
  ],
  "metadata": {
    "accelerator": "GPU",
    "colab": {
      "gpuType": "T4",
      "include_colab_link": true,
      "provenance": [],
      "toc_visible": true
    },
    "kernelspec": {
      "display_name": "Python 3",
      "name": "python3"
    },
    "language_info": {
      "codemirror_mode": {
        "name": "ipython",
        "version": 3
      },
      "file_extension": ".py",
      "mimetype": "text/x-python",
      "name": "python",
      "nbconvert_exporter": "python",
      "pygments_lexer": "ipython3",
      "version": "3.9.9"
    },
    "varInspector": {
      "cols": {
        "lenName": 16,
        "lenType": 16,
        "lenVar": 40
      },
      "kernels_config": {
        "python": {
          "delete_cmd_postfix": "",
          "delete_cmd_prefix": "del ",
          "library": "var_list.py",
          "varRefreshCmd": "print(var_dic_list())"
        },
        "r": {
          "delete_cmd_postfix": ") ",
          "delete_cmd_prefix": "rm(",
          "library": "var_list.r",
          "varRefreshCmd": "cat(var_dic_list()) "
        }
      },
      "types_to_exclude": [
        "module",
        "function",
        "builtin_function_or_method",
        "instance",
        "_Feature"
      ],
      "window_display": false
    }
  },
  "nbformat": 4,
  "nbformat_minor": 5
}
