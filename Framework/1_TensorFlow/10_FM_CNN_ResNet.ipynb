{
  "cells": [
    {
      "cell_type": "markdown",
      "metadata": {
        "colab_type": "text",
        "id": "view-in-github"
      },
      "source": [
        "<a href=\"https://colab.research.google.com/github/ElaYJ/Study_Deep_Learning/blob/main/Framework/1_TensorFlow/10_FM_CNN_ResNet.ipynb\" target=\"_parent\"><img src=\"https://colab.research.google.com/assets/colab-badge.svg\" alt=\"Open In Colab\"/></a>"
      ]
    },
    {
      "cell_type": "markdown",
      "id": "518ff1fe",
      "metadata": {
        "id": "518ff1fe"
      },
      "source": [
        "# Functional 모델링 : ResNet 구현\n"
      ]
    },
    {
      "cell_type": "code",
      "execution_count": 2,
      "id": "9bd6cc9b",
      "metadata": {
        "id": "9bd6cc9b"
      },
      "outputs": [],
      "source": [
        "import numpy as np\n",
        "import pandas as pd\n",
        "import tensorflow as tf\n",
        "\n",
        "import matplotlib.pyplot as plt\n",
        "import seaborn as sns\n",
        "%matplotlib inline"
      ]
    },
    {
      "cell_type": "code",
      "execution_count": 3,
      "id": "edeedae5",
      "metadata": {
        "id": "edeedae5"
      },
      "outputs": [],
      "source": [
        "np.random.seed(7777)\n",
        "tf.random.set_seed(7777)"
      ]
    },
    {
      "cell_type": "markdown",
      "id": "b65302b8",
      "metadata": {
        "id": "b65302b8"
      },
      "source": [
        "### ResNet\n",
        "\n",
        "<img src=\"https://github.com/ElaYJ/supplement/assets/153154981/e2d3eb14-d790-40a3-bb56-2e19e186516d\" width=\"97%\">"
      ]
    },
    {
      "cell_type": "markdown",
      "id": "e5c601ec",
      "metadata": {
        "id": "e5c601ec"
      },
      "source": [
        "### ResNet의 핵심은 Skip Connection\n",
        "\n",
        "<img src=\"https://github.com/ElaYJ/supplement/assets/153154981/8750dbf2-595a-4349-b388-6684150ad4d7\" width=\"57%\">"
      ]
    },
    {
      "cell_type": "code",
      "execution_count": 3,
      "id": "17dd421b",
      "metadata": {
        "id": "17dd421b"
      },
      "outputs": [],
      "source": []
    },
    {
      "cell_type": "code",
      "execution_count": 3,
      "id": "6d2526f5",
      "metadata": {
        "id": "6d2526f5"
      },
      "outputs": [],
      "source": []
    },
    {
      "cell_type": "markdown",
      "id": "0b5f5336",
      "metadata": {
        "id": "0b5f5336"
      },
      "source": [
        "### 2. Functional API"
      ]
    },
    {
      "cell_type": "markdown",
      "id": "a942557f",
      "metadata": {
        "id": "a942557f"
      },
      "source": [
        "`tf.keras.Sequential` 보다 더 유연하게 모델을 정의할 수 있는 방법"
      ]
    },
    {
      "cell_type": "code",
      "execution_count": 4,
      "id": "dbe7c084",
      "metadata": {
        "id": "dbe7c084"
      },
      "outputs": [],
      "source": [
        "from tensorflow.keras.layers import Input, Conv2D, MaxPool2D, Flatten, Dense, Add"
      ]
    },
    {
      "cell_type": "code",
      "execution_count": 5,
      "id": "7f35abc0",
      "metadata": {
        "id": "7f35abc0"
      },
      "outputs": [],
      "source": [
        "## Functional API 를 이용해 ResNet 구현\n",
        "def build_resnet(input_shape):\n",
        "    inputs = Input(input_shape) # 28 x 28\n",
        "\n",
        "    net0 = Conv2D(32, kernel_size=3, strides=2, padding='same', activation='relu')(inputs) # strides=2 이므로 14 x 14\n",
        "    net0 = MaxPool2D()(net0) # 7 x 7\n",
        "\n",
        "    net1 = Conv2D(64, kernel_size=1, padding='same', activation='relu')(net0)\n",
        "    net2 = Conv2D(64, kernel_size=3, padding='same', activation='relu')(net1)\n",
        "    net3 = Conv2D(64, kernel_size=1, padding='same', activation='relu')(net2)\n",
        "\n",
        "    net0_1 = Conv2D(64, kernel_size=1, padding='same')(net0)\n",
        "    net = Add()([net0_1, net3])\n",
        "\n",
        "    net1 = Conv2D(64, kernel_size=1, padding='same', activation='relu')(net)\n",
        "    net2 = Conv2D(64, kernel_size=3, padding='same', activation='relu')(net1)\n",
        "    net3 = Conv2D(64, kernel_size=1, padding='same', activation='relu')(net2)\n",
        "\n",
        "    net = Add()([net, net3])\n",
        "\n",
        "    net = MaxPool2D()(net)\n",
        "\n",
        "    net = Flatten()(net)\n",
        "    net = Dense(10, activation=\"softmax\")(net)\n",
        "\n",
        "    model = tf.keras.Model(inputs=inputs, outputs=net, name='resnet')\n",
        "\n",
        "    return model"
      ]
    },
    {
      "cell_type": "code",
      "execution_count": 6,
      "id": "166c4855",
      "metadata": {
        "colab": {
          "base_uri": "https://localhost:8080/"
        },
        "id": "166c4855",
        "outputId": "766eed14-149d-4bd9-a6c1-a3c01c9cfcc2"
      },
      "outputs": [
        {
          "name": "stdout",
          "output_type": "stream",
          "text": [
            "Model: \"resnet\"\n",
            "__________________________________________________________________________________________________\n",
            " Layer (type)                Output Shape                 Param #   Connected to                  \n",
            "==================================================================================================\n",
            " input_1 (InputLayer)        [(None, 32, 32, 3)]          0         []                            \n",
            "                                                                                                  \n",
            " conv2d (Conv2D)             (None, 16, 16, 32)           896       ['input_1[0][0]']             \n",
            "                                                                                                  \n",
            " max_pooling2d (MaxPooling2  (None, 8, 8, 32)             0         ['conv2d[0][0]']              \n",
            " D)                                                                                               \n",
            "                                                                                                  \n",
            " conv2d_1 (Conv2D)           (None, 8, 8, 64)             2112      ['max_pooling2d[0][0]']       \n",
            "                                                                                                  \n",
            " conv2d_2 (Conv2D)           (None, 8, 8, 64)             36928     ['conv2d_1[0][0]']            \n",
            "                                                                                                  \n",
            " conv2d_4 (Conv2D)           (None, 8, 8, 64)             2112      ['max_pooling2d[0][0]']       \n",
            "                                                                                                  \n",
            " conv2d_3 (Conv2D)           (None, 8, 8, 64)             4160      ['conv2d_2[0][0]']            \n",
            "                                                                                                  \n",
            " add (Add)                   (None, 8, 8, 64)             0         ['conv2d_4[0][0]',            \n",
            "                                                                     'conv2d_3[0][0]']            \n",
            "                                                                                                  \n",
            " conv2d_5 (Conv2D)           (None, 8, 8, 64)             4160      ['add[0][0]']                 \n",
            "                                                                                                  \n",
            " conv2d_6 (Conv2D)           (None, 8, 8, 64)             36928     ['conv2d_5[0][0]']            \n",
            "                                                                                                  \n",
            " conv2d_7 (Conv2D)           (None, 8, 8, 64)             4160      ['conv2d_6[0][0]']            \n",
            "                                                                                                  \n",
            " add_1 (Add)                 (None, 8, 8, 64)             0         ['add[0][0]',                 \n",
            "                                                                     'conv2d_7[0][0]']            \n",
            "                                                                                                  \n",
            " max_pooling2d_1 (MaxPoolin  (None, 4, 4, 64)             0         ['add_1[0][0]']               \n",
            " g2D)                                                                                             \n",
            "                                                                                                  \n",
            " flatten (Flatten)           (None, 1024)                 0         ['max_pooling2d_1[0][0]']     \n",
            "                                                                                                  \n",
            " dense (Dense)               (None, 10)                   10250     ['flatten[0][0]']             \n",
            "                                                                                                  \n",
            "==================================================================================================\n",
            "Total params: 101706 (397.29 KB)\n",
            "Trainable params: 101706 (397.29 KB)\n",
            "Non-trainable params: 0 (0.00 Byte)\n",
            "__________________________________________________________________________________________________\n"
          ]
        }
      ],
      "source": [
        "model = build_resnet((32, 32, 3)) #--> 컬러이미지\n",
        "model.summary()"
      ]
    },
    {
      "cell_type": "code",
      "execution_count": 6,
      "id": "8766a2a3",
      "metadata": {
        "id": "8766a2a3"
      },
      "outputs": [],
      "source": []
    },
    {
      "cell_type": "code",
      "execution_count": 6,
      "id": "75f8ebbd",
      "metadata": {
        "id": "75f8ebbd"
      },
      "outputs": [],
      "source": []
    },
    {
      "cell_type": "markdown",
      "id": "419826d8",
      "metadata": {
        "id": "419826d8"
      },
      "source": [
        "## CIfar10 dataset\n",
        "\n",
        "> CIfar10 dataset을 이용해 학습을 해본다"
      ]
    },
    {
      "cell_type": "code",
      "execution_count": 7,
      "id": "e6505d2d",
      "metadata": {
        "id": "e6505d2d"
      },
      "outputs": [],
      "source": [
        "class Cifar10DataLoader():\n",
        "    def __init__(self):\n",
        "        # data load\n",
        "        (self.train_x, self.train_y), \\\n",
        "            (self.test_x, self.test_y) = tf.keras.datasets.cifar10.load_data()\n",
        "        self.input_shape = self.train_x.shape[1:]\n",
        "\n",
        "    def scale(self, x):\n",
        "\n",
        "        return (x / 255.0).astype(np.float32)\n",
        "\n",
        "    def preprocess_dataset(self, dataset):\n",
        "\n",
        "        (feature, target) = dataset\n",
        "\n",
        "        # scaling #\n",
        "        scaled_x = np.array([self.scale(x) for x in feature])\n",
        "\n",
        "        # label encoding #\n",
        "        ohe_y = np.array([tf.keras.utils.to_categorical(y, num_classes=10) for y in target])\n",
        "\n",
        "        return scaled_x, ohe_y.squeeze(axis=1) # np.squeeze(ohe_y, axis=1)\n",
        "\n",
        "    def get_train_dataset(self):\n",
        "        return self.preprocess_dataset((self.train_x, self.train_y))\n",
        "\n",
        "    def get_test_dataset(self):\n",
        "        return self.preprocess_dataset((self.test_x, self.test_y))"
      ]
    },
    {
      "cell_type": "code",
      "execution_count": 8,
      "id": "f28e936a",
      "metadata": {
        "colab": {
          "base_uri": "https://localhost:8080/"
        },
        "id": "f28e936a",
        "outputId": "810b426d-2565-4fad-edcc-7964a0dc5142"
      },
      "outputs": [
        {
          "name": "stdout",
          "output_type": "stream",
          "text": [
            "Downloading data from https://www.cs.toronto.edu/~kriz/cifar-10-python.tar.gz\n",
            "170498071/170498071 [==============================] - 4s 0us/step\n",
            "(50000, 32, 32, 3) float32\n",
            "(50000, 10) float32\n",
            "(10000, 32, 32, 3) float32\n",
            "(10000, 10) float32\n"
          ]
        }
      ],
      "source": [
        "cifar10_loader = Cifar10DataLoader()\n",
        "\n",
        "train_x, train_y = cifar10_loader.get_train_dataset()\n",
        "\n",
        "print(train_x.shape, train_x.dtype)\n",
        "print(train_y.shape, train_y.dtype)\n",
        "\n",
        "test_x, test_y = cifar10_loader.get_test_dataset()\n",
        "\n",
        "print(test_x.shape, test_x.dtype)\n",
        "print(test_y.shape, test_y.dtype)"
      ]
    },
    {
      "cell_type": "code",
      "execution_count": 9,
      "id": "fc3ad2ca",
      "metadata": {
        "id": "fc3ad2ca"
      },
      "outputs": [],
      "source": [
        "learning_rate = 0.03\n",
        "opt = tf.keras.optimizers.Adam(learning_rate)\n",
        "loss = tf.keras.losses.categorical_crossentropy\n",
        "\n",
        "model.compile(optimizer=opt, loss=loss, metrics=[\"accuracy\"])"
      ]
    },
    {
      "cell_type": "code",
      "execution_count": 10,
      "id": "fc95ddf4",
      "metadata": {
        "colab": {
          "base_uri": "https://localhost:8080/"
        },
        "id": "fc95ddf4",
        "outputId": "8dd0e7cb-dd49-4179-e5b1-611d6cac1507"
      },
      "outputs": [
        {
          "name": "stdout",
          "output_type": "stream",
          "text": [
            "Epoch 1/10\n",
            "391/391 [==============================] - 11s 13ms/step - loss: 2.3622 - accuracy: 0.0990 - val_loss: 2.3090 - val_accuracy: 0.1000\n",
            "Epoch 2/10\n",
            "391/391 [==============================] - 5s 12ms/step - loss: 2.3167 - accuracy: 0.1011 - val_loss: 2.3320 - val_accuracy: 0.1000\n",
            "Epoch 3/10\n",
            "391/391 [==============================] - 4s 10ms/step - loss: 2.3146 - accuracy: 0.0991 - val_loss: 2.3092 - val_accuracy: 0.1000\n",
            "Epoch 4/10\n",
            "391/391 [==============================] - 4s 10ms/step - loss: 2.3146 - accuracy: 0.1005 - val_loss: 2.3143 - val_accuracy: 0.1000\n",
            "Epoch 5/10\n",
            "391/391 [==============================] - 5s 12ms/step - loss: 2.3152 - accuracy: 0.1011 - val_loss: 2.3079 - val_accuracy: 0.1000\n",
            "Epoch 6/10\n",
            "391/391 [==============================] - 4s 9ms/step - loss: 2.3175 - accuracy: 0.0987 - val_loss: 2.3365 - val_accuracy: 0.1000\n",
            "Epoch 7/10\n",
            "391/391 [==============================] - 4s 9ms/step - loss: 2.3211 - accuracy: 0.1026 - val_loss: 2.3151 - val_accuracy: 0.1000\n",
            "Epoch 8/10\n",
            "391/391 [==============================] - 4s 11ms/step - loss: 2.3218 - accuracy: 0.1001 - val_loss: 2.3157 - val_accuracy: 0.1000\n",
            "Epoch 9/10\n",
            "391/391 [==============================] - 4s 10ms/step - loss: 2.3190 - accuracy: 0.1002 - val_loss: 2.3285 - val_accuracy: 0.1000\n",
            "Epoch 10/10\n",
            "391/391 [==============================] - 4s 9ms/step - loss: 2.3292 - accuracy: 0.1010 - val_loss: 2.3200 - val_accuracy: 0.1000\n"
          ]
        }
      ],
      "source": [
        "hist = model.fit(train_x, train_y,\n",
        "                 epochs=10, batch_size=128,\n",
        "                 validation_data=(test_x, test_y))"
      ]
    },
    {
      "cell_type": "code",
      "execution_count": 11,
      "id": "23463fc6",
      "metadata": {
        "colab": {
          "base_uri": "https://localhost:8080/",
          "height": 507
        },
        "id": "23463fc6",
        "outputId": "4cea0fed-500c-47cd-ae97-59e375056aa9"
      },
      "outputs": [
        {
          "data": {
            "image/png": "[encoded data removed]",
            "text/plain": [
              "<Figure size 1000x500 with 4 Axes>"
            ]
          },
          "metadata": {},
          "output_type": "display_data"
        }
      ],
      "source": [
        "plt.figure(figsize=(10, 5))\n",
        "plt.subplot(221)\n",
        "plt.plot(hist.history['loss'])\n",
        "plt.title(\"loss\")\n",
        "plt.subplot(222)\n",
        "plt.plot(hist.history['accuracy'], 'b-')\n",
        "plt.title(\"acc\")\n",
        "plt.subplot(223)\n",
        "plt.plot(hist.history['val_loss'])\n",
        "plt.title(\"val_loss\")\n",
        "plt.subplot(224)\n",
        "plt.plot(hist.history['val_accuracy'], 'b-')\n",
        "plt.title(\"val_accuracy\")\n",
        "\n",
        "plt.tight_layout()\n",
        "plt.show()"
      ]
    },
    {
      "cell_type": "code",
      "execution_count": 11,
      "id": "e0e7d1b9",
      "metadata": {
        "id": "e0e7d1b9"
      },
      "outputs": [],
      "source": []
    }
  ],
  "metadata": {
    "accelerator": "GPU",
    "colab": {
      "gpuType": "T4",
      "include_colab_link": true,
      "provenance": [],
      "toc_visible": true
    },
    "kernelspec": {
      "display_name": "Python 3",
      "name": "python3"
    },
    "language_info": {
      "codemirror_mode": {
        "name": "ipython",
        "version": 3
      },
      "file_extension": ".py",
      "mimetype": "text/x-python",
      "name": "python",
      "nbconvert_exporter": "python",
      "pygments_lexer": "ipython3",
      "version": "3.9.9"
    },
    "varInspector": {
      "cols": {
        "lenName": 16,
        "lenType": 16,
        "lenVar": 40
      },
      "kernels_config": {
        "python": {
          "delete_cmd_postfix": "",
          "delete_cmd_prefix": "del ",
          "library": "var_list.py",
          "varRefreshCmd": "print(var_dic_list())"
        },
        "r": {
          "delete_cmd_postfix": ") ",
          "delete_cmd_prefix": "rm(",
          "library": "var_list.r",
          "varRefreshCmd": "cat(var_dic_list()) "
        }
      },
      "types_to_exclude": [
        "module",
        "function",
        "builtin_function_or_method",
        "instance",
        "_Feature"
      ],
      "window_display": false
    }
  },
  "nbformat": 4,
  "nbformat_minor": 5
}
