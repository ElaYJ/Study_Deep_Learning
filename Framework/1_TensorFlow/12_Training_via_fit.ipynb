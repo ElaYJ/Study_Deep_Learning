{
  "cells": [
    {
      "cell_type": "markdown",
      "metadata": {
        "id": "view-in-github",
        "colab_type": "text"
      },
      "source": [
        "<a href=\"https://colab.research.google.com/github/ElaYJ/Study_Deep_Learning/blob/main/Framework/TensorFlow/12_Training_via_fit.ipynb\" target=\"_parent\"><img src=\"https://colab.research.google.com/assets/colab-badge.svg\" alt=\"Open In Colab\"/></a>"
      ]
    },
    {
      "cell_type": "markdown",
      "id": "f9da32fd",
      "metadata": {
        "id": "f9da32fd"
      },
      "source": [
        "# Training"
      ]
    },
    {
      "cell_type": "code",
      "execution_count": 1,
      "id": "32fb3f37",
      "metadata": {
        "id": "32fb3f37"
      },
      "outputs": [],
      "source": [
        "import numpy as np\n",
        "import pandas as pd\n",
        "import tensorflow as tf\n",
        "\n",
        "import matplotlib.pyplot as plt\n",
        "import seaborn as sns\n",
        "%matplotlib inline"
      ]
    },
    {
      "cell_type": "code",
      "execution_count": 2,
      "id": "5c40f4a5",
      "metadata": {
        "id": "5c40f4a5"
      },
      "outputs": [],
      "source": [
        "np.random.seed(7777)\n",
        "tf.random.set_seed(7777)"
      ]
    },
    {
      "cell_type": "code",
      "execution_count": 3,
      "id": "cfbead7a",
      "metadata": {
        "colab": {
          "base_uri": "https://localhost:8080/"
        },
        "id": "cfbead7a",
        "outputId": "98888cbc-23d5-4671-85db-2c1fd7f64d96"
      },
      "outputs": [
        {
          "output_type": "stream",
          "name": "stdout",
          "text": [
            "Downloading data from https://www.cs.toronto.edu/~kriz/cifar-10-python.tar.gz\n",
            "170498071/170498071 [==============================] - 4s 0us/step\n",
            "(50000, 32, 32, 3) float32\n",
            "(50000, 10) float32\n",
            "(10000, 32, 32, 3) float32\n",
            "(10000, 10) float32\n"
          ]
        }
      ],
      "source": [
        "class Cifar10DataLoader():\n",
        "    def __init__(self):\n",
        "        # data load\n",
        "        (self.train_x, self.train_y), \\\n",
        "            (self.test_x, self.test_y) = tf.keras.datasets.cifar10.load_data()\n",
        "        self.input_shape = self.train_x.shape[1:]\n",
        "\n",
        "    def scale(self, x):\n",
        "\n",
        "        return (x / 255.0).astype(np.float32)\n",
        "\n",
        "    def preprocess_dataset(self, dataset):\n",
        "\n",
        "        (feature, target) = dataset\n",
        "\n",
        "        # scaling #\n",
        "        scaled_x = np.array([self.scale(x) for x in feature])\n",
        "\n",
        "        # label encoding #\n",
        "        ohe_y = np.array([tf.keras.utils.to_categorical(y, num_classes=10) for y in target])\n",
        "\n",
        "        return scaled_x, ohe_y.squeeze(1)\n",
        "\n",
        "    def get_train_dataset(self):\n",
        "        return self.preprocess_dataset((self.train_x, self.train_y))\n",
        "\n",
        "    def get_test_dataset(self):\n",
        "        return self.preprocess_dataset((self.test_x, self.test_y))\n",
        "\n",
        "cifar10_loader = Cifar10DataLoader()\n",
        "train_x, train_y = cifar10_loader.get_train_dataset()\n",
        "\n",
        "print(train_x.shape, train_x.dtype)\n",
        "print(train_y.shape, train_y.dtype)\n",
        "\n",
        "test_x, test_y = cifar10_loader.get_test_dataset()\n",
        "\n",
        "print(test_x.shape, test_x.dtype)\n",
        "print(test_y.shape, test_y.dtype)"
      ]
    },
    {
      "cell_type": "code",
      "execution_count": 4,
      "id": "c511a44b",
      "metadata": {
        "colab": {
          "base_uri": "https://localhost:8080/"
        },
        "id": "c511a44b",
        "outputId": "5b3afd63-268c-4333-a87e-399083180f96"
      },
      "outputs": [
        {
          "output_type": "stream",
          "name": "stdout",
          "text": [
            "Model: \"resnet\"\n",
            "__________________________________________________________________________________________________\n",
            " Layer (type)                Output Shape                 Param #   Connected to                  \n",
            "==================================================================================================\n",
            " input_1 (InputLayer)        [(None, 32, 32, 3)]          0         []                            \n",
            "                                                                                                  \n",
            " conv2d (Conv2D)             (None, 16, 16, 32)           896       ['input_1[0][0]']             \n",
            "                                                                                                  \n",
            " max_pooling2d (MaxPooling2  (None, 8, 8, 32)             0         ['conv2d[0][0]']              \n",
            " D)                                                                                               \n",
            "                                                                                                  \n",
            " conv2d_1 (Conv2D)           (None, 8, 8, 64)             2112      ['max_pooling2d[0][0]']       \n",
            "                                                                                                  \n",
            " conv2d_2 (Conv2D)           (None, 8, 8, 64)             36928     ['conv2d_1[0][0]']            \n",
            "                                                                                                  \n",
            " conv2d_4 (Conv2D)           (None, 8, 8, 64)             2112      ['max_pooling2d[0][0]']       \n",
            "                                                                                                  \n",
            " conv2d_3 (Conv2D)           (None, 8, 8, 64)             4160      ['conv2d_2[0][0]']            \n",
            "                                                                                                  \n",
            " add (Add)                   (None, 8, 8, 64)             0         ['conv2d_4[0][0]',            \n",
            "                                                                     'conv2d_3[0][0]']            \n",
            "                                                                                                  \n",
            " conv2d_5 (Conv2D)           (None, 8, 8, 64)             4160      ['add[0][0]']                 \n",
            "                                                                                                  \n",
            " conv2d_6 (Conv2D)           (None, 8, 8, 64)             36928     ['conv2d_5[0][0]']            \n",
            "                                                                                                  \n",
            " conv2d_7 (Conv2D)           (None, 8, 8, 64)             4160      ['conv2d_6[0][0]']            \n",
            "                                                                                                  \n",
            " add_1 (Add)                 (None, 8, 8, 64)             0         ['add[0][0]',                 \n",
            "                                                                     'conv2d_7[0][0]']            \n",
            "                                                                                                  \n",
            " max_pooling2d_1 (MaxPoolin  (None, 4, 4, 64)             0         ['add_1[0][0]']               \n",
            " g2D)                                                                                             \n",
            "                                                                                                  \n",
            " flatten (Flatten)           (None, 1024)                 0         ['max_pooling2d_1[0][0]']     \n",
            "                                                                                                  \n",
            " dense (Dense)               (None, 10)                   10250     ['flatten[0][0]']             \n",
            "                                                                                                  \n",
            "==================================================================================================\n",
            "Total params: 101706 (397.29 KB)\n",
            "Trainable params: 101706 (397.29 KB)\n",
            "Non-trainable params: 0 (0.00 Byte)\n",
            "__________________________________________________________________________________________________\n"
          ]
        }
      ],
      "source": [
        "from tensorflow.keras.layers import Input, Conv2D, MaxPool2D, Flatten, Dense, Add\n",
        "\n",
        "def build_resnet(input_shape):\n",
        "    inputs = Input(input_shape)\n",
        "\n",
        "    net = Conv2D(32, kernel_size=3, strides=2,\n",
        "                 padding='same', activation='relu')(inputs)\n",
        "    net = MaxPool2D()(net)\n",
        "\n",
        "    net1 = Conv2D(64, kernel_size=1, padding='same', activation='relu')(net)\n",
        "    net2 = Conv2D(64, kernel_size=3, padding='same', activation='relu')(net1)\n",
        "    net3 = Conv2D(64, kernel_size=1, padding='same', activation='relu')(net2)\n",
        "\n",
        "    net1_1 = Conv2D(64, kernel_size=1, padding='same')(net)\n",
        "    net = Add()([net1_1, net3])\n",
        "\n",
        "    net1 = Conv2D(64, kernel_size=1, padding='same', activation='relu')(net)\n",
        "    net2 = Conv2D(64, kernel_size=3, padding='same', activation='relu')(net1)\n",
        "    net3 = Conv2D(64, kernel_size=1, padding='same', activation='relu')(net2)\n",
        "\n",
        "    net = Add()([net, net3])\n",
        "\n",
        "    net = MaxPool2D()(net)\n",
        "\n",
        "    net = Flatten()(net)\n",
        "    net = Dense(10, activation=\"softmax\")(net)\n",
        "\n",
        "    model = tf.keras.Model(inputs=inputs, outputs=net, name='resnet')\n",
        "\n",
        "    return model\n",
        "\n",
        "model = build_resnet((32, 32, 3))\n",
        "model.summary()"
      ]
    },
    {
      "cell_type": "markdown",
      "id": "effee081",
      "metadata": {
        "id": "effee081"
      },
      "source": [
        "## fit 함수 사용\n",
        "\n",
        "$$\n",
        "\\Large{\n",
        "model.compile() \\rightarrow model.fit()\n",
        "}\n",
        "$$"
      ]
    },
    {
      "cell_type": "markdown",
      "id": "01d34fd5",
      "metadata": {
        "id": "01d34fd5"
      },
      "source": [
        "#### compile의 입력값\n",
        "\n",
        "- optimizer='rmsprop' : Optimizer\n",
        "- loss=None : Loss function\n",
        "- metrics=None : Metrics\n",
        "- loss_weights=None : loss가 여러 개인 경우 각 로스마다 다르게 중요도를 설정 할 수 있다.\n"
      ]
    },
    {
      "cell_type": "code",
      "execution_count": 5,
      "id": "1fbb8ba5",
      "metadata": {
        "id": "1fbb8ba5"
      },
      "outputs": [],
      "source": [
        "learning_rate = 0.03\n",
        "opt = tf.keras.optimizers.Adagrad(learning_rate)\n",
        "loss = tf.keras.losses.categorical_crossentropy"
      ]
    },
    {
      "cell_type": "code",
      "execution_count": 6,
      "id": "c428cbc0",
      "metadata": {
        "id": "c428cbc0"
      },
      "outputs": [],
      "source": [
        "model.compile(optimizer=opt, loss=loss, metrics=[\"accuracy\"])"
      ]
    },
    {
      "cell_type": "code",
      "execution_count": null,
      "id": "e724bbe6",
      "metadata": {
        "id": "e724bbe6"
      },
      "outputs": [],
      "source": []
    },
    {
      "cell_type": "code",
      "execution_count": 7,
      "id": "2bcd9a67",
      "metadata": {
        "id": "2bcd9a67"
      },
      "outputs": [],
      "source": [
        "# MSE loss func.\n",
        "def custom_loss(y_true, y_pred):\n",
        "    return tf.reduce_mean(tf.square(y_true - y_pred))"
      ]
    },
    {
      "cell_type": "code",
      "execution_count": 8,
      "id": "714a294c",
      "metadata": {
        "id": "714a294c"
      },
      "outputs": [],
      "source": [
        "model.compile(optimizer=opt, loss=custom_loss, metrics=[\"accuracy\"])"
      ]
    },
    {
      "cell_type": "code",
      "execution_count": null,
      "id": "09b71f76",
      "metadata": {
        "id": "09b71f76"
      },
      "outputs": [],
      "source": []
    },
    {
      "cell_type": "code",
      "execution_count": 9,
      "id": "dc441abc",
      "metadata": {
        "id": "dc441abc"
      },
      "outputs": [],
      "source": [
        "#여러 개의 Loss\n",
        "model.compile(optimizer=opt, loss=[loss, custom_loss], metrics=[\"accuracy\"])"
      ]
    },
    {
      "cell_type": "code",
      "execution_count": 10,
      "id": "1cdc652b",
      "metadata": {
        "id": "1cdc652b"
      },
      "outputs": [],
      "source": [
        "#여러 개의 Loss + loss weights\n",
        "model.compile(optimizer=opt, loss=[loss, custom_loss], loss_weights=[0.7, 0.3], metrics=[\"accuracy\"])"
      ]
    },
    {
      "cell_type": "code",
      "execution_count": 11,
      "id": "ad8e18fe",
      "metadata": {
        "id": "ad8e18fe"
      },
      "outputs": [],
      "source": [
        "# 이렇게 텍스트로 가능한 함수도 있음.\n",
        "loss = \"categorical_crossentropy\"\n",
        "\n",
        "model.compile(optimizer=opt, loss=loss, metrics=[\"accuracy\"])"
      ]
    },
    {
      "cell_type": "code",
      "execution_count": null,
      "id": "fc8f8fe3",
      "metadata": {
        "id": "fc8f8fe3"
      },
      "outputs": [],
      "source": []
    },
    {
      "cell_type": "code",
      "execution_count": 12,
      "id": "482de38a",
      "metadata": {
        "id": "482de38a"
      },
      "outputs": [],
      "source": [
        "acc = tf.keras.metrics.Accuracy()\n",
        "auc = tf.keras.metrics.AUC()"
      ]
    },
    {
      "cell_type": "code",
      "execution_count": 13,
      "id": "4b15edc6",
      "metadata": {
        "id": "4b15edc6"
      },
      "outputs": [],
      "source": [
        "model.compile(optimizer=opt, loss=loss, metrics=[acc, auc])"
      ]
    },
    {
      "cell_type": "code",
      "execution_count": 14,
      "id": "abd7e409",
      "metadata": {
        "id": "abd7e409"
      },
      "outputs": [],
      "source": [
        "def custom_metric(y_true, y_pred):\n",
        "\n",
        "    true = tf.argmax(y_true, axis=-1)\n",
        "    pred = tf.argmax(y_pred, axis=-1)\n",
        "\n",
        "    return tf.reduce_sum(tf.cast(tf.equal(y_true, y_pred), tf.int32))"
      ]
    },
    {
      "cell_type": "code",
      "execution_count": 15,
      "id": "2dd3a44b",
      "metadata": {
        "id": "2dd3a44b"
      },
      "outputs": [],
      "source": [
        "model.compile(optimizer=opt, loss=loss, metrics=[custom_metric])"
      ]
    },
    {
      "cell_type": "code",
      "execution_count": 16,
      "id": "6e68f3f3",
      "metadata": {
        "id": "6e68f3f3"
      },
      "outputs": [],
      "source": [
        "model.compile(optimizer=opt, loss=loss, metrics=[\"accuracy\", custom_metric])"
      ]
    },
    {
      "cell_type": "code",
      "execution_count": null,
      "id": "00e2c43e",
      "metadata": {
        "id": "00e2c43e"
      },
      "outputs": [],
      "source": []
    },
    {
      "cell_type": "markdown",
      "id": "d95e4dd1",
      "metadata": {
        "id": "d95e4dd1"
      },
      "source": [
        "### fit의 입력값\n",
        "\n",
        "- x=None\n",
        "- y=None\n",
        "- batch_size=None\n",
        "- epochs=1\n",
        "- verbose='auto' : 학습과정 출력문의 모드\n",
        "- callbacks=None : Callback 함수\n",
        "- validation_split=0.0 : 입력데이터의 일정 부분을 Validation 용 데이터로 사용함\n",
        "- validation_data=None : Validation 용 데이터\n",
        "- shuffle=True : 입력값을 Epoch 마다 섞는다.\n",
        "- class_weight=None : 클래스 별로 다른 중요도를 설정한다.\n",
        "- ..."
      ]
    },
    {
      "cell_type": "code",
      "execution_count": 17,
      "id": "99dda8ce",
      "metadata": {
        "colab": {
          "base_uri": "https://localhost:8080/"
        },
        "id": "99dda8ce",
        "outputId": "e4c4bd66-0b0a-4438-ce21-a4331f190fe3"
      },
      "outputs": [
        {
          "output_type": "stream",
          "name": "stdout",
          "text": [
            "274/274 [==============================] - 53s 191ms/step - loss: 1.9674 - accuracy: 0.2934 - custom_metric: 0.0000e+00 - val_loss: 1.7233 - val_accuracy: 0.3991 - val_custom_metric: 0.0000e+00\n"
          ]
        }
      ],
      "source": [
        "hist = model.fit(train_x,\n",
        "                 train_y,\n",
        "                 epochs=1,\n",
        "                 batch_size=128,\n",
        "                 validation_split=0.3,\n",
        "                 verbose=1\n",
        "                )"
      ]
    },
    {
      "cell_type": "markdown",
      "id": "2bd9888b",
      "metadata": {
        "id": "2bd9888b"
      },
      "source": [
        "### Callback 함수 활용하기\n",
        "\n",
        " - Callback 함수를 활용하면, fit() 함수가 돌아가는 와중에도 특정한 주기로 원하는 코드를 실행 시킬 수 있음.\n",
        "\n",
        " ex> 학습이 진행되면, Learning rate를 점점 줄여서 더 세밀하게 모델의 웨이트가 조정 될 수 있도록 하고 싶다."
      ]
    },
    {
      "cell_type": "code",
      "execution_count": 18,
      "id": "c9cb6da8",
      "metadata": {
        "id": "c9cb6da8"
      },
      "outputs": [],
      "source": [
        "def scheduler(epoch, lr):\n",
        "    if epoch > 10:\n",
        "        return lr * (0.9**(epoch - 10))\n",
        "    else:\n",
        "        return lr\n",
        "\n",
        "lr_scheduler = tf.keras.callbacks.LearningRateScheduler(scheduler, verbose=1)"
      ]
    },
    {
      "cell_type": "code",
      "execution_count": null,
      "id": "c0415a5b",
      "metadata": {
        "id": "c0415a5b",
        "outputId": "bf7f5d94-e47d-491e-e7c9-51566a08bc5d"
      },
      "outputs": [
        {
          "name": "stdout",
          "output_type": "stream",
          "text": [
            "274/274 [==============================] - 21s 75ms/step - loss: 1.8310 - accuracy: 0.3500 - custom_metric: 0.0000e+00 - val_loss: 1.8962 - val_accuracy: 0.3228 - val_custom_metric: 0.0000e+00 - lr: 0.0300\n"
          ]
        }
      ],
      "source": [
        "hist = model.fit(train_x,\n",
        "                 train_y,\n",
        "                 epochs=100,\n",
        "                 batch_size=128,\n",
        "                 validation_split=0.3,\n",
        "                 verbose=1,\n",
        "                 callbacks=[lr_scheduler],\n",
        "                )"
      ]
    },
    {
      "cell_type": "code",
      "execution_count": null,
      "id": "f1b02879",
      "metadata": {
        "id": "f1b02879"
      },
      "outputs": [],
      "source": []
    },
    {
      "cell_type": "code",
      "source": [
        "tf.keras.callbacks.EarlyStopping()"
      ],
      "metadata": {
        "id": "oW8DdWgnroCj"
      },
      "id": "oW8DdWgnroCj",
      "execution_count": null,
      "outputs": []
    }
  ],
  "metadata": {
    "kernelspec": {
      "display_name": "Python 3 (ipykernel)",
      "language": "python",
      "name": "python3"
    },
    "language_info": {
      "codemirror_mode": {
        "name": "ipython",
        "version": 3
      },
      "file_extension": ".py",
      "mimetype": "text/x-python",
      "name": "python",
      "nbconvert_exporter": "python",
      "pygments_lexer": "ipython3",
      "version": "3.9.9"
    },
    "varInspector": {
      "cols": {
        "lenName": 16,
        "lenType": 16,
        "lenVar": 40
      },
      "kernels_config": {
        "python": {
          "delete_cmd_postfix": "",
          "delete_cmd_prefix": "del ",
          "library": "var_list.py",
          "varRefreshCmd": "print(var_dic_list())"
        },
        "r": {
          "delete_cmd_postfix": ") ",
          "delete_cmd_prefix": "rm(",
          "library": "var_list.r",
          "varRefreshCmd": "cat(var_dic_list()) "
        }
      },
      "types_to_exclude": [
        "module",
        "function",
        "builtin_function_or_method",
        "instance",
        "_Feature"
      ],
      "window_display": false
    },
    "colab": {
      "provenance": [],
      "toc_visible": true,
      "include_colab_link": true
    }
  },
  "nbformat": 4,
  "nbformat_minor": 5
}