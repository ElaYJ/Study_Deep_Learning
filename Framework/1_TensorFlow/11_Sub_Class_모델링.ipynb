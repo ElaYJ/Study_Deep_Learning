{
  "cells": [
    {
      "cell_type": "markdown",
      "metadata": {
        "colab_type": "text",
        "id": "view-in-github"
      },
      "source": [
        "<a href=\"https://colab.research.google.com/github/ElaYJ/Study_Deep_Learning/blob/main/Framework/1_TensorFlow/11_Sub_Class_%EB%AA%A8%EB%8D%B8%EB%A7%81.ipynb\" target=\"_parent\"><img src=\"https://colab.research.google.com/assets/colab-badge.svg\" alt=\"Open In Colab\"/></a>"
      ]
    },
    {
      "cell_type": "markdown",
      "id": "66f8aa76",
      "metadata": {
        "id": "66f8aa76"
      },
      "source": [
        "# Sub Class 모델링"
      ]
    },
    {
      "cell_type": "markdown",
      "id": "c001ac1f",
      "metadata": {
        "id": "c001ac1f"
      },
      "source": [
        "- 모델이란 것은 Input을 Output으로 만들어주는 수식이다.\n",
        "\n",
        "- 해당 기능을 수행하는 두 가지 클래스가 `tf.keras.layers.Layer` 와 `tf.keras.layers.Model` 클래스이다.\n",
        "\n",
        "    - tf.keras.layers.Layer\n",
        "    - tf.keras.layers.Model\n",
        "\n",
        "- 두가지 모두 **연산을 추상화** 하는 것으로 동일한 역할을 하지만, `tf.keras.layers.Model` 클래스의 경우 모델을 저장(`save`) 하는 기능과 `fit` 함수를 사용할 수 있다는 점에서 차이가 있다."
      ]
    },
    {
      "cell_type": "code",
      "execution_count": 1,
      "id": "88ee619a",
      "metadata": {
        "id": "88ee619a"
      },
      "outputs": [],
      "source": [
        "import numpy as np\n",
        "import pandas as pd\n",
        "import tensorflow as tf\n",
        "\n",
        "import matplotlib.pyplot as plt\n",
        "import seaborn as sns\n",
        "%matplotlib inline"
      ]
    },
    {
      "cell_type": "code",
      "execution_count": 2,
      "id": "7253a144",
      "metadata": {
        "id": "7253a144"
      },
      "outputs": [],
      "source": [
        "np.random.seed(7777)\n",
        "tf.random.set_seed(7777)"
      ]
    },
    {
      "cell_type": "markdown",
      "id": "33799c3c",
      "metadata": {
        "id": "33799c3c"
      },
      "source": [
        "## 예제1. 선형 회귀 모델\n",
        "\n",
        "- Linear Regression을 Layer로 만들어 보자."
      ]
    },
    {
      "cell_type": "code",
      "execution_count": 3,
      "id": "dfc198b2",
      "metadata": {
        "id": "dfc198b2"
      },
      "outputs": [],
      "source": [
        "class LinearRegression(tf.keras.layers.Layer):\n",
        "    def __init__(self, units=1):\n",
        "        super(LinearRegression, self).__init__()\n",
        "        self.units = units\n",
        "\n",
        "    def build(self, input_shape):\n",
        "        # self.add_weight는 부모 클래스가 가진 메서드임.\n",
        "        self.w = self.add_weight(\n",
        "            shape=(input_shape[-1], self.units),\n",
        "            initializer=\"random_normal\",\n",
        "            trainable=True,\n",
        "        )\n",
        "        self.b = tf.Variable(0.0)\n",
        "\n",
        "    # overriding\n",
        "    def call(self, inputs):\n",
        "        # y_hat = weights * input + bias\n",
        "        return tf.matmul(inputs, self.w) + self.b"
      ]
    },
    {
      "cell_type": "code",
      "execution_count": 3,
      "id": "662d8aab",
      "metadata": {
        "id": "662d8aab"
      },
      "outputs": [],
      "source": []
    },
    {
      "cell_type": "markdown",
      "id": "d6677a83",
      "metadata": {
        "id": "d6677a83"
      },
      "source": [
        "### 가상 데이터"
      ]
    },
    {
      "cell_type": "code",
      "execution_count": 4,
      "id": "0b0d3d13",
      "metadata": {
        "id": "0b0d3d13"
      },
      "outputs": [],
      "source": [
        "W_true = np.array([[3., 2., 4., 1.]]).reshape((4, 1))\n",
        "B_true = np.array([1.])\n",
        "\n",
        "X = tf.random.normal((500, 4))\n",
        "noise = tf.random.normal((500, 1))\n",
        "\n",
        "y = X @ W_true + B_true + noise"
      ]
    },
    {
      "cell_type": "code",
      "execution_count": 5,
      "id": "eea10d18",
      "metadata": {
        "colab": {
          "base_uri": "https://localhost:8080/"
        },
        "id": "eea10d18",
        "outputId": "076b806c-e918-40fc-d009-877140832669"
      },
      "outputs": [
        {
          "name": "stdout",
          "output_type": "stream",
          "text": [
            "epoch : 0 loss : 34.433555603027344\n",
            "epoch : 10 loss : 10.113210678100586\n",
            "epoch : 20 loss : 3.4368460178375244\n",
            "epoch : 30 loss : 1.5988596677780151\n",
            "epoch : 40 loss : 1.0912309885025024\n",
            "epoch : 50 loss : 0.9505165219306946\n",
            "epoch : 60 loss : 0.9113488793373108\n",
            "epoch : 70 loss : 0.9003961086273193\n",
            "epoch : 80 loss : 0.8973172903060913\n",
            "epoch : 90 loss : 0.8964470624923706\n"
          ]
        }
      ],
      "source": [
        "opt = tf.keras.optimizers.SGD(learning_rate=3e-2)\n",
        "\n",
        "\n",
        "linear_layer = LinearRegression(1)\n",
        "\n",
        "for epoch in range(100):\n",
        "    with tf.GradientTape() as tape:\n",
        "        y_hat = linear_layer(X)\n",
        "        loss = tf.reduce_mean(tf.square((y - y_hat)))\n",
        "\n",
        "    grads = tape.gradient(loss, linear_layer.trainable_weights)\n",
        "\n",
        "    opt.apply_gradients(zip(grads, linear_layer.trainable_weights))\n",
        "\n",
        "    if epoch % 10 == 0:\n",
        "        print(\"epoch : {} loss : {}\".format(epoch, loss.numpy()))"
      ]
    },
    {
      "cell_type": "code",
      "execution_count": 6,
      "id": "4PRKhEFwN0eg",
      "metadata": {
        "colab": {
          "base_uri": "https://localhost:8080/"
        },
        "id": "4PRKhEFwN0eg",
        "outputId": "9dc32867-f9ad-4d6e-a578-22a9843ac237"
      },
      "outputs": [
        {
          "data": {
            "text/plain": [
              "[<tf.Variable 'linear_regression/Variable:0' shape=(4, 1) dtype=float32, numpy=\n",
              " array([[2.9835494],\n",
              "        [2.0012622],\n",
              "        [4.0367503],\n",
              "        [0.9445879]], dtype=float32)>,\n",
              " <tf.Variable 'linear_regression/Variable:0' shape=() dtype=float32, numpy=0.9809942>]"
            ]
          },
          "execution_count": 6,
          "metadata": {},
          "output_type": "execute_result"
        }
      ],
      "source": [
        "linear_layer.trainable_weights"
      ]
    },
    {
      "cell_type": "code",
      "execution_count": 7,
      "id": "574866a8",
      "metadata": {
        "colab": {
          "base_uri": "https://localhost:8080/"
        },
        "id": "574866a8",
        "outputId": "ba759aa7-b86a-4e55-c1ba-019666cb0e9b"
      },
      "outputs": [
        {
          "data": {
            "text/plain": [
              "<tf.Tensor: shape=(1, 1), dtype=float32, numpy=array([[1.7254838]], dtype=float32)>"
            ]
          },
          "execution_count": 7,
          "metadata": {},
          "output_type": "execute_result"
        }
      ],
      "source": [
        "linear_layer(X[:1])"
      ]
    },
    {
      "cell_type": "code",
      "execution_count": 7,
      "id": "97237565",
      "metadata": {
        "id": "97237565"
      },
      "outputs": [],
      "source": []
    },
    {
      "cell_type": "markdown",
      "id": "51f8ef2b",
      "metadata": {
        "id": "51f8ef2b"
      },
      "source": [
        "## 예제2. CNN : ResNet\n",
        "\n",
        "- ResNet 을 Sub Class 로 구현 하기\n",
        "\n",
        "    1. Residual Block - Layer\n",
        "    2. ResNet  - Model"
      ]
    },
    {
      "cell_type": "code",
      "execution_count": 8,
      "id": "a1bb7c07",
      "metadata": {
        "id": "a1bb7c07"
      },
      "outputs": [],
      "source": [
        "from tensorflow.keras.layers import Input, Conv2D, MaxPool2D, Flatten, Dense, Add"
      ]
    },
    {
      "cell_type": "code",
      "execution_count": 9,
      "id": "9cf841dd",
      "metadata": {
        "id": "9cf841dd"
      },
      "outputs": [],
      "source": [
        "class ResidualBlock(tf.keras.layers.Layer):\n",
        "    def __init__(self, filters=32, filter_match=False):\n",
        "        super(ResidualBlock, self).__init__()\n",
        "\n",
        "        self.conv1 = Conv2D(filters, kernel_size=1, padding='same', activation='relu')\n",
        "        self.conv2 = Conv2D(filters, kernel_size=3, padding='same', activation='relu')\n",
        "        self.conv3 = Conv2D(filters, kernel_size=1, padding='same', activation='relu')\n",
        "        self.add = Add()\n",
        "\n",
        "        self.filters = filters\n",
        "        self.filter_match = filter_match\n",
        "        if filter_match:\n",
        "            self.conv_ext = Conv2D(filters, kernel_size=1, padding='same')\n",
        "\n",
        "    def call(self, inputs):\n",
        "        net1 = self.conv1(inputs)\n",
        "        net2 = self.conv2(net1)\n",
        "        net3 = self.conv3(net2)\n",
        "        if self.filter_match:\n",
        "            res = self.add([self.conv_ext(inputs), net3])\n",
        "        else:\n",
        "            res = self.add([inputs, net3])\n",
        "        return res"
      ]
    },
    {
      "cell_type": "code",
      "execution_count": 10,
      "id": "d760e9b4",
      "metadata": {
        "id": "d760e9b4"
      },
      "outputs": [],
      "source": [
        "class ResNet(tf.keras.Model):\n",
        "\n",
        "    def __init__(self, num_classes):\n",
        "        super(ResNet, self).__init__()\n",
        "\n",
        "        self.conv1 = Conv2D(32, kernel_size=3, strides=2, padding='same', activation='relu')\n",
        "        self.maxp1 =  MaxPool2D()\n",
        "        self.block_1 = ResidualBlock(64, True)\n",
        "        self.block_2 = ResidualBlock(64)\n",
        "        self.maxp2 =  MaxPool2D()\n",
        "        self.flat = Flatten()\n",
        "        self.dense = Dense(num_classes)\n",
        "\n",
        "    def call(self, inputs):\n",
        "        x = self.conv1(inputs)\n",
        "        x = self.maxp1(x)\n",
        "        x = self.block_1(x)\n",
        "        x = self.block_2(x)\n",
        "        x = self.maxp2(x)\n",
        "        x = self.flat(x)\n",
        "        return self.dense(x)"
      ]
    },
    {
      "cell_type": "code",
      "execution_count": 11,
      "id": "r5fujF_UPt37",
      "metadata": {
        "id": "r5fujF_UPt37"
      },
      "outputs": [],
      "source": [
        "model = ResNet(num_classes=10)"
      ]
    },
    {
      "cell_type": "code",
      "execution_count": 11,
      "id": "_irguEXHQqcY",
      "metadata": {
        "id": "_irguEXHQqcY"
      },
      "outputs": [],
      "source": []
    },
    {
      "cell_type": "markdown",
      "id": "nDoXP5xSQbfi",
      "metadata": {
        "id": "nDoXP5xSQbfi"
      },
      "source": [
        "### Cifar10 datasets"
      ]
    },
    {
      "cell_type": "code",
      "execution_count": 12,
      "id": "e6505d2d",
      "metadata": {
        "id": "e6505d2d"
      },
      "outputs": [],
      "source": [
        "class Cifar10DataLoader():\n",
        "    def __init__(self):\n",
        "        # data load\n",
        "        (self.train_x, self.train_y), \\\n",
        "            (self.test_x, self.test_y) = tf.keras.datasets.cifar10.load_data()\n",
        "        self.input_shape = self.train_x.shape[1:]\n",
        "\n",
        "    def scale(self, x):\n",
        "\n",
        "        return (x / 255.0).astype(np.float32)\n",
        "\n",
        "    def preprocess_dataset(self, dataset):\n",
        "\n",
        "        (feature, target) = dataset\n",
        "\n",
        "        # scaling #\n",
        "        scaled_x = np.array([self.scale(x) for x in feature])\n",
        "\n",
        "        # label encoding #\n",
        "        ohe_y = np.array([tf.keras.utils.to_categorical(\n",
        "            y, num_classes=10) for y in target])\n",
        "\n",
        "        return scaled_x, ohe_y.squeeze(1)\n",
        "\n",
        "    def get_train_dataset(self):\n",
        "        return self.preprocess_dataset((self.train_x, self.train_y))\n",
        "\n",
        "    def get_test_dataset(self):\n",
        "        return self.preprocess_dataset((self.test_x, self.test_y))"
      ]
    },
    {
      "cell_type": "code",
      "execution_count": 13,
      "id": "738821e7",
      "metadata": {
        "colab": {
          "base_uri": "https://localhost:8080/"
        },
        "id": "738821e7",
        "outputId": "cef6119a-c416-4571-9b4b-d1606fb85349"
      },
      "outputs": [
        {
          "name": "stdout",
          "output_type": "stream",
          "text": [
            "Downloading data from https://www.cs.toronto.edu/~kriz/cifar-10-python.tar.gz\n",
            "170498071/170498071 [==============================] - 4s 0us/step\n",
            "(50000, 32, 32, 3) float32\n",
            "(50000, 10) float32\n",
            "(10000, 32, 32, 3) float32\n",
            "(10000, 10) float32\n"
          ]
        }
      ],
      "source": [
        "cifar10_loader = Cifar10DataLoader()\n",
        "\n",
        "train_x, train_y = cifar10_loader.get_train_dataset()\n",
        "\n",
        "print(train_x.shape, train_x.dtype)\n",
        "print(train_y.shape, train_y.dtype)\n",
        "\n",
        "test_x, test_y = cifar10_loader.get_test_dataset()\n",
        "\n",
        "print(test_x.shape, test_x.dtype)\n",
        "print(test_y.shape, test_y.dtype)"
      ]
    },
    {
      "cell_type": "markdown",
      "id": "f843d6f2",
      "metadata": {
        "id": "f843d6f2"
      },
      "source": [
        "### 학습 시켜보기"
      ]
    },
    {
      "cell_type": "code",
      "execution_count": 14,
      "id": "23873054",
      "metadata": {
        "id": "23873054"
      },
      "outputs": [],
      "source": [
        "learning_rate = 0.03\n",
        "opt = tf.keras.optimizers.Adam(learning_rate)\n",
        "loss = tf.keras.losses.categorical_crossentropy\n",
        "\n",
        "model.compile(optimizer=opt, loss=loss, metrics=[\"accuracy\"])"
      ]
    },
    {
      "cell_type": "code",
      "execution_count": 15,
      "id": "44a76bce",
      "metadata": {
        "colab": {
          "base_uri": "https://localhost:8080/"
        },
        "id": "44a76bce",
        "outputId": "a81d6392-604d-4b52-afd3-ee06a48aac30"
      },
      "outputs": [
        {
          "name": "stdout",
          "output_type": "stream",
          "text": [
            "Epoch 1/10\n",
            "391/391 [==============================] - 16s 9ms/step - loss: 5.2826 - accuracy: 0.1003 - val_loss: 4.8354 - val_accuracy: 0.1000\n",
            "Epoch 2/10\n",
            "391/391 [==============================] - 3s 8ms/step - loss: 4.8354 - accuracy: 0.1000 - val_loss: 4.8354 - val_accuracy: 0.1000\n",
            "Epoch 3/10\n",
            "391/391 [==============================] - 3s 6ms/step - loss: 4.8354 - accuracy: 0.1000 - val_loss: 4.8354 - val_accuracy: 0.1000\n",
            "Epoch 4/10\n",
            "391/391 [==============================] - 3s 8ms/step - loss: 4.8354 - accuracy: 0.1000 - val_loss: 4.8354 - val_accuracy: 0.1000\n",
            "Epoch 5/10\n",
            "391/391 [==============================] - 3s 7ms/step - loss: 4.8354 - accuracy: 0.1000 - val_loss: 4.8354 - val_accuracy: 0.1000\n",
            "Epoch 6/10\n",
            "391/391 [==============================] - 3s 8ms/step - loss: 4.8354 - accuracy: 0.1000 - val_loss: 4.8354 - val_accuracy: 0.1000\n",
            "Epoch 7/10\n",
            "391/391 [==============================] - 3s 7ms/step - loss: 4.8354 - accuracy: 0.1000 - val_loss: 4.8354 - val_accuracy: 0.1000\n",
            "Epoch 8/10\n",
            "391/391 [==============================] - 3s 7ms/step - loss: 4.8354 - accuracy: 0.1000 - val_loss: 4.8354 - val_accuracy: 0.1000\n",
            "Epoch 9/10\n",
            "391/391 [==============================] - 3s 7ms/step - loss: 4.8354 - accuracy: 0.1000 - val_loss: 4.8354 - val_accuracy: 0.1000\n",
            "Epoch 10/10\n",
            "391/391 [==============================] - 3s 6ms/step - loss: 4.8354 - accuracy: 0.1000 - val_loss: 4.8354 - val_accuracy: 0.1000\n"
          ]
        }
      ],
      "source": [
        "hist = model.fit(train_x, train_y,\n",
        "                 epochs=10, batch_size=128,\n",
        "                 validation_data=(test_x, test_y))"
      ]
    },
    {
      "cell_type": "code",
      "execution_count": 16,
      "id": "3055de3e",
      "metadata": {
        "colab": {
          "base_uri": "https://localhost:8080/",
          "height": 499
        },
        "id": "3055de3e",
        "outputId": "41dd5a02-8b7e-4a8f-ac40-4ce34a59433d"
      },
      "outputs": [
        {
          "data": {
            "image/png": "[encoded data removed]",
            "text/plain": [
              "<Figure size 1000x500 with 4 Axes>"
            ]
          },
          "metadata": {},
          "output_type": "display_data"
        }
      ],
      "source": [
        "plt.figure(figsize=(10, 5))\n",
        "plt.subplot(221)\n",
        "plt.plot(hist.history['loss'])\n",
        "plt.title(\"loss\")\n",
        "plt.subplot(222)\n",
        "plt.plot(hist.history['accuracy'], 'b-')\n",
        "plt.title(\"acc\")\n",
        "plt.subplot(223)\n",
        "plt.plot(hist.history['val_loss'])\n",
        "plt.title(\"val_loss\")\n",
        "plt.subplot(224)\n",
        "plt.plot(hist.history['val_accuracy'], 'b-')\n",
        "plt.title(\"val_accuracy\")\n",
        "\n",
        "plt.tight_layout()\n",
        "plt.show()"
      ]
    }
  ],
  "metadata": {
    "accelerator": "GPU",
    "colab": {
      "gpuType": "T4",
      "include_colab_link": true,
      "provenance": [],
      "toc_visible": true
    },
    "kernelspec": {
      "display_name": "Python 3",
      "name": "python3"
    },
    "language_info": {
      "codemirror_mode": {
        "name": "ipython",
        "version": 3
      },
      "file_extension": ".py",
      "mimetype": "text/x-python",
      "name": "python",
      "nbconvert_exporter": "python",
      "pygments_lexer": "ipython3",
      "version": "3.9.9"
    },
    "varInspector": {
      "cols": {
        "lenName": 16,
        "lenType": 16,
        "lenVar": 40
      },
      "kernels_config": {
        "python": {
          "delete_cmd_postfix": "",
          "delete_cmd_prefix": "del ",
          "library": "var_list.py",
          "varRefreshCmd": "print(var_dic_list())"
        },
        "r": {
          "delete_cmd_postfix": ") ",
          "delete_cmd_prefix": "rm(",
          "library": "var_list.r",
          "varRefreshCmd": "cat(var_dic_list()) "
        }
      },
      "types_to_exclude": [
        "module",
        "function",
        "builtin_function_or_method",
        "instance",
        "_Feature"
      ],
      "window_display": false
    }
  },
  "nbformat": 4,
  "nbformat_minor": 5
}
