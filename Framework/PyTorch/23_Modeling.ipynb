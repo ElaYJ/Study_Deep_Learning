{
  "cells": [
    {
      "cell_type": "markdown",
      "metadata": {
        "colab_type": "text",
        "id": "view-in-github"
      },
      "source": [
        "<a href=\"https://colab.research.google.com/github/ElaYJ/Study_Deep_Learning/blob/main/Framework/PyTorch/23_Modeling.ipynb\" target=\"_parent\"><img src=\"https://colab.research.google.com/assets/colab-badge.svg\" alt=\"Open In Colab\"/></a>"
      ]
    },
    {
      "cell_type": "markdown",
      "id": "9864812e",
      "metadata": {
        "id": "9864812e"
      },
      "source": [
        "# Modeling\n",
        "\n",
        "- PyTorch에서 모델을 정의하는 방법\n",
        "\n",
        "    1. `nn.Sequential`\n",
        "    \n",
        "    2. Sub-class of `nn.Module`"
      ]
    },
    {
      "cell_type": "code",
      "execution_count": 2,
      "id": "44d4f9fb",
      "metadata": {
        "id": "44d4f9fb"
      },
      "outputs": [],
      "source": [
        "import torch\n",
        "from torch import nn\n",
        "import torch.nn.functional as F"
      ]
    },
    {
      "cell_type": "markdown",
      "id": "9cff9eae",
      "metadata": {
        "id": "9cff9eae"
      },
      "source": [
        "### nn의 모듈"
      ]
    },
    {
      "cell_type": "code",
      "execution_count": null,
      "id": "-h3v8XefW0qw",
      "metadata": {
        "id": "-h3v8XefW0qw"
      },
      "outputs": [],
      "source": [
        "# nn.Conv2d(\n",
        "#     in_channels: int, out_channels: int, kernel_size: _size_2_t, stride: _size_2_t = 1, padding: _size_2_t | str = 0,\n",
        "#     dilation: _size_2_t = 1, groups: int = 1, bias: bool = True, padding_mode: str = 'zeros',\n",
        "#     device: Any | None = None, dtype: Any | None = None\n",
        "# ) -> None"
      ]
    },
    {
      "cell_type": "code",
      "execution_count": 3,
      "id": "59179e84",
      "metadata": {
        "colab": {
          "base_uri": "https://localhost:8080/"
        },
        "id": "59179e84",
        "outputId": "49641eeb-c9e5-4a3e-f845-b648882a6462"
      },
      "outputs": [
        {
          "data": {
            "text/plain": [
              "Conv2d(3, 32, kernel_size=(3, 3), stride=(1, 1), padding=(1, 1), bias=False)"
            ]
          },
          "execution_count": 3,
          "metadata": {},
          "output_type": "execute_result"
        }
      ],
      "source": [
        "nn.Conv2d(\n",
        "    in_channels=3,\n",
        "    out_channels=32,\n",
        "    kernel_size=3,\n",
        "    stride=1,\n",
        "    padding=1,\n",
        "    bias=False\n",
        ")"
      ]
    },
    {
      "cell_type": "code",
      "execution_count": 4,
      "id": "ee3d7ba9",
      "metadata": {
        "colab": {
          "base_uri": "https://localhost:8080/"
        },
        "id": "ee3d7ba9",
        "outputId": "7c9a7558-8128-4638-b50c-9af58da1bf5a"
      },
      "outputs": [
        {
          "data": {
            "text/plain": [
              "Linear(in_features=784, out_features=500, bias=False)"
            ]
          },
          "execution_count": 4,
          "metadata": {},
          "output_type": "execute_result"
        }
      ],
      "source": [
        "nn.Linear(\n",
        "    in_features=784,\n",
        "    out_features=500,\n",
        "    bias=False\n",
        ")"
      ]
    },
    {
      "cell_type": "code",
      "execution_count": null,
      "id": "a4a836bc",
      "metadata": {
        "id": "a4a836bc"
      },
      "outputs": [],
      "source": []
    },
    {
      "cell_type": "markdown",
      "id": "889009de",
      "metadata": {
        "id": "889009de"
      },
      "source": [
        "### `nn.Sequential`\n"
      ]
    },
    {
      "cell_type": "code",
      "execution_count": 5,
      "id": "fcdeefd2",
      "metadata": {
        "id": "fcdeefd2"
      },
      "outputs": [],
      "source": [
        "device = torch.device('cuda' if torch.cuda.is_available() else 'cpu')"
      ]
    },
    {
      "cell_type": "code",
      "execution_count": 6,
      "id": "50d0bf92",
      "metadata": {
        "id": "50d0bf92"
      },
      "outputs": [],
      "source": [
        "model = nn.Sequential(\n",
        "    nn.Linear(784, 15),\n",
        "    nn.Sigmoid(),\n",
        "    nn.Linear(15, 10),\n",
        "    nn.Sigmoid(),\n",
        ").to(device)"
      ]
    },
    {
      "cell_type": "code",
      "execution_count": 7,
      "id": "c4d05045",
      "metadata": {
        "colab": {
          "base_uri": "https://localhost:8080/"
        },
        "id": "c4d05045",
        "outputId": "da4270e5-c363-4a70-c573-6afcff0154c5"
      },
      "outputs": [
        {
          "name": "stdout",
          "output_type": "stream",
          "text": [
            "Sequential(\n",
            "  (0): Linear(in_features=784, out_features=15, bias=True)\n",
            "  (1): Sigmoid()\n",
            "  (2): Linear(in_features=15, out_features=10, bias=True)\n",
            "  (3): Sigmoid()\n",
            ")\n"
          ]
        }
      ],
      "source": [
        "print(model)"
      ]
    },
    {
      "cell_type": "code",
      "execution_count": null,
      "id": "c47fc166",
      "metadata": {
        "id": "c47fc166",
        "outputId": "d14bf0d2-6680-4515-c0d7-53193b02d3a1"
      },
      "outputs": [
        {
          "name": "stdout",
          "output_type": "stream",
          "text": [
            "\u001b[33mDEPRECATION: Configuring installation scheme with distutils config files is deprecated and will no longer work in the near future. If you are using a Homebrew or Linuxbrew Python, please see discussion at https://github.com/Homebrew/homebrew-core/issues/76621\u001b[0m\n",
            "Requirement already satisfied: torchsummary in /usr/local/lib/python3.9/site-packages (1.5.1)\n",
            "\u001b[33mDEPRECATION: Configuring installation scheme with distutils config files is deprecated and will no longer work in the near future. If you are using a Homebrew or Linuxbrew Python, please see discussion at https://github.com/Homebrew/homebrew-core/issues/76621\u001b[0m\n"
          ]
        }
      ],
      "source": [
        "# !pip install torchsummary"
      ]
    },
    {
      "cell_type": "code",
      "execution_count": 8,
      "id": "ea056d91",
      "metadata": {
        "id": "ea056d91"
      },
      "outputs": [],
      "source": [
        "import torchsummary"
      ]
    },
    {
      "cell_type": "code",
      "execution_count": 9,
      "id": "50456ce1",
      "metadata": {
        "colab": {
          "base_uri": "https://localhost:8080/"
        },
        "id": "50456ce1",
        "outputId": "68270393-c2d1-4b1f-c979-ea6f5975e7ef"
      },
      "outputs": [
        {
          "name": "stdout",
          "output_type": "stream",
          "text": [
            "----------------------------------------------------------------\n",
            "        Layer (type)               Output Shape         Param #\n",
            "================================================================\n",
            "            Linear-1                   [-1, 15]          11,775\n",
            "           Sigmoid-2                   [-1, 15]               0\n",
            "            Linear-3                   [-1, 10]             160\n",
            "           Sigmoid-4                   [-1, 10]               0\n",
            "================================================================\n",
            "Total params: 11,935\n",
            "Trainable params: 11,935\n",
            "Non-trainable params: 0\n",
            "----------------------------------------------------------------\n",
            "Input size (MB): 0.00\n",
            "Forward/backward pass size (MB): 0.00\n",
            "Params size (MB): 0.05\n",
            "Estimated Total Size (MB): 0.05\n",
            "----------------------------------------------------------------\n"
          ]
        }
      ],
      "source": [
        "torchsummary.summary(model, (784, ))"
      ]
    },
    {
      "cell_type": "code",
      "execution_count": null,
      "id": "c2615111",
      "metadata": {
        "id": "c2615111"
      },
      "outputs": [],
      "source": []
    },
    {
      "cell_type": "markdown",
      "id": "b48d87ec",
      "metadata": {
        "id": "b48d87ec"
      },
      "source": [
        "### `nn.module` sub class"
      ]
    },
    {
      "cell_type": "markdown",
      "id": "fce06d83",
      "metadata": {
        "id": "fce06d83"
      },
      "source": [
        "- `__init__()` 에서 Layers를 초기화 함.\n",
        "- `forward` 함수를 구현"
      ]
    },
    {
      "cell_type": "code",
      "execution_count": 10,
      "id": "27518cb8",
      "metadata": {
        "id": "27518cb8"
      },
      "outputs": [],
      "source": [
        "# input_size=(1, 28, 28)로 가정\n",
        "\n",
        "class Net(nn.Module):\n",
        "    def __init__(self):\n",
        "        super(Net, self).__init__()\n",
        "        self.conv1 = nn.Conv2d(1, 20, kernel_size=3, padding=1)\n",
        "        self.conv2 = nn.Conv2d(20, 50, kernel_size=3, padding=1)\n",
        "        self.fc1 = nn.Linear(4900, 500)\n",
        "        self.fc2 = nn.Linear(500, 10)\n",
        "\n",
        "    def forward(self, x):\n",
        "        x = F.relu(self.conv1(x))\n",
        "        x = F.max_pool2d(x, 2, 2)\n",
        "        x = F.relu(self.conv2(x))\n",
        "        x = F.max_pool2d(x, 2, 2)\n",
        "\n",
        "        x = x.view(-1, 4900)\n",
        "        x = F.relu(self.fc1(x))\n",
        "        x = F.log_softmax(self.fc2(x), dim=1)\n",
        "        return x"
      ]
    },
    {
      "cell_type": "code",
      "execution_count": 11,
      "id": "0301b7f2",
      "metadata": {
        "id": "0301b7f2"
      },
      "outputs": [],
      "source": [
        "model = Net()"
      ]
    },
    {
      "cell_type": "code",
      "execution_count": 12,
      "id": "760fd8b4",
      "metadata": {
        "colab": {
          "base_uri": "https://localhost:8080/"
        },
        "id": "760fd8b4",
        "outputId": "0e4445cb-cfa0-4061-f3fe-dcba9aed0900"
      },
      "outputs": [
        {
          "name": "stdout",
          "output_type": "stream",
          "text": [
            "----------------------------------------------------------------\n",
            "        Layer (type)               Output Shape         Param #\n",
            "================================================================\n",
            "            Conv2d-1           [-1, 20, 28, 28]             200\n",
            "            Conv2d-2           [-1, 50, 14, 14]           9,050\n",
            "            Linear-3                  [-1, 500]       2,450,500\n",
            "            Linear-4                   [-1, 10]           5,010\n",
            "================================================================\n",
            "Total params: 2,464,760\n",
            "Trainable params: 2,464,760\n",
            "Non-trainable params: 0\n",
            "----------------------------------------------------------------\n",
            "Input size (MB): 0.00\n",
            "Forward/backward pass size (MB): 0.20\n",
            "Params size (MB): 9.40\n",
            "Estimated Total Size (MB): 9.60\n",
            "----------------------------------------------------------------\n"
          ]
        }
      ],
      "source": [
        "torchsummary.summary(model, (1, 28, 28))"
      ]
    },
    {
      "cell_type": "code",
      "execution_count": null,
      "id": "Qtpy4etyYiuS",
      "metadata": {
        "id": "Qtpy4etyYiuS"
      },
      "outputs": [],
      "source": []
    },
    {
      "cell_type": "markdown",
      "id": "4ef8ce5f",
      "metadata": {
        "id": "4ef8ce5f"
      },
      "source": [
        "### 간단한 ResNet 구현"
      ]
    },
    {
      "cell_type": "code",
      "execution_count": 13,
      "id": "955e7e31",
      "metadata": {
        "id": "955e7e31"
      },
      "outputs": [],
      "source": [
        "class ResidualBlock(nn.Module):\n",
        "    def __init__(self, in_channel, out_channel):\n",
        "        super(ResidualBlock, self).__init__()\n",
        "\n",
        "        self.in_channel, self.out_channel = in_channel, out_channel\n",
        "\n",
        "        self.conv1 = nn.Conv2d(in_channel, out_channel, kernel_size=1, padding=0)\n",
        "        self.conv2 = nn.Conv2d(out_channel, out_channel, kernel_size=3, padding=1)\n",
        "        self.conv3 = nn.Conv2d(out_channel, out_channel, kernel_size=1, padding=0)\n",
        "\n",
        "        if in_channel != out_channel:\n",
        "            self.shortcut = nn.Sequential(\n",
        "                nn.Conv2d(in_channel, out_channel, kernel_size=1, padding=0)\n",
        "            )\n",
        "        else:\n",
        "            self.shortcut = nn.Sequential()\n",
        "\n",
        "    def forward(self, x):\n",
        "        out = F.relu(self.conv1(x))\n",
        "        out = F.relu(self.conv2(out))\n",
        "        out = F.relu(self.conv3(out))\n",
        "        out = out + self.shortcut(x)\n",
        "        return out"
      ]
    },
    {
      "cell_type": "code",
      "execution_count": 14,
      "id": "3ab039be",
      "metadata": {
        "id": "3ab039be"
      },
      "outputs": [],
      "source": [
        "class ResNet(nn.Module):\n",
        "    def __init__(self, color='gray'):\n",
        "        super(ResNet, self).__init__()\n",
        "\n",
        "        if color == \"gray\":\n",
        "            self.conv1 = nn.Conv2d(1, 32, kernel_size=3, stride=1, padding=1)\n",
        "        elif color == \"rgb\":\n",
        "            self.conv1 = nn.Conv2d(3, 32, kernel_size=3, stride=1, padding=1)\n",
        "\n",
        "        self.resblock1 = ResidualBlock(32, 64)\n",
        "        self.resblock2 = ResidualBlock(64, 64)\n",
        "\n",
        "        self.avgpool = nn.AdaptiveAvgPool2d((1,1))\n",
        "        self.fc1 = nn.Linear(64, 64)\n",
        "        self.fc2 = nn.Linear(64, 10)\n",
        "\n",
        "    def forward(self, x):\n",
        "        x = F.relu(self.conv1(x))\n",
        "        x = F.max_pool2d(x, 2, 2)\n",
        "        x = self.resblock1(x)\n",
        "        x = self.resblock2(x)\n",
        "        x = self.avgpool(x)\n",
        "        x = torch.flatten(x,1)\n",
        "        x = F.relu(self.fc1(x))\n",
        "        x = self.fc2(x)\n",
        "        x = F.log_softmax(x, dim=1)\n",
        "        return x"
      ]
    },
    {
      "cell_type": "code",
      "execution_count": 15,
      "id": "5f6251a4",
      "metadata": {
        "id": "5f6251a4"
      },
      "outputs": [],
      "source": [
        "model = ResNet()"
      ]
    },
    {
      "cell_type": "code",
      "execution_count": 16,
      "id": "0ea754d8",
      "metadata": {
        "colab": {
          "base_uri": "https://localhost:8080/"
        },
        "id": "0ea754d8",
        "outputId": "ca20864a-e19b-48b0-b057-ff6695d80ddd"
      },
      "outputs": [
        {
          "name": "stdout",
          "output_type": "stream",
          "text": [
            "ResNet(\n",
            "  (conv1): Conv2d(1, 32, kernel_size=(3, 3), stride=(1, 1), padding=(1, 1))\n",
            "  (resblock1): ResidualBlock(\n",
            "    (conv1): Conv2d(32, 64, kernel_size=(1, 1), stride=(1, 1))\n",
            "    (conv2): Conv2d(64, 64, kernel_size=(3, 3), stride=(1, 1), padding=(1, 1))\n",
            "    (conv3): Conv2d(64, 64, kernel_size=(1, 1), stride=(1, 1))\n",
            "    (shortcut): Sequential(\n",
            "      (0): Conv2d(32, 64, kernel_size=(1, 1), stride=(1, 1))\n",
            "    )\n",
            "  )\n",
            "  (resblock2): ResidualBlock(\n",
            "    (conv1): Conv2d(64, 64, kernel_size=(1, 1), stride=(1, 1))\n",
            "    (conv2): Conv2d(64, 64, kernel_size=(3, 3), stride=(1, 1), padding=(1, 1))\n",
            "    (conv3): Conv2d(64, 64, kernel_size=(1, 1), stride=(1, 1))\n",
            "    (shortcut): Sequential()\n",
            "  )\n",
            "  (avgpool): AdaptiveAvgPool2d(output_size=(1, 1))\n",
            "  (fc1): Linear(in_features=64, out_features=64, bias=True)\n",
            "  (fc2): Linear(in_features=64, out_features=10, bias=True)\n",
            ")\n"
          ]
        }
      ],
      "source": [
        "print(model)"
      ]
    },
    {
      "cell_type": "code",
      "execution_count": 17,
      "id": "922a9e19",
      "metadata": {
        "colab": {
          "base_uri": "https://localhost:8080/"
        },
        "id": "922a9e19",
        "outputId": "060da77d-9065-44a4-f8a6-aacaac6dfd1d"
      },
      "outputs": [
        {
          "name": "stdout",
          "output_type": "stream",
          "text": [
            "----------------------------------------------------------------\n",
            "        Layer (type)               Output Shape         Param #\n",
            "================================================================\n",
            "            Conv2d-1           [-1, 32, 28, 28]             320\n",
            "            Conv2d-2           [-1, 64, 14, 14]           2,112\n",
            "            Conv2d-3           [-1, 64, 14, 14]          36,928\n",
            "            Conv2d-4           [-1, 64, 14, 14]           4,160\n",
            "            Conv2d-5           [-1, 64, 14, 14]           2,112\n",
            "     ResidualBlock-6           [-1, 64, 14, 14]               0\n",
            "            Conv2d-7           [-1, 64, 14, 14]           4,160\n",
            "            Conv2d-8           [-1, 64, 14, 14]          36,928\n",
            "            Conv2d-9           [-1, 64, 14, 14]           4,160\n",
            "    ResidualBlock-10           [-1, 64, 14, 14]               0\n",
            "AdaptiveAvgPool2d-11             [-1, 64, 1, 1]               0\n",
            "           Linear-12                   [-1, 64]           4,160\n",
            "           Linear-13                   [-1, 10]             650\n",
            "================================================================\n",
            "Total params: 95,690\n",
            "Trainable params: 95,690\n",
            "Non-trainable params: 0\n",
            "----------------------------------------------------------------\n",
            "Input size (MB): 0.00\n",
            "Forward/backward pass size (MB): 1.05\n",
            "Params size (MB): 0.37\n",
            "Estimated Total Size (MB): 1.42\n",
            "----------------------------------------------------------------\n"
          ]
        }
      ],
      "source": [
        "torchsummary.summary(model, (1, 28, 28))"
      ]
    },
    {
      "cell_type": "code",
      "execution_count": null,
      "id": "7d851af6",
      "metadata": {
        "id": "7d851af6"
      },
      "outputs": [],
      "source": []
    },
    {
      "cell_type": "code",
      "execution_count": null,
      "id": "a44d2445",
      "metadata": {
        "id": "a44d2445"
      },
      "outputs": [],
      "source": []
    }
  ],
  "metadata": {
    "colab": {
      "include_colab_link": true,
      "provenance": [],
      "toc_visible": true
    },
    "kernelspec": {
      "display_name": "Python 3 (ipykernel)",
      "language": "python",
      "name": "python3"
    },
    "language_info": {
      "codemirror_mode": {
        "name": "ipython",
        "version": 3
      },
      "file_extension": ".py",
      "mimetype": "text/x-python",
      "name": "python",
      "nbconvert_exporter": "python",
      "pygments_lexer": "ipython3",
      "version": "3.9.9"
    },
    "varInspector": {
      "cols": {
        "lenName": 16,
        "lenType": 16,
        "lenVar": 40
      },
      "kernels_config": {
        "python": {
          "delete_cmd_postfix": "",
          "delete_cmd_prefix": "del ",
          "library": "var_list.py",
          "varRefreshCmd": "print(var_dic_list())"
        },
        "r": {
          "delete_cmd_postfix": ") ",
          "delete_cmd_prefix": "rm(",
          "library": "var_list.r",
          "varRefreshCmd": "cat(var_dic_list()) "
        }
      },
      "types_to_exclude": [
        "module",
        "function",
        "builtin_function_or_method",
        "instance",
        "_Feature"
      ],
      "window_display": false
    }
  },
  "nbformat": 4,
  "nbformat_minor": 5
}
