{
  "cells": [
    {
      "cell_type": "markdown",
      "metadata": {
        "id": "view-in-github",
        "colab_type": "text"
      },
      "source": [
        "<a href=\"https://colab.research.google.com/github/ElaYJ/Study_Deep_Learning/blob/main/Framework/PyTorch/18_%ED%85%90%EC%84%9C_%EB%8B%A4%EB%A3%A8%EA%B8%B0.ipynb\" target=\"_parent\"><img src=\"https://colab.research.google.com/assets/colab-badge.svg\" alt=\"Open In Colab\"/></a>"
      ]
    },
    {
      "cell_type": "markdown",
      "id": "0fc8da1c",
      "metadata": {
        "id": "0fc8da1c"
      },
      "source": [
        "# Tensor 다루기"
      ]
    },
    {
      "cell_type": "code",
      "execution_count": 1,
      "id": "6cf180ba",
      "metadata": {
        "id": "6cf180ba",
        "colab": {
          "base_uri": "https://localhost:8080/"
        },
        "outputId": "8bc48cf8-3d83-4aed-a632-0e0d56921361"
      },
      "outputs": [
        {
          "output_type": "stream",
          "name": "stdout",
          "text": [
            "PyTorch version 2.2.1+cu121\n"
          ]
        }
      ],
      "source": [
        "import torch\n",
        "\n",
        "print(\"PyTorch version\", torch.__version__)"
      ]
    },
    {
      "cell_type": "markdown",
      "id": "77f2e359",
      "metadata": {
        "id": "77f2e359"
      },
      "source": [
        "PyTorch에서는 Tensor type이 Variable과 Constant를 포함합니다.\n",
        "\n",
        "기존에는 Variable 타입이 있었지만, 이는 자동미분을 위한 것이었는데, 이 기능을 Tensor 타입에 포함 시켰습니다."
      ]
    },
    {
      "cell_type": "markdown",
      "id": "4e0cb605",
      "metadata": {
        "id": "4e0cb605"
      },
      "source": [
        "#### 기존의 데이터를 Torch의 Tensor로"
      ]
    },
    {
      "cell_type": "code",
      "execution_count": 2,
      "id": "9ee6e8f1",
      "metadata": {
        "id": "9ee6e8f1",
        "outputId": "34651c5d-7ca9-43cc-d738-635687fcd1ae",
        "colab": {
          "base_uri": "https://localhost:8080/"
        }
      },
      "outputs": [
        {
          "output_type": "stream",
          "name": "stdout",
          "text": [
            "tensor([[1, 2],\n",
            "        [3, 4]])\n",
            "torch.Size([2, 2])\n",
            "torch.int64\n",
            "----------\n",
            "tensor([[1, 2],\n",
            "        [3, 4]])\n",
            "torch.Size([2, 2])\n",
            "torch.int64\n"
          ]
        }
      ],
      "source": [
        "li = [[1, 2], [3, 4]]\n",
        "\n",
        "li_tensor = torch.tensor(li)\n",
        "li_as_tensor = torch.as_tensor(li)\n",
        "\n",
        "print(li_tensor)\n",
        "print(li_tensor.shape)\n",
        "print(li_tensor.dtype)\n",
        "print(\"-\" * 10)\n",
        "print(li_as_tensor)\n",
        "print(li_as_tensor.shape)\n",
        "print(li_as_tensor.dtype)"
      ]
    },
    {
      "cell_type": "code",
      "execution_count": 3,
      "id": "03defe28",
      "metadata": {
        "id": "03defe28",
        "outputId": "2757b02c-82df-4d00-dd23-db55b6891bcb",
        "colab": {
          "base_uri": "https://localhost:8080/"
        }
      },
      "outputs": [
        {
          "output_type": "stream",
          "name": "stdout",
          "text": [
            "tensor([[1, 2],\n",
            "        [3, 4]])\n",
            "torch.Size([2, 2])\n",
            "torch.int64\n",
            "----------\n",
            "tensor([[1, 2],\n",
            "        [3, 4]])\n",
            "torch.Size([2, 2])\n",
            "torch.int64\n",
            "----------\n",
            "tensor([[1, 2],\n",
            "        [3, 4]])\n",
            "torch.Size([2, 2])\n",
            "torch.int64\n"
          ]
        }
      ],
      "source": [
        "import numpy as np\n",
        "\n",
        "arr = np.array([[1, 2], [3, 4]])\n",
        "\n",
        "arr_tensor = torch.tensor(arr)\n",
        "arr_as_tensor = torch.as_tensor(arr)\n",
        "arr_from_numpy = torch.from_numpy(arr)\n",
        "\n",
        "print(arr_tensor)\n",
        "print(arr_tensor.shape)\n",
        "print(arr_tensor.dtype)\n",
        "print(\"-\" * 10)\n",
        "print(arr_as_tensor)\n",
        "print(arr_as_tensor.shape)\n",
        "print(arr_as_tensor.dtype)\n",
        "print(\"-\" * 10)\n",
        "print(arr_from_numpy)\n",
        "print(arr_from_numpy.shape)\n",
        "print(arr_from_numpy.dtype)"
      ]
    },
    {
      "cell_type": "markdown",
      "id": "5b7dae14",
      "metadata": {
        "id": "5b7dae14"
      },
      "source": [
        "#### torch의 Tensor의 속성값 확인"
      ]
    },
    {
      "cell_type": "code",
      "execution_count": 4,
      "id": "3cff3f5e",
      "metadata": {
        "id": "3cff3f5e",
        "outputId": "b8310921-83f5-4980-d03f-c6bb14069e7d",
        "colab": {
          "base_uri": "https://localhost:8080/"
        }
      },
      "outputs": [
        {
          "output_type": "execute_result",
          "data": {
            "text/plain": [
              "torch.Size([2, 2])"
            ]
          },
          "metadata": {},
          "execution_count": 4
        }
      ],
      "source": [
        "li_tensor.shape"
      ]
    },
    {
      "cell_type": "code",
      "execution_count": 5,
      "id": "fc841fda",
      "metadata": {
        "id": "fc841fda",
        "outputId": "e2c2da4a-a542-4327-eda6-8d819cb5e789",
        "colab": {
          "base_uri": "https://localhost:8080/"
        }
      },
      "outputs": [
        {
          "output_type": "execute_result",
          "data": {
            "text/plain": [
              "torch.Size([2, 2])"
            ]
          },
          "metadata": {},
          "execution_count": 5
        }
      ],
      "source": [
        "li_tensor.size()"
      ]
    },
    {
      "cell_type": "markdown",
      "id": "8f440e55",
      "metadata": {
        "id": "8f440e55"
      },
      "source": [
        "#### torch를 numpy 배열로"
      ]
    },
    {
      "cell_type": "code",
      "execution_count": 6,
      "id": "4f77a161",
      "metadata": {
        "id": "4f77a161",
        "outputId": "f15add9a-4a94-44c6-81f7-ac24444d2a43",
        "colab": {
          "base_uri": "https://localhost:8080/"
        }
      },
      "outputs": [
        {
          "output_type": "stream",
          "name": "stdout",
          "text": [
            "[[1 2]\n",
            " [3 4]]\n",
            "[[1 2]\n",
            " [3 4]]\n",
            "[[1 2]\n",
            " [3 4]]\n"
          ]
        }
      ],
      "source": [
        "print(li_tensor.numpy())\n",
        "print(arr_as_tensor.numpy())\n",
        "print(arr_from_numpy.numpy())"
      ]
    },
    {
      "cell_type": "code",
      "execution_count": null,
      "id": "6d96da5e",
      "metadata": {
        "id": "6d96da5e"
      },
      "outputs": [],
      "source": []
    },
    {
      "cell_type": "markdown",
      "id": "ff262ca5",
      "metadata": {
        "id": "ff262ca5"
      },
      "source": [
        "#### 특정한 값의 Tensor 생성하기"
      ]
    },
    {
      "cell_type": "code",
      "execution_count": 7,
      "id": "998f54b6",
      "metadata": {
        "id": "998f54b6",
        "outputId": "e5056086-7916-467f-ede5-671baf2201e5",
        "colab": {
          "base_uri": "https://localhost:8080/"
        }
      },
      "outputs": [
        {
          "output_type": "execute_result",
          "data": {
            "text/plain": [
              "tensor([0, 1, 2, 3, 4, 5, 6, 7, 8, 9])"
            ]
          },
          "metadata": {},
          "execution_count": 7
        }
      ],
      "source": [
        "torch.arange(10)"
      ]
    },
    {
      "cell_type": "code",
      "execution_count": 8,
      "id": "7ae4129d",
      "metadata": {
        "id": "7ae4129d",
        "outputId": "f795f15a-4369-4ae5-8b27-8e6d9a9ba722",
        "colab": {
          "base_uri": "https://localhost:8080/"
        }
      },
      "outputs": [
        {
          "output_type": "execute_result",
          "data": {
            "text/plain": [
              "(tensor([1., 1., 1., 1., 1.]), tensor([0., 0., 0., 0., 0.]))"
            ]
          },
          "metadata": {},
          "execution_count": 8
        }
      ],
      "source": [
        "torch.ones(5), torch.zeros(5)"
      ]
    },
    {
      "cell_type": "code",
      "execution_count": 9,
      "id": "95c7359d",
      "metadata": {
        "id": "95c7359d",
        "outputId": "2c093394-9990-4ce6-ecaf-4d04c02e25fe",
        "colab": {
          "base_uri": "https://localhost:8080/"
        }
      },
      "outputs": [
        {
          "output_type": "execute_result",
          "data": {
            "text/plain": [
              "(tensor([[1, 1],\n",
              "         [1, 1]]),\n",
              " tensor([[0, 0],\n",
              "         [0, 0]]))"
            ]
          },
          "metadata": {},
          "execution_count": 9
        }
      ],
      "source": [
        "torch.ones_like(li_tensor), torch.zeros_like(li_tensor)\n",
        "# torch.zeros_like(arr) --> Error~!! Tensor를 입력해야함."
      ]
    },
    {
      "cell_type": "code",
      "execution_count": 10,
      "id": "fce72126",
      "metadata": {
        "id": "fce72126",
        "outputId": "6ec5edd6-ad34-4113-d9ca-06e806e21d54",
        "colab": {
          "base_uri": "https://localhost:8080/"
        }
      },
      "outputs": [
        {
          "output_type": "execute_result",
          "data": {
            "text/plain": [
              "tensor([ 0.0000,  2.5000,  5.0000,  7.5000, 10.0000])"
            ]
          },
          "metadata": {},
          "execution_count": 10
        }
      ],
      "source": [
        "torch.linspace(0, 10,  5)"
      ]
    },
    {
      "cell_type": "code",
      "execution_count": 11,
      "id": "307f3b9c",
      "metadata": {
        "id": "307f3b9c",
        "outputId": "59bf84d4-ac14-4873-8453-b67cb8951a0b",
        "colab": {
          "base_uri": "https://localhost:8080/"
        }
      },
      "outputs": [
        {
          "output_type": "execute_result",
          "data": {
            "text/plain": [
              "tensor([1.0000e+00, 3.1623e+02, 1.0000e+05, 3.1623e+07, 1.0000e+10])"
            ]
          },
          "metadata": {},
          "execution_count": 11
        }
      ],
      "source": [
        "torch.logspace(0, 10,  5)"
      ]
    },
    {
      "cell_type": "code",
      "execution_count": null,
      "id": "43f60499",
      "metadata": {
        "id": "43f60499"
      },
      "outputs": [],
      "source": []
    },
    {
      "cell_type": "markdown",
      "id": "e63bd9db",
      "metadata": {
        "id": "e63bd9db"
      },
      "source": [
        "#### 난수 생성하기"
      ]
    },
    {
      "cell_type": "code",
      "execution_count": 12,
      "id": "450f02ac",
      "metadata": {
        "id": "450f02ac",
        "outputId": "3de09d13-d018-455c-88a0-3252fca2fd41",
        "colab": {
          "base_uri": "https://localhost:8080/"
        }
      },
      "outputs": [
        {
          "output_type": "execute_result",
          "data": {
            "text/plain": [
              "<torch._C.Generator at 0x79d8c852d810>"
            ]
          },
          "metadata": {},
          "execution_count": 12
        }
      ],
      "source": [
        "# seed 조절 하기!!\n",
        "torch.manual_seed(0)"
      ]
    },
    {
      "cell_type": "code",
      "execution_count": 13,
      "id": "941fb602",
      "metadata": {
        "id": "941fb602",
        "outputId": "68560b27-e1b6-4f54-9bfd-a7a1cdc7cd81",
        "colab": {
          "base_uri": "https://localhost:8080/"
        }
      },
      "outputs": [
        {
          "output_type": "stream",
          "name": "stdout",
          "text": [
            "tensor([0.4963, 0.7682, 0.0885, 0.1320, 0.3074])\n",
            "tensor([ 0.5507,  0.2704,  0.6472,  0.2490, -0.3354])\n",
            "tensor([8, 4, 3, 6, 9])\n"
          ]
        }
      ],
      "source": [
        "a = torch.rand(5) #--> 균등 분포\n",
        "b = torch.randn(5) #--> 가우시안 노말(Normal) 분포\n",
        "c = torch.randint(10, size=(5,)) #--> 정수로 균등 분포, size= 는 항상 tuple로~\n",
        "print(a, b, c, sep=\"\\n\")"
      ]
    },
    {
      "cell_type": "code",
      "execution_count": null,
      "id": "35316d8a",
      "metadata": {
        "id": "35316d8a"
      },
      "outputs": [],
      "source": []
    },
    {
      "cell_type": "markdown",
      "id": "a06e8079",
      "metadata": {
        "id": "a06e8079"
      },
      "source": [
        "### 데이터 타입\n",
        "\n",
        "- 데이터 타입이 다르면 연산이 불가능하다."
      ]
    },
    {
      "cell_type": "code",
      "execution_count": null,
      "id": "606160e8",
      "metadata": {
        "id": "606160e8",
        "outputId": "a1c15351-7d97-4922-edc1-87e95508f557"
      },
      "outputs": [
        {
          "data": {
            "text/plain": [
              "tensor([5., 7., 2., 5., 6.])"
            ]
          },
          "execution_count": 50,
          "metadata": {},
          "output_type": "execute_result"
        }
      ],
      "source": [
        "torch.randint(10, size=(5,), dtype=torch.float32)"
      ]
    },
    {
      "cell_type": "markdown",
      "id": "f1bcbd18",
      "metadata": {
        "id": "f1bcbd18"
      },
      "source": [
        "`tensor_var.type()` -> inplace 명령이 아님"
      ]
    },
    {
      "cell_type": "code",
      "execution_count": 14,
      "id": "b0c4c76b",
      "metadata": {
        "id": "b0c4c76b",
        "outputId": "72bf52bd-ab4a-4502-837a-3b22a7d1b579",
        "colab": {
          "base_uri": "https://localhost:8080/"
        }
      },
      "outputs": [
        {
          "output_type": "stream",
          "name": "stdout",
          "text": [
            "torch.int64\n",
            "tensor([1., 4., 4., 1., 9.])\n",
            "torch.int64\n",
            "torch.float64\n"
          ]
        }
      ],
      "source": [
        "a = torch.randint(10, size=(5,))\n",
        "print(a.dtype)\n",
        "\n",
        "print(a.type(torch.float32))\n",
        "print(a.dtype)\n",
        "\n",
        "a = a.type(torch.float64)\n",
        "print(a.dtype)"
      ]
    },
    {
      "cell_type": "markdown",
      "id": "1b4d0e21",
      "metadata": {
        "id": "1b4d0e21"
      },
      "source": [
        "#### GPU 사용하기"
      ]
    },
    {
      "cell_type": "markdown",
      "id": "d9dc6652",
      "metadata": {
        "id": "d9dc6652"
      },
      "source": [
        "Torch에서는 GPU 사용을 위해서 데이터 타입을 변환해줘야함."
      ]
    },
    {
      "cell_type": "code",
      "execution_count": 15,
      "id": "bbc8c320",
      "metadata": {
        "id": "bbc8c320",
        "outputId": "6a929a0a-e702-4ec1-e5af-a90f121a3268",
        "colab": {
          "base_uri": "https://localhost:8080/"
        }
      },
      "outputs": [
        {
          "output_type": "execute_result",
          "data": {
            "text/plain": [
              "False"
            ]
          },
          "metadata": {},
          "execution_count": 15
        }
      ],
      "source": [
        "torch.cuda.is_available()"
      ]
    },
    {
      "cell_type": "markdown",
      "id": "f08da989",
      "metadata": {
        "id": "f08da989"
      },
      "source": [
        "GPU가 사용 가능한 환경에서는\n",
        "\n",
        "<img width=\"57%\" alt=\"torch_cuda\" src=\"https://github.com/ElaYJ/supplement/assets/153154981/cfe08bfb-0fec-40f6-a119-b3a86ccda6d5\">"
      ]
    },
    {
      "cell_type": "markdown",
      "id": "4a915176",
      "metadata": {
        "id": "4a915176"
      },
      "source": [
        "GPU 를 사용하기 위해 Cuda에서 사용하는 데이터타입으로 바꾸어줘야 한다.\n",
        "\n",
        "방법 세가지!\n",
        "\n",
        " - 만들 때, device 설정해두기\n",
        " - tensor_var.cuda()\n",
        " - tensor_var.to(device)\n"
      ]
    },
    {
      "cell_type": "code",
      "execution_count": null,
      "id": "d8f86356",
      "metadata": {
        "id": "d8f86356"
      },
      "outputs": [],
      "source": [
        "# device 설정하기.\n",
        "x = torch.ones(2, 2, device='cuda')\n",
        "\n",
        "# 여러개 중에 하나의 GPU에 할당하고 싶을 때\n",
        "# 번호는 nvidia-smi 명령을 Shell에 입력해서 찾을 수 있음\n",
        "x = torch.ones(2, 2, device='cuda:0')\n",
        "\n",
        "# device 객체를 입력하는게 기본\n",
        "x = torch.ones(2, 2, device=torch.device('cuda'))"
      ]
    },
    {
      "cell_type": "code",
      "execution_count": null,
      "id": "dc7b5352",
      "metadata": {
        "id": "dc7b5352",
        "outputId": "7d130bb7-64af-4dd4-d637-62ef18e31ed9"
      },
      "outputs": [
        {
          "name": "stdout",
          "output_type": "stream",
          "text": [
            "torch.float32\n"
          ]
        }
      ],
      "source": [
        "# .cuda()\n",
        "a = torch.rand(10)\n",
        "print(a)\n",
        "\n",
        "a = a.cuda()\n",
        "print(a)"
      ]
    },
    {
      "cell_type": "code",
      "execution_count": null,
      "id": "6f8b70fe",
      "metadata": {
        "id": "6f8b70fe"
      },
      "outputs": [],
      "source": [
        "# .to(device)\n",
        "a = torch.rand(2)\n",
        "print(a)\n",
        "\n",
        "a = a.to(\"cuda\")\n",
        "print(a)"
      ]
    },
    {
      "cell_type": "code",
      "execution_count": null,
      "id": "ec633f55",
      "metadata": {
        "id": "ec633f55"
      },
      "outputs": [],
      "source": [
        "a = torch.rand(2)\n",
        "print(a)\n",
        "\n",
        "a = a.to(torch.device(\"cuda\"))\n",
        "print(a)"
      ]
    },
    {
      "cell_type": "markdown",
      "id": "a8d95ec9",
      "metadata": {
        "id": "a8d95ec9"
      },
      "source": [
        "대부분 그냥 이렇게 사용합니다!"
      ]
    },
    {
      "cell_type": "code",
      "execution_count": 16,
      "id": "244c98af",
      "metadata": {
        "id": "244c98af",
        "outputId": "35ff04ef-e9ff-4ab6-d2ad-0d7ad4f1a585",
        "colab": {
          "base_uri": "https://localhost:8080/"
        }
      },
      "outputs": [
        {
          "output_type": "stream",
          "name": "stdout",
          "text": [
            "cpu\n",
            "tensor([0.0362, 0.1852])\n",
            "tensor([0.0362, 0.1852])\n"
          ]
        }
      ],
      "source": [
        "device = torch.device(\"cuda\" if torch.cuda.is_available() else \"cpu\")\n",
        "print(device)\n",
        "\n",
        "a = torch.rand(2)\n",
        "print(a)\n",
        "\n",
        "a = a.to(device)\n",
        "print(a)"
      ]
    },
    {
      "cell_type": "code",
      "execution_count": null,
      "id": "90b6bec6",
      "metadata": {
        "id": "90b6bec6"
      },
      "outputs": [],
      "source": []
    }
  ],
  "metadata": {
    "kernelspec": {
      "display_name": "Python 3 (ipykernel)",
      "language": "python",
      "name": "python3"
    },
    "language_info": {
      "codemirror_mode": {
        "name": "ipython",
        "version": 3
      },
      "file_extension": ".py",
      "mimetype": "text/x-python",
      "name": "python",
      "nbconvert_exporter": "python",
      "pygments_lexer": "ipython3",
      "version": "3.9.9"
    },
    "varInspector": {
      "cols": {
        "lenName": 16,
        "lenType": 16,
        "lenVar": 40
      },
      "kernels_config": {
        "python": {
          "delete_cmd_postfix": "",
          "delete_cmd_prefix": "del ",
          "library": "var_list.py",
          "varRefreshCmd": "print(var_dic_list())"
        },
        "r": {
          "delete_cmd_postfix": ") ",
          "delete_cmd_prefix": "rm(",
          "library": "var_list.r",
          "varRefreshCmd": "cat(var_dic_list()) "
        }
      },
      "types_to_exclude": [
        "module",
        "function",
        "builtin_function_or_method",
        "instance",
        "_Feature"
      ],
      "window_display": false
    },
    "colab": {
      "provenance": [],
      "toc_visible": true,
      "include_colab_link": true
    }
  },
  "nbformat": 4,
  "nbformat_minor": 5
}
