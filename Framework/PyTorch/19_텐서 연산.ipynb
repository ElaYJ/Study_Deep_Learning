{
  "cells": [
    {
      "cell_type": "markdown",
      "metadata": {
        "id": "view-in-github",
        "colab_type": "text"
      },
      "source": [
        "<a href=\"https://colab.research.google.com/github/ElaYJ/Study_Deep_Learning/blob/main/Framework/PyTorch/19_%ED%85%90%EC%84%9C%20%EC%97%B0%EC%82%B0.ipynb\" target=\"_parent\"><img src=\"https://colab.research.google.com/assets/colab-badge.svg\" alt=\"Open In Colab\"/></a>"
      ]
    },
    {
      "cell_type": "markdown",
      "id": "09c27e83",
      "metadata": {
        "id": "09c27e83"
      },
      "source": [
        "# 텐서 연산"
      ]
    },
    {
      "cell_type": "code",
      "execution_count": 1,
      "id": "11de987b",
      "metadata": {
        "id": "11de987b"
      },
      "outputs": [],
      "source": [
        "import torch"
      ]
    },
    {
      "cell_type": "markdown",
      "id": "85e98ca2",
      "metadata": {
        "id": "85e98ca2"
      },
      "source": [
        "### 기본 연산"
      ]
    },
    {
      "cell_type": "code",
      "execution_count": 2,
      "id": "15aada19",
      "metadata": {
        "id": "15aada19"
      },
      "outputs": [],
      "source": [
        "x = torch.arange(0, 5)\n",
        "y = torch.arange(1, 6)"
      ]
    },
    {
      "cell_type": "code",
      "source": [
        "print(x, y, end='\\n')"
      ],
      "metadata": {
        "colab": {
          "base_uri": "https://localhost:8080/"
        },
        "id": "aeXwDMnzroAE",
        "outputId": "8bb5c259-db86-4911-cd0b-d348b4cfb90a"
      },
      "id": "aeXwDMnzroAE",
      "execution_count": 3,
      "outputs": [
        {
          "output_type": "stream",
          "name": "stdout",
          "text": [
            "tensor([0, 1, 2, 3, 4]) tensor([1, 2, 3, 4, 5])\n"
          ]
        }
      ]
    },
    {
      "cell_type": "code",
      "execution_count": 4,
      "id": "638057e7",
      "metadata": {
        "colab": {
          "base_uri": "https://localhost:8080/"
        },
        "id": "638057e7",
        "outputId": "844dfa66-bd0b-4b8d-c287-24d81e573a8e"
      },
      "outputs": [
        {
          "output_type": "stream",
          "name": "stdout",
          "text": [
            "tensor([1, 3, 5, 7, 9])\n",
            "tensor([1, 3, 5, 7, 9])\n",
            "tensor([1, 3, 5, 7, 9])\n"
          ]
        }
      ],
      "source": [
        "print(x + y)\n",
        "print(torch.add(x, y))\n",
        "print(x.add(y))"
      ]
    },
    {
      "cell_type": "code",
      "execution_count": 5,
      "id": "d4748c66",
      "metadata": {
        "colab": {
          "base_uri": "https://localhost:8080/"
        },
        "id": "d4748c66",
        "outputId": "7be004e4-8136-43c9-f78c-4279c768fcf3"
      },
      "outputs": [
        {
          "output_type": "stream",
          "name": "stdout",
          "text": [
            "tensor([-1, -1, -1, -1, -1])\n",
            "tensor([-1, -1, -1, -1, -1])\n",
            "tensor([-1, -1, -1, -1, -1])\n"
          ]
        }
      ],
      "source": [
        "print(x - y)\n",
        "print(torch.sub(x, y))\n",
        "print(x.sub(y))"
      ]
    },
    {
      "cell_type": "code",
      "execution_count": 6,
      "id": "964accd1",
      "metadata": {
        "colab": {
          "base_uri": "https://localhost:8080/"
        },
        "id": "964accd1",
        "outputId": "8141578f-662b-40cc-b004-80e2ad6efba9"
      },
      "outputs": [
        {
          "output_type": "stream",
          "name": "stdout",
          "text": [
            "tensor([ 0,  2,  6, 12, 20])\n",
            "tensor([ 0,  2,  6, 12, 20])\n",
            "tensor([ 0,  2,  6, 12, 20])\n"
          ]
        }
      ],
      "source": [
        "print(x * y)\n",
        "print(torch.mul(x, y))\n",
        "print(x.mul(y))"
      ]
    },
    {
      "cell_type": "code",
      "execution_count": 7,
      "id": "c991d129",
      "metadata": {
        "colab": {
          "base_uri": "https://localhost:8080/"
        },
        "id": "c991d129",
        "outputId": "272d51be-d69d-4865-a1f9-9d05de93810b"
      },
      "outputs": [
        {
          "output_type": "stream",
          "name": "stdout",
          "text": [
            "tensor([0.0000, 0.5000, 0.6667, 0.7500, 0.8000])\n",
            "tensor([0.0000, 0.5000, 0.6667, 0.7500, 0.8000])\n",
            "tensor([0.0000, 0.5000, 0.6667, 0.7500, 0.8000])\n"
          ]
        }
      ],
      "source": [
        "print(x / y)\n",
        "print(torch.div(x, y))\n",
        "print(x.div(y))"
      ]
    },
    {
      "cell_type": "code",
      "execution_count": 8,
      "id": "bf5bfb8e",
      "metadata": {
        "colab": {
          "base_uri": "https://localhost:8080/"
        },
        "id": "bf5bfb8e",
        "outputId": "3ec44961-775e-4f21-f8a8-ded09f73c8e5"
      },
      "outputs": [
        {
          "output_type": "stream",
          "name": "stdout",
          "text": [
            "tensor([   0,    1,    8,   81, 1024])\n",
            "tensor([   0,    1,    8,   81, 1024])\n",
            "tensor([   0,    1,    8,   81, 1024])\n"
          ]
        }
      ],
      "source": [
        "print(x**y)\n",
        "print(torch.pow(x, y))\n",
        "print(x.pow(y))"
      ]
    },
    {
      "cell_type": "code",
      "execution_count": 9,
      "id": "182db0f3",
      "metadata": {
        "colab": {
          "base_uri": "https://localhost:8080/"
        },
        "id": "182db0f3",
        "outputId": "55400130-a3b0-458d-e53f-bbcab7894f51"
      },
      "outputs": [
        {
          "output_type": "stream",
          "name": "stdout",
          "text": [
            "tensor([ 0, -1, -2, -3, -4])\n",
            "tensor([ 0, -1, -2, -3, -4])\n",
            "tensor([ 0, -1, -2, -3, -4])\n"
          ]
        }
      ],
      "source": [
        "print(-x)\n",
        "print(torch.negative(x))\n",
        "print(x.negative())"
      ]
    },
    {
      "cell_type": "markdown",
      "id": "c2a5858e",
      "metadata": {
        "id": "c2a5858e"
      },
      "source": [
        "* `torch.abs`: 절대값\n",
        "* `torch.sign`: 부호\n",
        "* `torch.round`: 반올림\n",
        "* `torch.ceil`: 올림\n",
        "* `torch.floor`: 내림\n",
        "* `torch.square`: 제곱\n",
        "* `torch.sqrt`: 제곱근\n",
        "* `torch.maximum`: 두 텐서의 각 원소에서 최댓값만 반환.\n",
        "* `torch.minimum`: 두 텐서의 각 원소에서 최솟값만 반환.\n",
        "* `torch.cumsum`: 누적합\n",
        "* `torch.cumprod`: 누적곱\n"
      ]
    },
    {
      "cell_type": "code",
      "execution_count": 10,
      "id": "1f6f7c51",
      "metadata": {
        "colab": {
          "base_uri": "https://localhost:8080/"
        },
        "id": "1f6f7c51",
        "outputId": "9078b954-a3d8-4eb7-aa56-bac8dfac21f3"
      },
      "outputs": [
        {
          "output_type": "stream",
          "name": "stdout",
          "text": [
            "<built-in method abs of type object at 0x797a27a85840>\n",
            "<built-in method sign of type object at 0x797a27a85840>\n",
            "<built-in method round of type object at 0x797a27a85840>\n",
            "<built-in method ceil of type object at 0x797a27a85840>\n",
            "<built-in method floor of type object at 0x797a27a85840>\n",
            "<built-in method square of type object at 0x797a27a85840>\n",
            "<built-in method sqrt of type object at 0x797a27a85840>\n",
            "<built-in method maximum of type object at 0x797a27a85840>\n",
            "<built-in method minimum of type object at 0x797a27a85840>\n",
            "<built-in method cumsum of type object at 0x797a27a85840>\n",
            "<built-in method cumprod of type object at 0x797a27a85840>\n"
          ]
        }
      ],
      "source": [
        "print(torch.abs)\n",
        "print(torch.sign)\n",
        "print(torch.round)\n",
        "print(torch.ceil)\n",
        "print(torch.floor)\n",
        "print(torch.square)\n",
        "print(torch.sqrt)\n",
        "print(torch.maximum)\n",
        "print(torch.minimum)\n",
        "print(torch.cumsum)\n",
        "print(torch.cumprod)"
      ]
    },
    {
      "cell_type": "markdown",
      "id": "9f33ed74",
      "metadata": {
        "id": "9f33ed74"
      },
      "source": [
        "#### 차원 축소 연산\n",
        "PyTorch는 기본이 reduce 연산"
      ]
    },
    {
      "cell_type": "code",
      "execution_count": 11,
      "id": "1c80b7be",
      "metadata": {
        "colab": {
          "base_uri": "https://localhost:8080/"
        },
        "id": "1c80b7be",
        "outputId": "9a1a5155-c3e2-494e-a3d2-3e5bd79abf27"
      },
      "outputs": [
        {
          "output_type": "stream",
          "name": "stdout",
          "text": [
            "torch.Size([5, 2, 4])\n",
            "tensor([[[1, 9, 7, 4],\n",
            "         [1, 8, 6, 6]],\n",
            "\n",
            "        [[2, 9, 8, 8],\n",
            "         [6, 3, 6, 7]],\n",
            "\n",
            "        [[2, 5, 8, 3],\n",
            "         [8, 1, 9, 1]],\n",
            "\n",
            "        [[5, 1, 8, 4],\n",
            "         [7, 6, 7, 2]],\n",
            "\n",
            "        [[4, 9, 0, 4],\n",
            "         [7, 6, 3, 8]]])\n"
          ]
        }
      ],
      "source": [
        "x = torch.randint(10, size=(5, 2, 4))\n",
        "print(x.shape)\n",
        "print(x)"
      ]
    },
    {
      "cell_type": "code",
      "execution_count": 12,
      "id": "69bda219",
      "metadata": {
        "colab": {
          "base_uri": "https://localhost:8080/"
        },
        "id": "69bda219",
        "outputId": "8f97b553-6dbf-4d4c-ce70-d05f2ed374c4"
      },
      "outputs": [
        {
          "output_type": "stream",
          "name": "stdout",
          "text": [
            "tensor(209)\n",
            "torch.Size([])\n",
            "tensor([[ 2, 17, 13, 10],\n",
            "        [ 8, 12, 14, 15],\n",
            "        [10,  6, 17,  4],\n",
            "        [12,  7, 15,  6],\n",
            "        [11, 15,  3, 12]])\n",
            "torch.Size([5, 4])\n",
            "tensor([[21, 21],\n",
            "        [27, 22],\n",
            "        [18, 19],\n",
            "        [18, 22],\n",
            "        [17, 24]])\n",
            "torch.Size([5, 2])\n"
          ]
        }
      ],
      "source": [
        "print(torch.sum(x))\n",
        "print(torch.sum(x).shape)\n",
        "print(torch.sum(x, dim=1))\n",
        "print(torch.sum(x, dim=1).shape)\n",
        "print(torch.sum(x, dim=2))\n",
        "print(torch.sum(x, dim=2).shape)"
      ]
    },
    {
      "cell_type": "markdown",
      "id": "13220914",
      "metadata": {
        "id": "13220914"
      },
      "source": [
        "#### 행렬 연산"
      ]
    },
    {
      "cell_type": "code",
      "execution_count": 13,
      "id": "bcd6c99c",
      "metadata": {
        "colab": {
          "base_uri": "https://localhost:8080/"
        },
        "id": "bcd6c99c",
        "outputId": "2b55e868-9142-4578-a83d-b9d31de2b053"
      },
      "outputs": [
        {
          "output_type": "execute_result",
          "data": {
            "text/plain": [
              "(tensor([[2., 0.],\n",
              "         [0., 1.]]),\n",
              " tensor([[1., 1.],\n",
              "         [1., 1.]]))"
            ]
          },
          "metadata": {},
          "execution_count": 13
        }
      ],
      "source": [
        "a = torch.tensor([[2, 0], [0, 1]], dtype=torch.float32)\n",
        "b = torch.tensor([[1, 1], [1, 1]], dtype=torch.float32)\n",
        "a, b"
      ]
    },
    {
      "cell_type": "code",
      "execution_count": 14,
      "id": "6f0cef87",
      "metadata": {
        "colab": {
          "base_uri": "https://localhost:8080/"
        },
        "id": "6f0cef87",
        "outputId": "228e3037-f8ca-48c2-cd96-26ad03c3e643"
      },
      "outputs": [
        {
          "output_type": "execute_result",
          "data": {
            "text/plain": [
              "(tensor([[2., 2.],\n",
              "         [1., 1.]]),\n",
              " tensor([[2., 2.],\n",
              "         [1., 1.]]))"
            ]
          },
          "metadata": {},
          "execution_count": 14
        }
      ],
      "source": [
        "torch.matmul(a, b), torch.mm(a, b)"
      ]
    },
    {
      "cell_type": "code",
      "execution_count": 15,
      "id": "dbbe39d6",
      "metadata": {
        "colab": {
          "base_uri": "https://localhost:8080/"
        },
        "id": "dbbe39d6",
        "outputId": "a89fb91c-40a5-436a-984f-1613de8aac3a"
      },
      "outputs": [
        {
          "output_type": "execute_result",
          "data": {
            "text/plain": [
              "tensor([[0.5000, 0.0000],\n",
              "        [0.0000, 1.0000]])"
            ]
          },
          "metadata": {},
          "execution_count": 15
        }
      ],
      "source": [
        "torch.linalg.inv(a)"
      ]
    },
    {
      "cell_type": "markdown",
      "id": "28e4cf0d",
      "metadata": {
        "id": "28e4cf0d"
      },
      "source": [
        "### 크기와 차원을 바꾸는 명령\n",
        "\n",
        " - `torch.reshape`\n",
        " - `tensor.view`\n",
        " - `torch.transpose`"
      ]
    },
    {
      "cell_type": "code",
      "execution_count": 16,
      "id": "983c595b",
      "metadata": {
        "colab": {
          "base_uri": "https://localhost:8080/",
          "height": 280
        },
        "id": "983c595b",
        "outputId": "cb66b1af-8563-432e-973a-48767435f020"
      },
      "outputs": [
        {
          "output_type": "error",
          "ename": "AttributeError",
          "evalue": "module 'torch' has no attribute 'view'",
          "traceback": [
            "\u001b[0;31m---------------------------------------------------------------------------\u001b[0m",
            "\u001b[0;31mAttributeError\u001b[0m                            Traceback (most recent call last)",
            "\u001b[0;32m<ipython-input-16-c572d8c7c012>\u001b[0m in \u001b[0;36m<cell line: 2>\u001b[0;34m()\u001b[0m\n\u001b[1;32m      1\u001b[0m \u001b[0;31m# view  함수는 이렇게 못씀\u001b[0m\u001b[0;34m\u001b[0m\u001b[0;34m\u001b[0m\u001b[0m\n\u001b[0;32m----> 2\u001b[0;31m \u001b[0mtorch\u001b[0m\u001b[0;34m.\u001b[0m\u001b[0mview\u001b[0m\u001b[0;34m(\u001b[0m\u001b[0ma\u001b[0m\u001b[0;34m,\u001b[0m \u001b[0;34m(\u001b[0m\u001b[0;36m4\u001b[0m\u001b[0;34m,\u001b[0m \u001b[0;34m-\u001b[0m\u001b[0;36m1\u001b[0m\u001b[0;34m)\u001b[0m\u001b[0;34m)\u001b[0m\u001b[0;34m\u001b[0m\u001b[0;34m\u001b[0m\u001b[0m\n\u001b[0m",
            "\u001b[0;32m/usr/local/lib/python3.10/dist-packages/torch/__init__.py\u001b[0m in \u001b[0;36m__getattr__\u001b[0;34m(name)\u001b[0m\n\u001b[1;32m   1936\u001b[0m             \u001b[0;32mreturn\u001b[0m \u001b[0mimportlib\u001b[0m\u001b[0;34m.\u001b[0m\u001b[0mimport_module\u001b[0m\u001b[0;34m(\u001b[0m\u001b[0;34mf\".{name}\"\u001b[0m\u001b[0;34m,\u001b[0m \u001b[0m__name__\u001b[0m\u001b[0;34m)\u001b[0m\u001b[0;34m\u001b[0m\u001b[0;34m\u001b[0m\u001b[0m\n\u001b[1;32m   1937\u001b[0m \u001b[0;34m\u001b[0m\u001b[0m\n\u001b[0;32m-> 1938\u001b[0;31m         \u001b[0;32mraise\u001b[0m \u001b[0mAttributeError\u001b[0m\u001b[0;34m(\u001b[0m\u001b[0;34mf\"module '{__name__}' has no attribute '{name}'\"\u001b[0m\u001b[0;34m)\u001b[0m\u001b[0;34m\u001b[0m\u001b[0;34m\u001b[0m\u001b[0m\n\u001b[0m\u001b[1;32m   1939\u001b[0m \u001b[0;34m\u001b[0m\u001b[0m\n\u001b[1;32m   1940\u001b[0m \u001b[0;34m\u001b[0m\u001b[0m\n",
            "\u001b[0;31mAttributeError\u001b[0m: module 'torch' has no attribute 'view'"
          ]
        }
      ],
      "source": [
        "# view  함수는 이렇게 못씀\n",
        "torch.view(a, (4, -1))"
      ]
    },
    {
      "cell_type": "code",
      "source": [
        "a"
      ],
      "metadata": {
        "colab": {
          "base_uri": "https://localhost:8080/"
        },
        "id": "aaZw5DPXs5iT",
        "outputId": "f06b3edb-3ff6-4f58-ae79-f0c746516754"
      },
      "id": "aaZw5DPXs5iT",
      "execution_count": 18,
      "outputs": [
        {
          "output_type": "execute_result",
          "data": {
            "text/plain": [
              "tensor([[2., 0.],\n",
              "        [0., 1.]])"
            ]
          },
          "metadata": {},
          "execution_count": 18
        }
      ]
    },
    {
      "cell_type": "code",
      "execution_count": 17,
      "id": "34964050",
      "metadata": {
        "colab": {
          "base_uri": "https://localhost:8080/"
        },
        "id": "34964050",
        "outputId": "762738bd-10c5-4988-e979-fdfa110d5007"
      },
      "outputs": [
        {
          "output_type": "stream",
          "name": "stdout",
          "text": [
            "tensor([[2.],\n",
            "        [0.],\n",
            "        [0.],\n",
            "        [1.]])\n",
            "tensor([[2.],\n",
            "        [0.],\n",
            "        [0.],\n",
            "        [1.]])\n",
            "torch.Size([4, 1]) torch.Size([4, 1])\n"
          ]
        }
      ],
      "source": [
        "print(a.view(4, -1), a.view((4, -1)), sep=\"\\n\")\n",
        "print(a.view(4, -1).shape, a.view((4, -1)).shape)"
      ]
    },
    {
      "cell_type": "code",
      "execution_count": 19,
      "id": "a9f4c185",
      "metadata": {
        "colab": {
          "base_uri": "https://localhost:8080/"
        },
        "id": "a9f4c185",
        "outputId": "8a74600c-dc98-4189-92fd-e945627085ad"
      },
      "outputs": [
        {
          "output_type": "execute_result",
          "data": {
            "text/plain": [
              "tensor([[2.],\n",
              "        [0.],\n",
              "        [0.],\n",
              "        [1.]])"
            ]
          },
          "metadata": {},
          "execution_count": 19
        }
      ],
      "source": [
        "torch.reshape(a, (4, -1))"
      ]
    },
    {
      "cell_type": "code",
      "execution_count": 20,
      "id": "75de7d3e",
      "metadata": {
        "colab": {
          "base_uri": "https://localhost:8080/"
        },
        "id": "75de7d3e",
        "outputId": "515a5eda-5e04-4e73-c16f-21793e9a23dc"
      },
      "outputs": [
        {
          "output_type": "execute_result",
          "data": {
            "text/plain": [
              "(tensor([[[2.],\n",
              "          [0.],\n",
              "          [0.],\n",
              "          [1.]]]),\n",
              " torch.Size([1, 4, 1]))"
            ]
          },
          "metadata": {},
          "execution_count": 20
        }
      ],
      "source": [
        "# view 함수가 있어 expand_dims 같은 함수가 따로 필요없다.\n",
        "a.view((1, 4, 1)), a.view((1, 4, 1)).shape"
      ]
    },
    {
      "cell_type": "code",
      "execution_count": 21,
      "id": "83383fcc",
      "metadata": {
        "colab": {
          "base_uri": "https://localhost:8080/"
        },
        "id": "83383fcc",
        "outputId": "06aa057a-e086-42c2-b83b-94d6f2a39408"
      },
      "outputs": [
        {
          "output_type": "stream",
          "name": "stdout",
          "text": [
            "tensor([[2., 0., 0., 1.]])\n",
            "torch.Size([1, 4])\n"
          ]
        }
      ],
      "source": [
        "print(torch.squeeze(a.view((1, 4, 1)), dim=2))\n",
        "print(torch.squeeze(a.view((1, 4, 1)), dim=2).shape)"
      ]
    },
    {
      "cell_type": "markdown",
      "id": "5bf38cd9",
      "metadata": {
        "id": "5bf38cd9"
      },
      "source": [
        "expand_dims 함수 대신에 unsqueeze 함수가 있다."
      ]
    },
    {
      "cell_type": "code",
      "execution_count": 22,
      "id": "38a494c5",
      "metadata": {
        "colab": {
          "base_uri": "https://localhost:8080/"
        },
        "id": "38a494c5",
        "outputId": "1056b6bf-6107-46ee-ccbd-b9cb74dfcfa4"
      },
      "outputs": [
        {
          "output_type": "stream",
          "name": "stdout",
          "text": [
            "tensor([[[2.],\n",
            "         [0.],\n",
            "         [0.],\n",
            "         [1.]]])\n",
            "torch.Size([1, 4, 1])\n"
          ]
        }
      ],
      "source": [
        "print(torch.unsqueeze(a.view((1, 4)), dim=2))\n",
        "print(torch.unsqueeze(a.view((1, 4)), dim=2).shape)"
      ]
    },
    {
      "cell_type": "markdown",
      "id": "950cd7e0",
      "metadata": {
        "id": "950cd7e0"
      },
      "source": [
        "##### 여러 함수가 torch.명령어 형태, tensor.명령어 로  사용 할 수 있다."
      ]
    },
    {
      "cell_type": "code",
      "execution_count": 23,
      "id": "2a94adac",
      "metadata": {
        "id": "2a94adac"
      },
      "outputs": [],
      "source": [
        "a = torch.arange(10).view(5, 2)"
      ]
    },
    {
      "cell_type": "code",
      "execution_count": 24,
      "id": "1e382468",
      "metadata": {
        "colab": {
          "base_uri": "https://localhost:8080/"
        },
        "id": "1e382468",
        "outputId": "55bea83e-9baf-4f79-8810-689e437639e2"
      },
      "outputs": [
        {
          "output_type": "execute_result",
          "data": {
            "text/plain": [
              "tensor([[0, 1],\n",
              "        [2, 3],\n",
              "        [4, 5],\n",
              "        [6, 7],\n",
              "        [8, 9]])"
            ]
          },
          "metadata": {},
          "execution_count": 24
        }
      ],
      "source": [
        "a"
      ]
    },
    {
      "cell_type": "code",
      "execution_count": 25,
      "id": "437c3373",
      "metadata": {
        "colab": {
          "base_uri": "https://localhost:8080/"
        },
        "id": "437c3373",
        "outputId": "7ae1ee9c-80ec-4648-bcd0-9ea694e49d90"
      },
      "outputs": [
        {
          "output_type": "execute_result",
          "data": {
            "text/plain": [
              "tensor([[0, 2, 4, 6, 8],\n",
              "        [1, 3, 5, 7, 9]])"
            ]
          },
          "metadata": {},
          "execution_count": 25
        }
      ],
      "source": [
        "a.transpose(1, 0) #--> dim0=0, dim1=1"
      ]
    },
    {
      "cell_type": "code",
      "execution_count": 26,
      "id": "820c9d08",
      "metadata": {
        "colab": {
          "base_uri": "https://localhost:8080/"
        },
        "id": "820c9d08",
        "outputId": "b71f522d-a5a6-4607-cdea-dead1186851f"
      },
      "outputs": [
        {
          "output_type": "execute_result",
          "data": {
            "text/plain": [
              "tensor([[0, 2, 4, 6, 8],\n",
              "        [1, 3, 5, 7, 9]])"
            ]
          },
          "metadata": {},
          "execution_count": 26
        }
      ],
      "source": [
        "torch.transpose(a, 1, 0)"
      ]
    },
    {
      "cell_type": "markdown",
      "id": "b3f8d56c",
      "metadata": {
        "id": "b3f8d56c"
      },
      "source": [
        "#### 함수 끝에 `_`를 붙이면 inplace명령이 된다.(안되는 함수가 존재함)"
      ]
    },
    {
      "cell_type": "code",
      "execution_count": 27,
      "id": "1fdabc63",
      "metadata": {
        "colab": {
          "base_uri": "https://localhost:8080/"
        },
        "id": "1fdabc63",
        "outputId": "627a1cd3-c173-4e23-f2ed-f441990ede0c"
      },
      "outputs": [
        {
          "output_type": "execute_result",
          "data": {
            "text/plain": [
              "tensor([[0, 1],\n",
              "        [2, 3],\n",
              "        [4, 5],\n",
              "        [6, 7],\n",
              "        [8, 9]])"
            ]
          },
          "metadata": {},
          "execution_count": 27
        }
      ],
      "source": [
        "a"
      ]
    },
    {
      "cell_type": "code",
      "execution_count": 28,
      "id": "fc19ab1f",
      "metadata": {
        "colab": {
          "base_uri": "https://localhost:8080/"
        },
        "id": "fc19ab1f",
        "outputId": "26696f18-4a70-4a8f-dfba-cf890cb232ca"
      },
      "outputs": [
        {
          "output_type": "stream",
          "name": "stdout",
          "text": [
            "tensor([[0, 1],\n",
            "        [2, 3],\n",
            "        [4, 5],\n",
            "        [6, 7],\n",
            "        [8, 9]])\n",
            "tensor([[0, 2, 4, 6, 8],\n",
            "        [1, 3, 5, 7, 9]])\n",
            "tensor([[0, 2, 4, 6, 8],\n",
            "        [1, 3, 5, 7, 9]])\n"
          ]
        }
      ],
      "source": [
        "print(a)\n",
        "print(a.transpose_(0, 1)) #--> dim0=0, dim1=1\n",
        "print(a)"
      ]
    },
    {
      "cell_type": "code",
      "execution_count": 29,
      "id": "4f4c5288",
      "metadata": {
        "colab": {
          "base_uri": "https://localhost:8080/"
        },
        "id": "4f4c5288",
        "outputId": "df319683-c537-450e-812a-ccbbc86c4c54"
      },
      "outputs": [
        {
          "output_type": "execute_result",
          "data": {
            "text/plain": [
              "torch.Size([2, 5])"
            ]
          },
          "metadata": {},
          "execution_count": 29
        }
      ],
      "source": [
        "a.shape"
      ]
    },
    {
      "cell_type": "code",
      "source": [
        "a"
      ],
      "metadata": {
        "colab": {
          "base_uri": "https://localhost:8080/"
        },
        "id": "XzNTpmPbuDto",
        "outputId": "6463cea0-3b13-4ca1-e0ec-89ff2cc2fe22"
      },
      "id": "XzNTpmPbuDto",
      "execution_count": 30,
      "outputs": [
        {
          "output_type": "execute_result",
          "data": {
            "text/plain": [
              "tensor([[0, 2, 4, 6, 8],\n",
              "        [1, 3, 5, 7, 9]])"
            ]
          },
          "metadata": {},
          "execution_count": 30
        }
      ]
    },
    {
      "cell_type": "code",
      "source": [
        "print(a.view(-1, 1), a.view(-1, 1).shape)"
      ],
      "metadata": {
        "id": "fikxoPezyMLU"
      },
      "id": "fikxoPezyMLU",
      "execution_count": null,
      "outputs": []
    },
    {
      "cell_type": "markdown",
      "id": "40c3009e",
      "metadata": {
        "id": "40c3009e"
      },
      "source": [
        "### transpose 하고 view  했을 때 이런 에러가 발생하기도 한다.\n",
        "\n",
        "<img src=\"https://github.com/ElaYJ/supplement/assets/153154981/649c25c2-cadf-4660-a68e-dbbc55f0ae2b\" width=\"57%\">\n",
        "\n",
        "\n",
        "이는 PyTorch가 데이터를 메모리에 저장하는 방식과 view, reshape, transpose 연산들이 연산을 수행하는 방식의 차이에 기인한다.\n",
        "메모리상의 데이터의 물리적 위치와 index가 일치 할 때 contiguous(인접\\[접촉]하고 있는) 하다고 표현하는데, view는 contiguous해야만 연산을 수행할 수 있다.\n",
        "\n",
        "이를 해결하기위해 tensor.contiguous() 함수를 호출하여 데이터를 정리해주면 된다. 근데! 이런 이슈는 가끔 나오는 거니 어려우면 지금은 그냥 넘어가도 좋다!!!!"
      ]
    },
    {
      "cell_type": "code",
      "execution_count": 33,
      "id": "80a97817",
      "metadata": {
        "colab": {
          "base_uri": "https://localhost:8080/"
        },
        "id": "80a97817",
        "outputId": "e96198a8-ab7c-4308-8903-0c0027e527a4"
      },
      "outputs": [
        {
          "output_type": "stream",
          "name": "stdout",
          "text": [
            "tensor([[0],\n",
            "        [2],\n",
            "        [4],\n",
            "        [6],\n",
            "        [8],\n",
            "        [1],\n",
            "        [3],\n",
            "        [5],\n",
            "        [7],\n",
            "        [9]]) torch.Size([10, 1])\n"
          ]
        }
      ],
      "source": [
        "a = a.contiguous()\n",
        "print(a.view(-1, 1), a.view(-1, 1).shape)"
      ]
    },
    {
      "cell_type": "code",
      "source": [
        "a"
      ],
      "metadata": {
        "colab": {
          "base_uri": "https://localhost:8080/"
        },
        "id": "VXBZ2EzMvemv",
        "outputId": "a90184ed-3de2-4ef1-a784-d0ce25ea6d82"
      },
      "id": "VXBZ2EzMvemv",
      "execution_count": 35,
      "outputs": [
        {
          "output_type": "execute_result",
          "data": {
            "text/plain": [
              "tensor([[0, 2, 4, 6, 8],\n",
              "        [1, 3, 5, 7, 9]])"
            ]
          },
          "metadata": {},
          "execution_count": 35
        }
      ]
    },
    {
      "cell_type": "code",
      "execution_count": 34,
      "id": "5ff4e488",
      "metadata": {
        "colab": {
          "base_uri": "https://localhost:8080/",
          "height": 176
        },
        "id": "5ff4e488",
        "outputId": "5221b7ab-546b-43e3-f6cf-a95b88c28c10"
      },
      "outputs": [
        {
          "output_type": "error",
          "ename": "AttributeError",
          "evalue": "'Tensor' object has no attribute 'view_'",
          "traceback": [
            "\u001b[0;31m---------------------------------------------------------------------------\u001b[0m",
            "\u001b[0;31mAttributeError\u001b[0m                            Traceback (most recent call last)",
            "\u001b[0;32m<ipython-input-34-009829cf7338>\u001b[0m in \u001b[0;36m<cell line: 2>\u001b[0;34m()\u001b[0m\n\u001b[1;32m      1\u001b[0m \u001b[0;31m# view함수에는 inplace명령이 구현되어 있지 않다.\u001b[0m\u001b[0;34m\u001b[0m\u001b[0;34m\u001b[0m\u001b[0m\n\u001b[0;32m----> 2\u001b[0;31m \u001b[0mprint\u001b[0m\u001b[0;34m(\u001b[0m\u001b[0ma\u001b[0m\u001b[0;34m.\u001b[0m\u001b[0mview_\u001b[0m\u001b[0;34m(\u001b[0m\u001b[0;34m)\u001b[0m\u001b[0;34m)\u001b[0m\u001b[0;34m\u001b[0m\u001b[0;34m\u001b[0m\u001b[0m\n\u001b[0m\u001b[1;32m      3\u001b[0m \u001b[0mprint\u001b[0m\u001b[0;34m(\u001b[0m\u001b[0ma\u001b[0m\u001b[0;34m)\u001b[0m\u001b[0;34m\u001b[0m\u001b[0;34m\u001b[0m\u001b[0m\n",
            "\u001b[0;31mAttributeError\u001b[0m: 'Tensor' object has no attribute 'view_'"
          ]
        }
      ],
      "source": [
        "# view함수에는 inplace명령이 구현되어 있지 않다.\n",
        "print(a.view_())"
      ]
    },
    {
      "cell_type": "markdown",
      "id": "8849d8d7",
      "metadata": {
        "id": "8849d8d7"
      },
      "source": [
        "#### 형상 연산 중 유용한 것"
      ]
    },
    {
      "cell_type": "code",
      "execution_count": 43,
      "id": "8d51c106",
      "metadata": {
        "colab": {
          "base_uri": "https://localhost:8080/"
        },
        "id": "8d51c106",
        "outputId": "52d7c639-07aa-48bb-889f-e8fc6c95ce19"
      },
      "outputs": [
        {
          "output_type": "execute_result",
          "data": {
            "text/plain": [
              "tensor([[0, 1],\n",
              "        [2, 3],\n",
              "        [4, 5],\n",
              "        [6, 7],\n",
              "        [8, 9]])"
            ]
          },
          "metadata": {},
          "execution_count": 43
        }
      ],
      "source": [
        "a = torch.arange(10).view(5,2)\n",
        "a"
      ]
    },
    {
      "cell_type": "code",
      "execution_count": 37,
      "id": "1fcfdb77",
      "metadata": {
        "colab": {
          "base_uri": "https://localhost:8080/"
        },
        "id": "1fcfdb77",
        "outputId": "0451d9da-d765-4d14-cf07-06803cd374c4"
      },
      "outputs": [
        {
          "output_type": "execute_result",
          "data": {
            "text/plain": [
              "tensor([[0, 1, 2, 3, 4],\n",
              "        [5, 6, 7, 8, 9]])"
            ]
          },
          "metadata": {},
          "execution_count": 37
        }
      ],
      "source": [
        "b = torch.arange(10).view(2, 5)\n",
        "b"
      ]
    },
    {
      "cell_type": "code",
      "execution_count": 44,
      "id": "c86a1bae",
      "metadata": {
        "colab": {
          "base_uri": "https://localhost:8080/"
        },
        "id": "c86a1bae",
        "outputId": "a24a84e2-2946-4b48-b791-b82b9aa6ddd6"
      },
      "outputs": [
        {
          "output_type": "stream",
          "name": "stdout",
          "text": [
            "tensor([[0, 1, 2, 3, 4],\n",
            "        [5, 6, 7, 8, 9]])\n",
            "tensor([[0, 1, 2, 3, 4],\n",
            "        [5, 6, 7, 8, 9]])\n"
          ]
        }
      ],
      "source": [
        "print(a.view_as(b))\n",
        "print(a.reshape_as(b))"
      ]
    },
    {
      "cell_type": "markdown",
      "id": "2e85c108",
      "metadata": {
        "id": "2e85c108"
      },
      "source": [
        "### indexing, slicing"
      ]
    },
    {
      "cell_type": "code",
      "source": [
        "a"
      ],
      "metadata": {
        "colab": {
          "base_uri": "https://localhost:8080/"
        },
        "id": "VDKchVgjxX-u",
        "outputId": "facb0f54-c4b3-4ded-ed5e-5d0847cdd81f"
      },
      "id": "VDKchVgjxX-u",
      "execution_count": 45,
      "outputs": [
        {
          "output_type": "execute_result",
          "data": {
            "text/plain": [
              "tensor([[0, 1],\n",
              "        [2, 3],\n",
              "        [4, 5],\n",
              "        [6, 7],\n",
              "        [8, 9]])"
            ]
          },
          "metadata": {},
          "execution_count": 45
        }
      ]
    },
    {
      "cell_type": "code",
      "execution_count": 46,
      "id": "f224a365",
      "metadata": {
        "colab": {
          "base_uri": "https://localhost:8080/"
        },
        "id": "f224a365",
        "outputId": "b3c7f2cb-dd6d-422f-945a-b2ccada3a97f"
      },
      "outputs": [
        {
          "output_type": "execute_result",
          "data": {
            "text/plain": [
              "tensor([0, 1])"
            ]
          },
          "metadata": {},
          "execution_count": 46
        }
      ],
      "source": [
        "a[0]"
      ]
    },
    {
      "cell_type": "code",
      "execution_count": 47,
      "id": "7db10438",
      "metadata": {
        "colab": {
          "base_uri": "https://localhost:8080/"
        },
        "id": "7db10438",
        "outputId": "5a70c363-ebbc-4d5a-91d1-37d516cca8af"
      },
      "outputs": [
        {
          "output_type": "execute_result",
          "data": {
            "text/plain": [
              "tensor(1)"
            ]
          },
          "metadata": {},
          "execution_count": 47
        }
      ],
      "source": [
        "a[0, 1]"
      ]
    },
    {
      "cell_type": "code",
      "execution_count": 48,
      "id": "aae3dbad",
      "metadata": {
        "colab": {
          "base_uri": "https://localhost:8080/"
        },
        "id": "aae3dbad",
        "outputId": "1d0d2b2f-f1cf-4a5e-d93a-9a6b837bbe1a"
      },
      "outputs": [
        {
          "output_type": "execute_result",
          "data": {
            "text/plain": [
              "tensor(9)"
            ]
          },
          "metadata": {},
          "execution_count": 48
        }
      ],
      "source": [
        "a[4, 1]"
      ]
    },
    {
      "cell_type": "code",
      "execution_count": 49,
      "id": "1ec424b7",
      "metadata": {
        "colab": {
          "base_uri": "https://localhost:8080/"
        },
        "id": "1ec424b7",
        "outputId": "d169fd5f-5584-4e9e-eb9a-81a9823eb9d2"
      },
      "outputs": [
        {
          "output_type": "execute_result",
          "data": {
            "text/plain": [
              "tensor([[0, 1],\n",
              "        [2, 3]])"
            ]
          },
          "metadata": {},
          "execution_count": 49
        }
      ],
      "source": [
        "a[:2]"
      ]
    },
    {
      "cell_type": "markdown",
      "id": "3333700b",
      "metadata": {
        "id": "3333700b"
      },
      "source": [
        "### **텐서를 나누거나 두 개 이상의 텐서를 합치는 명령**"
      ]
    },
    {
      "cell_type": "markdown",
      "id": "c214302a",
      "metadata": {
        "id": "c214302a"
      },
      "source": [
        "#### 나누는 연산"
      ]
    },
    {
      "cell_type": "code",
      "execution_count": 50,
      "id": "15fc89a1",
      "metadata": {
        "colab": {
          "base_uri": "https://localhost:8080/"
        },
        "id": "15fc89a1",
        "outputId": "9a5584b3-1fba-40fc-e4c8-1011de172189"
      },
      "outputs": [
        {
          "output_type": "execute_result",
          "data": {
            "text/plain": [
              "tensor([[0.9898, 0.6900, 0.7724, 0.5624, 0.3722, 0.3697],\n",
              "        [0.6564, 0.1302, 0.9687, 0.8253, 0.2756, 0.0229],\n",
              "        [0.3515, 0.0055, 0.6368, 0.5179, 0.8232, 0.7347]])"
            ]
          },
          "metadata": {},
          "execution_count": 50
        }
      ],
      "source": [
        "c = torch.rand(3, 6)\n",
        "c"
      ]
    },
    {
      "cell_type": "code",
      "execution_count": 51,
      "id": "53c7970e",
      "metadata": {
        "colab": {
          "base_uri": "https://localhost:8080/"
        },
        "id": "53c7970e",
        "outputId": "7f48245b-9420-4e72-f09d-82f5bb4828e0"
      },
      "outputs": [
        {
          "output_type": "stream",
          "name": "stdout",
          "text": [
            "tensor([[0.9898, 0.6900],\n",
            "        [0.6564, 0.1302],\n",
            "        [0.3515, 0.0055]])\n",
            "tensor([[0.7724, 0.5624],\n",
            "        [0.9687, 0.8253],\n",
            "        [0.6368, 0.5179]])\n",
            "tensor([[0.3722, 0.3697],\n",
            "        [0.2756, 0.0229],\n",
            "        [0.8232, 0.7347]])\n"
          ]
        }
      ],
      "source": [
        "c1, c2, c3 = torch.chunk(c, 3, dim=1) #--> 3개로 나눈다.\n",
        "print(c1)\n",
        "print(c2)\n",
        "print(c3)"
      ]
    },
    {
      "cell_type": "code",
      "execution_count": 52,
      "id": "0f748803",
      "metadata": {
        "colab": {
          "base_uri": "https://localhost:8080/"
        },
        "id": "0f748803",
        "outputId": "fd0ea91e-8416-488b-e43c-ac7e168196c8"
      },
      "outputs": [
        {
          "output_type": "stream",
          "name": "stdout",
          "text": [
            "tensor([[0.9898, 0.6900, 0.7724, 0.5624, 0.3722, 0.3697]])\n",
            "tensor([[0.6564, 0.1302, 0.9687, 0.8253, 0.2756, 0.0229]])\n",
            "tensor([[0.3515, 0.0055, 0.6368, 0.5179, 0.8232, 0.7347]])\n"
          ]
        }
      ],
      "source": [
        "c1, c2, c3 = torch.chunk(c, 3, dim=0)\n",
        "print(c1)\n",
        "print(c2)\n",
        "print(c3)"
      ]
    },
    {
      "cell_type": "code",
      "execution_count": 53,
      "id": "0a4b7daf",
      "metadata": {
        "colab": {
          "base_uri": "https://localhost:8080/"
        },
        "id": "0a4b7daf",
        "outputId": "e6b3f915-ec92-4df5-c1c1-fb241c54a3e5"
      },
      "outputs": [
        {
          "output_type": "execute_result",
          "data": {
            "text/plain": [
              "(tensor([[0.9898, 0.6900, 0.7724, 0.5624, 0.3722, 0.3697]]),\n",
              " tensor([[0.6564, 0.1302, 0.9687, 0.8253, 0.2756, 0.0229]]),\n",
              " tensor([[0.3515, 0.0055, 0.6368, 0.5179, 0.8232, 0.7347]]))"
            ]
          },
          "metadata": {},
          "execution_count": 53
        }
      ],
      "source": [
        "torch.split(c, 1, dim=0) #--> axis=0에서 1개씩 나눈다."
      ]
    },
    {
      "cell_type": "code",
      "execution_count": 54,
      "id": "f8aed540",
      "metadata": {
        "colab": {
          "base_uri": "https://localhost:8080/"
        },
        "id": "f8aed540",
        "outputId": "7fc4bdbd-7598-4876-b5a7-b48479599b0c"
      },
      "outputs": [
        {
          "output_type": "execute_result",
          "data": {
            "text/plain": [
              "(tensor([[0.9898, 0.6900],\n",
              "         [0.6564, 0.1302],\n",
              "         [0.3515, 0.0055]]),\n",
              " tensor([[0.7724, 0.5624],\n",
              "         [0.9687, 0.8253],\n",
              "         [0.6368, 0.5179]]),\n",
              " tensor([[0.3722, 0.3697],\n",
              "         [0.2756, 0.0229],\n",
              "         [0.8232, 0.7347]]))"
            ]
          },
          "metadata": {},
          "execution_count": 54
        }
      ],
      "source": [
        "torch.split(c, 2, dim=1) #--> axis=1에서 2개씩 나눈다."
      ]
    },
    {
      "cell_type": "code",
      "execution_count": 55,
      "id": "e3065e22",
      "metadata": {
        "colab": {
          "base_uri": "https://localhost:8080/"
        },
        "id": "e3065e22",
        "outputId": "590a8795-1d46-4be7-c21a-814dc5755756"
      },
      "outputs": [
        {
          "output_type": "execute_result",
          "data": {
            "text/plain": [
              "(tensor([[0.9898, 0.6900, 0.7724],\n",
              "         [0.6564, 0.1302, 0.9687],\n",
              "         [0.3515, 0.0055, 0.6368]]),\n",
              " tensor([[0.5624, 0.3722, 0.3697],\n",
              "         [0.8253, 0.2756, 0.0229],\n",
              "         [0.5179, 0.8232, 0.7347]]))"
            ]
          },
          "metadata": {},
          "execution_count": 55
        }
      ],
      "source": [
        "torch.split(c, 3, dim=1) #--> axis=1에서 3개씩 나눈다."
      ]
    },
    {
      "cell_type": "markdown",
      "id": "50915a43",
      "metadata": {
        "id": "50915a43"
      },
      "source": [
        "#### 결합하는 연산"
      ]
    },
    {
      "cell_type": "code",
      "execution_count": 56,
      "id": "b92f668b",
      "metadata": {
        "colab": {
          "base_uri": "https://localhost:8080/"
        },
        "id": "b92f668b",
        "outputId": "9465d307-209d-447e-c15a-19672b268058"
      },
      "outputs": [
        {
          "output_type": "execute_result",
          "data": {
            "text/plain": [
              "(tensor([[1., 1., 1.],\n",
              "         [1., 1., 1.]]),\n",
              " tensor([[0., 0., 0.],\n",
              "         [0., 0., 0.],\n",
              "         [0., 0., 0.]]))"
            ]
          },
          "metadata": {},
          "execution_count": 56
        }
      ],
      "source": [
        "a = torch.ones(2, 3)\n",
        "b = torch.zeros(3, 3)\n",
        "a, b"
      ]
    },
    {
      "cell_type": "code",
      "execution_count": 57,
      "id": "108f6158",
      "metadata": {
        "colab": {
          "base_uri": "https://localhost:8080/"
        },
        "id": "108f6158",
        "outputId": "41111667-6de4-4019-ff86-713cfdf8c722"
      },
      "outputs": [
        {
          "output_type": "execute_result",
          "data": {
            "text/plain": [
              "tensor([[1., 1., 1.],\n",
              "        [1., 1., 1.],\n",
              "        [0., 0., 0.],\n",
              "        [0., 0., 0.],\n",
              "        [0., 0., 0.]])"
            ]
          },
          "metadata": {},
          "execution_count": 57
        }
      ],
      "source": [
        "torch.cat([a, b], dim=0)"
      ]
    },
    {
      "cell_type": "code",
      "execution_count": 58,
      "id": "2085bfcb",
      "metadata": {
        "colab": {
          "base_uri": "https://localhost:8080/",
          "height": 158
        },
        "id": "2085bfcb",
        "outputId": "c65355fa-b78d-4e60-96cb-21b69aece019"
      },
      "outputs": [
        {
          "output_type": "error",
          "ename": "RuntimeError",
          "evalue": "Sizes of tensors must match except in dimension 1. Expected size 2 but got size 3 for tensor number 1 in the list.",
          "traceback": [
            "\u001b[0;31m---------------------------------------------------------------------------\u001b[0m",
            "\u001b[0;31mRuntimeError\u001b[0m                              Traceback (most recent call last)",
            "\u001b[0;32m<ipython-input-58-cbc56428b3e5>\u001b[0m in \u001b[0;36m<cell line: 1>\u001b[0;34m()\u001b[0m\n\u001b[0;32m----> 1\u001b[0;31m \u001b[0mtorch\u001b[0m\u001b[0;34m.\u001b[0m\u001b[0mcat\u001b[0m\u001b[0;34m(\u001b[0m\u001b[0;34m[\u001b[0m\u001b[0ma\u001b[0m\u001b[0;34m,\u001b[0m \u001b[0mb\u001b[0m\u001b[0;34m]\u001b[0m\u001b[0;34m,\u001b[0m \u001b[0mdim\u001b[0m\u001b[0;34m=\u001b[0m\u001b[0;36m1\u001b[0m\u001b[0;34m)\u001b[0m\u001b[0;34m\u001b[0m\u001b[0;34m\u001b[0m\u001b[0m\n\u001b[0m",
            "\u001b[0;31mRuntimeError\u001b[0m: Sizes of tensors must match except in dimension 1. Expected size 2 but got size 3 for tensor number 1 in the list."
          ]
        }
      ],
      "source": [
        "torch.cat([a, b], dim=1)"
      ]
    },
    {
      "cell_type": "code",
      "execution_count": 59,
      "id": "4250001a",
      "metadata": {
        "colab": {
          "base_uri": "https://localhost:8080/"
        },
        "id": "4250001a",
        "outputId": "e17ed03b-e01e-4d6d-e19a-59f76d4d6e57"
      },
      "outputs": [
        {
          "output_type": "execute_result",
          "data": {
            "text/plain": [
              "(tensor([[1., 1., 1.],\n",
              "         [1., 1., 1.],\n",
              "         [1., 1., 1.]]),\n",
              " torch.Size([3, 3]))"
            ]
          },
          "metadata": {},
          "execution_count": 59
        }
      ],
      "source": [
        "a = torch.ones_like(b)\n",
        "a, a.size()"
      ]
    },
    {
      "cell_type": "code",
      "execution_count": 60,
      "id": "a51bc2a7",
      "metadata": {
        "colab": {
          "base_uri": "https://localhost:8080/"
        },
        "id": "a51bc2a7",
        "outputId": "f59115ca-e8d1-4ecc-d647-73cdc52deb35"
      },
      "outputs": [
        {
          "output_type": "execute_result",
          "data": {
            "text/plain": [
              "(tensor([[0., 0., 0.],\n",
              "         [0., 0., 0.],\n",
              "         [0., 0., 0.]]),\n",
              " torch.Size([3, 3]))"
            ]
          },
          "metadata": {},
          "execution_count": 60
        }
      ],
      "source": [
        "b, b.size()"
      ]
    },
    {
      "cell_type": "code",
      "execution_count": 61,
      "id": "8fcc38b3",
      "metadata": {
        "colab": {
          "base_uri": "https://localhost:8080/"
        },
        "id": "8fcc38b3",
        "outputId": "385dcb54-26ed-4529-b729-9854e18f395a"
      },
      "outputs": [
        {
          "output_type": "execute_result",
          "data": {
            "text/plain": [
              "(tensor([[[1., 1., 1.],\n",
              "          [0., 0., 0.]],\n",
              " \n",
              "         [[1., 1., 1.],\n",
              "          [0., 0., 0.]],\n",
              " \n",
              "         [[1., 1., 1.],\n",
              "          [0., 0., 0.]]]),\n",
              " torch.Size([3, 2, 3]))"
            ]
          },
          "metadata": {},
          "execution_count": 61
        }
      ],
      "source": [
        "torch.stack([a, b], dim=1), torch.stack([a, b], dim=1).size()"
      ]
    },
    {
      "cell_type": "code",
      "execution_count": 62,
      "id": "2d9f4f0c",
      "metadata": {
        "colab": {
          "base_uri": "https://localhost:8080/"
        },
        "id": "2d9f4f0c",
        "outputId": "116232c0-070a-48a6-9f14-1ed082e07e52"
      },
      "outputs": [
        {
          "output_type": "execute_result",
          "data": {
            "text/plain": [
              "(tensor([[[1., 1., 1.],\n",
              "          [1., 1., 1.],\n",
              "          [1., 1., 1.]],\n",
              " \n",
              "         [[0., 0., 0.],\n",
              "          [0., 0., 0.],\n",
              "          [0., 0., 0.]]]),\n",
              " torch.Size([2, 3, 3]))"
            ]
          },
          "metadata": {},
          "execution_count": 62
        }
      ],
      "source": [
        "torch.stack([a, b], dim=0), torch.stack([a, b], dim=0).size()"
      ]
    },
    {
      "cell_type": "code",
      "execution_count": 63,
      "id": "43d6bfb4",
      "metadata": {
        "colab": {
          "base_uri": "https://localhost:8080/"
        },
        "id": "43d6bfb4",
        "outputId": "fb6f04cb-8d92-45a8-a202-628da52173c2"
      },
      "outputs": [
        {
          "output_type": "execute_result",
          "data": {
            "text/plain": [
              "(tensor([[[1., 0.],\n",
              "          [1., 0.],\n",
              "          [1., 0.]],\n",
              " \n",
              "         [[1., 0.],\n",
              "          [1., 0.],\n",
              "          [1., 0.]],\n",
              " \n",
              "         [[1., 0.],\n",
              "          [1., 0.],\n",
              "          [1., 0.]]]),\n",
              " torch.Size([3, 3, 2]))"
            ]
          },
          "metadata": {},
          "execution_count": 63
        }
      ],
      "source": [
        "torch.stack([a, b], dim=2), torch.stack([a, b], dim=2).size()"
      ]
    },
    {
      "cell_type": "code",
      "execution_count": 64,
      "id": "12f1fd4b",
      "metadata": {
        "colab": {
          "base_uri": "https://localhost:8080/"
        },
        "id": "12f1fd4b",
        "outputId": "a97de9f3-f0d7-4be8-c562-348cee250075"
      },
      "outputs": [
        {
          "output_type": "execute_result",
          "data": {
            "text/plain": [
              "tensor([[1., 1., 1.],\n",
              "        [1., 1., 1.],\n",
              "        [1., 1., 1.],\n",
              "        [1., 1., 1.],\n",
              "        [1., 1., 1.],\n",
              "        [1., 1., 1.],\n",
              "        [1., 1., 1.],\n",
              "        [1., 1., 1.],\n",
              "        [1., 1., 1.]])"
            ]
          },
          "metadata": {},
          "execution_count": 64
        }
      ],
      "source": [
        "torch.tile(a, (3, 1))"
      ]
    },
    {
      "cell_type": "code",
      "execution_count": 65,
      "id": "c183959b",
      "metadata": {
        "colab": {
          "base_uri": "https://localhost:8080/"
        },
        "id": "c183959b",
        "outputId": "431b8df6-0336-4d89-a68e-65df82d88b52"
      },
      "outputs": [
        {
          "output_type": "execute_result",
          "data": {
            "text/plain": [
              "tensor([[1., 1., 1., 1., 1., 1.],\n",
              "        [1., 1., 1., 1., 1., 1.],\n",
              "        [1., 1., 1., 1., 1., 1.]])"
            ]
          },
          "metadata": {},
          "execution_count": 65
        }
      ],
      "source": [
        "torch.tile(a, (1, 2))"
      ]
    },
    {
      "cell_type": "code",
      "execution_count": null,
      "id": "34295e7b",
      "metadata": {
        "id": "34295e7b"
      },
      "outputs": [],
      "source": []
    },
    {
      "cell_type": "code",
      "execution_count": null,
      "id": "75b88ac4",
      "metadata": {
        "id": "75b88ac4",
        "outputId": "3df3f6df-83e4-4b29-c056-596e78f2b49f"
      },
      "outputs": [
        {
          "data": {
            "text/plain": [
              "<function _VariableFunctionsClass.vstack>"
            ]
          },
          "execution_count": 150,
          "metadata": {},
          "output_type": "execute_result"
        }
      ],
      "source": [
        "torch.vstack"
      ]
    },
    {
      "cell_type": "code",
      "execution_count": null,
      "id": "4067a215",
      "metadata": {
        "id": "4067a215",
        "outputId": "e7792afb-f55d-42fd-dfc1-47b9ba3d6f7a"
      },
      "outputs": [
        {
          "data": {
            "text/plain": [
              "<function _VariableFunctionsClass.hstack>"
            ]
          },
          "execution_count": 151,
          "metadata": {},
          "output_type": "execute_result"
        }
      ],
      "source": [
        "torch.hstack"
      ]
    },
    {
      "cell_type": "code",
      "execution_count": null,
      "id": "172e8bf2",
      "metadata": {
        "id": "172e8bf2"
      },
      "outputs": [],
      "source": []
    }
  ],
  "metadata": {
    "kernelspec": {
      "display_name": "Python 3 (ipykernel)",
      "language": "python",
      "name": "python3"
    },
    "language_info": {
      "codemirror_mode": {
        "name": "ipython",
        "version": 3
      },
      "file_extension": ".py",
      "mimetype": "text/x-python",
      "name": "python",
      "nbconvert_exporter": "python",
      "pygments_lexer": "ipython3",
      "version": "3.9.9"
    },
    "varInspector": {
      "cols": {
        "lenName": 16,
        "lenType": 16,
        "lenVar": 40
      },
      "kernels_config": {
        "python": {
          "delete_cmd_postfix": "",
          "delete_cmd_prefix": "del ",
          "library": "var_list.py",
          "varRefreshCmd": "print(var_dic_list())"
        },
        "r": {
          "delete_cmd_postfix": ") ",
          "delete_cmd_prefix": "rm(",
          "library": "var_list.r",
          "varRefreshCmd": "cat(var_dic_list()) "
        }
      },
      "types_to_exclude": [
        "module",
        "function",
        "builtin_function_or_method",
        "instance",
        "_Feature"
      ],
      "window_display": false
    },
    "colab": {
      "provenance": [],
      "toc_visible": true,
      "include_colab_link": true
    }
  },
  "nbformat": 4,
  "nbformat_minor": 5
}